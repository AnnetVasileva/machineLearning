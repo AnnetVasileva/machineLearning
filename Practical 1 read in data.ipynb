{
 "cells": [
  {
   "cell_type": "markdown",
   "metadata": {},
   "source": [
    "We first need to read in the data and see how it looks like"
   ]
  },
  {
   "cell_type": "code",
   "execution_count": 3,
   "metadata": {},
   "outputs": [],
   "source": [
    "# please make sure that the data is located in the data folder under the current sirectory where you put your file\n",
    "\n",
    "# first we should import all necessary packages\n",
    "import numpy as np\n",
    "import pandas as pd\n",
    "import _pickle as cp"
   ]
  },
  {
   "cell_type": "markdown",
   "metadata": {},
   "source": [
    "### As in the paper we should first randomly divide the observations into equally sized training and data sets\n"
   ]
  },
  {
   "cell_type": "code",
   "execution_count": 4,
   "metadata": {},
   "outputs": [
    {
     "name": "stdout",
     "output_type": "stream",
     "text": [
      "<class 'pandas.core.frame.DataFrame'>\n",
      "RangeIndex: 46305 entries, 0 to 46304\n",
      "Data columns (total 81 columns):\n",
      " #   Column                   Non-Null Count  Dtype  \n",
      "---  ------                   --------------  -----  \n",
      " 0   lnpercapitaconsumption   23153 non-null  float64\n",
      " 1   d_fuel_other             46305 non-null  int64  \n",
      " 2   d_fuel_wood              46305 non-null  int64  \n",
      " 3   d_fuel_coal              46305 non-null  int64  \n",
      " 4   d_fuel_kerosene          46305 non-null  int64  \n",
      " 5   d_fuel_gas               46305 non-null  int64  \n",
      " 6   d_fuel_electric          46305 non-null  int64  \n",
      " 7   d_fuel_none              46305 non-null  int64  \n",
      " 8   d_water_other            46305 non-null  int64  \n",
      " 9   d_water_river            46305 non-null  int64  \n",
      " 10  d_water_well             46305 non-null  int64  \n",
      " 11  d_water_truck            46305 non-null  int64  \n",
      " 12  d_water_pylon            46305 non-null  int64  \n",
      " 13  d_water_outside          46305 non-null  int64  \n",
      " 14  d_water_inside           46305 non-null  int64  \n",
      " 15  d_drain_none             46305 non-null  int64  \n",
      " 16  d_drain_river            46305 non-null  int64  \n",
      " 17  d_drain_cesspool         46305 non-null  int64  \n",
      " 18  d_drain_septic           46305 non-null  int64  \n",
      " 19  d_drain_outside          46305 non-null  int64  \n",
      " 20  d_drain_inside           46305 non-null  int64  \n",
      " 21  d_wall_other             45382 non-null  float64\n",
      " 22  d_wall_woodmat           45382 non-null  float64\n",
      " 23  d_wall_stonemud          45382 non-null  float64\n",
      " 24  d_wall_quincha           45382 non-null  float64\n",
      " 25  d_wall_tapia             45382 non-null  float64\n",
      " 26  d_wall_adobe             45382 non-null  float64\n",
      " 27  d_wall_stonecement       45382 non-null  float64\n",
      " 28  d_wall_brickcement       45382 non-null  float64\n",
      " 29  d_roof_other             45382 non-null  float64\n",
      " 30  d_roof_straw             45382 non-null  float64\n",
      " 31  d_roof_mat               45382 non-null  float64\n",
      " 32  d_roof_platecane         45382 non-null  float64\n",
      " 33  d_roof_tile              45382 non-null  float64\n",
      " 34  d_roof_wood              45382 non-null  float64\n",
      " 35  d_roof_concrete          45382 non-null  float64\n",
      " 36  d_floor_other            45382 non-null  float64\n",
      " 37  d_floor_earth            45382 non-null  float64\n",
      " 38  d_floor_cement           45382 non-null  float64\n",
      " 39  d_floor_wood             45382 non-null  float64\n",
      " 40  d_floor_tile             45382 non-null  float64\n",
      " 41  d_floor_sheets           45382 non-null  float64\n",
      " 42  d_floor_parquet          45382 non-null  float64\n",
      " 43  d_electricity            46305 non-null  int64  \n",
      " 44  d_telephone              46305 non-null  int64  \n",
      " 45  d_h_educ_none            46301 non-null  float64\n",
      " 46  d_h_educ_pre             46301 non-null  float64\n",
      " 47  d_h_educ_prim            46301 non-null  float64\n",
      " 48  d_h_educ_sec             46301 non-null  float64\n",
      " 49  d_h_educ_higher_nouni    46301 non-null  float64\n",
      " 50  d_h_educ_higher_uni      46301 non-null  float64\n",
      " 51  d_h_educ_post            46301 non-null  float64\n",
      " 52  d_max_educ_none          46305 non-null  int64  \n",
      " 53  d_max_educ_prim          46305 non-null  int64  \n",
      " 54  d_max_educ_sec           46305 non-null  int64  \n",
      " 55  d_max_educ_higher_nouni  46305 non-null  int64  \n",
      " 56  d_max_educ_higher_uni    46305 non-null  int64  \n",
      " 57  d_insurance_0            46305 non-null  int64  \n",
      " 58  d_insurance_1            46305 non-null  int64  \n",
      " 59  d_insurance_2            46305 non-null  int64  \n",
      " 60  d_insurance_3            46305 non-null  int64  \n",
      " 61  d_insurance_4plus        46305 non-null  int64  \n",
      " 62  d_crowd_lessthan1        45382 non-null  float64\n",
      " 63  d_crowd_1to2             45382 non-null  float64\n",
      " 64  d_crowd_2to4             45382 non-null  float64\n",
      " 65  d_crowd_4to6             45382 non-null  float64\n",
      " 66  d_crowd_6plus            45382 non-null  float64\n",
      " 67  d_lux_0                  46305 non-null  int64  \n",
      " 68  d_lux_1                  46305 non-null  int64  \n",
      " 69  d_lux_2                  46305 non-null  int64  \n",
      " 70  d_lux_3                  46305 non-null  int64  \n",
      " 71  d_lux_4                  46305 non-null  int64  \n",
      " 72  d_lux_5                  46305 non-null  int64  \n",
      " 73  training                 46305 non-null  int64  \n",
      " 74  percapitaconsumption     23153 non-null  float64\n",
      " 75  poor                     46305 non-null  int64  \n",
      " 76  h_hhsize                 46305 non-null  int64  \n",
      " 77  id_for_matlab            46305 non-null  int64  \n",
      " 78  hhid                     46305 non-null  int64  \n",
      " 79  lncaphat_OLS             45378 non-null  float64\n",
      " 80  percapitahat_OLS         45378 non-null  float64\n",
      "dtypes: float64(38), int64(43)\n",
      "memory usage: 28.6 MB\n"
     ]
    }
   ],
   "source": [
    "raw = pd.read_csv(\"peru_for_ml_course.csv\")\n",
    "raw.info() # just to see how many different variables we have "
   ]
  },
  {
   "cell_type": "code",
   "execution_count": 5,
   "metadata": {},
   "outputs": [
    {
     "data": {
      "text/html": [
       "<div>\n",
       "<style scoped>\n",
       "    .dataframe tbody tr th:only-of-type {\n",
       "        vertical-align: middle;\n",
       "    }\n",
       "\n",
       "    .dataframe tbody tr th {\n",
       "        vertical-align: top;\n",
       "    }\n",
       "\n",
       "    .dataframe thead th {\n",
       "        text-align: right;\n",
       "    }\n",
       "</style>\n",
       "<table border=\"1\" class=\"dataframe\">\n",
       "  <thead>\n",
       "    <tr style=\"text-align: right;\">\n",
       "      <th></th>\n",
       "      <th>lnpercapitaconsumption</th>\n",
       "      <th>d_fuel_other</th>\n",
       "      <th>d_fuel_wood</th>\n",
       "      <th>d_fuel_coal</th>\n",
       "      <th>d_fuel_kerosene</th>\n",
       "      <th>d_fuel_gas</th>\n",
       "      <th>d_fuel_electric</th>\n",
       "      <th>d_fuel_none</th>\n",
       "      <th>d_water_other</th>\n",
       "      <th>d_water_river</th>\n",
       "      <th>...</th>\n",
       "      <th>d_lux_4</th>\n",
       "      <th>d_lux_5</th>\n",
       "      <th>training</th>\n",
       "      <th>percapitaconsumption</th>\n",
       "      <th>poor</th>\n",
       "      <th>h_hhsize</th>\n",
       "      <th>id_for_matlab</th>\n",
       "      <th>hhid</th>\n",
       "      <th>lncaphat_OLS</th>\n",
       "      <th>percapitahat_OLS</th>\n",
       "    </tr>\n",
       "  </thead>\n",
       "  <tbody>\n",
       "    <tr>\n",
       "      <th>0</th>\n",
       "      <td>NaN</td>\n",
       "      <td>0</td>\n",
       "      <td>1</td>\n",
       "      <td>0</td>\n",
       "      <td>0</td>\n",
       "      <td>0</td>\n",
       "      <td>0</td>\n",
       "      <td>0</td>\n",
       "      <td>0</td>\n",
       "      <td>1</td>\n",
       "      <td>...</td>\n",
       "      <td>0</td>\n",
       "      <td>0</td>\n",
       "      <td>0</td>\n",
       "      <td>NaN</td>\n",
       "      <td>0</td>\n",
       "      <td>1</td>\n",
       "      <td>1</td>\n",
       "      <td>233710511</td>\n",
       "      <td>5.246471</td>\n",
       "      <td>284.4243</td>\n",
       "    </tr>\n",
       "    <tr>\n",
       "      <th>1</th>\n",
       "      <td>NaN</td>\n",
       "      <td>0</td>\n",
       "      <td>0</td>\n",
       "      <td>0</td>\n",
       "      <td>0</td>\n",
       "      <td>1</td>\n",
       "      <td>0</td>\n",
       "      <td>0</td>\n",
       "      <td>0</td>\n",
       "      <td>0</td>\n",
       "      <td>...</td>\n",
       "      <td>0</td>\n",
       "      <td>0</td>\n",
       "      <td>0</td>\n",
       "      <td>NaN</td>\n",
       "      <td>0</td>\n",
       "      <td>3</td>\n",
       "      <td>2</td>\n",
       "      <td>295508011</td>\n",
       "      <td>6.129468</td>\n",
       "      <td>522.8840</td>\n",
       "    </tr>\n",
       "    <tr>\n",
       "      <th>2</th>\n",
       "      <td>NaN</td>\n",
       "      <td>0</td>\n",
       "      <td>0</td>\n",
       "      <td>0</td>\n",
       "      <td>0</td>\n",
       "      <td>1</td>\n",
       "      <td>0</td>\n",
       "      <td>0</td>\n",
       "      <td>0</td>\n",
       "      <td>0</td>\n",
       "      <td>...</td>\n",
       "      <td>0</td>\n",
       "      <td>0</td>\n",
       "      <td>0</td>\n",
       "      <td>NaN</td>\n",
       "      <td>0</td>\n",
       "      <td>4</td>\n",
       "      <td>3</td>\n",
       "      <td>257600211</td>\n",
       "      <td>6.665577</td>\n",
       "      <td>878.4961</td>\n",
       "    </tr>\n",
       "    <tr>\n",
       "      <th>3</th>\n",
       "      <td>NaN</td>\n",
       "      <td>0</td>\n",
       "      <td>0</td>\n",
       "      <td>0</td>\n",
       "      <td>0</td>\n",
       "      <td>1</td>\n",
       "      <td>0</td>\n",
       "      <td>0</td>\n",
       "      <td>0</td>\n",
       "      <td>0</td>\n",
       "      <td>...</td>\n",
       "      <td>0</td>\n",
       "      <td>0</td>\n",
       "      <td>0</td>\n",
       "      <td>NaN</td>\n",
       "      <td>1</td>\n",
       "      <td>9</td>\n",
       "      <td>4</td>\n",
       "      <td>198104311</td>\n",
       "      <td>6.088295</td>\n",
       "      <td>567.4705</td>\n",
       "    </tr>\n",
       "    <tr>\n",
       "      <th>4</th>\n",
       "      <td>NaN</td>\n",
       "      <td>0</td>\n",
       "      <td>1</td>\n",
       "      <td>0</td>\n",
       "      <td>0</td>\n",
       "      <td>0</td>\n",
       "      <td>0</td>\n",
       "      <td>0</td>\n",
       "      <td>0</td>\n",
       "      <td>1</td>\n",
       "      <td>...</td>\n",
       "      <td>0</td>\n",
       "      <td>0</td>\n",
       "      <td>0</td>\n",
       "      <td>NaN</td>\n",
       "      <td>1</td>\n",
       "      <td>8</td>\n",
       "      <td>5</td>\n",
       "      <td>24805311</td>\n",
       "      <td>5.008170</td>\n",
       "      <td>115.4929</td>\n",
       "    </tr>\n",
       "    <tr>\n",
       "      <th>...</th>\n",
       "      <td>...</td>\n",
       "      <td>...</td>\n",
       "      <td>...</td>\n",
       "      <td>...</td>\n",
       "      <td>...</td>\n",
       "      <td>...</td>\n",
       "      <td>...</td>\n",
       "      <td>...</td>\n",
       "      <td>...</td>\n",
       "      <td>...</td>\n",
       "      <td>...</td>\n",
       "      <td>...</td>\n",
       "      <td>...</td>\n",
       "      <td>...</td>\n",
       "      <td>...</td>\n",
       "      <td>...</td>\n",
       "      <td>...</td>\n",
       "      <td>...</td>\n",
       "      <td>...</td>\n",
       "      <td>...</td>\n",
       "      <td>...</td>\n",
       "    </tr>\n",
       "    <tr>\n",
       "      <th>46300</th>\n",
       "      <td>6.146313</td>\n",
       "      <td>0</td>\n",
       "      <td>0</td>\n",
       "      <td>0</td>\n",
       "      <td>0</td>\n",
       "      <td>1</td>\n",
       "      <td>0</td>\n",
       "      <td>0</td>\n",
       "      <td>0</td>\n",
       "      <td>0</td>\n",
       "      <td>...</td>\n",
       "      <td>0</td>\n",
       "      <td>0</td>\n",
       "      <td>1</td>\n",
       "      <td>466.9923</td>\n",
       "      <td>0</td>\n",
       "      <td>7</td>\n",
       "      <td>46301</td>\n",
       "      <td>199903811</td>\n",
       "      <td>6.099830</td>\n",
       "      <td>520.8622</td>\n",
       "    </tr>\n",
       "    <tr>\n",
       "      <th>46301</th>\n",
       "      <td>5.530832</td>\n",
       "      <td>0</td>\n",
       "      <td>1</td>\n",
       "      <td>0</td>\n",
       "      <td>0</td>\n",
       "      <td>0</td>\n",
       "      <td>0</td>\n",
       "      <td>0</td>\n",
       "      <td>0</td>\n",
       "      <td>0</td>\n",
       "      <td>...</td>\n",
       "      <td>0</td>\n",
       "      <td>0</td>\n",
       "      <td>1</td>\n",
       "      <td>252.3537</td>\n",
       "      <td>0</td>\n",
       "      <td>4</td>\n",
       "      <td>46302</td>\n",
       "      <td>52806611</td>\n",
       "      <td>5.484914</td>\n",
       "      <td>266.1815</td>\n",
       "    </tr>\n",
       "    <tr>\n",
       "      <th>46302</th>\n",
       "      <td>5.965293</td>\n",
       "      <td>0</td>\n",
       "      <td>0</td>\n",
       "      <td>0</td>\n",
       "      <td>0</td>\n",
       "      <td>1</td>\n",
       "      <td>0</td>\n",
       "      <td>0</td>\n",
       "      <td>0</td>\n",
       "      <td>0</td>\n",
       "      <td>...</td>\n",
       "      <td>0</td>\n",
       "      <td>0</td>\n",
       "      <td>1</td>\n",
       "      <td>389.6673</td>\n",
       "      <td>0</td>\n",
       "      <td>7</td>\n",
       "      <td>46303</td>\n",
       "      <td>5900111</td>\n",
       "      <td>5.967220</td>\n",
       "      <td>395.6915</td>\n",
       "    </tr>\n",
       "    <tr>\n",
       "      <th>46303</th>\n",
       "      <td>4.736676</td>\n",
       "      <td>0</td>\n",
       "      <td>1</td>\n",
       "      <td>0</td>\n",
       "      <td>0</td>\n",
       "      <td>0</td>\n",
       "      <td>0</td>\n",
       "      <td>0</td>\n",
       "      <td>0</td>\n",
       "      <td>0</td>\n",
       "      <td>...</td>\n",
       "      <td>0</td>\n",
       "      <td>0</td>\n",
       "      <td>1</td>\n",
       "      <td>114.0545</td>\n",
       "      <td>1</td>\n",
       "      <td>4</td>\n",
       "      <td>46304</td>\n",
       "      <td>360704611</td>\n",
       "      <td>5.558093</td>\n",
       "      <td>331.6651</td>\n",
       "    </tr>\n",
       "    <tr>\n",
       "      <th>46304</th>\n",
       "      <td>7.511497</td>\n",
       "      <td>0</td>\n",
       "      <td>0</td>\n",
       "      <td>0</td>\n",
       "      <td>0</td>\n",
       "      <td>1</td>\n",
       "      <td>0</td>\n",
       "      <td>0</td>\n",
       "      <td>0</td>\n",
       "      <td>0</td>\n",
       "      <td>...</td>\n",
       "      <td>0</td>\n",
       "      <td>0</td>\n",
       "      <td>1</td>\n",
       "      <td>1828.9500</td>\n",
       "      <td>0</td>\n",
       "      <td>3</td>\n",
       "      <td>46305</td>\n",
       "      <td>126110311</td>\n",
       "      <td>6.644368</td>\n",
       "      <td>764.9935</td>\n",
       "    </tr>\n",
       "  </tbody>\n",
       "</table>\n",
       "<p>46305 rows × 81 columns</p>\n",
       "</div>"
      ],
      "text/plain": [
       "       lnpercapitaconsumption  d_fuel_other  d_fuel_wood  d_fuel_coal  \\\n",
       "0                         NaN             0            1            0   \n",
       "1                         NaN             0            0            0   \n",
       "2                         NaN             0            0            0   \n",
       "3                         NaN             0            0            0   \n",
       "4                         NaN             0            1            0   \n",
       "...                       ...           ...          ...          ...   \n",
       "46300                6.146313             0            0            0   \n",
       "46301                5.530832             0            1            0   \n",
       "46302                5.965293             0            0            0   \n",
       "46303                4.736676             0            1            0   \n",
       "46304                7.511497             0            0            0   \n",
       "\n",
       "       d_fuel_kerosene  d_fuel_gas  d_fuel_electric  d_fuel_none  \\\n",
       "0                    0           0                0            0   \n",
       "1                    0           1                0            0   \n",
       "2                    0           1                0            0   \n",
       "3                    0           1                0            0   \n",
       "4                    0           0                0            0   \n",
       "...                ...         ...              ...          ...   \n",
       "46300                0           1                0            0   \n",
       "46301                0           0                0            0   \n",
       "46302                0           1                0            0   \n",
       "46303                0           0                0            0   \n",
       "46304                0           1                0            0   \n",
       "\n",
       "       d_water_other  d_water_river  ...  d_lux_4  d_lux_5  training  \\\n",
       "0                  0              1  ...        0        0         0   \n",
       "1                  0              0  ...        0        0         0   \n",
       "2                  0              0  ...        0        0         0   \n",
       "3                  0              0  ...        0        0         0   \n",
       "4                  0              1  ...        0        0         0   \n",
       "...              ...            ...  ...      ...      ...       ...   \n",
       "46300              0              0  ...        0        0         1   \n",
       "46301              0              0  ...        0        0         1   \n",
       "46302              0              0  ...        0        0         1   \n",
       "46303              0              0  ...        0        0         1   \n",
       "46304              0              0  ...        0        0         1   \n",
       "\n",
       "       percapitaconsumption  poor  h_hhsize  id_for_matlab       hhid  \\\n",
       "0                       NaN     0         1              1  233710511   \n",
       "1                       NaN     0         3              2  295508011   \n",
       "2                       NaN     0         4              3  257600211   \n",
       "3                       NaN     1         9              4  198104311   \n",
       "4                       NaN     1         8              5   24805311   \n",
       "...                     ...   ...       ...            ...        ...   \n",
       "46300              466.9923     0         7          46301  199903811   \n",
       "46301              252.3537     0         4          46302   52806611   \n",
       "46302              389.6673     0         7          46303    5900111   \n",
       "46303              114.0545     1         4          46304  360704611   \n",
       "46304             1828.9500     0         3          46305  126110311   \n",
       "\n",
       "       lncaphat_OLS  percapitahat_OLS  \n",
       "0          5.246471          284.4243  \n",
       "1          6.129468          522.8840  \n",
       "2          6.665577          878.4961  \n",
       "3          6.088295          567.4705  \n",
       "4          5.008170          115.4929  \n",
       "...             ...               ...  \n",
       "46300      6.099830          520.8622  \n",
       "46301      5.484914          266.1815  \n",
       "46302      5.967220          395.6915  \n",
       "46303      5.558093          331.6651  \n",
       "46304      6.644368          764.9935  \n",
       "\n",
       "[46305 rows x 81 columns]"
      ]
     },
     "execution_count": 5,
     "metadata": {},
     "output_type": "execute_result"
    }
   ],
   "source": [
    "raw # in case you want to see all the data"
   ]
  },
  {
   "cell_type": "code",
   "execution_count": 6,
   "metadata": {},
   "outputs": [],
   "source": [
    "np.random.seed(1234) # as far as I undertand so that the results are exactly the same for everyone we set\n",
    "# the speudo-random seed generator"
   ]
  },
  {
   "cell_type": "code",
   "execution_count": 7,
   "metadata": {},
   "outputs": [],
   "source": [
    "# set X as exogenous variable and y as endogenous\n",
    "additional = ['training', 'percapitaconsumption', 'poor', 'h_hhsize',\n",
    "       'id_for_matlab', 'hhid', 'lncaphat_OLS', 'percapitahat_OLS']\n",
    "exogenous_data = ['d_fuel_other', 'd_fuel_wood', 'd_fuel_coal',\n",
    "       'd_fuel_kerosene', 'd_fuel_gas', 'd_fuel_electric', 'd_fuel_none',\n",
    "       'd_water_other', 'd_water_river', 'd_water_well', 'd_water_truck',\n",
    "       'd_water_pylon', 'd_water_outside', 'd_water_inside', 'd_drain_none',\n",
    "       'd_drain_river', 'd_drain_cesspool', 'd_drain_septic',\n",
    "       'd_drain_outside', 'd_drain_inside', 'd_wall_other', 'd_wall_woodmat',\n",
    "       'd_wall_stonemud', 'd_wall_quincha', 'd_wall_tapia', 'd_wall_adobe',\n",
    "       'd_wall_stonecement', 'd_wall_brickcement', 'd_roof_other',\n",
    "       'd_roof_straw', 'd_roof_mat', 'd_roof_platecane', 'd_roof_tile',\n",
    "       'd_roof_wood', 'd_roof_concrete', 'd_floor_other', 'd_floor_earth',\n",
    "       'd_floor_cement', 'd_floor_wood', 'd_floor_tile', 'd_floor_sheets',\n",
    "       'd_floor_parquet', 'd_electricity', 'd_telephone', 'd_h_educ_none',\n",
    "       'd_h_educ_pre', 'd_h_educ_prim', 'd_h_educ_sec',\n",
    "       'd_h_educ_higher_nouni', 'd_h_educ_higher_uni', 'd_h_educ_post',\n",
    "       'd_max_educ_none', 'd_max_educ_prim', 'd_max_educ_sec',\n",
    "       'd_max_educ_higher_nouni', 'd_max_educ_higher_uni', 'd_insurance_0',\n",
    "       'd_insurance_1', 'd_insurance_2', 'd_insurance_3', 'd_insurance_4plus',\n",
    "       'd_crowd_lessthan1', 'd_crowd_1to2', 'd_crowd_2to4', 'd_crowd_4to6',\n",
    "       'd_crowd_6plus', 'd_lux_0', 'd_lux_1', 'd_lux_2', 'd_lux_3', 'd_lux_4',\n",
    "       'd_lux_5']\n",
    "\n",
    "y = raw.lnpercapitaconsumption\n",
    "X = raw[exogenous_data]"
   ]
  },
  {
   "cell_type": "code",
   "execution_count": 8,
   "metadata": {},
   "outputs": [
    {
     "name": "stdout",
     "output_type": "stream",
     "text": [
      "Shape of X_train: (23153, 72)\n",
      "Shape of y_train: (23153,)\n",
      "Shape of X_test: (23152, 72)\n",
      "Shape of y_test: (23152,)\n"
     ]
    }
   ],
   "source": [
    "# The function splits the dataset into the training dataset and the test dataset.\n",
    "# The parameter split_coeff is a percentage value such that\n",
    "# the first split_coeff of the dataset goes to the training dataset, \n",
    "# and the remaining data goes to the test dataset.\n",
    "def split_data(X, y, split_coeff):\n",
    "    N, _ = X.shape # get the number of records (rows)\n",
    "    test_size = int(split_coeff * N) # use the first split_coeff of the data as the test data\n",
    "    X_test = X[:test_size] # the first training_size records\n",
    "    y_test = y[:test_size]\n",
    "    X_train = X[test_size:] # the last test_size records\n",
    "    y_train = y[test_size:]\n",
    "    return X_train, y_train, X_test, y_test\n",
    "\n",
    "X_train, y_train, X_test, y_test = split_data(X, y, 0.5) # use 50% of the data as training data\n",
    "\n",
    "# check the size of the splitted dataset\n",
    "print(\"Shape of X_train:\", X_train.shape)\n",
    "print(\"Shape of y_train:\", y_train.shape)\n",
    "print(\"Shape of X_test:\", X_test.shape)\n",
    "print(\"Shape of y_test:\", y_test.shape)"
   ]
  },
  {
   "cell_type": "code",
   "execution_count": 9,
   "metadata": {},
   "outputs": [
    {
     "data": {
      "text/plain": [
       "0       NaN\n",
       "1       NaN\n",
       "2       NaN\n",
       "3       NaN\n",
       "4       NaN\n",
       "         ..\n",
       "23147   NaN\n",
       "23148   NaN\n",
       "23149   NaN\n",
       "23150   NaN\n",
       "23151   NaN\n",
       "Name: lnpercapitaconsumption, Length: 23152, dtype: float64"
      ]
     },
     "execution_count": 9,
     "metadata": {},
     "output_type": "execute_result"
    }
   ],
   "source": [
    "y_test"
   ]
  },
  {
   "cell_type": "code",
   "execution_count": 10,
   "metadata": {},
   "outputs": [
    {
     "name": "stdout",
     "output_type": "stream",
     "text": [
      "d_fuel_other + d_fuel_wood + d_fuel_coal + d_fuel_kerosene + d_fuel_gas + d_fuel_electric + d_fuel_none + d_water_other + d_water_river + d_water_well + d_water_truck + d_water_pylon + d_water_outside + d_water_inside + d_drain_none + d_drain_river + d_drain_cesspool + d_drain_septic + d_drain_outside + d_drain_inside + d_wall_other + d_wall_woodmat + d_wall_stonemud + d_wall_quincha + d_wall_tapia + d_wall_adobe + d_wall_stonecement + d_wall_brickcement + d_roof_other + d_roof_straw + d_roof_mat + d_roof_platecane + d_roof_tile + d_roof_wood + d_roof_concrete + d_floor_other + d_floor_earth + d_floor_cement + d_floor_wood + d_floor_tile + d_floor_sheets + d_floor_parquet + d_electricity + d_telephone + d_h_educ_none + d_h_educ_pre + d_h_educ_prim + d_h_educ_sec + d_h_educ_higher_nouni + d_h_educ_higher_uni + d_h_educ_post + d_max_educ_none + d_max_educ_prim + d_max_educ_sec + d_max_educ_higher_nouni + d_max_educ_higher_uni + d_insurance_0 + d_insurance_1 + d_insurance_2 + d_insurance_3 + d_insurance_4plus + d_crowd_lessthan1 + d_crowd_1to2 + d_crowd_2to4 + d_crowd_4to6 + d_crowd_6plus + d_lux_0 + d_lux_1 + d_lux_2 + d_lux_3 + d_lux_4 + d_lux_5\n"
     ]
    },
    {
     "name": "stderr",
     "output_type": "stream",
     "text": [
      "<ipython-input-10-2dcadb0b95ee>:2: SettingWithCopyWarning: \n",
      "A value is trying to be set on a copy of a slice from a DataFrame.\n",
      "Try using .loc[row_indexer,col_indexer] = value instead\n",
      "\n",
      "See the caveats in the documentation: https://pandas.pydata.org/pandas-docs/stable/user_guide/indexing.html#returning-a-view-versus-a-copy\n",
      "  data_train[\"lnpercapitaconsumption\"] = y_train\n"
     ]
    }
   ],
   "source": [
    "data_train = X_train\n",
    "data_train[\"lnpercapitaconsumption\"] = y_train\n",
    "data_train\n",
    "print(' + '.join(exogenous_data))"
   ]
  },
  {
   "cell_type": "code",
   "execution_count": 64,
   "metadata": {},
   "outputs": [
    {
     "name": "stdout",
     "output_type": "stream",
     "text": [
      "                              OLS Regression Results                              \n",
      "==================================================================================\n",
      "Dep. Variable:     lnpercapitaconsumption   R-squared:                       0.656\n",
      "Model:                                OLS   Adj. R-squared:                  0.655\n",
      "Method:                     Least Squares   F-statistic:                     683.9\n",
      "Date:                    Sat, 05 Dec 2020   Prob (F-statistic):               0.00\n",
      "Time:                            11:25:08   Log-Likelihood:                -13433.\n",
      "No. Observations:                   22674   AIC:                         2.699e+04\n",
      "Df Residuals:                       22610   BIC:                         2.751e+04\n",
      "Df Model:                              63                                         \n",
      "Covariance Type:                nonrobust                                         \n",
      "===========================================================================================\n",
      "                              coef    std err          t      P>|t|      [0.025      0.975]\n",
      "-------------------------------------------------------------------------------------------\n",
      "Intercept                   2.6384      0.024    111.765      0.000       2.592       2.685\n",
      "d_fuel_other                0.0902      0.013      6.925      0.000       0.065       0.116\n",
      "d_fuel_wood                 0.1545      0.011     13.817      0.000       0.133       0.176\n",
      "d_fuel_coal                 0.3426      0.018     18.767      0.000       0.307       0.378\n",
      "d_fuel_kerosene             0.3488      0.039      8.834      0.000       0.271       0.426\n",
      "d_fuel_gas                  0.4023      0.010     39.479      0.000       0.382       0.422\n",
      "d_fuel_electric             0.7377      0.031     23.874      0.000       0.677       0.798\n",
      "d_fuel_none                 0.5623      0.017     32.358      0.000       0.528       0.596\n",
      "d_water_other               0.3804      0.014     26.635      0.000       0.352       0.408\n",
      "d_water_river               0.2942      0.009     31.320      0.000       0.276       0.313\n",
      "d_water_well                0.3390      0.014     23.939      0.000       0.311       0.367\n",
      "d_water_truck               0.4799      0.021     23.242      0.000       0.439       0.520\n",
      "d_water_pylon               0.3517      0.019     18.443      0.000       0.314       0.389\n",
      "d_water_outside             0.4395      0.021     20.852      0.000       0.398       0.481\n",
      "d_water_inside              0.3537      0.008     42.158      0.000       0.337       0.370\n",
      "d_drain_none               -0.1486      0.042     -3.518      0.000      -0.231      -0.066\n",
      "d_drain_river              -0.1111      0.046     -2.422      0.015      -0.201      -0.021\n",
      "d_drain_cesspool           -0.1083      0.042     -2.575      0.010      -0.191      -0.026\n",
      "d_drain_septic             -0.1279      0.042     -3.033      0.002      -0.211      -0.045\n",
      "d_drain_outside            -0.0787      0.048     -1.631      0.103      -0.173       0.016\n",
      "d_drain_inside             -0.0677      0.042     -1.612      0.107      -0.150       0.015\n",
      "d_wall_other                0.3828      0.014     27.282      0.000       0.355       0.410\n",
      "d_wall_woodmat              0.4581      0.011     42.696      0.000       0.437       0.479\n",
      "d_wall_stonemud             0.2470      0.023     10.696      0.000       0.202       0.292\n",
      "d_wall_quincha              0.4029      0.018     22.124      0.000       0.367       0.439\n",
      "d_wall_tapia                0.2064      0.011     18.240      0.000       0.184       0.229\n",
      "d_wall_adobe                0.2594      0.009     29.344      0.000       0.242       0.277\n",
      "d_wall_stonecement          0.3295      0.033      9.912      0.000       0.264       0.395\n",
      "d_wall_brickcement          0.3524      0.010     33.857      0.000       0.332       0.373\n",
      "d_roof_other                0.4085      0.024     16.946      0.000       0.361       0.456\n",
      "d_roof_straw                0.2674      0.013     20.092      0.000       0.241       0.294\n",
      "d_roof_mat                  0.4318      0.024     18.028      0.000       0.385       0.479\n",
      "d_roof_platecane            0.4072      0.008     49.897      0.000       0.391       0.423\n",
      "d_roof_tile                 0.3364      0.011     29.556      0.000       0.314       0.359\n",
      "d_roof_wood                 0.4120      0.023     17.926      0.000       0.367       0.457\n",
      "d_roof_concrete             0.3752      0.011     33.777      0.000       0.353       0.397\n",
      "d_floor_other               0.2646      0.025     10.515      0.000       0.215       0.314\n",
      "d_floor_earth               0.1916      0.010     19.831      0.000       0.173       0.211\n",
      "d_floor_cement              0.3256      0.008     39.583      0.000       0.309       0.342\n",
      "d_floor_wood                0.3116      0.012     25.473      0.000       0.288       0.336\n",
      "d_floor_tile                0.4599      0.013     34.505      0.000       0.434       0.486\n",
      "d_floor_sheets              0.4863      0.017     28.864      0.000       0.453       0.519\n",
      "d_floor_parquet             0.5988      0.019     31.506      0.000       0.562       0.636\n",
      "d_electricity               0.0711      0.010      7.070      0.000       0.051       0.091\n",
      "d_telephone                 0.0554      0.009      6.117      0.000       0.038       0.073\n",
      "d_h_educ_none               0.2060      0.027      7.692      0.000       0.153       0.258\n",
      "d_h_educ_pre                0.2210      0.144      1.538      0.124      -0.061       0.503\n",
      "d_h_educ_prim               0.2846      0.024     11.625      0.000       0.237       0.333\n",
      "d_h_educ_sec                0.3644      0.024     14.942      0.000       0.317       0.412\n",
      "d_h_educ_higher_nouni       0.4454      0.026     17.456      0.000       0.395       0.495\n",
      "d_h_educ_higher_uni         0.5269      0.026     20.366      0.000       0.476       0.578\n",
      "d_h_educ_post               0.5902      0.038     15.333      0.000       0.515       0.666\n",
      "d_max_educ_none            -0.3987      0.037    -10.806      0.000      -0.471      -0.326\n",
      "d_max_educ_prim            -0.2402      0.031     -7.706      0.000      -0.301      -0.179\n",
      "d_max_educ_sec             -0.1530      0.030     -5.068      0.000      -0.212      -0.094\n",
      "d_max_educ_higher_nouni    -0.1047      0.030     -3.454      0.001      -0.164      -0.045\n",
      "d_max_educ_higher_uni      -0.0813      0.030     -2.745      0.006      -0.139      -0.023\n",
      "d_insurance_0               0.5991      0.008     74.501      0.000       0.583       0.615\n",
      "d_insurance_1               0.6512      0.008     79.595      0.000       0.635       0.667\n",
      "d_insurance_2               0.5385      0.008     67.155      0.000       0.523       0.554\n",
      "d_insurance_3               0.4844      0.008     59.791      0.000       0.469       0.500\n",
      "d_insurance_4plus           0.3651      0.007     51.099      0.000       0.351       0.379\n",
      "d_crowd_lessthan1           0.8329      0.009     93.817      0.000       0.815       0.850\n",
      "d_crowd_1to2                0.5913      0.008     75.205      0.000       0.576       0.607\n",
      "d_crowd_2to4                0.4830      0.009     55.676      0.000       0.466       0.500\n",
      "d_crowd_4to6                0.4034      0.013     31.499      0.000       0.378       0.428\n",
      "d_crowd_6plus               0.3279      0.019     17.716      0.000       0.292       0.364\n",
      "d_lux_0                     0.1539      0.009     16.950      0.000       0.136       0.172\n",
      "d_lux_1                     0.3143      0.009     36.844      0.000       0.298       0.331\n",
      "d_lux_2                     0.3990      0.009     42.894      0.000       0.381       0.417\n",
      "d_lux_3                     0.4834      0.011     43.733      0.000       0.462       0.505\n",
      "d_lux_4                     0.5723      0.013     43.039      0.000       0.546       0.598\n",
      "d_lux_5                     0.7156      0.015     47.942      0.000       0.686       0.745\n",
      "==============================================================================\n",
      "Omnibus:                      350.884   Durbin-Watson:                   1.994\n",
      "Prob(Omnibus):                  0.000   Jarque-Bera (JB):              686.085\n",
      "Skew:                          -0.018   Prob(JB):                    1.04e-149\n",
      "Kurtosis:                       3.851   Cond. No.                     1.58e+16\n",
      "==============================================================================\n",
      "\n",
      "Warnings:\n",
      "[1] Standard Errors assume that the covariance matrix of the errors is correctly specified.\n",
      "[2] The smallest eigenvalue is 4.83e-28. This might indicate that there are\n",
      "strong multicollinearity problems or that the design matrix is singular.\n"
     ]
    }
   ],
   "source": [
    "import statsmodels.api as sm\n",
    "import statsmodels.formula.api as smf\n",
    "\n",
    "#X_train = sm.add_constant(X_train)\n",
    "\n",
    "# Compact version with confidence intervals\n",
    "x = exogenous_data\n",
    "model = smf.ols(\"lnpercapitaconsumption ~ d_fuel_other + d_fuel_wood + d_fuel_coal + d_fuel_kerosene + d_fuel_gas + d_fuel_electric + d_fuel_none + d_water_other + d_water_river + d_water_well + d_water_truck + d_water_pylon + d_water_outside + d_water_inside + d_drain_none + d_drain_river + d_drain_cesspool + d_drain_septic + d_drain_outside + d_drain_inside + d_wall_other + d_wall_woodmat + d_wall_stonemud + d_wall_quincha + d_wall_tapia + d_wall_adobe + d_wall_stonecement + d_wall_brickcement + d_roof_other + d_roof_straw + d_roof_mat + d_roof_platecane + d_roof_tile + d_roof_wood + d_roof_concrete + d_floor_other + d_floor_earth + d_floor_cement + d_floor_wood + d_floor_tile + d_floor_sheets + d_floor_parquet + d_electricity + d_telephone + d_h_educ_none + d_h_educ_pre + d_h_educ_prim + d_h_educ_sec + d_h_educ_higher_nouni + d_h_educ_higher_uni + d_h_educ_post + d_max_educ_none + d_max_educ_prim + d_max_educ_sec + d_max_educ_higher_nouni + d_max_educ_higher_uni + d_insurance_0 + d_insurance_1 + d_insurance_2 + d_insurance_3 + d_insurance_4plus + d_crowd_lessthan1 + d_crowd_1to2 + d_crowd_2to4 + d_crowd_4to6 + d_crowd_6plus + d_lux_0 + d_lux_1 + d_lux_2 + d_lux_3 + d_lux_4 + d_lux_5\", data_train).fit()\n",
    "#model.summary().tables[1]\n",
    "print(model.summary())"
   ]
  },
  {
   "cell_type": "code",
   "execution_count": 18,
   "metadata": {},
   "outputs": [
    {
     "data": {
      "text/plain": [
       "count    4.537800e+04\n",
       "mean     8.266197e-09\n",
       "std      3.198668e-07\n",
       "min     -7.546989e-07\n",
       "25%     -2.428345e-07\n",
       "50%      1.296096e-08\n",
       "75%      2.557166e-07\n",
       "max      7.583804e-07\n",
       "dtype: float64"
      ]
     },
     "execution_count": 18,
     "metadata": {},
     "output_type": "execute_result"
    }
   ],
   "source": [
    "lnCapOLSnew = model.predict(X)\n",
    "(lnCapOLSnew - raw.lncaphat_OLS).describe()"
   ]
  },
  {
   "cell_type": "markdown",
   "metadata": {},
   "source": [
    "As far as I can see certain coefficient are very close to what they report in the online appendix (please also check some coefficient ). However some of those that they report as negative, we have positive which is quite weird to my opinion"
   ]
  },
  {
   "cell_type": "markdown",
   "metadata": {},
   "source": [
    "### Step 1 - trying to reporoduce Figure 3 \"Predited versus actual per-capita Consumption for Housholds in Test Set Data\""
   ]
  },
  {
   "cell_type": "code",
   "execution_count": 65,
   "metadata": {},
   "outputs": [
    {
     "data": {
      "text/plain": [
       "array([5.75631266, 6.6001409 , 5.27078838, ..., 5.96722053, 5.55809323,\n",
       "       6.64436829])"
      ]
     },
     "execution_count": 65,
     "metadata": {},
     "output_type": "execute_result"
    }
   ],
   "source": [
    "# first we need the predicted values of y_train\n",
    "y_predicted = model.predict()\n",
    "y_predicted"
   ]
  },
  {
   "cell_type": "code",
   "execution_count": 91,
   "metadata": {},
   "outputs": [
    {
     "data": {
      "image/png": "[encoded data removed]",
      "text/plain": [
       "<Figure size 432x288 with 1 Axes>"
      ]
     },
     "metadata": {
      "needs_background": "light"
     },
     "output_type": "display_data"
    }
   ],
   "source": [
    "import matplotlib.pyplot as plt\n",
    "\n",
    "lim_start = 3\n",
    "lim_end = 9\n",
    "\n",
    "g=plt.scatter(y_predicted, data_train.dropna(axis=0)[\"lnpercapitaconsumption\"])\n",
    "#g.axes.set_yscale('log')\n",
    "#g.axes.set_xscale('log')\n",
    "plt.plot([lim_start, lim_end], [lim_start, lim_end], 'k--', color = 'r')\n",
    "plt.hlines(np.percentile(y_predicted,100), lim_start+0.25, lim_end-0.25)\n",
    "plt.vlines(np.percentile(y_predicted,0), lim_start+0.25, lim_end-0.25)\n",
    "g.axes.set_xlabel('Predicted log per-capita monthly consumption (soles)')\n",
    "g.axes.set_ylabel('Actual log per-capita monthly consumption (soles)')\n",
    "g.axes.axis('equal')\n",
    "g.axes.axis('square')\n",
    "plt.text(5.5, 4, 'Correct inclusion',\n",
    "        verticalalignment='bottom', horizontalalignment='right',\n",
    "        color='black', fontsize=10)\n",
    "plt.text(5.5, 8, 'Inclusion Error',\n",
    "        verticalalignment='bottom', horizontalalignment='right',\n",
    "        color='black', fontsize=10)\n",
    "plt.text(5.5, 8, 'Inclusion Error',\n",
    "        verticalalignment='bottom', horizontalalignment='right',\n",
    "        color='black', fontsize=10)\n",
    "\n",
    "plt.text(8, 8, 'Correct Exclusion',\n",
    "        verticalalignment='bottom', horizontalalignment='right',\n",
    "        color='black', fontsize=10)\n",
    "plt.text(8, 4, 'Exclusion Error',\n",
    "        verticalalignment='bottom', horizontalalignment='right',\n",
    "        color='black', fontsize=10)\n",
    "\n",
    "plt.xlim([lim_start, lim_end])\n",
    "plt.ylim([lim_start, lim_end])\n",
    "\n",
    "plt.savefig('inex_OLS.png')"
   ]
  },
  {
   "cell_type": "code",
   "execution_count": 27,
   "metadata": {},
   "outputs": [
    {
     "data": {
      "text/plain": [
       "0.0878539296110082"
      ]
     },
     "execution_count": 27,
     "metadata": {},
     "output_type": "execute_result"
    }
   ],
   "source": [
    "# calculate inclusion exclusion error\n",
    "level = 6\n",
    "input_data = data_train.dropna(axis=0)[\"lnpercapitaconsumption\"].to_frame()\n",
    "input_data[\"prediction\"] = y_predicted\n",
    "\n",
    "actual_threshold = (input_data[\"lnpercapitaconsumption\"] < level)\n",
    "predicted_threshold = (y_predicted > level)\n",
    "z = np.logical_and(actual_threshold,predicted_threshold)\n",
    "len(z[z == True]) / len(data_train.dropna(axis=0)[\"lnpercapitaconsumption\"])"
   ]
  },
  {
   "cell_type": "code",
   "execution_count": 28,
   "metadata": {},
   "outputs": [],
   "source": [
    "y = data_train.dropna(axis=0)[\"lnpercapitaconsumption\"].to_frame() "
   ]
  },
  {
   "cell_type": "code",
   "execution_count": 30,
   "metadata": {},
   "outputs": [],
   "source": [
    "predicted_threshold = np.zeros(len(y))"
   ]
  },
  {
   "cell_type": "code",
   "execution_count": 82,
   "metadata": {},
   "outputs": [],
   "source": [
    "# lets make a function to calculate inclusion/exclusion error and correct inclusion/exlusion\n",
    "\n",
    "def inex(predicted, actual, level, incl: bool, err: bool):\n",
    "     \n",
    "    #the funciton takes in 5 values and returns one value\n",
    "    #predicted - should be an array of predicted y values according to the model that you used\n",
    "    #actual - actual values of a training or testing data set, as a dataframe with an index\n",
    "    #level - scalar which is used to determining the threshold \n",
    "    \n",
    "    \n",
    "    predicted_threshold = np.zeros(len(y))\n",
    "    \n",
    "    if incl is True:\n",
    "        predicted_threshold = (predicted < np.percentile(predicted,level))\n",
    "    else:\n",
    "        predicted_threshold = (predicted > np.percentile(predicted,level))\n",
    "    \n",
    "    actual_threshold = np.zeros(len(y))\n",
    "    \n",
    "    if err is True and incl is True:\n",
    "        actual_threshold = (actual > np.percentile(predicted,28))\n",
    "    elif err is True and incl is False:\n",
    "        actual_threshold = (actual < np.percentile(predicted,28))\n",
    "    elif err is False and incl is False:\n",
    "        actual_threshold = (actual > np.percentile(predicted,28))\n",
    "    else:\n",
    "        actual_threshold = (actual < np.percentile(predicted,28))\n",
    "    \n",
    "        \n",
    "    data = pd.DataFrame(index = range(0,len(predicted)), columns = [\"actual\",\"predicted\"])\n",
    "    data[\"actual\"] = actual_threshold.values\n",
    "    data[\"predicted\"] = predicted_threshold\n",
    "    \n",
    "    z = np.logical_and(data[\"actual\"], data[\"predicted\"])\n",
    "    value = len(z[z == True]) / len(predicted)\n",
    "    \n",
    "    return value"
   ]
  },
  {
   "cell_type": "code",
   "execution_count": 18,
   "metadata": {},
   "outputs": [],
   "source": [
    "incl = False\n",
    "err = False\n",
    "predicted = y_predicted\n",
    "actual = y\n",
    "predicted_threshold = np.zeros(len(y))\n",
    "    \n",
    "if incl is True:\n",
    "    predicted_threshold = (predicted < level)\n",
    "    \n",
    "else:\n",
    "    predicted_threshold = (predicted > level)\n",
    "    \n",
    "actual_threshold = np.zeros(len(y))\n",
    "    \n",
    "if err is True:\n",
    "    actual_threshold = (actual > level)\n",
    "else:\n",
    "    actual_threshold = (actual < level)\n",
    "    \n",
    "        \n",
    "data = pd.DataFrame(index = range(0,len(predicted)), columns = [\"actual\",\"predicted\"])\n",
    "data[\"actual\"] = actual_threshold.values\n",
    "data[\"predicted\"] = predicted_threshold\n",
    "    \n",
    "z = np.logical_and(data[\"actual\"], data[\"predicted\"])\n",
    "value = len(z[z == True]) / len(predicted)\n"
   ]
  },
  {
   "cell_type": "code",
   "execution_count": 19,
   "metadata": {},
   "outputs": [
    {
     "data": {
      "text/plain": [
       "0.0878539296110082"
      ]
     },
     "execution_count": 19,
     "metadata": {},
     "output_type": "execute_result"
    }
   ],
   "source": [
    "value"
   ]
  },
  {
   "cell_type": "code",
   "execution_count": 80,
   "metadata": {},
   "outputs": [
    {
     "data": {
      "text/plain": [
       "0.02765281820587457"
      ]
     },
     "execution_count": 80,
     "metadata": {},
     "output_type": "execute_result"
    }
   ],
   "source": [
    "inex(y_predicted, y, level = 0, incl = False, err = True) "
   ]
  },
  {
   "cell_type": "markdown",
   "metadata": {},
   "source": [
    "## Figure 4\n",
    "### Tradeoffs between Inclusion Error and Exclusion Error by Varying Eligibility Cutoff\n",
    "#### (exclusion error is the portion of intended beneficiaries excluded; inclusion error is the portion not intended to be beneficiaries who are included)\n"
   ]
  },
  {
   "cell_type": "code",
   "execution_count": 93,
   "metadata": {},
   "outputs": [
    {
     "data": {
      "text/plain": [
       "array([2.76484079e-01, 2.31145806e-01, 1.89115286e-01, 1.51803828e-01,\n",
       "       1.17800123e-01, 8.82508600e-02, 6.26709006e-02, 4.33095175e-02,\n",
       "       2.87554027e-02, 1.89203493e-02, 1.26135662e-02, 8.29143512e-03,\n",
       "       5.07188851e-03, 2.91082297e-03, 1.54361824e-03, 8.37964188e-04,\n",
       "       3.52827027e-04, 8.82067566e-05, 0.00000000e+00, 0.00000000e+00,\n",
       "       0.00000000e+00])"
      ]
     },
     "execution_count": 93,
     "metadata": {},
     "output_type": "execute_result"
    }
   ],
   "source": [
    "cutoff = np.arange(0,105,5)\n",
    "exclusion = np.zeros(len(cutoff))\n",
    "\n",
    "for i in range(0,len(cutoff)):\n",
    "    exclusion[i] = inex(y_predicted, y, cutoff[i], incl = False, err = True) \n",
    "    \n",
    "exclusion "
   ]
  },
  {
   "cell_type": "code",
   "execution_count": 95,
   "metadata": {},
   "outputs": [
    {
     "data": {
      "text/plain": [
       "[<matplotlib.lines.Line2D at 0x7fd8632aa7f0>]"
      ]
     },
     "execution_count": 95,
     "metadata": {},
     "output_type": "execute_result"
    },
    {
     "data": {
      "image/png": "[encoded data removed]",
      "text/plain": [
       "<Figure size 432x288 with 1 Axes>"
      ]
     },
     "metadata": {
      "needs_background": "light"
     },
     "output_type": "display_data"
    }
   ],
   "source": [
    "plt.plot(inclusion, 1-exclusion)\n",
    "#plt.ylim([0,1])"
   ]
  },
  {
   "cell_type": "markdown",
   "metadata": {},
   "source": [
    "# We start with traing out some models on the data\n",
    "We will first make sure again that there are no outliers\n",
    "We will try out Lasso/ Ridge and afterwards also add k-fold cross validation and do some plotting"
   ]
  },
  {
   "cell_type": "code",
   "execution_count": 98,
   "metadata": {},
   "outputs": [],
   "source": [
    "# import packages \n",
    "from sklearn.model_selection import cross_val_score\n",
    "from sklearn.linear_model import LinearRegression, Ridge, Lasso"
   ]
  },
  {
   "cell_type": "code",
   "execution_count": 99,
   "metadata": {},
   "outputs": [
    {
     "data": {
      "text/plain": [
       "12913"
      ]
     },
     "execution_count": 99,
     "metadata": {},
     "output_type": "execute_result"
    }
   ],
   "source": [
    "data_train.isnull().sum().sum() # should be zero"
   ]
  },
  {
   "cell_type": "code",
   "execution_count": 100,
   "metadata": {},
   "outputs": [],
   "source": [
    "data_train = data_train.dropna(axis = 0)"
   ]
  },
  {
   "cell_type": "code",
   "execution_count": 101,
   "metadata": {},
   "outputs": [
    {
     "data": {
      "text/plain": [
       "0"
      ]
     },
     "execution_count": 101,
     "metadata": {},
     "output_type": "execute_result"
    }
   ],
   "source": [
    "data_train.isnull().sum().sum().sum()"
   ]
  },
  {
   "cell_type": "code",
   "execution_count": 102,
   "metadata": {},
   "outputs": [],
   "source": [
    "X_train_old = data_train[exogenous_data]\n",
    "y_train_old = data_train[\"lnpercapitaconsumption\"]"
   ]
  },
  {
   "cell_type": "code",
   "execution_count": 103,
   "metadata": {},
   "outputs": [],
   "source": [
    "#might be a bit confusing but our training data will be again divided into training and testing data\n",
    "# so that we can assert some of the hypotheses on the testing data within our big training part\n",
    "\n",
    "from sklearn.model_selection import train_test_split\n",
    "\n",
    "X_train, X_test, y_train, y_test = train_test_split(X_train_old, y_train_old, test_size=0.2, random_state=42)"
   ]
  },
  {
   "cell_type": "code",
   "execution_count": 104,
   "metadata": {},
   "outputs": [
    {
     "data": {
      "text/html": [
       "<div>\n",
       "<style scoped>\n",
       "    .dataframe tbody tr th:only-of-type {\n",
       "        vertical-align: middle;\n",
       "    }\n",
       "\n",
       "    .dataframe tbody tr th {\n",
       "        vertical-align: top;\n",
       "    }\n",
       "\n",
       "    .dataframe thead th {\n",
       "        text-align: right;\n",
       "    }\n",
       "</style>\n",
       "<table border=\"1\" class=\"dataframe\">\n",
       "  <thead>\n",
       "    <tr style=\"text-align: right;\">\n",
       "      <th></th>\n",
       "      <th>lnpercapitaconsumption</th>\n",
       "    </tr>\n",
       "  </thead>\n",
       "  <tbody>\n",
       "    <tr>\n",
       "      <th>33162</th>\n",
       "      <td>6.217288</td>\n",
       "    </tr>\n",
       "    <tr>\n",
       "      <th>45366</th>\n",
       "      <td>5.444049</td>\n",
       "    </tr>\n",
       "    <tr>\n",
       "      <th>23679</th>\n",
       "      <td>6.118876</td>\n",
       "    </tr>\n",
       "    <tr>\n",
       "      <th>44909</th>\n",
       "      <td>6.420265</td>\n",
       "    </tr>\n",
       "    <tr>\n",
       "      <th>23370</th>\n",
       "      <td>6.558080</td>\n",
       "    </tr>\n",
       "    <tr>\n",
       "      <th>...</th>\n",
       "      <td>...</td>\n",
       "    </tr>\n",
       "    <tr>\n",
       "      <th>41245</th>\n",
       "      <td>4.872386</td>\n",
       "    </tr>\n",
       "    <tr>\n",
       "      <th>43731</th>\n",
       "      <td>4.835403</td>\n",
       "    </tr>\n",
       "    <tr>\n",
       "      <th>29931</th>\n",
       "      <td>4.943916</td>\n",
       "    </tr>\n",
       "    <tr>\n",
       "      <th>30219</th>\n",
       "      <td>6.285006</td>\n",
       "    </tr>\n",
       "    <tr>\n",
       "      <th>38379</th>\n",
       "      <td>5.202992</td>\n",
       "    </tr>\n",
       "  </tbody>\n",
       "</table>\n",
       "<p>4535 rows × 1 columns</p>\n",
       "</div>"
      ],
      "text/plain": [
       "       lnpercapitaconsumption\n",
       "33162                6.217288\n",
       "45366                5.444049\n",
       "23679                6.118876\n",
       "44909                6.420265\n",
       "23370                6.558080\n",
       "...                       ...\n",
       "41245                4.872386\n",
       "43731                4.835403\n",
       "29931                4.943916\n",
       "30219                6.285006\n",
       "38379                5.202992\n",
       "\n",
       "[4535 rows x 1 columns]"
      ]
     },
     "execution_count": 104,
     "metadata": {},
     "output_type": "execute_result"
    }
   ],
   "source": [
    "y_test.to_frame()"
   ]
  },
  {
   "cell_type": "markdown",
   "metadata": {},
   "source": [
    "## Before we start training some models we preallocate some dataframes to put the results there"
   ]
  },
  {
   "cell_type": "code",
   "execution_count": 105,
   "metadata": {},
   "outputs": [
    {
     "data": {
      "text/html": [
       "<div>\n",
       "<style scoped>\n",
       "    .dataframe tbody tr th:only-of-type {\n",
       "        vertical-align: middle;\n",
       "    }\n",
       "\n",
       "    .dataframe tbody tr th {\n",
       "        vertical-align: top;\n",
       "    }\n",
       "\n",
       "    .dataframe thead th {\n",
       "        text-align: right;\n",
       "    }\n",
       "</style>\n",
       "<table border=\"1\" class=\"dataframe\">\n",
       "  <thead>\n",
       "    <tr style=\"text-align: right;\">\n",
       "      <th></th>\n",
       "      <th>MSE train</th>\n",
       "      <th>MSE test</th>\n",
       "      <th>Inclusion Error</th>\n",
       "      <th>Exclusion Error</th>\n",
       "      <th>Comments</th>\n",
       "    </tr>\n",
       "  </thead>\n",
       "  <tbody>\n",
       "    <tr>\n",
       "      <th>OLS</th>\n",
       "      <td>NaN</td>\n",
       "      <td>NaN</td>\n",
       "      <td>NaN</td>\n",
       "      <td>NaN</td>\n",
       "      <td>NaN</td>\n",
       "    </tr>\n",
       "    <tr>\n",
       "      <th>Lasso</th>\n",
       "      <td>NaN</td>\n",
       "      <td>NaN</td>\n",
       "      <td>NaN</td>\n",
       "      <td>NaN</td>\n",
       "      <td>NaN</td>\n",
       "    </tr>\n",
       "    <tr>\n",
       "      <th>Ridge</th>\n",
       "      <td>NaN</td>\n",
       "      <td>NaN</td>\n",
       "      <td>NaN</td>\n",
       "      <td>NaN</td>\n",
       "      <td>NaN</td>\n",
       "    </tr>\n",
       "    <tr>\n",
       "      <th>Basis Expansion</th>\n",
       "      <td>NaN</td>\n",
       "      <td>NaN</td>\n",
       "      <td>NaN</td>\n",
       "      <td>NaN</td>\n",
       "      <td>NaN</td>\n",
       "    </tr>\n",
       "    <tr>\n",
       "      <th>Elastic Net (Lasso + Ridge)</th>\n",
       "      <td>NaN</td>\n",
       "      <td>NaN</td>\n",
       "      <td>NaN</td>\n",
       "      <td>NaN</td>\n",
       "      <td>NaN</td>\n",
       "    </tr>\n",
       "    <tr>\n",
       "      <th>Random Forest Regressors</th>\n",
       "      <td>NaN</td>\n",
       "      <td>NaN</td>\n",
       "      <td>NaN</td>\n",
       "      <td>NaN</td>\n",
       "      <td>NaN</td>\n",
       "    </tr>\n",
       "    <tr>\n",
       "      <th>kNN</th>\n",
       "      <td>NaN</td>\n",
       "      <td>NaN</td>\n",
       "      <td>NaN</td>\n",
       "      <td>NaN</td>\n",
       "      <td>NaN</td>\n",
       "    </tr>\n",
       "  </tbody>\n",
       "</table>\n",
       "</div>"
      ],
      "text/plain": [
       "                            MSE train MSE test Inclusion Error  \\\n",
       "OLS                               NaN      NaN             NaN   \n",
       "Lasso                             NaN      NaN             NaN   \n",
       "Ridge                             NaN      NaN             NaN   \n",
       "Basis Expansion                   NaN      NaN             NaN   \n",
       "Elastic Net (Lasso + Ridge)       NaN      NaN             NaN   \n",
       "Random Forest Regressors          NaN      NaN             NaN   \n",
       "kNN                               NaN      NaN             NaN   \n",
       "\n",
       "                            Exclusion Error Comments  \n",
       "OLS                                     NaN      NaN  \n",
       "Lasso                                   NaN      NaN  \n",
       "Ridge                                   NaN      NaN  \n",
       "Basis Expansion                         NaN      NaN  \n",
       "Elastic Net (Lasso + Ridge)             NaN      NaN  \n",
       "Random Forest Regressors                NaN      NaN  \n",
       "kNN                                     NaN      NaN  "
      ]
     },
     "execution_count": 105,
     "metadata": {},
     "output_type": "execute_result"
    }
   ],
   "source": [
    "models = [\"OLS\", \"Lasso\", \"Ridge\", \"Basis Expansion\", \"Basis Expansion: Lasso\",\"\",\"Elastic Net (Lasso + Ridge)\", \"Random Forest Regressors\", \"kNN\"]\n",
    "results = pd.DataFrame(index = models, columns = [\"MSE train\", \"MSE test\", \"Inclusion Error\", \"Exclusion Error\", \"Comments\"])\n",
    "results"
   ]
  },
  {
   "cell_type": "code",
   "execution_count": 106,
   "metadata": {},
   "outputs": [
    {
     "name": "stdout",
     "output_type": "stream",
     "text": [
      "-0.19402361371438792\n",
      "0.18976312741163737\n"
     ]
    }
   ],
   "source": [
    "# first just to be sure we will again save the normal linear model \n",
    "\n",
    "lin_reg = LinearRegression()\n",
    "MSEs_lin_reg = cross_val_score(lin_reg, X_train, y_train , scoring = \"neg_mean_squared_error\", cv = 5)\n",
    "# The cross_val_score will return an array of MSE for each cross-validation steps.\n",
    "mean_MSE_lin_reg = np.mean(MSEs_lin_reg)\n",
    "\n",
    "fit = lin_reg.fit(X_train, y_train)\n",
    "prediction_train = fit.predict(X_train)\n",
    "prediction = fit.predict(X_test)\n",
    "residuals = y_test - prediction\n",
    "print(mean_MSE_lin_reg)\n",
    "print(np.mean(residuals**2))"
   ]
  },
  {
   "cell_type": "code",
   "execution_count": 109,
   "metadata": {},
   "outputs": [
    {
     "data": {
      "text/html": [
       "<div>\n",
       "<style scoped>\n",
       "    .dataframe tbody tr th:only-of-type {\n",
       "        vertical-align: middle;\n",
       "    }\n",
       "\n",
       "    .dataframe tbody tr th {\n",
       "        vertical-align: top;\n",
       "    }\n",
       "\n",
       "    .dataframe thead th {\n",
       "        text-align: right;\n",
       "    }\n",
       "</style>\n",
       "<table border=\"1\" class=\"dataframe\">\n",
       "  <thead>\n",
       "    <tr style=\"text-align: right;\">\n",
       "      <th></th>\n",
       "      <th>MSE train</th>\n",
       "      <th>MSE test</th>\n",
       "      <th>Inclusion Error</th>\n",
       "      <th>Exclusion Error</th>\n",
       "      <th>Comments</th>\n",
       "    </tr>\n",
       "  </thead>\n",
       "  <tbody>\n",
       "    <tr>\n",
       "      <th>OLS</th>\n",
       "      <td>0.192085</td>\n",
       "      <td>0.189763</td>\n",
       "      <td>0.0762955</td>\n",
       "      <td>0.0705623</td>\n",
       "      <td>n.a.</td>\n",
       "    </tr>\n",
       "    <tr>\n",
       "      <th>Lasso</th>\n",
       "      <td>NaN</td>\n",
       "      <td>NaN</td>\n",
       "      <td>NaN</td>\n",
       "      <td>NaN</td>\n",
       "      <td>NaN</td>\n",
       "    </tr>\n",
       "    <tr>\n",
       "      <th>Ridge</th>\n",
       "      <td>NaN</td>\n",
       "      <td>NaN</td>\n",
       "      <td>NaN</td>\n",
       "      <td>NaN</td>\n",
       "      <td>NaN</td>\n",
       "    </tr>\n",
       "    <tr>\n",
       "      <th>Basis Expansion</th>\n",
       "      <td>NaN</td>\n",
       "      <td>NaN</td>\n",
       "      <td>NaN</td>\n",
       "      <td>NaN</td>\n",
       "      <td>NaN</td>\n",
       "    </tr>\n",
       "    <tr>\n",
       "      <th>Elastic Net (Lasso + Ridge)</th>\n",
       "      <td>NaN</td>\n",
       "      <td>NaN</td>\n",
       "      <td>NaN</td>\n",
       "      <td>NaN</td>\n",
       "      <td>NaN</td>\n",
       "    </tr>\n",
       "    <tr>\n",
       "      <th>Random Forest Regressors</th>\n",
       "      <td>NaN</td>\n",
       "      <td>NaN</td>\n",
       "      <td>NaN</td>\n",
       "      <td>NaN</td>\n",
       "      <td>NaN</td>\n",
       "    </tr>\n",
       "    <tr>\n",
       "      <th>kNN</th>\n",
       "      <td>NaN</td>\n",
       "      <td>NaN</td>\n",
       "      <td>NaN</td>\n",
       "      <td>NaN</td>\n",
       "      <td>NaN</td>\n",
       "    </tr>\n",
       "  </tbody>\n",
       "</table>\n",
       "</div>"
      ],
      "text/plain": [
       "                            MSE train  MSE test Inclusion Error  \\\n",
       "OLS                          0.192085  0.189763       0.0762955   \n",
       "Lasso                             NaN       NaN             NaN   \n",
       "Ridge                             NaN       NaN             NaN   \n",
       "Basis Expansion                   NaN       NaN             NaN   \n",
       "Elastic Net (Lasso + Ridge)       NaN       NaN             NaN   \n",
       "Random Forest Regressors          NaN       NaN             NaN   \n",
       "kNN                               NaN       NaN             NaN   \n",
       "\n",
       "                            Exclusion Error Comments  \n",
       "OLS                               0.0705623     n.a.  \n",
       "Lasso                                   NaN      NaN  \n",
       "Ridge                                   NaN      NaN  \n",
       "Basis Expansion                         NaN      NaN  \n",
       "Elastic Net (Lasso + Ridge)             NaN      NaN  \n",
       "Random Forest Regressors                NaN      NaN  \n",
       "kNN                                     NaN      NaN  "
      ]
     },
     "execution_count": 109,
     "metadata": {},
     "output_type": "execute_result"
    }
   ],
   "source": [
    "# insert some vaues to the table\n",
    "from sklearn.metrics import mean_squared_error\n",
    "\n",
    "results.loc[\"OLS\"] = ([mean_squared_error(y_train, prediction_train),mean_squared_error(y_test, prediction),inex(prediction, y_test,28,incl=True, err = True), inex(prediction, y_test, 28,incl=False, err = True), \"n.a.\"])\n",
    "\n",
    "results"
   ]
  },
  {
   "cell_type": "code",
   "execution_count": 114,
   "metadata": {},
   "outputs": [
    {
     "data": {
      "text/plain": [
       "(3.0, 9.0)"
      ]
     },
     "execution_count": 114,
     "metadata": {},
     "output_type": "execute_result"
    },
    {
     "data": {
      "image/png": "[encoded data removed]",
      "text/plain": [
       "<Figure size 864x720 with 1 Axes>"
      ]
     },
     "metadata": {
      "needs_background": "light"
     },
     "output_type": "display_data"
    }
   ],
   "source": [
    "import matplotlib.pyplot as plt\n",
    "\n",
    "lim_start = 3\n",
    "lim_end = 9\n",
    "\n",
    "plt.figure(1,figsize = (12,10))\n",
    "g=plt.scatter(prediction, y_test, alpha = 0.3, marker = '+')\n",
    "#g.axes.set_yscale('log')\n",
    "#g.axes.set_xscale('log')\n",
    "plt.plot([lim_start, lim_end], [lim_start, lim_end], 'k--', color = 'r')\n",
    "plt.hlines(np.percentile(prediction,28), lim_start, lim_end)\n",
    "plt.vlines(np.percentile(prediction,28), lim_start, lim_end)\n",
    "g.axes.set_xlabel('Predicted log per-capita monthly consumption (soles)')\n",
    "g.axes.set_ylabel('Actual log per-capita monthly consumption (soles)')\n",
    "g.axes.axis('equal')\n",
    "g.axes.axis('square')\n",
    "plt.text(5.5, 4, 'Correct inclusion',\n",
    "        verticalalignment='bottom', horizontalalignment='right',\n",
    "        color='black', fontsize=10)\n",
    "plt.text(5.5, 8, 'Inclusion Error',\n",
    "        verticalalignment='bottom', horizontalalignment='right',\n",
    "        color='black', fontsize=10)\n",
    "plt.text(5.5, 8, 'Inclusion Error',\n",
    "        verticalalignment='bottom', horizontalalignment='right',\n",
    "        color='black', fontsize=10)\n",
    "plt.text(9, 8, 'Correct Exclusion',\n",
    "        verticalalignment='bottom', horizontalalignment='right',\n",
    "        color='black', fontsize=10)\n",
    "plt.text(9, 4, 'Exclusion Error',\n",
    "        verticalalignment='bottom', horizontalalignment='right',\n",
    "        color='black', fontsize=10)\n",
    "\n",
    "plt.xlim([lim_start, lim_end])\n",
    "plt.ylim([lim_start, lim_end])"
   ]
  },
  {
   "cell_type": "code",
   "execution_count": 115,
   "metadata": {},
   "outputs": [
    {
     "name": "stdout",
     "output_type": "stream",
     "text": [
      "{'alpha': 10}\n",
      "-0.19362585540139293\n",
      "0.1920943091433739\n",
      "0.1898650844509743\n"
     ]
    }
   ],
   "source": [
    "from sklearn.model_selection import GridSearchCV\n",
    "ridge = Ridge()\n",
    "parameters = {\"alpha\" :[ 1e-8, 1e-4, 1e-3, 1e-2, 1, 5, 10, 20] }\n",
    "ridge_regressor = GridSearchCV(ridge, parameters,scoring = \"neg_mean_squared_error\", cv = 5 )\n",
    "mod = ridge_regressor.fit(X_train, y_train)\n",
    "pred_train = mod.predict(X_train)\n",
    "pred_test = mod.predict(X_test)\n",
    "print(ridge_regressor.best_params_)\n",
    "print(ridge_regressor.best_score_)\n",
    "print(mean_squared_error(y_train, pred_train))\n",
    "print(mean_squared_error(y_test, pred_test))"
   ]
  },
  {
   "cell_type": "code",
   "execution_count": 121,
   "metadata": {},
   "outputs": [
    {
     "data": {
      "text/html": [
       "<div>\n",
       "<style scoped>\n",
       "    .dataframe tbody tr th:only-of-type {\n",
       "        vertical-align: middle;\n",
       "    }\n",
       "\n",
       "    .dataframe tbody tr th {\n",
       "        vertical-align: top;\n",
       "    }\n",
       "\n",
       "    .dataframe thead th {\n",
       "        text-align: right;\n",
       "    }\n",
       "</style>\n",
       "<table border=\"1\" class=\"dataframe\">\n",
       "  <thead>\n",
       "    <tr style=\"text-align: right;\">\n",
       "      <th></th>\n",
       "      <th>MSE train</th>\n",
       "      <th>MSE test</th>\n",
       "      <th>Inclusion Error</th>\n",
       "      <th>Exclusion Error</th>\n",
       "      <th>Comments</th>\n",
       "    </tr>\n",
       "  </thead>\n",
       "  <tbody>\n",
       "    <tr>\n",
       "      <th>OLS</th>\n",
       "      <td>0.192085</td>\n",
       "      <td>0.189763</td>\n",
       "      <td>0.0762955</td>\n",
       "      <td>0.0705623</td>\n",
       "      <td>n.a.</td>\n",
       "    </tr>\n",
       "    <tr>\n",
       "      <th>Lasso</th>\n",
       "      <td>NaN</td>\n",
       "      <td>NaN</td>\n",
       "      <td>NaN</td>\n",
       "      <td>NaN</td>\n",
       "      <td>NaN</td>\n",
       "    </tr>\n",
       "    <tr>\n",
       "      <th>Ridge</th>\n",
       "      <td>0.192094</td>\n",
       "      <td>0.189865</td>\n",
       "      <td>0.075634</td>\n",
       "      <td>0.0705623</td>\n",
       "      <td>$\\alpha = 10$</td>\n",
       "    </tr>\n",
       "    <tr>\n",
       "      <th>Basis Expansion</th>\n",
       "      <td>NaN</td>\n",
       "      <td>NaN</td>\n",
       "      <td>NaN</td>\n",
       "      <td>NaN</td>\n",
       "      <td>NaN</td>\n",
       "    </tr>\n",
       "    <tr>\n",
       "      <th>Elastic Net (Lasso + Ridge)</th>\n",
       "      <td>NaN</td>\n",
       "      <td>NaN</td>\n",
       "      <td>NaN</td>\n",
       "      <td>NaN</td>\n",
       "      <td>NaN</td>\n",
       "    </tr>\n",
       "    <tr>\n",
       "      <th>Random Forest Regressors</th>\n",
       "      <td>NaN</td>\n",
       "      <td>NaN</td>\n",
       "      <td>NaN</td>\n",
       "      <td>NaN</td>\n",
       "      <td>NaN</td>\n",
       "    </tr>\n",
       "    <tr>\n",
       "      <th>kNN</th>\n",
       "      <td>NaN</td>\n",
       "      <td>NaN</td>\n",
       "      <td>NaN</td>\n",
       "      <td>NaN</td>\n",
       "      <td>NaN</td>\n",
       "    </tr>\n",
       "  </tbody>\n",
       "</table>\n",
       "</div>"
      ],
      "text/plain": [
       "                            MSE train  MSE test Inclusion Error  \\\n",
       "OLS                          0.192085  0.189763       0.0762955   \n",
       "Lasso                             NaN       NaN             NaN   \n",
       "Ridge                        0.192094  0.189865        0.075634   \n",
       "Basis Expansion                   NaN       NaN             NaN   \n",
       "Elastic Net (Lasso + Ridge)       NaN       NaN             NaN   \n",
       "Random Forest Regressors          NaN       NaN             NaN   \n",
       "kNN                               NaN       NaN             NaN   \n",
       "\n",
       "                            Exclusion Error       Comments  \n",
       "OLS                               0.0705623           n.a.  \n",
       "Lasso                                   NaN            NaN  \n",
       "Ridge                             0.0705623  $\\alpha = 10$  \n",
       "Basis Expansion                         NaN            NaN  \n",
       "Elastic Net (Lasso + Ridge)             NaN            NaN  \n",
       "Random Forest Regressors                NaN            NaN  \n",
       "kNN                                     NaN            NaN  "
      ]
     },
     "execution_count": 121,
     "metadata": {},
     "output_type": "execute_result"
    }
   ],
   "source": [
    "results.loc[\"Ridge\"] = ([mean_squared_error(y_train, pred_train),\n",
    "                         mean_squared_error(y_test, pred_test),\n",
    "                         inex( pred_test,y_test,28,incl = True, err = True),\n",
    "                         inex( pred_test,y_test,28,incl = False, err = True), \n",
    "                         r'$\\alpha = {}$'.format(ridge_regressor.best_params_['alpha'])])\n",
    "results"
   ]
  },
  {
   "cell_type": "code",
   "execution_count": 122,
   "metadata": {},
   "outputs": [
    {
     "data": {
      "text/plain": [
       "(3.0, 9.0)"
      ]
     },
     "execution_count": 122,
     "metadata": {},
     "output_type": "execute_result"
    },
    {
     "data": {
      "image/png": "[encoded data removed]",
      "text/plain": [
       "<Figure size 864x720 with 1 Axes>"
      ]
     },
     "metadata": {
      "needs_background": "light"
     },
     "output_type": "display_data"
    }
   ],
   "source": [
    "import matplotlib.pyplot as plt\n",
    "\n",
    "lim_start = 3\n",
    "lim_end = 9\n",
    "\n",
    "plt.figure(1,figsize = (12,10))\n",
    "g=plt.scatter(mod.predict(X_test), y_test, alpha = 0.3, marker = '+')\n",
    "#g.axes.set_yscale('log')\n",
    "#g.axes.set_xscale('log')\n",
    "plt.plot([lim_start, lim_end], [lim_start, lim_end], 'k--', color = 'r')\n",
    "plt.hlines(np.percentile(prediction,28), lim_start, lim_end)\n",
    "plt.vlines(np.percentile(prediction,28), lim_start, lim_end)\n",
    "g.axes.set_xlabel('Predicted log per-capita monthly consumption (soles)')\n",
    "g.axes.set_ylabel('Actual log per-capita monthly consumption (soles)')\n",
    "g.axes.axis('equal')\n",
    "g.axes.axis('square')\n",
    "plt.text(5.5, 4, 'Correct inclusion',\n",
    "        verticalalignment='bottom', horizontalalignment='right',\n",
    "        color='black', fontsize=10)\n",
    "plt.text(5.5, 8, 'Inclusion Error',\n",
    "        verticalalignment='bottom', horizontalalignment='right',\n",
    "        color='black', fontsize=10)\n",
    "plt.text(5.5, 8, 'Inclusion Error',\n",
    "        verticalalignment='bottom', horizontalalignment='right',\n",
    "        color='black', fontsize=10)\n",
    "plt.text(9, 8, 'Correct Exclusion',\n",
    "        verticalalignment='bottom', horizontalalignment='right',\n",
    "        color='black', fontsize=10)\n",
    "plt.text(9, 4, 'Exclusion Error',\n",
    "        verticalalignment='bottom', horizontalalignment='right',\n",
    "        color='black', fontsize=10)\n",
    "\n",
    "plt.xlim([lim_start, lim_end])\n",
    "plt.ylim([lim_start, lim_end])"
   ]
  },
  {
   "cell_type": "code",
   "execution_count": 126,
   "metadata": {},
   "outputs": [
    {
     "name": "stdout",
     "output_type": "stream",
     "text": [
      "0.192096529408757\n",
      "0.18984590629918996\n"
     ]
    }
   ],
   "source": [
    "import numpy as np\n",
    "import matplotlib.pyplot as plt\n",
    "\n",
    "from sklearn import datasets\n",
    "from sklearn.linear_model import LassoCV, ElasticNet\n",
    "from sklearn.linear_model import Lasso\n",
    "from sklearn.model_selection import KFold\n",
    "from sklearn.model_selection import GridSearchCV\n",
    "\n",
    "lasso = Lasso(random_state=0, max_iter=10000)\n",
    "elasticNet = ElasticNet(random_state = 0)\n",
    "ridge = Ridge()\n",
    "alphas = np.logspace(-4, -0.5, 30)\n",
    "\n",
    "tuned_parameters = [{'alpha': alphas}]\n",
    "n_folds = 5\n",
    "\n",
    "clf = GridSearchCV(elasticNet, tuned_parameters, cv=n_folds, refit=False)\n",
    "best_alpha = 0.0001\n",
    "clf2 = ElasticNet(best_alpha)\n",
    "mod = clf2.fit(X_train, y_train)\n",
    "#scores = clf.cv_results_['mean_test_score']\n",
    "#scores_std = clf.cv_results_['std_test_score']\n",
    "\n",
    "print(mean_squared_error(y_train, mod.predict(X_train)))\n",
    "print(mean_squared_error(y_test, mod.predict(X_test)))"
   ]
  },
  {
   "cell_type": "code",
   "execution_count": 128,
   "metadata": {},
   "outputs": [
    {
     "data": {
      "text/html": [
       "<div>\n",
       "<style scoped>\n",
       "    .dataframe tbody tr th:only-of-type {\n",
       "        vertical-align: middle;\n",
       "    }\n",
       "\n",
       "    .dataframe tbody tr th {\n",
       "        vertical-align: top;\n",
       "    }\n",
       "\n",
       "    .dataframe thead th {\n",
       "        text-align: right;\n",
       "    }\n",
       "</style>\n",
       "<table border=\"1\" class=\"dataframe\">\n",
       "  <thead>\n",
       "    <tr style=\"text-align: right;\">\n",
       "      <th></th>\n",
       "      <th>MSE train</th>\n",
       "      <th>MSE test</th>\n",
       "      <th>Inclusion Error</th>\n",
       "      <th>Exclusion Error</th>\n",
       "      <th>Comments</th>\n",
       "    </tr>\n",
       "  </thead>\n",
       "  <tbody>\n",
       "    <tr>\n",
       "      <th>OLS</th>\n",
       "      <td>0.192085</td>\n",
       "      <td>0.189763</td>\n",
       "      <td>0.0762955</td>\n",
       "      <td>0.0705623</td>\n",
       "      <td>n.a.</td>\n",
       "    </tr>\n",
       "    <tr>\n",
       "      <th>Lasso</th>\n",
       "      <td>0.192097</td>\n",
       "      <td>0.189846</td>\n",
       "      <td>0.075634</td>\n",
       "      <td>0.0705623</td>\n",
       "      <td>$\\alpha$ = 0.0001</td>\n",
       "    </tr>\n",
       "    <tr>\n",
       "      <th>Ridge</th>\n",
       "      <td>0.192094</td>\n",
       "      <td>0.189865</td>\n",
       "      <td>0.075634</td>\n",
       "      <td>0.0705623</td>\n",
       "      <td>$\\alpha = 10$</td>\n",
       "    </tr>\n",
       "    <tr>\n",
       "      <th>Basis Expansion</th>\n",
       "      <td>NaN</td>\n",
       "      <td>NaN</td>\n",
       "      <td>NaN</td>\n",
       "      <td>NaN</td>\n",
       "      <td>NaN</td>\n",
       "    </tr>\n",
       "    <tr>\n",
       "      <th>Elastic Net (Lasso + Ridge)</th>\n",
       "      <td>NaN</td>\n",
       "      <td>NaN</td>\n",
       "      <td>NaN</td>\n",
       "      <td>NaN</td>\n",
       "      <td>NaN</td>\n",
       "    </tr>\n",
       "    <tr>\n",
       "      <th>Random Forest Regressors</th>\n",
       "      <td>NaN</td>\n",
       "      <td>NaN</td>\n",
       "      <td>NaN</td>\n",
       "      <td>NaN</td>\n",
       "      <td>NaN</td>\n",
       "    </tr>\n",
       "    <tr>\n",
       "      <th>kNN</th>\n",
       "      <td>NaN</td>\n",
       "      <td>NaN</td>\n",
       "      <td>NaN</td>\n",
       "      <td>NaN</td>\n",
       "      <td>NaN</td>\n",
       "    </tr>\n",
       "  </tbody>\n",
       "</table>\n",
       "</div>"
      ],
      "text/plain": [
       "                            MSE train  MSE test Inclusion Error  \\\n",
       "OLS                          0.192085  0.189763       0.0762955   \n",
       "Lasso                        0.192097  0.189846        0.075634   \n",
       "Ridge                        0.192094  0.189865        0.075634   \n",
       "Basis Expansion                   NaN       NaN             NaN   \n",
       "Elastic Net (Lasso + Ridge)       NaN       NaN             NaN   \n",
       "Random Forest Regressors          NaN       NaN             NaN   \n",
       "kNN                               NaN       NaN             NaN   \n",
       "\n",
       "                            Exclusion Error           Comments  \n",
       "OLS                               0.0705623               n.a.  \n",
       "Lasso                             0.0705623  $\\alpha$ = 0.0001  \n",
       "Ridge                             0.0705623      $\\alpha = 10$  \n",
       "Basis Expansion                         NaN                NaN  \n",
       "Elastic Net (Lasso + Ridge)             NaN                NaN  \n",
       "Random Forest Regressors                NaN                NaN  \n",
       "kNN                                     NaN                NaN  "
      ]
     },
     "execution_count": 128,
     "metadata": {},
     "output_type": "execute_result"
    }
   ],
   "source": [
    "results.loc[\"Lasso\"] = ([mean_squared_error(y_train,mod.predict(X_train)),\n",
    "                         mean_squared_error(y_test, mod.predict(X_test)),\n",
    "                         inex(mod.predict(X_test),y_test,28, incl = True, err = True),\n",
    "                         inex(mod.predict(X_test),y_test,28, incl = False, err = True),\n",
    "                         r'$\\alpha$ = {}'.format(best_alpha)])\n",
    "results"
   ]
  },
  {
   "cell_type": "markdown",
   "metadata": {},
   "source": [
    "## Lets try some kNN Regression"
   ]
  },
  {
   "cell_type": "code",
   "execution_count": 129,
   "metadata": {},
   "outputs": [],
   "source": [
    "from sklearn.neighbors import KNeighborsRegressor\n",
    "\n",
    "k = 4\n",
    "weights = \"uniform\" # or \"uniform\" or \"distance\"\n",
    "knnmodel = KNeighborsRegressor(n_neighbors = k, weights = weights)\n",
    "fit = knnmodel.fit(X_train,y_train)\n",
    "knn_prediction = knnmodel.predict(X_test)"
   ]
  },
  {
   "cell_type": "code",
   "execution_count": 130,
   "metadata": {},
   "outputs": [
    {
     "name": "stdout",
     "output_type": "stream",
     "text": [
      "0.14500226166785263\n",
      "0.23569485470119544\n"
     ]
    }
   ],
   "source": [
    "# print kNN regression MSEs\n",
    "print(mean_squared_error(y_train, knnmodel.predict(X_train)))\n",
    "print(mean_squared_error(y_test, knnmodel.predict(X_test)))"
   ]
  },
  {
   "cell_type": "code",
   "execution_count": 76,
   "metadata": {},
   "outputs": [
    {
     "data": {
      "text/html": [
       "<div>\n",
       "<style scoped>\n",
       "    .dataframe tbody tr th:only-of-type {\n",
       "        vertical-align: middle;\n",
       "    }\n",
       "\n",
       "    .dataframe tbody tr th {\n",
       "        vertical-align: top;\n",
       "    }\n",
       "\n",
       "    .dataframe thead th {\n",
       "        text-align: right;\n",
       "    }\n",
       "</style>\n",
       "<table border=\"1\" class=\"dataframe\">\n",
       "  <thead>\n",
       "    <tr style=\"text-align: right;\">\n",
       "      <th></th>\n",
       "      <th>MSE train</th>\n",
       "      <th>MSE test</th>\n",
       "      <th>Inclusion Error</th>\n",
       "      <th>Exclusion Error</th>\n",
       "      <th>Alpha Value used</th>\n",
       "    </tr>\n",
       "  </thead>\n",
       "  <tbody>\n",
       "    <tr>\n",
       "      <th>OLS</th>\n",
       "      <td>0.192085</td>\n",
       "      <td>0.189763</td>\n",
       "      <td>0.0855568</td>\n",
       "      <td>0.0868798</td>\n",
       "      <td>n.a.</td>\n",
       "    </tr>\n",
       "    <tr>\n",
       "      <th>Lasso</th>\n",
       "      <td>0.192097</td>\n",
       "      <td>0.189846</td>\n",
       "      <td>0.0859978</td>\n",
       "      <td>0.0877619</td>\n",
       "      <td>0.0001</td>\n",
       "    </tr>\n",
       "    <tr>\n",
       "      <th>Ridge</th>\n",
       "      <td>0.192094</td>\n",
       "      <td>0.189865</td>\n",
       "      <td>0.0859978</td>\n",
       "      <td>0.0873208</td>\n",
       "      <td>10</td>\n",
       "    </tr>\n",
       "    <tr>\n",
       "      <th>Basis Expansion</th>\n",
       "      <td>NaN</td>\n",
       "      <td>NaN</td>\n",
       "      <td>NaN</td>\n",
       "      <td>NaN</td>\n",
       "      <td>NaN</td>\n",
       "    </tr>\n",
       "    <tr>\n",
       "      <th>Lasso + Ridge</th>\n",
       "      <td>NaN</td>\n",
       "      <td>NaN</td>\n",
       "      <td>NaN</td>\n",
       "      <td>NaN</td>\n",
       "      <td>NaN</td>\n",
       "    </tr>\n",
       "    <tr>\n",
       "      <th>Random Forest Regressors</th>\n",
       "      <td>NaN</td>\n",
       "      <td>NaN</td>\n",
       "      <td>NaN</td>\n",
       "      <td>NaN</td>\n",
       "      <td>NaN</td>\n",
       "    </tr>\n",
       "    <tr>\n",
       "      <th>kNN</th>\n",
       "      <td>0.145002</td>\n",
       "      <td>0.235695</td>\n",
       "      <td>0.100331</td>\n",
       "      <td>0.0983462</td>\n",
       "      <td>n.a.</td>\n",
       "    </tr>\n",
       "  </tbody>\n",
       "</table>\n",
       "</div>"
      ],
      "text/plain": [
       "                         MSE train  MSE test Inclusion Error Exclusion Error  \\\n",
       "OLS                       0.192085  0.189763       0.0855568       0.0868798   \n",
       "Lasso                     0.192097  0.189846       0.0859978       0.0877619   \n",
       "Ridge                     0.192094  0.189865       0.0859978       0.0873208   \n",
       "Basis Expansion                NaN       NaN             NaN             NaN   \n",
       "Lasso + Ridge                  NaN       NaN             NaN             NaN   \n",
       "Random Forest Regressors       NaN       NaN             NaN             NaN   \n",
       "kNN                       0.145002  0.235695        0.100331       0.0983462   \n",
       "\n",
       "                         Alpha Value used  \n",
       "OLS                                  n.a.  \n",
       "Lasso                              0.0001  \n",
       "Ridge                                  10  \n",
       "Basis Expansion                       NaN  \n",
       "Lasso + Ridge                         NaN  \n",
       "Random Forest Regressors              NaN  \n",
       "kNN                                  n.a.  "
      ]
     },
     "execution_count": 76,
     "metadata": {},
     "output_type": "execute_result"
    }
   ],
   "source": [
    "results.loc[\"kNN\"] = ([mean_squared_error(y_train, knnmodel.predict(X_train)),mean_squared_error(y_test, knnmodel.predict(X_test)),inex(knnmodel.predict(X_test),y_test,6, incl = True, err = True),inex(knnmodel.predict(X_test),y_test,6, incl = False, err = True),'n.a.'])\n",
    "results"
   ]
  },
  {
   "cell_type": "markdown",
   "metadata": {},
   "source": [
    "## Random Forest Regressor"
   ]
  },
  {
   "cell_type": "code",
   "execution_count": 78,
   "metadata": {},
   "outputs": [],
   "source": [
    "from sklearn.ensemble import RandomForestRegressor\n",
    "from sklearn.datasets import make_regression"
   ]
  },
  {
   "cell_type": "code",
   "execution_count": 79,
   "metadata": {},
   "outputs": [
    {
     "name": "stdout",
     "output_type": "stream",
     "text": [
      "0.07376943193435834\n",
      "0.19265546942143097\n"
     ]
    }
   ],
   "source": [
    "regr = RandomForestRegressor(max_depth = 20, random_state = 0, max_features = 'sqrt', n_estimators = 500)\n",
    "model = regr.fit(X_train, y_train)\n",
    "print(mean_squared_error(y_train, model.predict(X_train)))\n",
    "print(mean_squared_error(y_test, model.predict(X_test)))"
   ]
  },
  {
   "cell_type": "code",
   "execution_count": 81,
   "metadata": {},
   "outputs": [
    {
     "data": {
      "text/html": [
       "<div>\n",
       "<style scoped>\n",
       "    .dataframe tbody tr th:only-of-type {\n",
       "        vertical-align: middle;\n",
       "    }\n",
       "\n",
       "    .dataframe tbody tr th {\n",
       "        vertical-align: top;\n",
       "    }\n",
       "\n",
       "    .dataframe thead th {\n",
       "        text-align: right;\n",
       "    }\n",
       "</style>\n",
       "<table border=\"1\" class=\"dataframe\">\n",
       "  <thead>\n",
       "    <tr style=\"text-align: right;\">\n",
       "      <th></th>\n",
       "      <th>MSE train</th>\n",
       "      <th>MSE test</th>\n",
       "      <th>Inclusion Error</th>\n",
       "      <th>Exclusion Error</th>\n",
       "      <th>Alpha Value used</th>\n",
       "    </tr>\n",
       "  </thead>\n",
       "  <tbody>\n",
       "    <tr>\n",
       "      <th>OLS</th>\n",
       "      <td>0.192085</td>\n",
       "      <td>0.189763</td>\n",
       "      <td>0.0855568</td>\n",
       "      <td>0.0868798</td>\n",
       "      <td>n.a.</td>\n",
       "    </tr>\n",
       "    <tr>\n",
       "      <th>Lasso</th>\n",
       "      <td>0.192097</td>\n",
       "      <td>0.189846</td>\n",
       "      <td>0.0859978</td>\n",
       "      <td>0.0877619</td>\n",
       "      <td>0.0001</td>\n",
       "    </tr>\n",
       "    <tr>\n",
       "      <th>Ridge</th>\n",
       "      <td>0.192094</td>\n",
       "      <td>0.189865</td>\n",
       "      <td>0.0859978</td>\n",
       "      <td>0.0873208</td>\n",
       "      <td>10</td>\n",
       "    </tr>\n",
       "    <tr>\n",
       "      <th>Basis Expansion</th>\n",
       "      <td>NaN</td>\n",
       "      <td>NaN</td>\n",
       "      <td>NaN</td>\n",
       "      <td>NaN</td>\n",
       "      <td>NaN</td>\n",
       "    </tr>\n",
       "    <tr>\n",
       "      <th>Lasso + Ridge</th>\n",
       "      <td>NaN</td>\n",
       "      <td>NaN</td>\n",
       "      <td>NaN</td>\n",
       "      <td>NaN</td>\n",
       "      <td>NaN</td>\n",
       "    </tr>\n",
       "    <tr>\n",
       "      <th>Random Forest Regressors</th>\n",
       "      <td>NaN</td>\n",
       "      <td>NaN</td>\n",
       "      <td>NaN</td>\n",
       "      <td>NaN</td>\n",
       "      <td>NaN</td>\n",
       "    </tr>\n",
       "    <tr>\n",
       "      <th>kNN</th>\n",
       "      <td>0.145002</td>\n",
       "      <td>0.235695</td>\n",
       "      <td>0.100331</td>\n",
       "      <td>0.0983462</td>\n",
       "      <td>n.a.</td>\n",
       "    </tr>\n",
       "    <tr>\n",
       "      <th>Random Forest Regressor</th>\n",
       "      <td>0.0737694</td>\n",
       "      <td>0.192655</td>\n",
       "      <td>0.0890849</td>\n",
       "      <td>0.0873208</td>\n",
       "      <td>n.a.</td>\n",
       "    </tr>\n",
       "  </tbody>\n",
       "</table>\n",
       "</div>"
      ],
      "text/plain": [
       "                          MSE train  MSE test Inclusion Error Exclusion Error  \\\n",
       "OLS                        0.192085  0.189763       0.0855568       0.0868798   \n",
       "Lasso                      0.192097  0.189846       0.0859978       0.0877619   \n",
       "Ridge                      0.192094  0.189865       0.0859978       0.0873208   \n",
       "Basis Expansion                 NaN       NaN             NaN             NaN   \n",
       "Lasso + Ridge                   NaN       NaN             NaN             NaN   \n",
       "Random Forest Regressors        NaN       NaN             NaN             NaN   \n",
       "kNN                        0.145002  0.235695        0.100331       0.0983462   \n",
       "Random Forest Regressor   0.0737694  0.192655       0.0890849       0.0873208   \n",
       "\n",
       "                         Alpha Value used  \n",
       "OLS                                  n.a.  \n",
       "Lasso                              0.0001  \n",
       "Ridge                                  10  \n",
       "Basis Expansion                       NaN  \n",
       "Lasso + Ridge                         NaN  \n",
       "Random Forest Regressors              NaN  \n",
       "kNN                                  n.a.  \n",
       "Random Forest Regressor              n.a.  "
      ]
     },
     "execution_count": 81,
     "metadata": {},
     "output_type": "execute_result"
    }
   ],
   "source": [
    "results.loc[\"Random Forest Regressor\"] = ([mean_squared_error(y_train, model.predict(X_train)),mean_squared_error(y_test, model.predict(X_test)),inex(model.predict(X_test),y_test,6, incl = True, err = True),inex(model.predict(X_test),y_test,6, incl = False, err = True), 'n.a.'])\n",
    "results"
   ]
  },
  {
   "cell_type": "markdown",
   "metadata": {},
   "source": [
    "## Elastic Net"
   ]
  },
  {
   "cell_type": "code",
   "execution_count": 52,
   "metadata": {},
   "outputs": [],
   "source": [
    "from sklearn.linear_model import ElasticNet, ElasticNetCV"
   ]
  },
  {
   "cell_type": "code",
   "execution_count": 53,
   "metadata": {},
   "outputs": [
    {
     "name": "stdout",
     "output_type": "stream",
     "text": [
      "0.19223435859857385\n",
      "0.190117484747322\n"
     ]
    }
   ],
   "source": [
    "netmodel = ElasticNetCV(random_state = 0)\n",
    "netmodel.fit(X_train,y_train)\n",
    "print(mean_squared_error(y_train, netmodel.predict(X_train)))\n",
    "print(mean_squared_error(y_test, netmodel.predict(X_test)))"
   ]
  },
  {
   "cell_type": "code",
   "execution_count": 56,
   "metadata": {},
   "outputs": [
    {
     "data": {
      "text/plain": [
       "0.08798235942668137"
      ]
     },
     "execution_count": 56,
     "metadata": {},
     "output_type": "execute_result"
    }
   ],
   "source": [
    "inex(netmodel.predict(X_test),y_test, 6, incl = False, err = True)"
   ]
  },
  {
   "cell_type": "code",
   "execution_count": 57,
   "metadata": {},
   "outputs": [
    {
     "data": {
      "text/plain": [
       "0.0866593164277839"
      ]
     },
     "execution_count": 57,
     "metadata": {},
     "output_type": "execute_result"
    }
   ],
   "source": [
    "inex(netmodel.predict(X_test),y_test, 6, incl = True, err = True)"
   ]
  },
  {
   "cell_type": "markdown",
   "metadata": {},
   "source": [
    "## Neural Networks: MLP"
   ]
  },
  {
   "cell_type": "code",
   "execution_count": 92,
   "metadata": {},
   "outputs": [
    {
     "name": "stdout",
     "output_type": "stream",
     "text": [
      "0.13631903790790226\n",
      "0.213245978967395\n"
     ]
    }
   ],
   "source": [
    "from sklearn.neural_network import MLPRegressor\n",
    "\n",
    "mlpmodel = MLPRegressor(random_state = 0, activation = 'relu', hidden_layer_sizes = (100,), learning_rate = 'adaptive')\n",
    "mlpmodel.fit(X_train, y_train)\n",
    "print(mean_squared_error(y_train, mlpmodel.predict(X_train)))\n",
    "print(mean_squared_error(y_test, mlpmodel.predict(X_test)))"
   ]
  },
  {
   "cell_type": "markdown",
   "metadata": {},
   "source": [
    "Everything after this line is experimental and thus better not to be considered"
   ]
  },
  {
   "cell_type": "code",
   "execution_count": 45,
   "metadata": {},
   "outputs": [
    {
     "name": "stdout",
     "output_type": "stream",
     "text": [
      "Answer to the bonus question: how much can you trust the selection of alpha?\n",
      "\n",
      "Alpha parameters maximising the generalization score on different\n",
      "subsets of the data:\n"
     ]
    },
    {
     "ename": "ValueError",
     "evalue": "Found input variables with inconsistent numbers of samples: [46305, 22674]",
     "output_type": "error",
     "traceback": [
      "\u001b[0;31m---------------------------------------------------------------------------\u001b[0m",
      "\u001b[0;31mValueError\u001b[0m                                Traceback (most recent call last)",
      "\u001b[0;32m<ipython-input-45-ddaecdfcff5a>\u001b[0m in \u001b[0;36m<module>\u001b[0;34m\u001b[0m\n\u001b[1;32m     15\u001b[0m \u001b[0mprint\u001b[0m\u001b[0;34m(\u001b[0m\u001b[0;34m\"Alpha parameters maximising the generalization score on different\"\u001b[0m\u001b[0;34m)\u001b[0m\u001b[0;34m\u001b[0m\u001b[0;34m\u001b[0m\u001b[0m\n\u001b[1;32m     16\u001b[0m \u001b[0mprint\u001b[0m\u001b[0;34m(\u001b[0m\u001b[0;34m\"subsets of the data:\"\u001b[0m\u001b[0;34m)\u001b[0m\u001b[0;34m\u001b[0m\u001b[0;34m\u001b[0m\u001b[0m\n\u001b[0;32m---> 17\u001b[0;31m \u001b[0;32mfor\u001b[0m \u001b[0mk\u001b[0m\u001b[0;34m,\u001b[0m \u001b[0;34m(\u001b[0m\u001b[0mtrain\u001b[0m\u001b[0;34m,\u001b[0m \u001b[0mtest\u001b[0m\u001b[0;34m)\u001b[0m \u001b[0;32min\u001b[0m \u001b[0menumerate\u001b[0m\u001b[0;34m(\u001b[0m\u001b[0mk_fold\u001b[0m\u001b[0;34m.\u001b[0m\u001b[0msplit\u001b[0m\u001b[0;34m(\u001b[0m\u001b[0mX\u001b[0m\u001b[0;34m,\u001b[0m \u001b[0my\u001b[0m\u001b[0;34m)\u001b[0m\u001b[0;34m)\u001b[0m\u001b[0;34m:\u001b[0m\u001b[0;34m\u001b[0m\u001b[0;34m\u001b[0m\u001b[0m\n\u001b[0m\u001b[1;32m     18\u001b[0m     \u001b[0mlasso_cv\u001b[0m\u001b[0;34m.\u001b[0m\u001b[0mfit\u001b[0m\u001b[0;34m(\u001b[0m\u001b[0mX\u001b[0m\u001b[0;34m[\u001b[0m\u001b[0mtrain\u001b[0m\u001b[0;34m]\u001b[0m\u001b[0;34m,\u001b[0m \u001b[0my\u001b[0m\u001b[0;34m[\u001b[0m\u001b[0mtrain\u001b[0m\u001b[0;34m]\u001b[0m\u001b[0;34m)\u001b[0m\u001b[0;34m\u001b[0m\u001b[0;34m\u001b[0m\u001b[0m\n\u001b[1;32m     19\u001b[0m     print(\"[fold {0}] alpha: {1:.5f}, score: {2:.5f}\".\n",
      "\u001b[0;32m/opt/anaconda3/lib/python3.8/site-packages/sklearn/model_selection/_split.py\u001b[0m in \u001b[0;36msplit\u001b[0;34m(self, X, y, groups)\u001b[0m\n\u001b[1;32m    326\u001b[0m             \u001b[0mThe\u001b[0m \u001b[0mtesting\u001b[0m \u001b[0mset\u001b[0m \u001b[0mindices\u001b[0m \u001b[0;32mfor\u001b[0m \u001b[0mthat\u001b[0m \u001b[0msplit\u001b[0m\u001b[0;34m.\u001b[0m\u001b[0;34m\u001b[0m\u001b[0;34m\u001b[0m\u001b[0m\n\u001b[1;32m    327\u001b[0m         \"\"\"\n\u001b[0;32m--> 328\u001b[0;31m         \u001b[0mX\u001b[0m\u001b[0;34m,\u001b[0m \u001b[0my\u001b[0m\u001b[0;34m,\u001b[0m \u001b[0mgroups\u001b[0m \u001b[0;34m=\u001b[0m \u001b[0mindexable\u001b[0m\u001b[0;34m(\u001b[0m\u001b[0mX\u001b[0m\u001b[0;34m,\u001b[0m \u001b[0my\u001b[0m\u001b[0;34m,\u001b[0m \u001b[0mgroups\u001b[0m\u001b[0;34m)\u001b[0m\u001b[0;34m\u001b[0m\u001b[0;34m\u001b[0m\u001b[0m\n\u001b[0m\u001b[1;32m    329\u001b[0m         \u001b[0mn_samples\u001b[0m \u001b[0;34m=\u001b[0m \u001b[0m_num_samples\u001b[0m\u001b[0;34m(\u001b[0m\u001b[0mX\u001b[0m\u001b[0;34m)\u001b[0m\u001b[0;34m\u001b[0m\u001b[0;34m\u001b[0m\u001b[0m\n\u001b[1;32m    330\u001b[0m         \u001b[0;32mif\u001b[0m \u001b[0mself\u001b[0m\u001b[0;34m.\u001b[0m\u001b[0mn_splits\u001b[0m \u001b[0;34m>\u001b[0m \u001b[0mn_samples\u001b[0m\u001b[0;34m:\u001b[0m\u001b[0;34m\u001b[0m\u001b[0;34m\u001b[0m\u001b[0m\n",
      "\u001b[0;32m/opt/anaconda3/lib/python3.8/site-packages/sklearn/utils/validation.py\u001b[0m in \u001b[0;36mindexable\u001b[0;34m(*iterables)\u001b[0m\n\u001b[1;32m    291\u001b[0m     \"\"\"\n\u001b[1;32m    292\u001b[0m     \u001b[0mresult\u001b[0m \u001b[0;34m=\u001b[0m \u001b[0;34m[\u001b[0m\u001b[0m_make_indexable\u001b[0m\u001b[0;34m(\u001b[0m\u001b[0mX\u001b[0m\u001b[0;34m)\u001b[0m \u001b[0;32mfor\u001b[0m \u001b[0mX\u001b[0m \u001b[0;32min\u001b[0m \u001b[0miterables\u001b[0m\u001b[0;34m]\u001b[0m\u001b[0;34m\u001b[0m\u001b[0;34m\u001b[0m\u001b[0m\n\u001b[0;32m--> 293\u001b[0;31m     \u001b[0mcheck_consistent_length\u001b[0m\u001b[0;34m(\u001b[0m\u001b[0;34m*\u001b[0m\u001b[0mresult\u001b[0m\u001b[0;34m)\u001b[0m\u001b[0;34m\u001b[0m\u001b[0;34m\u001b[0m\u001b[0m\n\u001b[0m\u001b[1;32m    294\u001b[0m     \u001b[0;32mreturn\u001b[0m \u001b[0mresult\u001b[0m\u001b[0;34m\u001b[0m\u001b[0;34m\u001b[0m\u001b[0m\n\u001b[1;32m    295\u001b[0m \u001b[0;34m\u001b[0m\u001b[0m\n",
      "\u001b[0;32m/opt/anaconda3/lib/python3.8/site-packages/sklearn/utils/validation.py\u001b[0m in \u001b[0;36mcheck_consistent_length\u001b[0;34m(*arrays)\u001b[0m\n\u001b[1;32m    254\u001b[0m     \u001b[0muniques\u001b[0m \u001b[0;34m=\u001b[0m \u001b[0mnp\u001b[0m\u001b[0;34m.\u001b[0m\u001b[0munique\u001b[0m\u001b[0;34m(\u001b[0m\u001b[0mlengths\u001b[0m\u001b[0;34m)\u001b[0m\u001b[0;34m\u001b[0m\u001b[0;34m\u001b[0m\u001b[0m\n\u001b[1;32m    255\u001b[0m     \u001b[0;32mif\u001b[0m \u001b[0mlen\u001b[0m\u001b[0;34m(\u001b[0m\u001b[0muniques\u001b[0m\u001b[0;34m)\u001b[0m \u001b[0;34m>\u001b[0m \u001b[0;36m1\u001b[0m\u001b[0;34m:\u001b[0m\u001b[0;34m\u001b[0m\u001b[0;34m\u001b[0m\u001b[0m\n\u001b[0;32m--> 256\u001b[0;31m         raise ValueError(\"Found input variables with inconsistent numbers of\"\n\u001b[0m\u001b[1;32m    257\u001b[0m                          \" samples: %r\" % [int(l) for l in lengths])\n\u001b[1;32m    258\u001b[0m \u001b[0;34m\u001b[0m\u001b[0m\n",
      "\u001b[0;31mValueError\u001b[0m: Found input variables with inconsistent numbers of samples: [46305, 22674]"
     ]
    }
   ],
   "source": [
    "# #############################################################################\n",
    "# Bonus: how much can you trust the selection of alpha?\n",
    "\n",
    "# To answer this question we use the LassoCV object that sets its alpha\n",
    "# parameter automatically from the data by internal cross-validation (i.e. it\n",
    "# performs cross-validation on the training data it receives).\n",
    "# We use external cross-validation to see how much the automatically obtained\n",
    "# alphas differ across different cross-validation folds.\n",
    "lasso_cv = LassoCV(alphas=alphas, random_state=0, max_iter=10000)\n",
    "k_fold = KFold(3)\n",
    "\n",
    "print(\"Answer to the bonus question:\",\n",
    "      \"how much can you trust the selection of alpha?\")\n",
    "print()\n",
    "print(\"Alpha parameters maximising the generalization score on different\")\n",
    "print(\"subsets of the data:\")\n",
    "for k, (train, test) in enumerate(k_fold.split(X, y)):\n",
    "    lasso_cv.fit(X[train], y[train])\n",
    "    print(\"[fold {0}] alpha: {1:.5f}, score: {2:.5f}\".\n",
    "          format(k, lasso_cv.alpha_, lasso_cv.score(X[test], y[test])))\n",
    "print()\n",
    "print(\"Answer: Not very much since we obtained different alphas for different\")\n",
    "print(\"subsets of the data and moreover, the scores for these alphas differ\")\n",
    "print(\"quite substantially.\")\n",
    "\n",
    "plt.show()"
   ]
  },
  {
   "cell_type": "code",
   "execution_count": 46,
   "metadata": {},
   "outputs": [
    {
     "name": "stdout",
     "output_type": "stream",
     "text": [
      "Automatically created module for IPython interactive environment\n",
      "# Tuning hyper-parameters for precision\n",
      "\n"
     ]
    },
    {
     "ename": "ValueError",
     "evalue": "Invalid parameter C for estimator Ridge(). Check the list of available parameters with `estimator.get_params().keys()`.",
     "output_type": "error",
     "traceback": [
      "\u001b[0;31m---------------------------------------------------------------------------\u001b[0m",
      "\u001b[0;31mValueError\u001b[0m                                Traceback (most recent call last)",
      "\u001b[0;32m<ipython-input-46-c34627fd1472>\u001b[0m in \u001b[0;36m<module>\u001b[0;34m\u001b[0m\n\u001b[1;32m     22\u001b[0m        \u001b[0mridge\u001b[0m\u001b[0;34m,\u001b[0m \u001b[0mtuned_parameters\u001b[0m\u001b[0;34m,\u001b[0m \u001b[0mscoring\u001b[0m \u001b[0;34m=\u001b[0m \u001b[0;34m\"neg_mean_squared_error\"\u001b[0m \u001b[0;31m#scoring='%s_macro' % score\u001b[0m\u001b[0;34m\u001b[0m\u001b[0;34m\u001b[0m\u001b[0m\n\u001b[1;32m     23\u001b[0m     )\n\u001b[0;32m---> 24\u001b[0;31m     \u001b[0mclf\u001b[0m\u001b[0;34m.\u001b[0m\u001b[0mfit\u001b[0m\u001b[0;34m(\u001b[0m\u001b[0mX_train\u001b[0m\u001b[0;34m,\u001b[0m \u001b[0my_train\u001b[0m\u001b[0;34m)\u001b[0m\u001b[0;34m\u001b[0m\u001b[0;34m\u001b[0m\u001b[0m\n\u001b[0m\u001b[1;32m     25\u001b[0m \u001b[0;34m\u001b[0m\u001b[0m\n\u001b[1;32m     26\u001b[0m     \u001b[0mprint\u001b[0m\u001b[0;34m(\u001b[0m\u001b[0;34m\"Best parameters set found on development set:\"\u001b[0m\u001b[0;34m)\u001b[0m\u001b[0;34m\u001b[0m\u001b[0;34m\u001b[0m\u001b[0m\n",
      "\u001b[0;32m/opt/anaconda3/lib/python3.8/site-packages/sklearn/utils/validation.py\u001b[0m in \u001b[0;36minner_f\u001b[0;34m(*args, **kwargs)\u001b[0m\n\u001b[1;32m     71\u001b[0m                           FutureWarning)\n\u001b[1;32m     72\u001b[0m         \u001b[0mkwargs\u001b[0m\u001b[0;34m.\u001b[0m\u001b[0mupdate\u001b[0m\u001b[0;34m(\u001b[0m\u001b[0;34m{\u001b[0m\u001b[0mk\u001b[0m\u001b[0;34m:\u001b[0m \u001b[0marg\u001b[0m \u001b[0;32mfor\u001b[0m \u001b[0mk\u001b[0m\u001b[0;34m,\u001b[0m \u001b[0marg\u001b[0m \u001b[0;32min\u001b[0m \u001b[0mzip\u001b[0m\u001b[0;34m(\u001b[0m\u001b[0msig\u001b[0m\u001b[0;34m.\u001b[0m\u001b[0mparameters\u001b[0m\u001b[0;34m,\u001b[0m \u001b[0margs\u001b[0m\u001b[0;34m)\u001b[0m\u001b[0;34m}\u001b[0m\u001b[0;34m)\u001b[0m\u001b[0;34m\u001b[0m\u001b[0;34m\u001b[0m\u001b[0m\n\u001b[0;32m---> 73\u001b[0;31m         \u001b[0;32mreturn\u001b[0m \u001b[0mf\u001b[0m\u001b[0;34m(\u001b[0m\u001b[0;34m**\u001b[0m\u001b[0mkwargs\u001b[0m\u001b[0;34m)\u001b[0m\u001b[0;34m\u001b[0m\u001b[0;34m\u001b[0m\u001b[0m\n\u001b[0m\u001b[1;32m     74\u001b[0m     \u001b[0;32mreturn\u001b[0m \u001b[0minner_f\u001b[0m\u001b[0;34m\u001b[0m\u001b[0;34m\u001b[0m\u001b[0m\n\u001b[1;32m     75\u001b[0m \u001b[0;34m\u001b[0m\u001b[0m\n",
      "\u001b[0;32m/opt/anaconda3/lib/python3.8/site-packages/sklearn/model_selection/_search.py\u001b[0m in \u001b[0;36mfit\u001b[0;34m(self, X, y, groups, **fit_params)\u001b[0m\n\u001b[1;32m    734\u001b[0m                 \u001b[0;32mreturn\u001b[0m \u001b[0mresults\u001b[0m\u001b[0;34m\u001b[0m\u001b[0;34m\u001b[0m\u001b[0m\n\u001b[1;32m    735\u001b[0m \u001b[0;34m\u001b[0m\u001b[0m\n\u001b[0;32m--> 736\u001b[0;31m             \u001b[0mself\u001b[0m\u001b[0;34m.\u001b[0m\u001b[0m_run_search\u001b[0m\u001b[0;34m(\u001b[0m\u001b[0mevaluate_candidates\u001b[0m\u001b[0;34m)\u001b[0m\u001b[0;34m\u001b[0m\u001b[0;34m\u001b[0m\u001b[0m\n\u001b[0m\u001b[1;32m    737\u001b[0m \u001b[0;34m\u001b[0m\u001b[0m\n\u001b[1;32m    738\u001b[0m         \u001b[0;31m# For multi-metric evaluation, store the best_index_, best_params_ and\u001b[0m\u001b[0;34m\u001b[0m\u001b[0;34m\u001b[0m\u001b[0;34m\u001b[0m\u001b[0m\n",
      "\u001b[0;32m/opt/anaconda3/lib/python3.8/site-packages/sklearn/model_selection/_search.py\u001b[0m in \u001b[0;36m_run_search\u001b[0;34m(self, evaluate_candidates)\u001b[0m\n\u001b[1;32m   1186\u001b[0m     \u001b[0;32mdef\u001b[0m \u001b[0m_run_search\u001b[0m\u001b[0;34m(\u001b[0m\u001b[0mself\u001b[0m\u001b[0;34m,\u001b[0m \u001b[0mevaluate_candidates\u001b[0m\u001b[0;34m)\u001b[0m\u001b[0;34m:\u001b[0m\u001b[0;34m\u001b[0m\u001b[0;34m\u001b[0m\u001b[0m\n\u001b[1;32m   1187\u001b[0m         \u001b[0;34m\"\"\"Search all candidates in param_grid\"\"\"\u001b[0m\u001b[0;34m\u001b[0m\u001b[0;34m\u001b[0m\u001b[0m\n\u001b[0;32m-> 1188\u001b[0;31m         \u001b[0mevaluate_candidates\u001b[0m\u001b[0;34m(\u001b[0m\u001b[0mParameterGrid\u001b[0m\u001b[0;34m(\u001b[0m\u001b[0mself\u001b[0m\u001b[0;34m.\u001b[0m\u001b[0mparam_grid\u001b[0m\u001b[0;34m)\u001b[0m\u001b[0;34m)\u001b[0m\u001b[0;34m\u001b[0m\u001b[0;34m\u001b[0m\u001b[0m\n\u001b[0m\u001b[1;32m   1189\u001b[0m \u001b[0;34m\u001b[0m\u001b[0m\n\u001b[1;32m   1190\u001b[0m \u001b[0;34m\u001b[0m\u001b[0m\n",
      "\u001b[0;32m/opt/anaconda3/lib/python3.8/site-packages/sklearn/model_selection/_search.py\u001b[0m in \u001b[0;36mevaluate_candidates\u001b[0;34m(candidate_params)\u001b[0m\n\u001b[1;32m    706\u001b[0m                               n_splits, n_candidates, n_candidates * n_splits))\n\u001b[1;32m    707\u001b[0m \u001b[0;34m\u001b[0m\u001b[0m\n\u001b[0;32m--> 708\u001b[0;31m                 out = parallel(delayed(_fit_and_score)(clone(base_estimator),\n\u001b[0m\u001b[1;32m    709\u001b[0m                                                        \u001b[0mX\u001b[0m\u001b[0;34m,\u001b[0m \u001b[0my\u001b[0m\u001b[0;34m,\u001b[0m\u001b[0;34m\u001b[0m\u001b[0;34m\u001b[0m\u001b[0m\n\u001b[1;32m    710\u001b[0m                                                        \u001b[0mtrain\u001b[0m\u001b[0;34m=\u001b[0m\u001b[0mtrain\u001b[0m\u001b[0;34m,\u001b[0m \u001b[0mtest\u001b[0m\u001b[0;34m=\u001b[0m\u001b[0mtest\u001b[0m\u001b[0;34m,\u001b[0m\u001b[0;34m\u001b[0m\u001b[0;34m\u001b[0m\u001b[0m\n",
      "\u001b[0;32m/opt/anaconda3/lib/python3.8/site-packages/joblib/parallel.py\u001b[0m in \u001b[0;36m__call__\u001b[0;34m(self, iterable)\u001b[0m\n\u001b[1;32m   1027\u001b[0m             \u001b[0;31m# remaining jobs.\u001b[0m\u001b[0;34m\u001b[0m\u001b[0;34m\u001b[0m\u001b[0;34m\u001b[0m\u001b[0m\n\u001b[1;32m   1028\u001b[0m             \u001b[0mself\u001b[0m\u001b[0;34m.\u001b[0m\u001b[0m_iterating\u001b[0m \u001b[0;34m=\u001b[0m \u001b[0;32mFalse\u001b[0m\u001b[0;34m\u001b[0m\u001b[0;34m\u001b[0m\u001b[0m\n\u001b[0;32m-> 1029\u001b[0;31m             \u001b[0;32mif\u001b[0m \u001b[0mself\u001b[0m\u001b[0;34m.\u001b[0m\u001b[0mdispatch_one_batch\u001b[0m\u001b[0;34m(\u001b[0m\u001b[0miterator\u001b[0m\u001b[0;34m)\u001b[0m\u001b[0;34m:\u001b[0m\u001b[0;34m\u001b[0m\u001b[0;34m\u001b[0m\u001b[0m\n\u001b[0m\u001b[1;32m   1030\u001b[0m                 \u001b[0mself\u001b[0m\u001b[0;34m.\u001b[0m\u001b[0m_iterating\u001b[0m \u001b[0;34m=\u001b[0m \u001b[0mself\u001b[0m\u001b[0;34m.\u001b[0m\u001b[0m_original_iterator\u001b[0m \u001b[0;32mis\u001b[0m \u001b[0;32mnot\u001b[0m \u001b[0;32mNone\u001b[0m\u001b[0;34m\u001b[0m\u001b[0;34m\u001b[0m\u001b[0m\n\u001b[1;32m   1031\u001b[0m \u001b[0;34m\u001b[0m\u001b[0m\n",
      "\u001b[0;32m/opt/anaconda3/lib/python3.8/site-packages/joblib/parallel.py\u001b[0m in \u001b[0;36mdispatch_one_batch\u001b[0;34m(self, iterator)\u001b[0m\n\u001b[1;32m    845\u001b[0m                 \u001b[0;32mreturn\u001b[0m \u001b[0;32mFalse\u001b[0m\u001b[0;34m\u001b[0m\u001b[0;34m\u001b[0m\u001b[0m\n\u001b[1;32m    846\u001b[0m             \u001b[0;32melse\u001b[0m\u001b[0;34m:\u001b[0m\u001b[0;34m\u001b[0m\u001b[0;34m\u001b[0m\u001b[0m\n\u001b[0;32m--> 847\u001b[0;31m                 \u001b[0mself\u001b[0m\u001b[0;34m.\u001b[0m\u001b[0m_dispatch\u001b[0m\u001b[0;34m(\u001b[0m\u001b[0mtasks\u001b[0m\u001b[0;34m)\u001b[0m\u001b[0;34m\u001b[0m\u001b[0;34m\u001b[0m\u001b[0m\n\u001b[0m\u001b[1;32m    848\u001b[0m                 \u001b[0;32mreturn\u001b[0m \u001b[0;32mTrue\u001b[0m\u001b[0;34m\u001b[0m\u001b[0;34m\u001b[0m\u001b[0m\n\u001b[1;32m    849\u001b[0m \u001b[0;34m\u001b[0m\u001b[0m\n",
      "\u001b[0;32m/opt/anaconda3/lib/python3.8/site-packages/joblib/parallel.py\u001b[0m in \u001b[0;36m_dispatch\u001b[0;34m(self, batch)\u001b[0m\n\u001b[1;32m    763\u001b[0m         \u001b[0;32mwith\u001b[0m \u001b[0mself\u001b[0m\u001b[0;34m.\u001b[0m\u001b[0m_lock\u001b[0m\u001b[0;34m:\u001b[0m\u001b[0;34m\u001b[0m\u001b[0;34m\u001b[0m\u001b[0m\n\u001b[1;32m    764\u001b[0m             \u001b[0mjob_idx\u001b[0m \u001b[0;34m=\u001b[0m \u001b[0mlen\u001b[0m\u001b[0;34m(\u001b[0m\u001b[0mself\u001b[0m\u001b[0;34m.\u001b[0m\u001b[0m_jobs\u001b[0m\u001b[0;34m)\u001b[0m\u001b[0;34m\u001b[0m\u001b[0;34m\u001b[0m\u001b[0m\n\u001b[0;32m--> 765\u001b[0;31m             \u001b[0mjob\u001b[0m \u001b[0;34m=\u001b[0m \u001b[0mself\u001b[0m\u001b[0;34m.\u001b[0m\u001b[0m_backend\u001b[0m\u001b[0;34m.\u001b[0m\u001b[0mapply_async\u001b[0m\u001b[0;34m(\u001b[0m\u001b[0mbatch\u001b[0m\u001b[0;34m,\u001b[0m \u001b[0mcallback\u001b[0m\u001b[0;34m=\u001b[0m\u001b[0mcb\u001b[0m\u001b[0;34m)\u001b[0m\u001b[0;34m\u001b[0m\u001b[0;34m\u001b[0m\u001b[0m\n\u001b[0m\u001b[1;32m    766\u001b[0m             \u001b[0;31m# A job can complete so quickly than its callback is\u001b[0m\u001b[0;34m\u001b[0m\u001b[0;34m\u001b[0m\u001b[0;34m\u001b[0m\u001b[0m\n\u001b[1;32m    767\u001b[0m             \u001b[0;31m# called before we get here, causing self._jobs to\u001b[0m\u001b[0;34m\u001b[0m\u001b[0;34m\u001b[0m\u001b[0;34m\u001b[0m\u001b[0m\n",
      "\u001b[0;32m/opt/anaconda3/lib/python3.8/site-packages/joblib/_parallel_backends.py\u001b[0m in \u001b[0;36mapply_async\u001b[0;34m(self, func, callback)\u001b[0m\n\u001b[1;32m    206\u001b[0m     \u001b[0;32mdef\u001b[0m \u001b[0mapply_async\u001b[0m\u001b[0;34m(\u001b[0m\u001b[0mself\u001b[0m\u001b[0;34m,\u001b[0m \u001b[0mfunc\u001b[0m\u001b[0;34m,\u001b[0m \u001b[0mcallback\u001b[0m\u001b[0;34m=\u001b[0m\u001b[0;32mNone\u001b[0m\u001b[0;34m)\u001b[0m\u001b[0;34m:\u001b[0m\u001b[0;34m\u001b[0m\u001b[0;34m\u001b[0m\u001b[0m\n\u001b[1;32m    207\u001b[0m         \u001b[0;34m\"\"\"Schedule a func to be run\"\"\"\u001b[0m\u001b[0;34m\u001b[0m\u001b[0;34m\u001b[0m\u001b[0m\n\u001b[0;32m--> 208\u001b[0;31m         \u001b[0mresult\u001b[0m \u001b[0;34m=\u001b[0m \u001b[0mImmediateResult\u001b[0m\u001b[0;34m(\u001b[0m\u001b[0mfunc\u001b[0m\u001b[0;34m)\u001b[0m\u001b[0;34m\u001b[0m\u001b[0;34m\u001b[0m\u001b[0m\n\u001b[0m\u001b[1;32m    209\u001b[0m         \u001b[0;32mif\u001b[0m \u001b[0mcallback\u001b[0m\u001b[0;34m:\u001b[0m\u001b[0;34m\u001b[0m\u001b[0;34m\u001b[0m\u001b[0m\n\u001b[1;32m    210\u001b[0m             \u001b[0mcallback\u001b[0m\u001b[0;34m(\u001b[0m\u001b[0mresult\u001b[0m\u001b[0;34m)\u001b[0m\u001b[0;34m\u001b[0m\u001b[0;34m\u001b[0m\u001b[0m\n",
      "\u001b[0;32m/opt/anaconda3/lib/python3.8/site-packages/joblib/_parallel_backends.py\u001b[0m in \u001b[0;36m__init__\u001b[0;34m(self, batch)\u001b[0m\n\u001b[1;32m    570\u001b[0m         \u001b[0;31m# Don't delay the application, to avoid keeping the input\u001b[0m\u001b[0;34m\u001b[0m\u001b[0;34m\u001b[0m\u001b[0;34m\u001b[0m\u001b[0m\n\u001b[1;32m    571\u001b[0m         \u001b[0;31m# arguments in memory\u001b[0m\u001b[0;34m\u001b[0m\u001b[0;34m\u001b[0m\u001b[0;34m\u001b[0m\u001b[0m\n\u001b[0;32m--> 572\u001b[0;31m         \u001b[0mself\u001b[0m\u001b[0;34m.\u001b[0m\u001b[0mresults\u001b[0m \u001b[0;34m=\u001b[0m \u001b[0mbatch\u001b[0m\u001b[0;34m(\u001b[0m\u001b[0;34m)\u001b[0m\u001b[0;34m\u001b[0m\u001b[0;34m\u001b[0m\u001b[0m\n\u001b[0m\u001b[1;32m    573\u001b[0m \u001b[0;34m\u001b[0m\u001b[0m\n\u001b[1;32m    574\u001b[0m     \u001b[0;32mdef\u001b[0m \u001b[0mget\u001b[0m\u001b[0;34m(\u001b[0m\u001b[0mself\u001b[0m\u001b[0;34m)\u001b[0m\u001b[0;34m:\u001b[0m\u001b[0;34m\u001b[0m\u001b[0;34m\u001b[0m\u001b[0m\n",
      "\u001b[0;32m/opt/anaconda3/lib/python3.8/site-packages/joblib/parallel.py\u001b[0m in \u001b[0;36m__call__\u001b[0;34m(self)\u001b[0m\n\u001b[1;32m    250\u001b[0m         \u001b[0;31m# change the default number of processes to -1\u001b[0m\u001b[0;34m\u001b[0m\u001b[0;34m\u001b[0m\u001b[0;34m\u001b[0m\u001b[0m\n\u001b[1;32m    251\u001b[0m         \u001b[0;32mwith\u001b[0m \u001b[0mparallel_backend\u001b[0m\u001b[0;34m(\u001b[0m\u001b[0mself\u001b[0m\u001b[0;34m.\u001b[0m\u001b[0m_backend\u001b[0m\u001b[0;34m,\u001b[0m \u001b[0mn_jobs\u001b[0m\u001b[0;34m=\u001b[0m\u001b[0mself\u001b[0m\u001b[0;34m.\u001b[0m\u001b[0m_n_jobs\u001b[0m\u001b[0;34m)\u001b[0m\u001b[0;34m:\u001b[0m\u001b[0;34m\u001b[0m\u001b[0;34m\u001b[0m\u001b[0m\n\u001b[0;32m--> 252\u001b[0;31m             return [func(*args, **kwargs)\n\u001b[0m\u001b[1;32m    253\u001b[0m                     for func, args, kwargs in self.items]\n\u001b[1;32m    254\u001b[0m \u001b[0;34m\u001b[0m\u001b[0m\n",
      "\u001b[0;32m/opt/anaconda3/lib/python3.8/site-packages/joblib/parallel.py\u001b[0m in \u001b[0;36m<listcomp>\u001b[0;34m(.0)\u001b[0m\n\u001b[1;32m    250\u001b[0m         \u001b[0;31m# change the default number of processes to -1\u001b[0m\u001b[0;34m\u001b[0m\u001b[0;34m\u001b[0m\u001b[0;34m\u001b[0m\u001b[0m\n\u001b[1;32m    251\u001b[0m         \u001b[0;32mwith\u001b[0m \u001b[0mparallel_backend\u001b[0m\u001b[0;34m(\u001b[0m\u001b[0mself\u001b[0m\u001b[0;34m.\u001b[0m\u001b[0m_backend\u001b[0m\u001b[0;34m,\u001b[0m \u001b[0mn_jobs\u001b[0m\u001b[0;34m=\u001b[0m\u001b[0mself\u001b[0m\u001b[0;34m.\u001b[0m\u001b[0m_n_jobs\u001b[0m\u001b[0;34m)\u001b[0m\u001b[0;34m:\u001b[0m\u001b[0;34m\u001b[0m\u001b[0;34m\u001b[0m\u001b[0m\n\u001b[0;32m--> 252\u001b[0;31m             return [func(*args, **kwargs)\n\u001b[0m\u001b[1;32m    253\u001b[0m                     for func, args, kwargs in self.items]\n\u001b[1;32m    254\u001b[0m \u001b[0;34m\u001b[0m\u001b[0m\n",
      "\u001b[0;32m/opt/anaconda3/lib/python3.8/site-packages/sklearn/model_selection/_validation.py\u001b[0m in \u001b[0;36m_fit_and_score\u001b[0;34m(estimator, X, y, scorer, train, test, verbose, parameters, fit_params, return_train_score, return_parameters, return_n_test_samples, return_times, return_estimator, error_score)\u001b[0m\n\u001b[1;32m    518\u001b[0m             \u001b[0mcloned_parameters\u001b[0m\u001b[0;34m[\u001b[0m\u001b[0mk\u001b[0m\u001b[0;34m]\u001b[0m \u001b[0;34m=\u001b[0m \u001b[0mclone\u001b[0m\u001b[0;34m(\u001b[0m\u001b[0mv\u001b[0m\u001b[0;34m,\u001b[0m \u001b[0msafe\u001b[0m\u001b[0;34m=\u001b[0m\u001b[0;32mFalse\u001b[0m\u001b[0;34m)\u001b[0m\u001b[0;34m\u001b[0m\u001b[0;34m\u001b[0m\u001b[0m\n\u001b[1;32m    519\u001b[0m \u001b[0;34m\u001b[0m\u001b[0m\n\u001b[0;32m--> 520\u001b[0;31m         \u001b[0mestimator\u001b[0m \u001b[0;34m=\u001b[0m \u001b[0mestimator\u001b[0m\u001b[0;34m.\u001b[0m\u001b[0mset_params\u001b[0m\u001b[0;34m(\u001b[0m\u001b[0;34m**\u001b[0m\u001b[0mcloned_parameters\u001b[0m\u001b[0;34m)\u001b[0m\u001b[0;34m\u001b[0m\u001b[0;34m\u001b[0m\u001b[0m\n\u001b[0m\u001b[1;32m    521\u001b[0m \u001b[0;34m\u001b[0m\u001b[0m\n\u001b[1;32m    522\u001b[0m     \u001b[0mstart_time\u001b[0m \u001b[0;34m=\u001b[0m \u001b[0mtime\u001b[0m\u001b[0;34m.\u001b[0m\u001b[0mtime\u001b[0m\u001b[0;34m(\u001b[0m\u001b[0;34m)\u001b[0m\u001b[0;34m\u001b[0m\u001b[0;34m\u001b[0m\u001b[0m\n",
      "\u001b[0;32m/opt/anaconda3/lib/python3.8/site-packages/sklearn/base.py\u001b[0m in \u001b[0;36mset_params\u001b[0;34m(self, **params)\u001b[0m\n\u001b[1;32m    247\u001b[0m             \u001b[0mkey\u001b[0m\u001b[0;34m,\u001b[0m \u001b[0mdelim\u001b[0m\u001b[0;34m,\u001b[0m \u001b[0msub_key\u001b[0m \u001b[0;34m=\u001b[0m \u001b[0mkey\u001b[0m\u001b[0;34m.\u001b[0m\u001b[0mpartition\u001b[0m\u001b[0;34m(\u001b[0m\u001b[0;34m'__'\u001b[0m\u001b[0;34m)\u001b[0m\u001b[0;34m\u001b[0m\u001b[0;34m\u001b[0m\u001b[0m\n\u001b[1;32m    248\u001b[0m             \u001b[0;32mif\u001b[0m \u001b[0mkey\u001b[0m \u001b[0;32mnot\u001b[0m \u001b[0;32min\u001b[0m \u001b[0mvalid_params\u001b[0m\u001b[0;34m:\u001b[0m\u001b[0;34m\u001b[0m\u001b[0;34m\u001b[0m\u001b[0m\n\u001b[0;32m--> 249\u001b[0;31m                 raise ValueError('Invalid parameter %s for estimator %s. '\n\u001b[0m\u001b[1;32m    250\u001b[0m                                  \u001b[0;34m'Check the list of available parameters '\u001b[0m\u001b[0;34m\u001b[0m\u001b[0;34m\u001b[0m\u001b[0m\n\u001b[1;32m    251\u001b[0m                                  \u001b[0;34m'with `estimator.get_params().keys()`.'\u001b[0m \u001b[0;34m%\u001b[0m\u001b[0;34m\u001b[0m\u001b[0;34m\u001b[0m\u001b[0m\n",
      "\u001b[0;31mValueError\u001b[0m: Invalid parameter C for estimator Ridge(). Check the list of available parameters with `estimator.get_params().keys()`."
     ]
    }
   ],
   "source": [
    "from sklearn.model_selection import GridSearchCV\n",
    "from sklearn.metrics import classification_report\n",
    "from sklearn.svm import SVC\n",
    "\n",
    "print(__doc__)\n",
    "\n",
    "# Set the parameters by cross-validation\n",
    "tuned_parameters = [{'kernel': ['rbf'], 'gamma': [1e-3, 1e-4],\n",
    "                     'C': [1, 10, 100, 1000]},\n",
    "                    {'kernel': ['linear'], 'C': [1, 10, 100, 1000]}]\n",
    "\n",
    "scores = ['precision', 'recall']\n",
    "\n",
    "ridge = Ridge()\n",
    "\n",
    "for score in scores:\n",
    "    print(\"# Tuning hyper-parameters for %s\" % score)\n",
    "    print()\n",
    "\n",
    "    clf = GridSearchCV(\n",
    "        #SVC(), \n",
    "       ridge, tuned_parameters, scoring = \"neg_mean_squared_error\" #scoring='%s_macro' % score\n",
    "    )\n",
    "    clf.fit(X_train, y_train)\n",
    "\n",
    "    print(\"Best parameters set found on development set:\")\n",
    "    print()\n",
    "    print(clf.best_params_)\n",
    "    print()\n",
    "    print(\"Grid scores on development set:\")\n",
    "    print()\n",
    "    means = clf.cv_results_['mean_test_score']\n",
    "    stds = clf.cv_results_['std_test_score']\n",
    "    for mean, std, params in zip(means, stds, clf.cv_results_['params']):\n",
    "        print(\"%0.3f (+/-%0.03f) for %r\"\n",
    "              % (mean, std * 2, params))\n",
    "    print()\n",
    "\n",
    "    print(\"Detailed classification report:\")\n",
    "    print()\n",
    "    print(\"The model is trained on the full development set.\")\n",
    "    print(\"The scores are computed on the full development set.\")\n",
    "    print()\n",
    "    y_true, y_pred = y_test, clf.predict(X_train)\n",
    "    print(classification_report(y_true, y_pred))\n",
    "    print()\n",
    "\n"
   ]
  },
  {
   "cell_type": "code",
   "execution_count": 179,
   "metadata": {},
   "outputs": [],
   "source": [
    "X_train.reset_index(inplace = True)\n",
    "X_train = X_train[exogenous_data]\n",
    "#y_train.reset_index(inplace=True)\n",
    "#y_train"
   ]
  },
  {
   "cell_type": "code",
   "execution_count": 181,
   "metadata": {},
   "outputs": [
    {
     "ename": "KeyError",
     "evalue": "'lnpercapitaconsumption'",
     "output_type": "error",
     "traceback": [
      "\u001b[0;31m---------------------------------------------------------------------------\u001b[0m",
      "\u001b[0;31mKeyError\u001b[0m                                  Traceback (most recent call last)",
      "\u001b[0;32m<ipython-input-181-812160b98c64>\u001b[0m in \u001b[0;36m<module>\u001b[0;34m\u001b[0m\n\u001b[1;32m      1\u001b[0m \u001b[0my_train\u001b[0m\u001b[0;34m.\u001b[0m\u001b[0mreset_index\u001b[0m\u001b[0;34m(\u001b[0m\u001b[0;34m)\u001b[0m\u001b[0;34m\u001b[0m\u001b[0;34m\u001b[0m\u001b[0m\n\u001b[0;32m----> 2\u001b[0;31m \u001b[0my_train\u001b[0m \u001b[0;34m=\u001b[0m \u001b[0my_train\u001b[0m\u001b[0;34m[\u001b[0m\u001b[0;34m\"lnpercapitaconsumption\"\u001b[0m\u001b[0;34m]\u001b[0m\u001b[0;34m\u001b[0m\u001b[0;34m\u001b[0m\u001b[0m\n\u001b[0m",
      "\u001b[0;32m/opt/anaconda3/lib/python3.8/site-packages/pandas/core/series.py\u001b[0m in \u001b[0;36m__getitem__\u001b[0;34m(self, key)\u001b[0m\n\u001b[1;32m    869\u001b[0m         \u001b[0mkey\u001b[0m \u001b[0;34m=\u001b[0m \u001b[0mcom\u001b[0m\u001b[0;34m.\u001b[0m\u001b[0mapply_if_callable\u001b[0m\u001b[0;34m(\u001b[0m\u001b[0mkey\u001b[0m\u001b[0;34m,\u001b[0m \u001b[0mself\u001b[0m\u001b[0;34m)\u001b[0m\u001b[0;34m\u001b[0m\u001b[0;34m\u001b[0m\u001b[0m\n\u001b[1;32m    870\u001b[0m         \u001b[0;32mtry\u001b[0m\u001b[0;34m:\u001b[0m\u001b[0;34m\u001b[0m\u001b[0;34m\u001b[0m\u001b[0m\n\u001b[0;32m--> 871\u001b[0;31m             \u001b[0mresult\u001b[0m \u001b[0;34m=\u001b[0m \u001b[0mself\u001b[0m\u001b[0;34m.\u001b[0m\u001b[0mindex\u001b[0m\u001b[0;34m.\u001b[0m\u001b[0mget_value\u001b[0m\u001b[0;34m(\u001b[0m\u001b[0mself\u001b[0m\u001b[0;34m,\u001b[0m \u001b[0mkey\u001b[0m\u001b[0;34m)\u001b[0m\u001b[0;34m\u001b[0m\u001b[0;34m\u001b[0m\u001b[0m\n\u001b[0m\u001b[1;32m    872\u001b[0m \u001b[0;34m\u001b[0m\u001b[0m\n\u001b[1;32m    873\u001b[0m             \u001b[0;32mif\u001b[0m \u001b[0;32mnot\u001b[0m \u001b[0mis_scalar\u001b[0m\u001b[0;34m(\u001b[0m\u001b[0mresult\u001b[0m\u001b[0;34m)\u001b[0m\u001b[0;34m:\u001b[0m\u001b[0;34m\u001b[0m\u001b[0;34m\u001b[0m\u001b[0m\n",
      "\u001b[0;32m/opt/anaconda3/lib/python3.8/site-packages/pandas/core/indexes/base.py\u001b[0m in \u001b[0;36mget_value\u001b[0;34m(self, series, key)\u001b[0m\n\u001b[1;32m   4403\u001b[0m         \u001b[0mk\u001b[0m \u001b[0;34m=\u001b[0m \u001b[0mself\u001b[0m\u001b[0;34m.\u001b[0m\u001b[0m_convert_scalar_indexer\u001b[0m\u001b[0;34m(\u001b[0m\u001b[0mk\u001b[0m\u001b[0;34m,\u001b[0m \u001b[0mkind\u001b[0m\u001b[0;34m=\u001b[0m\u001b[0;34m\"getitem\"\u001b[0m\u001b[0;34m)\u001b[0m\u001b[0;34m\u001b[0m\u001b[0;34m\u001b[0m\u001b[0m\n\u001b[1;32m   4404\u001b[0m         \u001b[0;32mtry\u001b[0m\u001b[0;34m:\u001b[0m\u001b[0;34m\u001b[0m\u001b[0;34m\u001b[0m\u001b[0m\n\u001b[0;32m-> 4405\u001b[0;31m             \u001b[0;32mreturn\u001b[0m \u001b[0mself\u001b[0m\u001b[0;34m.\u001b[0m\u001b[0m_engine\u001b[0m\u001b[0;34m.\u001b[0m\u001b[0mget_value\u001b[0m\u001b[0;34m(\u001b[0m\u001b[0ms\u001b[0m\u001b[0;34m,\u001b[0m \u001b[0mk\u001b[0m\u001b[0;34m,\u001b[0m \u001b[0mtz\u001b[0m\u001b[0;34m=\u001b[0m\u001b[0mgetattr\u001b[0m\u001b[0;34m(\u001b[0m\u001b[0mseries\u001b[0m\u001b[0;34m.\u001b[0m\u001b[0mdtype\u001b[0m\u001b[0;34m,\u001b[0m \u001b[0;34m\"tz\"\u001b[0m\u001b[0;34m,\u001b[0m \u001b[0;32mNone\u001b[0m\u001b[0;34m)\u001b[0m\u001b[0;34m)\u001b[0m\u001b[0;34m\u001b[0m\u001b[0;34m\u001b[0m\u001b[0m\n\u001b[0m\u001b[1;32m   4406\u001b[0m         \u001b[0;32mexcept\u001b[0m \u001b[0mKeyError\u001b[0m \u001b[0;32mas\u001b[0m \u001b[0me1\u001b[0m\u001b[0;34m:\u001b[0m\u001b[0;34m\u001b[0m\u001b[0;34m\u001b[0m\u001b[0m\n\u001b[1;32m   4407\u001b[0m             \u001b[0;32mif\u001b[0m \u001b[0mlen\u001b[0m\u001b[0;34m(\u001b[0m\u001b[0mself\u001b[0m\u001b[0;34m)\u001b[0m \u001b[0;34m>\u001b[0m \u001b[0;36m0\u001b[0m \u001b[0;32mand\u001b[0m \u001b[0;34m(\u001b[0m\u001b[0mself\u001b[0m\u001b[0;34m.\u001b[0m\u001b[0mholds_integer\u001b[0m\u001b[0;34m(\u001b[0m\u001b[0;34m)\u001b[0m \u001b[0;32mor\u001b[0m \u001b[0mself\u001b[0m\u001b[0;34m.\u001b[0m\u001b[0mis_boolean\u001b[0m\u001b[0;34m(\u001b[0m\u001b[0;34m)\u001b[0m\u001b[0;34m)\u001b[0m\u001b[0;34m:\u001b[0m\u001b[0;34m\u001b[0m\u001b[0;34m\u001b[0m\u001b[0m\n",
      "\u001b[0;32mpandas/_libs/index.pyx\u001b[0m in \u001b[0;36mpandas._libs.index.IndexEngine.get_value\u001b[0;34m()\u001b[0m\n",
      "\u001b[0;32mpandas/_libs/index.pyx\u001b[0m in \u001b[0;36mpandas._libs.index.IndexEngine.get_value\u001b[0;34m()\u001b[0m\n",
      "\u001b[0;32mpandas/_libs/index.pyx\u001b[0m in \u001b[0;36mpandas._libs.index.IndexEngine.get_loc\u001b[0;34m()\u001b[0m\n",
      "\u001b[0;32mpandas/_libs/index_class_helper.pxi\u001b[0m in \u001b[0;36mpandas._libs.index.Int64Engine._check_type\u001b[0;34m()\u001b[0m\n",
      "\u001b[0;31mKeyError\u001b[0m: 'lnpercapitaconsumption'"
     ]
    }
   ],
   "source": [
    "\n",
    "y_train.reset_index()\n",
    "y_train = y_train[\"lnpercapitaconsumption\"]"
   ]
  },
  {
   "cell_type": "code",
   "execution_count": 148,
   "metadata": {},
   "outputs": [
    {
     "name": "stdout",
     "output_type": "stream",
     "text": [
      "Answer to the bonus question: how much can you trust the selection of alpha?\n",
      "\n",
      "Alpha parameters maximising the generalization score on different\n",
      "subsets of the data:\n"
     ]
    },
    {
     "ename": "KeyError",
     "evalue": "\"None of [Int64Index([ 6047,  6048,  6049,  6050,  6051,  6052,  6053,  6054,  6055,\\n             6056,\\n            ...\\n            18129, 18130, 18131, 18132, 18133, 18134, 18135, 18136, 18137,\\n            18138],\\n           dtype='int64', length=12092)] are in the [columns]\"",
     "output_type": "error",
     "traceback": [
      "\u001b[0;31m---------------------------------------------------------------------------\u001b[0m",
      "\u001b[0;31mKeyError\u001b[0m                                  Traceback (most recent call last)",
      "\u001b[0;32m<ipython-input-148-c0e7409b906b>\u001b[0m in \u001b[0;36m<module>\u001b[0;34m\u001b[0m\n\u001b[1;32m     53\u001b[0m \u001b[0mprint\u001b[0m\u001b[0;34m(\u001b[0m\u001b[0;34m\"subsets of the data:\"\u001b[0m\u001b[0;34m)\u001b[0m\u001b[0;34m\u001b[0m\u001b[0;34m\u001b[0m\u001b[0m\n\u001b[1;32m     54\u001b[0m \u001b[0;32mfor\u001b[0m \u001b[0mk\u001b[0m\u001b[0;34m,\u001b[0m \u001b[0;34m(\u001b[0m\u001b[0mtrain\u001b[0m\u001b[0;34m,\u001b[0m \u001b[0mtest\u001b[0m\u001b[0;34m)\u001b[0m \u001b[0;32min\u001b[0m \u001b[0menumerate\u001b[0m\u001b[0;34m(\u001b[0m\u001b[0mk_fold\u001b[0m\u001b[0;34m.\u001b[0m\u001b[0msplit\u001b[0m\u001b[0;34m(\u001b[0m\u001b[0mX_train\u001b[0m\u001b[0;34m,\u001b[0m \u001b[0my_train\u001b[0m\u001b[0;34m)\u001b[0m\u001b[0;34m)\u001b[0m\u001b[0;34m:\u001b[0m\u001b[0;34m\u001b[0m\u001b[0;34m\u001b[0m\u001b[0m\n\u001b[0;32m---> 55\u001b[0;31m     \u001b[0mlasso_cv\u001b[0m\u001b[0;34m.\u001b[0m\u001b[0mfit\u001b[0m\u001b[0;34m(\u001b[0m\u001b[0mX_train\u001b[0m\u001b[0;34m[\u001b[0m\u001b[0mtrain\u001b[0m\u001b[0;34m]\u001b[0m\u001b[0;34m,\u001b[0m \u001b[0my_train\u001b[0m\u001b[0;34m[\u001b[0m\u001b[0mtrain\u001b[0m\u001b[0;34m]\u001b[0m\u001b[0;34m)\u001b[0m\u001b[0;34m\u001b[0m\u001b[0;34m\u001b[0m\u001b[0m\n\u001b[0m\u001b[1;32m     56\u001b[0m     print(\"[fold {0}] alpha: {1:.5f}, score: {2:.5f}\".\n\u001b[1;32m     57\u001b[0m           format(k, lasso_cv.alpha_, lasso_cv.score(X_train[test], y_train[test])))\n",
      "\u001b[0;32m/opt/anaconda3/lib/python3.8/site-packages/pandas/core/frame.py\u001b[0m in \u001b[0;36m__getitem__\u001b[0;34m(self, key)\u001b[0m\n\u001b[1;32m   2804\u001b[0m             \u001b[0;32mif\u001b[0m \u001b[0mis_iterator\u001b[0m\u001b[0;34m(\u001b[0m\u001b[0mkey\u001b[0m\u001b[0;34m)\u001b[0m\u001b[0;34m:\u001b[0m\u001b[0;34m\u001b[0m\u001b[0;34m\u001b[0m\u001b[0m\n\u001b[1;32m   2805\u001b[0m                 \u001b[0mkey\u001b[0m \u001b[0;34m=\u001b[0m \u001b[0mlist\u001b[0m\u001b[0;34m(\u001b[0m\u001b[0mkey\u001b[0m\u001b[0;34m)\u001b[0m\u001b[0;34m\u001b[0m\u001b[0;34m\u001b[0m\u001b[0m\n\u001b[0;32m-> 2806\u001b[0;31m             \u001b[0mindexer\u001b[0m \u001b[0;34m=\u001b[0m \u001b[0mself\u001b[0m\u001b[0;34m.\u001b[0m\u001b[0mloc\u001b[0m\u001b[0;34m.\u001b[0m\u001b[0m_get_listlike_indexer\u001b[0m\u001b[0;34m(\u001b[0m\u001b[0mkey\u001b[0m\u001b[0;34m,\u001b[0m \u001b[0maxis\u001b[0m\u001b[0;34m=\u001b[0m\u001b[0;36m1\u001b[0m\u001b[0;34m,\u001b[0m \u001b[0mraise_missing\u001b[0m\u001b[0;34m=\u001b[0m\u001b[0;32mTrue\u001b[0m\u001b[0;34m)\u001b[0m\u001b[0;34m[\u001b[0m\u001b[0;36m1\u001b[0m\u001b[0;34m]\u001b[0m\u001b[0;34m\u001b[0m\u001b[0;34m\u001b[0m\u001b[0m\n\u001b[0m\u001b[1;32m   2807\u001b[0m \u001b[0;34m\u001b[0m\u001b[0m\n\u001b[1;32m   2808\u001b[0m         \u001b[0;31m# take() does not accept boolean indexers\u001b[0m\u001b[0;34m\u001b[0m\u001b[0;34m\u001b[0m\u001b[0;34m\u001b[0m\u001b[0m\n",
      "\u001b[0;32m/opt/anaconda3/lib/python3.8/site-packages/pandas/core/indexing.py\u001b[0m in \u001b[0;36m_get_listlike_indexer\u001b[0;34m(self, key, axis, raise_missing)\u001b[0m\n\u001b[1;32m   1550\u001b[0m             \u001b[0mkeyarr\u001b[0m\u001b[0;34m,\u001b[0m \u001b[0mindexer\u001b[0m\u001b[0;34m,\u001b[0m \u001b[0mnew_indexer\u001b[0m \u001b[0;34m=\u001b[0m \u001b[0max\u001b[0m\u001b[0;34m.\u001b[0m\u001b[0m_reindex_non_unique\u001b[0m\u001b[0;34m(\u001b[0m\u001b[0mkeyarr\u001b[0m\u001b[0;34m)\u001b[0m\u001b[0;34m\u001b[0m\u001b[0;34m\u001b[0m\u001b[0m\n\u001b[1;32m   1551\u001b[0m \u001b[0;34m\u001b[0m\u001b[0m\n\u001b[0;32m-> 1552\u001b[0;31m         self._validate_read_indexer(\n\u001b[0m\u001b[1;32m   1553\u001b[0m             \u001b[0mkeyarr\u001b[0m\u001b[0;34m,\u001b[0m \u001b[0mindexer\u001b[0m\u001b[0;34m,\u001b[0m \u001b[0mo\u001b[0m\u001b[0;34m.\u001b[0m\u001b[0m_get_axis_number\u001b[0m\u001b[0;34m(\u001b[0m\u001b[0maxis\u001b[0m\u001b[0;34m)\u001b[0m\u001b[0;34m,\u001b[0m \u001b[0mraise_missing\u001b[0m\u001b[0;34m=\u001b[0m\u001b[0mraise_missing\u001b[0m\u001b[0;34m\u001b[0m\u001b[0;34m\u001b[0m\u001b[0m\n\u001b[1;32m   1554\u001b[0m         )\n",
      "\u001b[0;32m/opt/anaconda3/lib/python3.8/site-packages/pandas/core/indexing.py\u001b[0m in \u001b[0;36m_validate_read_indexer\u001b[0;34m(self, key, indexer, axis, raise_missing)\u001b[0m\n\u001b[1;32m   1638\u001b[0m             \u001b[0;32mif\u001b[0m \u001b[0mmissing\u001b[0m \u001b[0;34m==\u001b[0m \u001b[0mlen\u001b[0m\u001b[0;34m(\u001b[0m\u001b[0mindexer\u001b[0m\u001b[0;34m)\u001b[0m\u001b[0;34m:\u001b[0m\u001b[0;34m\u001b[0m\u001b[0;34m\u001b[0m\u001b[0m\n\u001b[1;32m   1639\u001b[0m                 \u001b[0maxis_name\u001b[0m \u001b[0;34m=\u001b[0m \u001b[0mself\u001b[0m\u001b[0;34m.\u001b[0m\u001b[0mobj\u001b[0m\u001b[0;34m.\u001b[0m\u001b[0m_get_axis_name\u001b[0m\u001b[0;34m(\u001b[0m\u001b[0maxis\u001b[0m\u001b[0;34m)\u001b[0m\u001b[0;34m\u001b[0m\u001b[0;34m\u001b[0m\u001b[0m\n\u001b[0;32m-> 1640\u001b[0;31m                 \u001b[0;32mraise\u001b[0m \u001b[0mKeyError\u001b[0m\u001b[0;34m(\u001b[0m\u001b[0;34mf\"None of [{key}] are in the [{axis_name}]\"\u001b[0m\u001b[0;34m)\u001b[0m\u001b[0;34m\u001b[0m\u001b[0;34m\u001b[0m\u001b[0m\n\u001b[0m\u001b[1;32m   1641\u001b[0m \u001b[0;34m\u001b[0m\u001b[0m\n\u001b[1;32m   1642\u001b[0m             \u001b[0;31m# We (temporarily) allow for some missing keys with .loc, except in\u001b[0m\u001b[0;34m\u001b[0m\u001b[0;34m\u001b[0m\u001b[0;34m\u001b[0m\u001b[0m\n",
      "\u001b[0;31mKeyError\u001b[0m: \"None of [Int64Index([ 6047,  6048,  6049,  6050,  6051,  6052,  6053,  6054,  6055,\\n             6056,\\n            ...\\n            18129, 18130, 18131, 18132, 18133, 18134, 18135, 18136, 18137,\\n            18138],\\n           dtype='int64', length=12092)] are in the [columns]\""
     ]
    },
    {
     "data": {
      "image/png": "[encoded data removed]",
      "text/plain": [
       "<Figure size 576x432 with 1 Axes>"
      ]
     },
     "metadata": {
      "needs_background": "light"
     },
     "output_type": "display_data"
    }
   ],
   "source": [
    "import numpy as np\n",
    "import matplotlib.pyplot as plt\n",
    "\n",
    "from sklearn import datasets\n",
    "from sklearn.linear_model import LassoCV\n",
    "from sklearn.linear_model import Lasso\n",
    "from sklearn.model_selection import KFold\n",
    "from sklearn.model_selection import GridSearchCV\n",
    "\n",
    "\n",
    "lasso = Lasso(random_state=0, max_iter=10000)\n",
    "alphas = np.logspace(-4, -0.5, 30)\n",
    "\n",
    "tuned_parameters = [{'alpha': alphas}]\n",
    "n_folds = 5\n",
    "\n",
    "clf = GridSearchCV(lasso, tuned_parameters, cv=n_folds, refit=False)\n",
    "clf.fit(X_train, y_train)\n",
    "scores = clf.cv_results_['mean_test_score']\n",
    "scores_std = clf.cv_results_['std_test_score']\n",
    "plt.figure().set_size_inches(8, 6)\n",
    "plt.semilogx(alphas, scores)\n",
    "\n",
    "# plot error lines showing +/- std. errors of the scores\n",
    "std_error = scores_std / np.sqrt(n_folds)\n",
    "\n",
    "plt.semilogx(alphas, scores + std_error, 'b--')\n",
    "plt.semilogx(alphas, scores - std_error, 'b--')\n",
    "\n",
    "# alpha=0.2 controls the translucency of the fill color\n",
    "plt.fill_between(alphas, scores + std_error, scores - std_error, alpha=0.2)\n",
    "\n",
    "plt.ylabel('CV score +/- std error')\n",
    "plt.xlabel('alpha')\n",
    "plt.axhline(np.max(scores), linestyle='--', color='.5')\n",
    "plt.xlim([alphas[0], alphas[-1]])\n",
    "\n",
    "# #############################################################################\n",
    "# Bonus: how much can you trust the selection of alpha?\n",
    "\n",
    "# To answer this question we use the LassoCV object that sets its alpha\n",
    "# parameter automatically from the data by internal cross-validation (i.e. it\n",
    "# performs cross-validation on the training data it receives).\n",
    "# We use external cross-validation to see how much the automatically obtained\n",
    "# alphas differ across different cross-validation folds.\n",
    "lasso_cv = LassoCV(alphas=alphas, random_state=0, max_iter=10000)\n",
    "k_fold = KFold(3)\n",
    "\n",
    "print(\"Answer to the bonus question:\",\n",
    "      \"how much can you trust the selection of alpha?\")\n",
    "print()\n",
    "print(\"Alpha parameters maximising the generalization score on different\")\n",
    "print(\"subsets of the data:\")\n",
    "for k, (train, test) in enumerate(k_fold.split(X_train, y_train)):\n",
    "    lasso_cv.fit(X_train[train], y_train[train])\n",
    "    print(\"[fold {0}] alpha: {1:.5f}, score: {2:.5f}\".\n",
    "          format(k, lasso_cv.alpha_, lasso_cv.score(X_train[test], y_train[test])))\n",
    "print()\n",
    "print(\"Answer: Not very much since we obtained different alphas for different\")\n",
    "print(\"subsets of the data and moreover, the scores for these alphas differ\")\n",
    "print(\"quite substantially.\")\n",
    "\n",
    "plt.show()"
   ]
  },
  {
   "cell_type": "markdown",
   "metadata": {},
   "source": [
    "| Model | MSE Train | MSE Test | Inclusion Error | Exclusion Error | alpha value used |\n",
    "| --- | --- | --- | --- | --- |--- |\n",
    "| OLS | insert | insert | insert | insert | n.a |\n",
    "| Lasso | insert | insert | insert | insert | insert |\n",
    "| Ridge | insert | insert | insert | insert | insert |\n",
    "| Basis Expansion (Interaction Only) | insert | insert | insert | insert | insert |\n",
    "| Lasso + Ridge Ensemble | insert | insert | insert | insert | insert |\n",
    "\n",
    "\n",
    "\n",
    "\n"
   ]
  }
 ],
 "metadata": {
  "kernelspec": {
   "display_name": "Python 3",
   "language": "python",
   "name": "python3"
  },
  "language_info": {
   "codemirror_mode": {
    "name": "ipython",
    "version": 3
   },
   "file_extension": ".py",
   "mimetype": "text/x-python",
   "name": "python",
   "nbconvert_exporter": "python",
   "pygments_lexer": "ipython3",
   "version": "3.8.3"
  }
 },
 "nbformat": 4,
 "nbformat_minor": 4
}
