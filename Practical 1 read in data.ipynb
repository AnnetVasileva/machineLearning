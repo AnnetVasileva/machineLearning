{
 "cells": [
  {
   "cell_type": "markdown",
   "metadata": {},
   "source": [
    "We first need to read in the data and see how it looks like"
   ]
  },
  {
   "cell_type": "code",
   "execution_count": 3,
   "metadata": {},
   "outputs": [],
   "source": [
    "# please make sure that the data is located in the data folder under the current sirectory where you put your file\n",
    "\n",
    "# first we should import all necessary packages\n",
    "import numpy as np\n",
    "import pandas as pd\n",
    "import _pickle as cp"
   ]
  },
  {
   "cell_type": "markdown",
   "metadata": {},
   "source": [
    "### As in the paper we should first randomly divide the observations into equally sized training and data sets\n"
   ]
  },
  {
   "cell_type": "code",
   "execution_count": 4,
   "metadata": {},
   "outputs": [
    {
     "name": "stdout",
     "output_type": "stream",
     "text": [
      "<class 'pandas.core.frame.DataFrame'>\n",
      "RangeIndex: 46305 entries, 0 to 46304\n",
      "Data columns (total 81 columns):\n",
      " #   Column                   Non-Null Count  Dtype  \n",
      "---  ------                   --------------  -----  \n",
      " 0   lnpercapitaconsumption   23153 non-null  float64\n",
      " 1   d_fuel_other             46305 non-null  int64  \n",
      " 2   d_fuel_wood              46305 non-null  int64  \n",
      " 3   d_fuel_coal              46305 non-null  int64  \n",
      " 4   d_fuel_kerosene          46305 non-null  int64  \n",
      " 5   d_fuel_gas               46305 non-null  int64  \n",
      " 6   d_fuel_electric          46305 non-null  int64  \n",
      " 7   d_fuel_none              46305 non-null  int64  \n",
      " 8   d_water_other            46305 non-null  int64  \n",
      " 9   d_water_river            46305 non-null  int64  \n",
      " 10  d_water_well             46305 non-null  int64  \n",
      " 11  d_water_truck            46305 non-null  int64  \n",
      " 12  d_water_pylon            46305 non-null  int64  \n",
      " 13  d_water_outside          46305 non-null  int64  \n",
      " 14  d_water_inside           46305 non-null  int64  \n",
      " 15  d_drain_none             46305 non-null  int64  \n",
      " 16  d_drain_river            46305 non-null  int64  \n",
      " 17  d_drain_cesspool         46305 non-null  int64  \n",
      " 18  d_drain_septic           46305 non-null  int64  \n",
      " 19  d_drain_outside          46305 non-null  int64  \n",
      " 20  d_drain_inside           46305 non-null  int64  \n",
      " 21  d_wall_other             45382 non-null  float64\n",
      " 22  d_wall_woodmat           45382 non-null  float64\n",
      " 23  d_wall_stonemud          45382 non-null  float64\n",
      " 24  d_wall_quincha           45382 non-null  float64\n",
      " 25  d_wall_tapia             45382 non-null  float64\n",
      " 26  d_wall_adobe             45382 non-null  float64\n",
      " 27  d_wall_stonecement       45382 non-null  float64\n",
      " 28  d_wall_brickcement       45382 non-null  float64\n",
      " 29  d_roof_other             45382 non-null  float64\n",
      " 30  d_roof_straw             45382 non-null  float64\n",
      " 31  d_roof_mat               45382 non-null  float64\n",
      " 32  d_roof_platecane         45382 non-null  float64\n",
      " 33  d_roof_tile              45382 non-null  float64\n",
      " 34  d_roof_wood              45382 non-null  float64\n",
      " 35  d_roof_concrete          45382 non-null  float64\n",
      " 36  d_floor_other            45382 non-null  float64\n",
      " 37  d_floor_earth            45382 non-null  float64\n",
      " 38  d_floor_cement           45382 non-null  float64\n",
      " 39  d_floor_wood             45382 non-null  float64\n",
      " 40  d_floor_tile             45382 non-null  float64\n",
      " 41  d_floor_sheets           45382 non-null  float64\n",
      " 42  d_floor_parquet          45382 non-null  float64\n",
      " 43  d_electricity            46305 non-null  int64  \n",
      " 44  d_telephone              46305 non-null  int64  \n",
      " 45  d_h_educ_none            46301 non-null  float64\n",
      " 46  d_h_educ_pre             46301 non-null  float64\n",
      " 47  d_h_educ_prim            46301 non-null  float64\n",
      " 48  d_h_educ_sec             46301 non-null  float64\n",
      " 49  d_h_educ_higher_nouni    46301 non-null  float64\n",
      " 50  d_h_educ_higher_uni      46301 non-null  float64\n",
      " 51  d_h_educ_post            46301 non-null  float64\n",
      " 52  d_max_educ_none          46305 non-null  int64  \n",
      " 53  d_max_educ_prim          46305 non-null  int64  \n",
      " 54  d_max_educ_sec           46305 non-null  int64  \n",
      " 55  d_max_educ_higher_nouni  46305 non-null  int64  \n",
      " 56  d_max_educ_higher_uni    46305 non-null  int64  \n",
      " 57  d_insurance_0            46305 non-null  int64  \n",
      " 58  d_insurance_1            46305 non-null  int64  \n",
      " 59  d_insurance_2            46305 non-null  int64  \n",
      " 60  d_insurance_3            46305 non-null  int64  \n",
      " 61  d_insurance_4plus        46305 non-null  int64  \n",
      " 62  d_crowd_lessthan1        45382 non-null  float64\n",
      " 63  d_crowd_1to2             45382 non-null  float64\n",
      " 64  d_crowd_2to4             45382 non-null  float64\n",
      " 65  d_crowd_4to6             45382 non-null  float64\n",
      " 66  d_crowd_6plus            45382 non-null  float64\n",
      " 67  d_lux_0                  46305 non-null  int64  \n",
      " 68  d_lux_1                  46305 non-null  int64  \n",
      " 69  d_lux_2                  46305 non-null  int64  \n",
      " 70  d_lux_3                  46305 non-null  int64  \n",
      " 71  d_lux_4                  46305 non-null  int64  \n",
      " 72  d_lux_5                  46305 non-null  int64  \n",
      " 73  training                 46305 non-null  int64  \n",
      " 74  percapitaconsumption     23153 non-null  float64\n",
      " 75  poor                     46305 non-null  int64  \n",
      " 76  h_hhsize                 46305 non-null  int64  \n",
      " 77  id_for_matlab            46305 non-null  int64  \n",
      " 78  hhid                     46305 non-null  int64  \n",
      " 79  lncaphat_OLS             45378 non-null  float64\n",
      " 80  percapitahat_OLS         45378 non-null  float64\n",
      "dtypes: float64(38), int64(43)\n",
      "memory usage: 28.6 MB\n"
     ]
    }
   ],
   "source": [
    "raw = pd.read_csv(\"peru_for_ml_course.csv\")\n",
    "raw.info() # just to see how many different variables we have "
   ]
  },
  {
   "cell_type": "code",
   "execution_count": 267,
   "metadata": {},
   "outputs": [
    {
     "data": {
      "text/plain": [
       "7030.769"
      ]
     },
     "execution_count": 267,
     "metadata": {},
     "output_type": "execute_result"
    }
   ],
   "source": [
    "raw.percapitaconsumption.max() # in case you want to see all the data"
   ]
  },
  {
   "cell_type": "code",
   "execution_count": 6,
   "metadata": {},
   "outputs": [],
   "source": [
    "np.random.seed(1234) # as far as I undertand so that the results are exactly the same for everyone we set\n",
    "# the speudo-random seed generator"
   ]
  },
  {
   "cell_type": "code",
   "execution_count": 7,
   "metadata": {},
   "outputs": [],
   "source": [
    "# set X as exogenous variable and y as endogenous\n",
    "additional = ['training', 'percapitaconsumption', 'poor', 'h_hhsize',\n",
    "       'id_for_matlab', 'hhid', 'lncaphat_OLS', 'percapitahat_OLS']\n",
    "exogenous_data = ['d_fuel_other', 'd_fuel_wood', 'd_fuel_coal',\n",
    "       'd_fuel_kerosene', 'd_fuel_gas', 'd_fuel_electric', 'd_fuel_none',\n",
    "       'd_water_other', 'd_water_river', 'd_water_well', 'd_water_truck',\n",
    "       'd_water_pylon', 'd_water_outside', 'd_water_inside', 'd_drain_none',\n",
    "       'd_drain_river', 'd_drain_cesspool', 'd_drain_septic',\n",
    "       'd_drain_outside', 'd_drain_inside', 'd_wall_other', 'd_wall_woodmat',\n",
    "       'd_wall_stonemud', 'd_wall_quincha', 'd_wall_tapia', 'd_wall_adobe',\n",
    "       'd_wall_stonecement', 'd_wall_brickcement', 'd_roof_other',\n",
    "       'd_roof_straw', 'd_roof_mat', 'd_roof_platecane', 'd_roof_tile',\n",
    "       'd_roof_wood', 'd_roof_concrete', 'd_floor_other', 'd_floor_earth',\n",
    "       'd_floor_cement', 'd_floor_wood', 'd_floor_tile', 'd_floor_sheets',\n",
    "       'd_floor_parquet', 'd_electricity', 'd_telephone', 'd_h_educ_none',\n",
    "       'd_h_educ_pre', 'd_h_educ_prim', 'd_h_educ_sec',\n",
    "       'd_h_educ_higher_nouni', 'd_h_educ_higher_uni', 'd_h_educ_post',\n",
    "       'd_max_educ_none', 'd_max_educ_prim', 'd_max_educ_sec',\n",
    "       'd_max_educ_higher_nouni', 'd_max_educ_higher_uni', 'd_insurance_0',\n",
    "       'd_insurance_1', 'd_insurance_2', 'd_insurance_3', 'd_insurance_4plus',\n",
    "       'd_crowd_lessthan1', 'd_crowd_1to2', 'd_crowd_2to4', 'd_crowd_4to6',\n",
    "       'd_crowd_6plus', 'd_lux_0', 'd_lux_1', 'd_lux_2', 'd_lux_3', 'd_lux_4',\n",
    "       'd_lux_5']\n",
    "\n",
    "y = raw.lnpercapitaconsumption\n",
    "X = raw[exogenous_data]"
   ]
  },
  {
   "cell_type": "code",
   "execution_count": 8,
   "metadata": {},
   "outputs": [
    {
     "name": "stdout",
     "output_type": "stream",
     "text": [
      "Shape of X_train: (23153, 72)\n",
      "Shape of y_train: (23153,)\n",
      "Shape of X_test: (23152, 72)\n",
      "Shape of y_test: (23152,)\n"
     ]
    }
   ],
   "source": [
    "# The function splits the dataset into the training dataset and the test dataset.\n",
    "# The parameter split_coeff is a percentage value such that\n",
    "# the first split_coeff of the dataset goes to the training dataset, \n",
    "# and the remaining data goes to the test dataset.\n",
    "def split_data(X, y, split_coeff):\n",
    "    N, _ = X.shape # get the number of records (rows)\n",
    "    test_size = int(split_coeff * N) # use the first split_coeff of the data as the test data\n",
    "    X_test = X[:test_size] # the first training_size records\n",
    "    y_test = y[:test_size]\n",
    "    X_train = X[test_size:] # the last test_size records\n",
    "    y_train = y[test_size:]\n",
    "    return X_train, y_train, X_test, y_test\n",
    "\n",
    "X_train, y_train, X_test, y_test = split_data(X, y, 0.5) # use 50% of the data as training data\n",
    "\n",
    "# check the size of the splitted dataset\n",
    "print(\"Shape of X_train:\", X_train.shape)\n",
    "print(\"Shape of y_train:\", y_train.shape)\n",
    "print(\"Shape of X_test:\", X_test.shape)\n",
    "print(\"Shape of y_test:\", y_test.shape)"
   ]
  },
  {
   "cell_type": "code",
   "execution_count": 9,
   "metadata": {},
   "outputs": [
    {
     "data": {
      "text/plain": [
       "0       NaN\n",
       "1       NaN\n",
       "2       NaN\n",
       "3       NaN\n",
       "4       NaN\n",
       "         ..\n",
       "23147   NaN\n",
       "23148   NaN\n",
       "23149   NaN\n",
       "23150   NaN\n",
       "23151   NaN\n",
       "Name: lnpercapitaconsumption, Length: 23152, dtype: float64"
      ]
     },
     "execution_count": 9,
     "metadata": {},
     "output_type": "execute_result"
    }
   ],
   "source": [
    "y_test"
   ]
  },
  {
   "cell_type": "code",
   "execution_count": 10,
   "metadata": {},
   "outputs": [
    {
     "name": "stdout",
     "output_type": "stream",
     "text": [
      "d_fuel_other + d_fuel_wood + d_fuel_coal + d_fuel_kerosene + d_fuel_gas + d_fuel_electric + d_fuel_none + d_water_other + d_water_river + d_water_well + d_water_truck + d_water_pylon + d_water_outside + d_water_inside + d_drain_none + d_drain_river + d_drain_cesspool + d_drain_septic + d_drain_outside + d_drain_inside + d_wall_other + d_wall_woodmat + d_wall_stonemud + d_wall_quincha + d_wall_tapia + d_wall_adobe + d_wall_stonecement + d_wall_brickcement + d_roof_other + d_roof_straw + d_roof_mat + d_roof_platecane + d_roof_tile + d_roof_wood + d_roof_concrete + d_floor_other + d_floor_earth + d_floor_cement + d_floor_wood + d_floor_tile + d_floor_sheets + d_floor_parquet + d_electricity + d_telephone + d_h_educ_none + d_h_educ_pre + d_h_educ_prim + d_h_educ_sec + d_h_educ_higher_nouni + d_h_educ_higher_uni + d_h_educ_post + d_max_educ_none + d_max_educ_prim + d_max_educ_sec + d_max_educ_higher_nouni + d_max_educ_higher_uni + d_insurance_0 + d_insurance_1 + d_insurance_2 + d_insurance_3 + d_insurance_4plus + d_crowd_lessthan1 + d_crowd_1to2 + d_crowd_2to4 + d_crowd_4to6 + d_crowd_6plus + d_lux_0 + d_lux_1 + d_lux_2 + d_lux_3 + d_lux_4 + d_lux_5\n"
     ]
    },
    {
     "name": "stderr",
     "output_type": "stream",
     "text": [
      "<ipython-input-10-2dcadb0b95ee>:2: SettingWithCopyWarning: \n",
      "A value is trying to be set on a copy of a slice from a DataFrame.\n",
      "Try using .loc[row_indexer,col_indexer] = value instead\n",
      "\n",
      "See the caveats in the documentation: https://pandas.pydata.org/pandas-docs/stable/user_guide/indexing.html#returning-a-view-versus-a-copy\n",
      "  data_train[\"lnpercapitaconsumption\"] = y_train\n"
     ]
    }
   ],
   "source": [
    "data_train = X_train\n",
    "data_train[\"lnpercapitaconsumption\"] = y_train\n",
    "data_train\n",
    "print(' + '.join(exogenous_data))"
   ]
  },
  {
   "cell_type": "code",
   "execution_count": 290,
   "metadata": {},
   "outputs": [
    {
     "name": "stdout",
     "output_type": "stream",
     "text": [
      "                              OLS Regression Results                              \n",
      "==================================================================================\n",
      "Dep. Variable:     lnpercapitaconsumption   R-squared:                       0.656\n",
      "Model:                                OLS   Adj. R-squared:                  0.655\n",
      "Method:                     Least Squares   F-statistic:                     683.9\n",
      "Date:                    Sat, 05 Dec 2020   Prob (F-statistic):               0.00\n",
      "Time:                            18:17:29   Log-Likelihood:                -13433.\n",
      "No. Observations:                   22674   AIC:                         2.699e+04\n",
      "Df Residuals:                       22610   BIC:                         2.751e+04\n",
      "Df Model:                              63                                         \n",
      "Covariance Type:                nonrobust                                         \n",
      "===========================================================================================\n",
      "                              coef    std err          t      P>|t|      [0.025      0.975]\n",
      "-------------------------------------------------------------------------------------------\n",
      "Intercept                   2.6384      0.024    111.765      0.000       2.592       2.685\n",
      "d_fuel_other                0.0902      0.013      6.925      0.000       0.065       0.116\n",
      "d_fuel_wood                 0.1545      0.011     13.817      0.000       0.133       0.176\n",
      "d_fuel_coal                 0.3426      0.018     18.767      0.000       0.307       0.378\n",
      "d_fuel_kerosene             0.3488      0.039      8.834      0.000       0.271       0.426\n",
      "d_fuel_gas                  0.4023      0.010     39.479      0.000       0.382       0.422\n",
      "d_fuel_electric             0.7377      0.031     23.874      0.000       0.677       0.798\n",
      "d_fuel_none                 0.5623      0.017     32.358      0.000       0.528       0.596\n",
      "d_water_other               0.3804      0.014     26.635      0.000       0.352       0.408\n",
      "d_water_river               0.2942      0.009     31.320      0.000       0.276       0.313\n",
      "d_water_well                0.3390      0.014     23.939      0.000       0.311       0.367\n",
      "d_water_truck               0.4799      0.021     23.242      0.000       0.439       0.520\n",
      "d_water_pylon               0.3517      0.019     18.443      0.000       0.314       0.389\n",
      "d_water_outside             0.4395      0.021     20.852      0.000       0.398       0.481\n",
      "d_water_inside              0.3537      0.008     42.158      0.000       0.337       0.370\n",
      "d_drain_none               -0.1486      0.042     -3.518      0.000      -0.231      -0.066\n",
      "d_drain_river              -0.1111      0.046     -2.422      0.015      -0.201      -0.021\n",
      "d_drain_cesspool           -0.1083      0.042     -2.575      0.010      -0.191      -0.026\n",
      "d_drain_septic             -0.1279      0.042     -3.033      0.002      -0.211      -0.045\n",
      "d_drain_outside            -0.0787      0.048     -1.631      0.103      -0.173       0.016\n",
      "d_drain_inside             -0.0677      0.042     -1.612      0.107      -0.150       0.015\n",
      "d_wall_other                0.3828      0.014     27.282      0.000       0.355       0.410\n",
      "d_wall_woodmat              0.4581      0.011     42.696      0.000       0.437       0.479\n",
      "d_wall_stonemud             0.2470      0.023     10.696      0.000       0.202       0.292\n",
      "d_wall_quincha              0.4029      0.018     22.124      0.000       0.367       0.439\n",
      "d_wall_tapia                0.2064      0.011     18.240      0.000       0.184       0.229\n",
      "d_wall_adobe                0.2594      0.009     29.344      0.000       0.242       0.277\n",
      "d_wall_stonecement          0.3295      0.033      9.912      0.000       0.264       0.395\n",
      "d_wall_brickcement          0.3524      0.010     33.857      0.000       0.332       0.373\n",
      "d_roof_other                0.4085      0.024     16.946      0.000       0.361       0.456\n",
      "d_roof_straw                0.2674      0.013     20.092      0.000       0.241       0.294\n",
      "d_roof_mat                  0.4318      0.024     18.028      0.000       0.385       0.479\n",
      "d_roof_platecane            0.4072      0.008     49.897      0.000       0.391       0.423\n",
      "d_roof_tile                 0.3364      0.011     29.556      0.000       0.314       0.359\n",
      "d_roof_wood                 0.4120      0.023     17.926      0.000       0.367       0.457\n",
      "d_roof_concrete             0.3752      0.011     33.777      0.000       0.353       0.397\n",
      "d_floor_other               0.2646      0.025     10.515      0.000       0.215       0.314\n",
      "d_floor_earth               0.1916      0.010     19.831      0.000       0.173       0.211\n",
      "d_floor_cement              0.3256      0.008     39.583      0.000       0.309       0.342\n",
      "d_floor_wood                0.3116      0.012     25.473      0.000       0.288       0.336\n",
      "d_floor_tile                0.4599      0.013     34.505      0.000       0.434       0.486\n",
      "d_floor_sheets              0.4863      0.017     28.864      0.000       0.453       0.519\n",
      "d_floor_parquet             0.5988      0.019     31.506      0.000       0.562       0.636\n",
      "d_electricity               0.0711      0.010      7.070      0.000       0.051       0.091\n",
      "d_telephone                 0.0554      0.009      6.117      0.000       0.038       0.073\n",
      "d_h_educ_none               0.2060      0.027      7.692      0.000       0.153       0.258\n",
      "d_h_educ_pre                0.2210      0.144      1.538      0.124      -0.061       0.503\n",
      "d_h_educ_prim               0.2846      0.024     11.625      0.000       0.237       0.333\n",
      "d_h_educ_sec                0.3644      0.024     14.942      0.000       0.317       0.412\n",
      "d_h_educ_higher_nouni       0.4454      0.026     17.456      0.000       0.395       0.495\n",
      "d_h_educ_higher_uni         0.5269      0.026     20.366      0.000       0.476       0.578\n",
      "d_h_educ_post               0.5902      0.038     15.333      0.000       0.515       0.666\n",
      "d_max_educ_none            -0.3987      0.037    -10.806      0.000      -0.471      -0.326\n",
      "d_max_educ_prim            -0.2402      0.031     -7.706      0.000      -0.301      -0.179\n",
      "d_max_educ_sec             -0.1530      0.030     -5.068      0.000      -0.212      -0.094\n",
      "d_max_educ_higher_nouni    -0.1047      0.030     -3.454      0.001      -0.164      -0.045\n",
      "d_max_educ_higher_uni      -0.0813      0.030     -2.745      0.006      -0.139      -0.023\n",
      "d_insurance_0               0.5991      0.008     74.501      0.000       0.583       0.615\n",
      "d_insurance_1               0.6512      0.008     79.595      0.000       0.635       0.667\n",
      "d_insurance_2               0.5385      0.008     67.155      0.000       0.523       0.554\n",
      "d_insurance_3               0.4844      0.008     59.791      0.000       0.469       0.500\n",
      "d_insurance_4plus           0.3651      0.007     51.099      0.000       0.351       0.379\n",
      "d_crowd_lessthan1           0.8329      0.009     93.817      0.000       0.815       0.850\n",
      "d_crowd_1to2                0.5913      0.008     75.205      0.000       0.576       0.607\n",
      "d_crowd_2to4                0.4830      0.009     55.676      0.000       0.466       0.500\n",
      "d_crowd_4to6                0.4034      0.013     31.499      0.000       0.378       0.428\n",
      "d_crowd_6plus               0.3279      0.019     17.716      0.000       0.292       0.364\n",
      "d_lux_0                     0.1539      0.009     16.950      0.000       0.136       0.172\n",
      "d_lux_1                     0.3143      0.009     36.844      0.000       0.298       0.331\n",
      "d_lux_2                     0.3990      0.009     42.894      0.000       0.381       0.417\n",
      "d_lux_3                     0.4834      0.011     43.733      0.000       0.462       0.505\n",
      "d_lux_4                     0.5723      0.013     43.039      0.000       0.546       0.598\n",
      "d_lux_5                     0.7156      0.015     47.942      0.000       0.686       0.745\n",
      "==============================================================================\n",
      "Omnibus:                      350.884   Durbin-Watson:                   1.994\n",
      "Prob(Omnibus):                  0.000   Jarque-Bera (JB):              686.085\n",
      "Skew:                          -0.018   Prob(JB):                    1.04e-149\n",
      "Kurtosis:                       3.851   Cond. No.                     1.58e+16\n",
      "==============================================================================\n",
      "\n",
      "Warnings:\n",
      "[1] Standard Errors assume that the covariance matrix of the errors is correctly specified.\n",
      "[2] The smallest eigenvalue is 4.83e-28. This might indicate that there are\n",
      "strong multicollinearity problems or that the design matrix is singular.\n"
     ]
    }
   ],
   "source": [
    "import statsmodels.api as sm\n",
    "import statsmodels.formula.api as smf\n",
    "\n",
    "#X_train = sm.add_constant(X_train)\n",
    "\n",
    "# Compact version with confidence intervals\n",
    "x = exogenous_data\n",
    "model = smf.ols(\"lnpercapitaconsumption ~ d_fuel_other + d_fuel_wood + d_fuel_coal + d_fuel_kerosene + d_fuel_gas + d_fuel_electric + d_fuel_none + d_water_other + d_water_river + d_water_well + d_water_truck + d_water_pylon + d_water_outside + d_water_inside + d_drain_none + d_drain_river + d_drain_cesspool + d_drain_septic + d_drain_outside + d_drain_inside + d_wall_other + d_wall_woodmat + d_wall_stonemud + d_wall_quincha + d_wall_tapia + d_wall_adobe + d_wall_stonecement + d_wall_brickcement + d_roof_other + d_roof_straw + d_roof_mat + d_roof_platecane + d_roof_tile + d_roof_wood + d_roof_concrete + d_floor_other + d_floor_earth + d_floor_cement + d_floor_wood + d_floor_tile + d_floor_sheets + d_floor_parquet + d_electricity + d_telephone + d_h_educ_none + d_h_educ_pre + d_h_educ_prim + d_h_educ_sec + d_h_educ_higher_nouni + d_h_educ_higher_uni + d_h_educ_post + d_max_educ_none + d_max_educ_prim + d_max_educ_sec + d_max_educ_higher_nouni + d_max_educ_higher_uni + d_insurance_0 + d_insurance_1 + d_insurance_2 + d_insurance_3 + d_insurance_4plus + d_crowd_lessthan1 + d_crowd_1to2 + d_crowd_2to4 + d_crowd_4to6 + d_crowd_6plus + d_lux_0 + d_lux_1 + d_lux_2 + d_lux_3 + d_lux_4 + d_lux_5\", data_train).fit()\n",
    "#model.summary().tables[1]\n",
    "print(model.summary())"
   ]
  },
  {
   "cell_type": "code",
   "execution_count": 291,
   "metadata": {},
   "outputs": [
    {
     "data": {
      "text/plain": [
       "count    4.537800e+04\n",
       "mean     8.266197e-09\n",
       "std      3.198668e-07\n",
       "min     -7.546989e-07\n",
       "25%     -2.428345e-07\n",
       "50%      1.296096e-08\n",
       "75%      2.557166e-07\n",
       "max      7.583804e-07\n",
       "dtype: float64"
      ]
     },
     "execution_count": 291,
     "metadata": {},
     "output_type": "execute_result"
    }
   ],
   "source": [
    "lnCapOLSnew = model.predict(X)\n",
    "(lnCapOLSnew - raw.lncaphat_OLS).describe()"
   ]
  },
  {
   "cell_type": "markdown",
   "metadata": {},
   "source": [
    "As far as I can see certain coefficient are very close to what they report in the online appendix (please also check some coefficient ). However some of those that they report as negative, we have positive which is quite weird to my opinion"
   ]
  },
  {
   "cell_type": "markdown",
   "metadata": {},
   "source": [
    "### Step 1 - trying to reporoduce Figure 3 \"Predited versus actual per-capita Consumption for Housholds in Test Set Data\""
   ]
  },
  {
   "cell_type": "code",
   "execution_count": 292,
   "metadata": {},
   "outputs": [
    {
     "data": {
      "text/plain": [
       "22674"
      ]
     },
     "execution_count": 292,
     "metadata": {},
     "output_type": "execute_result"
    }
   ],
   "source": [
    "# first we need the predicted values of y_train\n",
    "y_predicted = model.predict()\n",
    "len(y_predicted)"
   ]
  },
  {
   "cell_type": "code",
   "execution_count": 275,
   "metadata": {},
   "outputs": [
    {
     "data": {
      "image/png": "[encoded data removed]",
      "text/plain": [
       "<Figure size 360x360 with 1 Axes>"
      ]
     },
     "metadata": {
      "needs_background": "light"
     },
     "output_type": "display_data"
    }
   ],
   "source": [
    "import matplotlib.pyplot as plt\n",
    "\n",
    "lim_start = 3\n",
    "lim_end = 9\n",
    "plt.figure(1,figsize = (5,5))\n",
    "g=plt.scatter(y_predicted, data_train.dropna(axis=0)[\"lnpercapitaconsumption\"],alpha = 0.3, marker = '+')\n",
    "#g.axes.set_yscale('log')\n",
    "#g.axes.set_xscale('log')\n",
    "plt.plot([lim_start, lim_end], [lim_start, lim_end], 'k--', color = 'r')\n",
    "plt.hlines(np.percentile(y_predicted,28), lim_start+0.25, lim_end-0.25)\n",
    "plt.vlines(np.percentile(y_predicted,28), lim_start+0.25, lim_end-0.25)\n",
    "g.axes.set_xlabel('Predicted log per-capita monthly consumption (soles)')\n",
    "g.axes.set_ylabel('Actual log per-capita monthly consumption (soles)')\n",
    "g.axes.axis('equal')\n",
    "g.axes.axis('square')\n",
    "plt.text(5, 4, 'Correct inclusion',\n",
    "        verticalalignment='bottom', horizontalalignment='right',\n",
    "        color='black', fontsize=10)\n",
    "plt.text(5, 8, 'Inclusion Error',\n",
    "        verticalalignment='bottom', horizontalalignment='right',\n",
    "        color='black', fontsize=10)\n",
    "plt.text(8, 8, 'Correct Exclusion',\n",
    "        verticalalignment='bottom', horizontalalignment='right',\n",
    "        color='black', fontsize=10)\n",
    "plt.text(8, 4, 'Exclusion Error',\n",
    "        verticalalignment='bottom', horizontalalignment='right',\n",
    "        color='black', fontsize=10)\n",
    "\n",
    "plt.xlim([lim_start, lim_end])\n",
    "plt.ylim([lim_start, lim_end])\n",
    "\n",
    "plt.savefig('inex_OLS.png')"
   ]
  },
  {
   "cell_type": "code",
   "execution_count": 27,
   "metadata": {},
   "outputs": [
    {
     "data": {
      "text/plain": [
       "0.0878539296110082"
      ]
     },
     "execution_count": 27,
     "metadata": {},
     "output_type": "execute_result"
    }
   ],
   "source": [
    "# calculate inclusion exclusion error\n",
    "level = 6\n",
    "input_data = data_train.dropna(axis=0)[\"lnpercapitaconsumption\"].to_frame()\n",
    "input_data[\"prediction\"] = y_predicted\n",
    "\n",
    "actual_threshold = (input_data[\"lnpercapitaconsumption\"] < level)\n",
    "predicted_threshold = (y_predicted > level)\n",
    "z = np.logical_and(actual_threshold,predicted_threshold)\n",
    "len(z[z == True]) / len(data_train.dropna(axis=0)[\"lnpercapitaconsumption\"])"
   ]
  },
  {
   "cell_type": "code",
   "execution_count": 28,
   "metadata": {},
   "outputs": [],
   "source": [
    "y = data_train.dropna(axis=0)[\"lnpercapitaconsumption\"].to_frame() "
   ]
  },
  {
   "cell_type": "code",
   "execution_count": 30,
   "metadata": {},
   "outputs": [],
   "source": [
    "predicted_threshold = np.zeros(len(y))"
   ]
  },
  {
   "cell_type": "code",
   "execution_count": 334,
   "metadata": {},
   "outputs": [],
   "source": [
    "# lets make a function to calculate inclusion/exclusion error and correct inclusion/exlusion\n",
    "\n",
    "def inex(predicted, actual, level, incl: bool, err: bool):\n",
    "     \n",
    "    #the funciton takes in 5 values and returns one value\n",
    "    #predicted - should be an array of predicted y values according to the model that you used\n",
    "    #actual - actual values of a training or testing data set, as a dataframe with an index\n",
    "    #level - scalar which is used to determining the threshold \n",
    "    \n",
    "    \n",
    "    predicted_threshold = np.zeros(len(y))\n",
    "    \n",
    "    if incl is True:\n",
    "        predicted_threshold = (predicted < np.percentile(predicted,level))\n",
    "    else:\n",
    "        predicted_threshold = (predicted > np.percentile(predicted,level))\n",
    "    \n",
    "    actual_threshold = np.zeros(len(y))\n",
    "    \n",
    "    if err is True and incl is True:\n",
    "        actual_threshold = (actual > np.percentile(actual,28))\n",
    "    elif err is True and incl is False:\n",
    "        actual_threshold = (actual < np.percentile(actual,28))\n",
    "    elif err is False and incl is False:\n",
    "        actual_threshold = (actual > np.percentile(actual,28))\n",
    "    else:\n",
    "        actual_threshold = (actual < np.percentile(actual,28))\n",
    "    \n",
    "        \n",
    "    data = pd.DataFrame(index = range(0,len(predicted)), columns = [\"actual\",\"predicted\"])\n",
    "    data[\"actual\"] = actual_threshold.values\n",
    "    data[\"predicted\"] = predicted_threshold\n",
    "    \n",
    "    z = np.logical_and(data[\"actual\"], data[\"predicted\"])\n",
    "    value = len(z[z == True]) / len(predicted)\n",
    "    \n",
    "    return value"
   ]
  },
  {
   "cell_type": "code",
   "execution_count": 18,
   "metadata": {},
   "outputs": [],
   "source": [
    "incl = False\n",
    "err = False\n",
    "predicted = y_predicted\n",
    "actual = y\n",
    "predicted_threshold = np.zeros(len(y))\n",
    "    \n",
    "if incl is True:\n",
    "    predicted_threshold = (predicted < level)\n",
    "    \n",
    "else:\n",
    "    predicted_threshold = (predicted > level)\n",
    "    \n",
    "actual_threshold = np.zeros(len(y))\n",
    "    \n",
    "if err is True:\n",
    "    actual_threshold = (actual > level)\n",
    "else:\n",
    "    actual_threshold = (actual < level)\n",
    "    \n",
    "        \n",
    "data = pd.DataFrame(index = range(0,len(predicted)), columns = [\"actual\",\"predicted\"])\n",
    "data[\"actual\"] = actual_threshold.values\n",
    "data[\"predicted\"] = predicted_threshold\n",
    "    \n",
    "z = np.logical_and(data[\"actual\"], data[\"predicted\"])\n",
    "value = len(z[z == True]) / len(predicted)\n"
   ]
  },
  {
   "cell_type": "code",
   "execution_count": 19,
   "metadata": {},
   "outputs": [
    {
     "data": {
      "text/plain": [
       "0.0878539296110082"
      ]
     },
     "execution_count": 19,
     "metadata": {},
     "output_type": "execute_result"
    }
   ],
   "source": [
    "value"
   ]
  },
  {
   "cell_type": "code",
   "execution_count": 80,
   "metadata": {},
   "outputs": [
    {
     "data": {
      "text/plain": [
       "0.02765281820587457"
      ]
     },
     "execution_count": 80,
     "metadata": {},
     "output_type": "execute_result"
    }
   ],
   "source": [
    "inex(y_predicted, y, level = 0, incl = False, err = True) "
   ]
  },
  {
   "cell_type": "markdown",
   "metadata": {},
   "source": [
    "## Figure 4\n",
    "### Tradeoffs between Inclusion Error and Exclusion Error by Varying Eligibility Cutoff\n",
    "#### (exclusion error is the portion of intended beneficiaries excluded; inclusion error is the portion not intended to be beneficiaries who are included)\n"
   ]
  },
  {
   "cell_type": "code",
   "execution_count": 335,
   "metadata": {},
   "outputs": [
    {
     "name": "stdout",
     "output_type": "stream",
     "text": [
      "[0.27996825 0.19229073 0.12035812 0.06443504 0.0299903  0.01327512\n",
      " 0.00542472 0.00158772 0.00039693 0.         0.        ]\n",
      "[0.         0.01230484 0.04035459 0.08441387 0.14999559 0.23326277\n",
      " 0.32539473 0.42158419 0.52037576 0.61996119 0.71994355]\n"
     ]
    }
   ],
   "source": [
    "cutoff = np.arange(0,110,10)\n",
    "exclusion = np.zeros(len(cutoff))\n",
    "inclusion = np.zeros(len(cutoff))\n",
    "\n",
    "for i in range(0,len(cutoff)):\n",
    "    exclusion[i] = inex(y_predicted, data_train.dropna(axis=0)[\"lnpercapitaconsumption\"], \n",
    "                        cutoff[i], \n",
    "                        incl = False, err = True)\n",
    "    inclusion[i] = inex(y_predicted, data_train.dropna(axis=0)[\"lnpercapitaconsumption\"], \n",
    "                        cutoff[i], \n",
    "                        incl = True, err = True)\n",
    "    \n",
    "print(exclusion)\n",
    "print(inclusion)"
   ]
  },
  {
   "cell_type": "code",
   "execution_count": 333,
   "metadata": {},
   "outputs": [
    {
     "data": {
      "text/plain": [
       "0.04330951750904119"
      ]
     },
     "execution_count": 333,
     "metadata": {},
     "output_type": "execute_result"
    }
   ],
   "source": [
    "inex(y_predicted, data_train.dropna(axis=0)[\"lnpercapitaconsumption\"], \n",
    "                        90, \n",
    "                        incl = True, err = True)"
   ]
  },
  {
   "cell_type": "code",
   "execution_count": 326,
   "metadata": {},
   "outputs": [
    {
     "data": {
      "text/plain": [
       "8.858051"
      ]
     },
     "execution_count": 326,
     "metadata": {},
     "output_type": "execute_result"
    }
   ],
   "source": [
    "np.percentile(data_train.dropna(axis=0)[\"lnpercapitaconsumption\"],100)"
   ]
  },
  {
   "cell_type": "code",
   "execution_count": 329,
   "metadata": {},
   "outputs": [
    {
     "data": {
      "text/plain": [
       "array([ 0, 10, 20, 30, 40, 50, 60, 70, 80, 90])"
      ]
     },
     "execution_count": 329,
     "metadata": {},
     "output_type": "execute_result"
    }
   ],
   "source": [
    "cutoff"
   ]
  },
  {
   "cell_type": "code",
   "execution_count": 341,
   "metadata": {},
   "outputs": [
    {
     "data": {
      "image/png": "[encoded data removed]",
      "text/plain": [
       "<Figure size 432x288 with 1 Axes>"
      ]
     },
     "metadata": {
      "needs_background": "light"
     },
     "output_type": "display_data"
    }
   ],
   "source": [
    "plt.plot(inclusion,1-exclusion)\n",
    "plt.xlabel('Inclusion Error (False Positives)')\n",
    "plt.ylabel('1-Exclusion Error (True Positives)')\n",
    "#plt.ylim([0,1])\n",
    "\n",
    "plt.savefig('ROCcurves.png')"
   ]
  },
  {
   "cell_type": "markdown",
   "metadata": {},
   "source": [
    "# We start with traing out some models on the data\n",
    "We will first make sure again that there are no outliers\n",
    "We will try out Lasso/ Ridge and afterwards also add k-fold cross validation and do some plotting"
   ]
  },
  {
   "cell_type": "code",
   "execution_count": 98,
   "metadata": {},
   "outputs": [],
   "source": [
    "# import packages \n",
    "from sklearn.model_selection import cross_val_score\n",
    "from sklearn.linear_model import LinearRegression, Ridge, Lasso"
   ]
  },
  {
   "cell_type": "code",
   "execution_count": 99,
   "metadata": {},
   "outputs": [
    {
     "data": {
      "text/plain": [
       "12913"
      ]
     },
     "execution_count": 99,
     "metadata": {},
     "output_type": "execute_result"
    }
   ],
   "source": [
    "data_train.isnull().sum().sum() # should be zero"
   ]
  },
  {
   "cell_type": "code",
   "execution_count": 100,
   "metadata": {},
   "outputs": [],
   "source": [
    "data_train = data_train.dropna(axis = 0)"
   ]
  },
  {
   "cell_type": "code",
   "execution_count": 101,
   "metadata": {},
   "outputs": [
    {
     "data": {
      "text/plain": [
       "0"
      ]
     },
     "execution_count": 101,
     "metadata": {},
     "output_type": "execute_result"
    }
   ],
   "source": [
    "data_train.isnull().sum().sum().sum()"
   ]
  },
  {
   "cell_type": "code",
   "execution_count": 102,
   "metadata": {},
   "outputs": [],
   "source": [
    "X_train_old = data_train[exogenous_data]\n",
    "y_train_old = data_train[\"lnpercapitaconsumption\"]"
   ]
  },
  {
   "cell_type": "code",
   "execution_count": 103,
   "metadata": {},
   "outputs": [],
   "source": [
    "#might be a bit confusing but our training data will be again divided into training and testing data\n",
    "# so that we can assert some of the hypotheses on the testing data within our big training part\n",
    "\n",
    "from sklearn.model_selection import train_test_split\n",
    "\n",
    "X_train, X_test, y_train, y_test = train_test_split(X_train_old, y_train_old, test_size=0.2, random_state=42)"
   ]
  },
  {
   "cell_type": "code",
   "execution_count": 104,
   "metadata": {},
   "outputs": [
    {
     "data": {
      "text/html": [
       "<div>\n",
       "<style scoped>\n",
       "    .dataframe tbody tr th:only-of-type {\n",
       "        vertical-align: middle;\n",
       "    }\n",
       "\n",
       "    .dataframe tbody tr th {\n",
       "        vertical-align: top;\n",
       "    }\n",
       "\n",
       "    .dataframe thead th {\n",
       "        text-align: right;\n",
       "    }\n",
       "</style>\n",
       "<table border=\"1\" class=\"dataframe\">\n",
       "  <thead>\n",
       "    <tr style=\"text-align: right;\">\n",
       "      <th></th>\n",
       "      <th>lnpercapitaconsumption</th>\n",
       "    </tr>\n",
       "  </thead>\n",
       "  <tbody>\n",
       "    <tr>\n",
       "      <th>33162</th>\n",
       "      <td>6.217288</td>\n",
       "    </tr>\n",
       "    <tr>\n",
       "      <th>45366</th>\n",
       "      <td>5.444049</td>\n",
       "    </tr>\n",
       "    <tr>\n",
       "      <th>23679</th>\n",
       "      <td>6.118876</td>\n",
       "    </tr>\n",
       "    <tr>\n",
       "      <th>44909</th>\n",
       "      <td>6.420265</td>\n",
       "    </tr>\n",
       "    <tr>\n",
       "      <th>23370</th>\n",
       "      <td>6.558080</td>\n",
       "    </tr>\n",
       "    <tr>\n",
       "      <th>...</th>\n",
       "      <td>...</td>\n",
       "    </tr>\n",
       "    <tr>\n",
       "      <th>41245</th>\n",
       "      <td>4.872386</td>\n",
       "    </tr>\n",
       "    <tr>\n",
       "      <th>43731</th>\n",
       "      <td>4.835403</td>\n",
       "    </tr>\n",
       "    <tr>\n",
       "      <th>29931</th>\n",
       "      <td>4.943916</td>\n",
       "    </tr>\n",
       "    <tr>\n",
       "      <th>30219</th>\n",
       "      <td>6.285006</td>\n",
       "    </tr>\n",
       "    <tr>\n",
       "      <th>38379</th>\n",
       "      <td>5.202992</td>\n",
       "    </tr>\n",
       "  </tbody>\n",
       "</table>\n",
       "<p>4535 rows × 1 columns</p>\n",
       "</div>"
      ],
      "text/plain": [
       "       lnpercapitaconsumption\n",
       "33162                6.217288\n",
       "45366                5.444049\n",
       "23679                6.118876\n",
       "44909                6.420265\n",
       "23370                6.558080\n",
       "...                       ...\n",
       "41245                4.872386\n",
       "43731                4.835403\n",
       "29931                4.943916\n",
       "30219                6.285006\n",
       "38379                5.202992\n",
       "\n",
       "[4535 rows x 1 columns]"
      ]
     },
     "execution_count": 104,
     "metadata": {},
     "output_type": "execute_result"
    }
   ],
   "source": [
    "y_test.to_frame()"
   ]
  },
  {
   "cell_type": "markdown",
   "metadata": {},
   "source": [
    "## Before we start training some models we preallocate some dataframes to put the results there"
   ]
  },
  {
   "cell_type": "code",
   "execution_count": 205,
   "metadata": {},
   "outputs": [
    {
     "data": {
      "text/html": [
       "<div>\n",
       "<style scoped>\n",
       "    .dataframe tbody tr th:only-of-type {\n",
       "        vertical-align: middle;\n",
       "    }\n",
       "\n",
       "    .dataframe tbody tr th {\n",
       "        vertical-align: top;\n",
       "    }\n",
       "\n",
       "    .dataframe thead th {\n",
       "        text-align: right;\n",
       "    }\n",
       "</style>\n",
       "<table border=\"1\" class=\"dataframe\">\n",
       "  <thead>\n",
       "    <tr style=\"text-align: right;\">\n",
       "      <th></th>\n",
       "      <th>MSE train</th>\n",
       "      <th>MSE test</th>\n",
       "      <th>Inclusion Error</th>\n",
       "      <th>Exclusion Error</th>\n",
       "      <th>Comments</th>\n",
       "    </tr>\n",
       "  </thead>\n",
       "  <tbody>\n",
       "    <tr>\n",
       "      <th>OLS</th>\n",
       "      <td>NaN</td>\n",
       "      <td>NaN</td>\n",
       "      <td>NaN</td>\n",
       "      <td>NaN</td>\n",
       "      <td>NaN</td>\n",
       "    </tr>\n",
       "    <tr>\n",
       "      <th>Lasso</th>\n",
       "      <td>NaN</td>\n",
       "      <td>NaN</td>\n",
       "      <td>NaN</td>\n",
       "      <td>NaN</td>\n",
       "      <td>NaN</td>\n",
       "    </tr>\n",
       "    <tr>\n",
       "      <th>Ridge</th>\n",
       "      <td>NaN</td>\n",
       "      <td>NaN</td>\n",
       "      <td>NaN</td>\n",
       "      <td>NaN</td>\n",
       "      <td>NaN</td>\n",
       "    </tr>\n",
       "    <tr>\n",
       "      <th>Basis Expansion: Lasso</th>\n",
       "      <td>NaN</td>\n",
       "      <td>NaN</td>\n",
       "      <td>NaN</td>\n",
       "      <td>NaN</td>\n",
       "      <td>NaN</td>\n",
       "    </tr>\n",
       "    <tr>\n",
       "      <th>Basis Expansion: Ridge</th>\n",
       "      <td>NaN</td>\n",
       "      <td>NaN</td>\n",
       "      <td>NaN</td>\n",
       "      <td>NaN</td>\n",
       "      <td>NaN</td>\n",
       "    </tr>\n",
       "    <tr>\n",
       "      <th>Basis Expansion: Ealstic Net</th>\n",
       "      <td>NaN</td>\n",
       "      <td>NaN</td>\n",
       "      <td>NaN</td>\n",
       "      <td>NaN</td>\n",
       "      <td>NaN</td>\n",
       "    </tr>\n",
       "    <tr>\n",
       "      <th>Elastic Net (Lasso + Ridge)</th>\n",
       "      <td>NaN</td>\n",
       "      <td>NaN</td>\n",
       "      <td>NaN</td>\n",
       "      <td>NaN</td>\n",
       "      <td>NaN</td>\n",
       "    </tr>\n",
       "    <tr>\n",
       "      <th>Random Forest Regressor</th>\n",
       "      <td>NaN</td>\n",
       "      <td>NaN</td>\n",
       "      <td>NaN</td>\n",
       "      <td>NaN</td>\n",
       "      <td>NaN</td>\n",
       "    </tr>\n",
       "    <tr>\n",
       "      <th>kNN</th>\n",
       "      <td>NaN</td>\n",
       "      <td>NaN</td>\n",
       "      <td>NaN</td>\n",
       "      <td>NaN</td>\n",
       "      <td>NaN</td>\n",
       "    </tr>\n",
       "    <tr>\n",
       "      <th>Neural Network</th>\n",
       "      <td>NaN</td>\n",
       "      <td>NaN</td>\n",
       "      <td>NaN</td>\n",
       "      <td>NaN</td>\n",
       "      <td>NaN</td>\n",
       "    </tr>\n",
       "  </tbody>\n",
       "</table>\n",
       "</div>"
      ],
      "text/plain": [
       "                             MSE train MSE test Inclusion Error  \\\n",
       "OLS                                NaN      NaN             NaN   \n",
       "Lasso                              NaN      NaN             NaN   \n",
       "Ridge                              NaN      NaN             NaN   \n",
       "Basis Expansion: Lasso             NaN      NaN             NaN   \n",
       "Basis Expansion: Ridge             NaN      NaN             NaN   \n",
       "Basis Expansion: Ealstic Net       NaN      NaN             NaN   \n",
       "Elastic Net (Lasso + Ridge)        NaN      NaN             NaN   \n",
       "Random Forest Regressor            NaN      NaN             NaN   \n",
       "kNN                                NaN      NaN             NaN   \n",
       "Neural Network                     NaN      NaN             NaN   \n",
       "\n",
       "                             Exclusion Error Comments  \n",
       "OLS                                      NaN      NaN  \n",
       "Lasso                                    NaN      NaN  \n",
       "Ridge                                    NaN      NaN  \n",
       "Basis Expansion: Lasso                   NaN      NaN  \n",
       "Basis Expansion: Ridge                   NaN      NaN  \n",
       "Basis Expansion: Ealstic Net             NaN      NaN  \n",
       "Elastic Net (Lasso + Ridge)              NaN      NaN  \n",
       "Random Forest Regressor                  NaN      NaN  \n",
       "kNN                                      NaN      NaN  \n",
       "Neural Network                           NaN      NaN  "
      ]
     },
     "execution_count": 205,
     "metadata": {},
     "output_type": "execute_result"
    }
   ],
   "source": [
    "models = [\"OLS\", \"Lasso\", \"Ridge\",\"Basis Expansion: Lasso\",\"Basis Expansion: Ridge\",\"Basis Expansion: Ealstic Net\",\"Elastic Net (Lasso + Ridge)\", \"Random Forest Regressor\", \"kNN\", \"Neural Network\"]\n",
    "results = pd.DataFrame(index = models, columns = [\"MSE train\", \"MSE test\", \"Inclusion Error\", \"Exclusion Error\", \"Comments\"])\n",
    "results"
   ]
  },
  {
   "cell_type": "code",
   "execution_count": 206,
   "metadata": {},
   "outputs": [
    {
     "name": "stdout",
     "output_type": "stream",
     "text": [
      "-0.19402361371438792\n",
      "0.18976312741163737\n"
     ]
    }
   ],
   "source": [
    "# first just to be sure we will again save the normal linear model \n",
    "\n",
    "lin_reg = LinearRegression()\n",
    "MSEs_lin_reg = cross_val_score(lin_reg, X_train, y_train , scoring = \"neg_mean_squared_error\", cv = 5)\n",
    "# The cross_val_score will return an array of MSE for each cross-validation steps.\n",
    "mean_MSE_lin_reg = np.mean(MSEs_lin_reg)\n",
    "\n",
    "fit = lin_reg.fit(X_train, y_train)\n",
    "prediction_train = fit.predict(X_train)\n",
    "prediction = fit.predict(X_test)\n",
    "residuals = y_test - prediction\n",
    "print(mean_MSE_lin_reg)\n",
    "print(np.mean(residuals**2))"
   ]
  },
  {
   "cell_type": "code",
   "execution_count": 207,
   "metadata": {},
   "outputs": [
    {
     "data": {
      "text/html": [
       "<div>\n",
       "<style scoped>\n",
       "    .dataframe tbody tr th:only-of-type {\n",
       "        vertical-align: middle;\n",
       "    }\n",
       "\n",
       "    .dataframe tbody tr th {\n",
       "        vertical-align: top;\n",
       "    }\n",
       "\n",
       "    .dataframe thead th {\n",
       "        text-align: right;\n",
       "    }\n",
       "</style>\n",
       "<table border=\"1\" class=\"dataframe\">\n",
       "  <thead>\n",
       "    <tr style=\"text-align: right;\">\n",
       "      <th></th>\n",
       "      <th>MSE train</th>\n",
       "      <th>MSE test</th>\n",
       "      <th>Inclusion Error</th>\n",
       "      <th>Exclusion Error</th>\n",
       "      <th>Comments</th>\n",
       "    </tr>\n",
       "  </thead>\n",
       "  <tbody>\n",
       "    <tr>\n",
       "      <th>OLS</th>\n",
       "      <td>0.192085</td>\n",
       "      <td>0.189763</td>\n",
       "      <td>0.0762955</td>\n",
       "      <td>0.0705623</td>\n",
       "      <td>n.a.</td>\n",
       "    </tr>\n",
       "    <tr>\n",
       "      <th>Lasso</th>\n",
       "      <td>NaN</td>\n",
       "      <td>NaN</td>\n",
       "      <td>NaN</td>\n",
       "      <td>NaN</td>\n",
       "      <td>NaN</td>\n",
       "    </tr>\n",
       "    <tr>\n",
       "      <th>Ridge</th>\n",
       "      <td>NaN</td>\n",
       "      <td>NaN</td>\n",
       "      <td>NaN</td>\n",
       "      <td>NaN</td>\n",
       "      <td>NaN</td>\n",
       "    </tr>\n",
       "    <tr>\n",
       "      <th>Basis Expansion: Lasso</th>\n",
       "      <td>NaN</td>\n",
       "      <td>NaN</td>\n",
       "      <td>NaN</td>\n",
       "      <td>NaN</td>\n",
       "      <td>NaN</td>\n",
       "    </tr>\n",
       "    <tr>\n",
       "      <th>Basis Expansion: Ridge</th>\n",
       "      <td>NaN</td>\n",
       "      <td>NaN</td>\n",
       "      <td>NaN</td>\n",
       "      <td>NaN</td>\n",
       "      <td>NaN</td>\n",
       "    </tr>\n",
       "    <tr>\n",
       "      <th>Basis Expansion: Ealstic Net</th>\n",
       "      <td>NaN</td>\n",
       "      <td>NaN</td>\n",
       "      <td>NaN</td>\n",
       "      <td>NaN</td>\n",
       "      <td>NaN</td>\n",
       "    </tr>\n",
       "    <tr>\n",
       "      <th>Elastic Net (Lasso + Ridge)</th>\n",
       "      <td>NaN</td>\n",
       "      <td>NaN</td>\n",
       "      <td>NaN</td>\n",
       "      <td>NaN</td>\n",
       "      <td>NaN</td>\n",
       "    </tr>\n",
       "    <tr>\n",
       "      <th>Random Forest Regressor</th>\n",
       "      <td>NaN</td>\n",
       "      <td>NaN</td>\n",
       "      <td>NaN</td>\n",
       "      <td>NaN</td>\n",
       "      <td>NaN</td>\n",
       "    </tr>\n",
       "    <tr>\n",
       "      <th>kNN</th>\n",
       "      <td>NaN</td>\n",
       "      <td>NaN</td>\n",
       "      <td>NaN</td>\n",
       "      <td>NaN</td>\n",
       "      <td>NaN</td>\n",
       "    </tr>\n",
       "    <tr>\n",
       "      <th>Neural Network</th>\n",
       "      <td>NaN</td>\n",
       "      <td>NaN</td>\n",
       "      <td>NaN</td>\n",
       "      <td>NaN</td>\n",
       "      <td>NaN</td>\n",
       "    </tr>\n",
       "  </tbody>\n",
       "</table>\n",
       "</div>"
      ],
      "text/plain": [
       "                             MSE train  MSE test Inclusion Error  \\\n",
       "OLS                           0.192085  0.189763       0.0762955   \n",
       "Lasso                              NaN       NaN             NaN   \n",
       "Ridge                              NaN       NaN             NaN   \n",
       "Basis Expansion: Lasso             NaN       NaN             NaN   \n",
       "Basis Expansion: Ridge             NaN       NaN             NaN   \n",
       "Basis Expansion: Ealstic Net       NaN       NaN             NaN   \n",
       "Elastic Net (Lasso + Ridge)        NaN       NaN             NaN   \n",
       "Random Forest Regressor            NaN       NaN             NaN   \n",
       "kNN                                NaN       NaN             NaN   \n",
       "Neural Network                     NaN       NaN             NaN   \n",
       "\n",
       "                             Exclusion Error Comments  \n",
       "OLS                                0.0705623     n.a.  \n",
       "Lasso                                    NaN      NaN  \n",
       "Ridge                                    NaN      NaN  \n",
       "Basis Expansion: Lasso                   NaN      NaN  \n",
       "Basis Expansion: Ridge                   NaN      NaN  \n",
       "Basis Expansion: Ealstic Net             NaN      NaN  \n",
       "Elastic Net (Lasso + Ridge)              NaN      NaN  \n",
       "Random Forest Regressor                  NaN      NaN  \n",
       "kNN                                      NaN      NaN  \n",
       "Neural Network                           NaN      NaN  "
      ]
     },
     "execution_count": 207,
     "metadata": {},
     "output_type": "execute_result"
    }
   ],
   "source": [
    "# insert some vaues to the table\n",
    "from sklearn.metrics import mean_squared_error\n",
    "\n",
    "results.loc[\"OLS\"] = ([mean_squared_error(y_train, prediction_train),mean_squared_error(y_test, prediction),inex(prediction, y_test,28,incl=True, err = True), inex(prediction, y_test, 28,incl=False, err = True), \"n.a.\"])\n",
    "\n",
    "results"
   ]
  },
  {
   "cell_type": "code",
   "execution_count": 271,
   "metadata": {},
   "outputs": [
    {
     "data": {
      "text/plain": [
       "(3.0, 9.0)"
      ]
     },
     "execution_count": 271,
     "metadata": {},
     "output_type": "execute_result"
    },
    {
     "data": {
      "image/png": "[encoded data removed]",
      "text/plain": [
       "<Figure size 432x504 with 1 Axes>"
      ]
     },
     "metadata": {
      "needs_background": "light"
     },
     "output_type": "display_data"
    }
   ],
   "source": [
    "import matplotlib.pyplot as plt\n",
    "\n",
    "lim_start = 3\n",
    "lim_end = 9\n",
    "\n",
    "plt.figure(1,figsize = (6,7))\n",
    "g=plt.scatter(prediction, y_test, alpha = 0.3, marker = '+')\n",
    "#g.axes.set_yscale('log')\n",
    "#g.axes.set_xscale('log')\n",
    "plt.plot([lim_start, lim_end], [lim_start, lim_end], 'k--', color = 'r')\n",
    "plt.hlines(np.percentile(prediction,28), lim_start, lim_end)\n",
    "plt.vlines(np.percentile(prediction,28), lim_start, lim_end)\n",
    "g.axes.set_xlabel('Predicted log per-capita monthly consumption (soles)')\n",
    "g.axes.set_ylabel('Actual log per-capita monthly consumption (soles)')\n",
    "g.axes.axis('equal')\n",
    "g.axes.axis('square')\n",
    "plt.text(5.5, 4, 'Correct inclusion',\n",
    "        verticalalignment='bottom', horizontalalignment='right',\n",
    "        color='black', fontsize=10)\n",
    "plt.text(5.5, 8, 'Inclusion Error',\n",
    "        verticalalignment='bottom', horizontalalignment='right',\n",
    "        color='black', fontsize=10)\n",
    "plt.text(5.5, 8, 'Inclusion Error',\n",
    "        verticalalignment='bottom', horizontalalignment='right',\n",
    "        color='black', fontsize=10)\n",
    "plt.text(9, 8, 'Correct Exclusion',\n",
    "        verticalalignment='bottom', horizontalalignment='right',\n",
    "        color='black', fontsize=10)\n",
    "plt.text(9, 4, 'Exclusion Error',\n",
    "        verticalalignment='bottom', horizontalalignment='right',\n",
    "        color='black', fontsize=10)\n",
    "\n",
    "plt.xlim([lim_start, lim_end])\n",
    "plt.ylim([lim_start, lim_end])"
   ]
  },
  {
   "cell_type": "code",
   "execution_count": 209,
   "metadata": {},
   "outputs": [
    {
     "name": "stdout",
     "output_type": "stream",
     "text": [
      "{'alpha': 10}\n",
      "-0.19362585540139293\n",
      "0.1920943091433739\n",
      "0.1898650844509743\n"
     ]
    }
   ],
   "source": [
    "from sklearn.model_selection import GridSearchCV\n",
    "ridge = Ridge()\n",
    "parameters = {\"alpha\" :[ 1e-8, 1e-4, 1e-3, 1e-2, 1, 5, 10, 20] }\n",
    "ridge_regressor = GridSearchCV(ridge, parameters,scoring = \"neg_mean_squared_error\", cv = 5 )\n",
    "mod = ridge_regressor.fit(X_train, y_train)\n",
    "pred_train = mod.predict(X_train)\n",
    "pred_test = mod.predict(X_test)\n",
    "print(ridge_regressor.best_params_)\n",
    "print(ridge_regressor.best_score_)\n",
    "print(mean_squared_error(y_train, pred_train))\n",
    "print(mean_squared_error(y_test, pred_test))"
   ]
  },
  {
   "cell_type": "code",
   "execution_count": 210,
   "metadata": {},
   "outputs": [
    {
     "data": {
      "text/html": [
       "<div>\n",
       "<style scoped>\n",
       "    .dataframe tbody tr th:only-of-type {\n",
       "        vertical-align: middle;\n",
       "    }\n",
       "\n",
       "    .dataframe tbody tr th {\n",
       "        vertical-align: top;\n",
       "    }\n",
       "\n",
       "    .dataframe thead th {\n",
       "        text-align: right;\n",
       "    }\n",
       "</style>\n",
       "<table border=\"1\" class=\"dataframe\">\n",
       "  <thead>\n",
       "    <tr style=\"text-align: right;\">\n",
       "      <th></th>\n",
       "      <th>MSE train</th>\n",
       "      <th>MSE test</th>\n",
       "      <th>Inclusion Error</th>\n",
       "      <th>Exclusion Error</th>\n",
       "      <th>Comments</th>\n",
       "    </tr>\n",
       "  </thead>\n",
       "  <tbody>\n",
       "    <tr>\n",
       "      <th>OLS</th>\n",
       "      <td>0.192085</td>\n",
       "      <td>0.189763</td>\n",
       "      <td>0.0762955</td>\n",
       "      <td>0.0705623</td>\n",
       "      <td>n.a.</td>\n",
       "    </tr>\n",
       "    <tr>\n",
       "      <th>Lasso</th>\n",
       "      <td>NaN</td>\n",
       "      <td>NaN</td>\n",
       "      <td>NaN</td>\n",
       "      <td>NaN</td>\n",
       "      <td>NaN</td>\n",
       "    </tr>\n",
       "    <tr>\n",
       "      <th>Ridge</th>\n",
       "      <td>0.192094</td>\n",
       "      <td>0.189865</td>\n",
       "      <td>0.075634</td>\n",
       "      <td>0.0705623</td>\n",
       "      <td>$\\alpha = 10$</td>\n",
       "    </tr>\n",
       "    <tr>\n",
       "      <th>Basis Expansion: Lasso</th>\n",
       "      <td>NaN</td>\n",
       "      <td>NaN</td>\n",
       "      <td>NaN</td>\n",
       "      <td>NaN</td>\n",
       "      <td>NaN</td>\n",
       "    </tr>\n",
       "    <tr>\n",
       "      <th>Basis Expansion: Ridge</th>\n",
       "      <td>NaN</td>\n",
       "      <td>NaN</td>\n",
       "      <td>NaN</td>\n",
       "      <td>NaN</td>\n",
       "      <td>NaN</td>\n",
       "    </tr>\n",
       "    <tr>\n",
       "      <th>Basis Expansion: Ealstic Net</th>\n",
       "      <td>NaN</td>\n",
       "      <td>NaN</td>\n",
       "      <td>NaN</td>\n",
       "      <td>NaN</td>\n",
       "      <td>NaN</td>\n",
       "    </tr>\n",
       "    <tr>\n",
       "      <th>Elastic Net (Lasso + Ridge)</th>\n",
       "      <td>NaN</td>\n",
       "      <td>NaN</td>\n",
       "      <td>NaN</td>\n",
       "      <td>NaN</td>\n",
       "      <td>NaN</td>\n",
       "    </tr>\n",
       "    <tr>\n",
       "      <th>Random Forest Regressor</th>\n",
       "      <td>NaN</td>\n",
       "      <td>NaN</td>\n",
       "      <td>NaN</td>\n",
       "      <td>NaN</td>\n",
       "      <td>NaN</td>\n",
       "    </tr>\n",
       "    <tr>\n",
       "      <th>kNN</th>\n",
       "      <td>NaN</td>\n",
       "      <td>NaN</td>\n",
       "      <td>NaN</td>\n",
       "      <td>NaN</td>\n",
       "      <td>NaN</td>\n",
       "    </tr>\n",
       "    <tr>\n",
       "      <th>Neural Network</th>\n",
       "      <td>NaN</td>\n",
       "      <td>NaN</td>\n",
       "      <td>NaN</td>\n",
       "      <td>NaN</td>\n",
       "      <td>NaN</td>\n",
       "    </tr>\n",
       "  </tbody>\n",
       "</table>\n",
       "</div>"
      ],
      "text/plain": [
       "                             MSE train  MSE test Inclusion Error  \\\n",
       "OLS                           0.192085  0.189763       0.0762955   \n",
       "Lasso                              NaN       NaN             NaN   \n",
       "Ridge                         0.192094  0.189865        0.075634   \n",
       "Basis Expansion: Lasso             NaN       NaN             NaN   \n",
       "Basis Expansion: Ridge             NaN       NaN             NaN   \n",
       "Basis Expansion: Ealstic Net       NaN       NaN             NaN   \n",
       "Elastic Net (Lasso + Ridge)        NaN       NaN             NaN   \n",
       "Random Forest Regressor            NaN       NaN             NaN   \n",
       "kNN                                NaN       NaN             NaN   \n",
       "Neural Network                     NaN       NaN             NaN   \n",
       "\n",
       "                             Exclusion Error       Comments  \n",
       "OLS                                0.0705623           n.a.  \n",
       "Lasso                                    NaN            NaN  \n",
       "Ridge                              0.0705623  $\\alpha = 10$  \n",
       "Basis Expansion: Lasso                   NaN            NaN  \n",
       "Basis Expansion: Ridge                   NaN            NaN  \n",
       "Basis Expansion: Ealstic Net             NaN            NaN  \n",
       "Elastic Net (Lasso + Ridge)              NaN            NaN  \n",
       "Random Forest Regressor                  NaN            NaN  \n",
       "kNN                                      NaN            NaN  \n",
       "Neural Network                           NaN            NaN  "
      ]
     },
     "execution_count": 210,
     "metadata": {},
     "output_type": "execute_result"
    }
   ],
   "source": [
    "results.loc[\"Ridge\"] = ([mean_squared_error(y_train, pred_train),\n",
    "                         mean_squared_error(y_test, pred_test),\n",
    "                         inex( pred_test,y_test,28,incl = True, err = True),\n",
    "                         inex( pred_test,y_test,28,incl = False, err = True), \n",
    "                         r'$\\alpha = {}$'.format(ridge_regressor.best_params_['alpha'])])\n",
    "results"
   ]
  },
  {
   "cell_type": "code",
   "execution_count": 211,
   "metadata": {},
   "outputs": [
    {
     "data": {
      "text/plain": [
       "(3.0, 9.0)"
      ]
     },
     "execution_count": 211,
     "metadata": {},
     "output_type": "execute_result"
    },
    {
     "data": {
      "image/png": "[encoded data removed]",
      "text/plain": [
       "<Figure size 864x720 with 1 Axes>"
      ]
     },
     "metadata": {
      "needs_background": "light"
     },
     "output_type": "display_data"
    }
   ],
   "source": [
    "import matplotlib.pyplot as plt\n",
    "\n",
    "lim_start = 3\n",
    "lim_end = 9\n",
    "\n",
    "plt.figure(1,figsize = (12,10))\n",
    "g=plt.scatter(mod.predict(X_test), y_test, alpha = 0.3, marker = '+')\n",
    "#g.axes.set_yscale('log')\n",
    "#g.axes.set_xscale('log')\n",
    "plt.plot([lim_start, lim_end], [lim_start, lim_end], 'k--', color = 'r')\n",
    "plt.hlines(np.percentile(prediction,28), lim_start, lim_end)\n",
    "plt.vlines(np.percentile(prediction,28), lim_start, lim_end)\n",
    "g.axes.set_xlabel('Predicted log per-capita monthly consumption (soles)')\n",
    "g.axes.set_ylabel('Actual log per-capita monthly consumption (soles)')\n",
    "g.axes.axis('equal')\n",
    "g.axes.axis('square')\n",
    "plt.text(5.5, 4, 'Correct inclusion',\n",
    "        verticalalignment='bottom', horizontalalignment='right',\n",
    "        color='black', fontsize=10)\n",
    "plt.text(5.5, 8, 'Inclusion Error',\n",
    "        verticalalignment='bottom', horizontalalignment='right',\n",
    "        color='black', fontsize=10)\n",
    "plt.text(5.5, 8, 'Inclusion Error',\n",
    "        verticalalignment='bottom', horizontalalignment='right',\n",
    "        color='black', fontsize=10)\n",
    "plt.text(9, 8, 'Correct Exclusion',\n",
    "        verticalalignment='bottom', horizontalalignment='right',\n",
    "        color='black', fontsize=10)\n",
    "plt.text(9, 4, 'Exclusion Error',\n",
    "        verticalalignment='bottom', horizontalalignment='right',\n",
    "        color='black', fontsize=10)\n",
    "\n",
    "plt.xlim([lim_start, lim_end])\n",
    "plt.ylim([lim_start, lim_end])"
   ]
  },
  {
   "cell_type": "code",
   "execution_count": 280,
   "metadata": {},
   "outputs": [
    {
     "name": "stdout",
     "output_type": "stream",
     "text": [
      "0.192096529408757\n",
      "0.18984590629918996\n"
     ]
    }
   ],
   "source": [
    "import numpy as np\n",
    "import matplotlib.pyplot as plt\n",
    "\n",
    "from sklearn import datasets\n",
    "from sklearn.linear_model import LassoCV, ElasticNet\n",
    "from sklearn.linear_model import Lasso\n",
    "from sklearn.model_selection import KFold\n",
    "from sklearn.model_selection import GridSearchCV\n",
    "\n",
    "lasso = Lasso(random_state=0, max_iter=10000)\n",
    "elasticNet = ElasticNet(random_state = 0)\n",
    "ridge = Ridge()\n",
    "alphas = np.logspace(-4, -0.5, 30)\n",
    "\n",
    "tuned_parameters = [{'alpha': alphas}]\n",
    "n_folds = 5\n",
    "\n",
    "clf = GridSearchCV(elasticNet, tuned_parameters, cv=n_folds, refit=False)\n",
    "best_alpha = 0.0001\n",
    "clf2 = ElasticNet(best_alpha)\n",
    "mod = clf2.fit(X_train, y_train)\n",
    "#scores = clf.cv_results_['mean_test_score']\n",
    "#scores_std = clf.cv_results_['std_test_score']\n",
    "\n",
    "print(mean_squared_error(y_train, mod.predict(X_train)))\n",
    "print(mean_squared_error(y_test, mod.predict(X_test)))"
   ]
  },
  {
   "cell_type": "code",
   "execution_count": 213,
   "metadata": {},
   "outputs": [
    {
     "data": {
      "text/html": [
       "<div>\n",
       "<style scoped>\n",
       "    .dataframe tbody tr th:only-of-type {\n",
       "        vertical-align: middle;\n",
       "    }\n",
       "\n",
       "    .dataframe tbody tr th {\n",
       "        vertical-align: top;\n",
       "    }\n",
       "\n",
       "    .dataframe thead th {\n",
       "        text-align: right;\n",
       "    }\n",
       "</style>\n",
       "<table border=\"1\" class=\"dataframe\">\n",
       "  <thead>\n",
       "    <tr style=\"text-align: right;\">\n",
       "      <th></th>\n",
       "      <th>MSE train</th>\n",
       "      <th>MSE test</th>\n",
       "      <th>Inclusion Error</th>\n",
       "      <th>Exclusion Error</th>\n",
       "      <th>Comments</th>\n",
       "    </tr>\n",
       "  </thead>\n",
       "  <tbody>\n",
       "    <tr>\n",
       "      <th>OLS</th>\n",
       "      <td>0.192085</td>\n",
       "      <td>0.189763</td>\n",
       "      <td>0.0762955</td>\n",
       "      <td>0.0705623</td>\n",
       "      <td>n.a.</td>\n",
       "    </tr>\n",
       "    <tr>\n",
       "      <th>Lasso</th>\n",
       "      <td>0.192097</td>\n",
       "      <td>0.189846</td>\n",
       "      <td>0.075634</td>\n",
       "      <td>0.0705623</td>\n",
       "      <td>$\\alpha$ = 0.0001</td>\n",
       "    </tr>\n",
       "    <tr>\n",
       "      <th>Ridge</th>\n",
       "      <td>0.192094</td>\n",
       "      <td>0.189865</td>\n",
       "      <td>0.075634</td>\n",
       "      <td>0.0705623</td>\n",
       "      <td>$\\alpha = 10$</td>\n",
       "    </tr>\n",
       "    <tr>\n",
       "      <th>Basis Expansion: Lasso</th>\n",
       "      <td>NaN</td>\n",
       "      <td>NaN</td>\n",
       "      <td>NaN</td>\n",
       "      <td>NaN</td>\n",
       "      <td>NaN</td>\n",
       "    </tr>\n",
       "    <tr>\n",
       "      <th>Basis Expansion: Ridge</th>\n",
       "      <td>NaN</td>\n",
       "      <td>NaN</td>\n",
       "      <td>NaN</td>\n",
       "      <td>NaN</td>\n",
       "      <td>NaN</td>\n",
       "    </tr>\n",
       "    <tr>\n",
       "      <th>Basis Expansion: Ealstic Net</th>\n",
       "      <td>NaN</td>\n",
       "      <td>NaN</td>\n",
       "      <td>NaN</td>\n",
       "      <td>NaN</td>\n",
       "      <td>NaN</td>\n",
       "    </tr>\n",
       "    <tr>\n",
       "      <th>Elastic Net (Lasso + Ridge)</th>\n",
       "      <td>NaN</td>\n",
       "      <td>NaN</td>\n",
       "      <td>NaN</td>\n",
       "      <td>NaN</td>\n",
       "      <td>NaN</td>\n",
       "    </tr>\n",
       "    <tr>\n",
       "      <th>Random Forest Regressor</th>\n",
       "      <td>NaN</td>\n",
       "      <td>NaN</td>\n",
       "      <td>NaN</td>\n",
       "      <td>NaN</td>\n",
       "      <td>NaN</td>\n",
       "    </tr>\n",
       "    <tr>\n",
       "      <th>kNN</th>\n",
       "      <td>NaN</td>\n",
       "      <td>NaN</td>\n",
       "      <td>NaN</td>\n",
       "      <td>NaN</td>\n",
       "      <td>NaN</td>\n",
       "    </tr>\n",
       "    <tr>\n",
       "      <th>Neural Network</th>\n",
       "      <td>NaN</td>\n",
       "      <td>NaN</td>\n",
       "      <td>NaN</td>\n",
       "      <td>NaN</td>\n",
       "      <td>NaN</td>\n",
       "    </tr>\n",
       "  </tbody>\n",
       "</table>\n",
       "</div>"
      ],
      "text/plain": [
       "                             MSE train  MSE test Inclusion Error  \\\n",
       "OLS                           0.192085  0.189763       0.0762955   \n",
       "Lasso                         0.192097  0.189846        0.075634   \n",
       "Ridge                         0.192094  0.189865        0.075634   \n",
       "Basis Expansion: Lasso             NaN       NaN             NaN   \n",
       "Basis Expansion: Ridge             NaN       NaN             NaN   \n",
       "Basis Expansion: Ealstic Net       NaN       NaN             NaN   \n",
       "Elastic Net (Lasso + Ridge)        NaN       NaN             NaN   \n",
       "Random Forest Regressor            NaN       NaN             NaN   \n",
       "kNN                                NaN       NaN             NaN   \n",
       "Neural Network                     NaN       NaN             NaN   \n",
       "\n",
       "                             Exclusion Error           Comments  \n",
       "OLS                                0.0705623               n.a.  \n",
       "Lasso                              0.0705623  $\\alpha$ = 0.0001  \n",
       "Ridge                              0.0705623      $\\alpha = 10$  \n",
       "Basis Expansion: Lasso                   NaN                NaN  \n",
       "Basis Expansion: Ridge                   NaN                NaN  \n",
       "Basis Expansion: Ealstic Net             NaN                NaN  \n",
       "Elastic Net (Lasso + Ridge)              NaN                NaN  \n",
       "Random Forest Regressor                  NaN                NaN  \n",
       "kNN                                      NaN                NaN  \n",
       "Neural Network                           NaN                NaN  "
      ]
     },
     "execution_count": 213,
     "metadata": {},
     "output_type": "execute_result"
    }
   ],
   "source": [
    "results.loc[\"Lasso\"] = ([mean_squared_error(y_train,mod.predict(X_train)),\n",
    "                         mean_squared_error(y_test, mod.predict(X_test)),\n",
    "                         inex(mod.predict(X_test),y_test,28, incl = True, err = True),\n",
    "                         inex(mod.predict(X_test),y_test,28, incl = False, err = True),\n",
    "                         r'$\\alpha$ = {}'.format(best_alpha)])\n",
    "results"
   ]
  },
  {
   "cell_type": "code",
   "execution_count": 285,
   "metadata": {},
   "outputs": [
    {
     "data": {
      "image/png": "[encoded data removed]",
      "text/plain": [
       "<Figure size 360x360 with 1 Axes>"
      ]
     },
     "metadata": {
      "needs_background": "light"
     },
     "output_type": "display_data"
    }
   ],
   "source": [
    "import matplotlib.pyplot as plt\n",
    "\n",
    "lim_start = 3\n",
    "lim_end = 9\n",
    "\n",
    "plt.figure(1,figsize = (5,5))\n",
    "g=plt.scatter(mod.predict(X_test), y_test, alpha = 0.3, marker = '+')\n",
    "#g.axes.set_yscale('log')\n",
    "#g.axes.set_xscale('log')\n",
    "plt.plot([lim_start, lim_end], [lim_start, lim_end], 'k--', color = 'r')\n",
    "plt.hlines(np.percentile(prediction,28), lim_start+0.25, lim_end-0.25)\n",
    "plt.vlines(np.percentile(prediction,28), lim_start+0.25, lim_end-0.25)\n",
    "g.axes.set_xlabel('Predicted log per-capita monthly consumption (soles)')\n",
    "g.axes.set_ylabel('Actual log per-capita monthly consumption (soles)')\n",
    "g.axes.axis('equal')\n",
    "g.axes.axis('square')\n",
    "plt.text(5, 4, 'Correct inclusion',\n",
    "        verticalalignment='bottom', horizontalalignment='right',\n",
    "        color='black', fontsize=10)\n",
    "plt.text(5, 8, 'Inclusion Error',\n",
    "        verticalalignment='bottom', horizontalalignment='right',\n",
    "        color='black', fontsize=10)\n",
    "plt.text(8, 8, 'Correct Exclusion',\n",
    "        verticalalignment='bottom', horizontalalignment='right',\n",
    "        color='black', fontsize=10)\n",
    "plt.text(8, 4, 'Exclusion Error',\n",
    "        verticalalignment='bottom', horizontalalignment='right',\n",
    "        color='black', fontsize=10)\n",
    "\n",
    "plt.xlim([lim_start, lim_end])\n",
    "plt.ylim([lim_start, lim_end])\n",
    "\n",
    "plt.savefig('inex_Lasso.png')"
   ]
  },
  {
   "cell_type": "code",
   "execution_count": null,
   "metadata": {},
   "outputs": [],
   "source": [
    "import matplotlib.pyplot as plt\n",
    "\n",
    "lim_start = 3\n",
    "lim_end = 9\n",
    "plt.figure(1,figsize = (5,5))\n",
    "g=plt.scatter(mod.predict(X_test), data_train.dropna(axis=0)[\"lnpercapitaconsumption\"],alpha = 0.3, marker = '+')\n",
    "#g.axes.set_yscale('log')\n",
    "#g.axes.set_xscale('log')\n",
    "plt.plot([lim_start, lim_end], [lim_start, lim_end], 'k--', color = 'r')\n",
    "plt.hlines(np.percentile(y_predicted,28), lim_start+0.25, lim_end-0.25)\n",
    "plt.vlines(np.percentile(y_predicted,28), lim_start+0.25, lim_end-0.25)\n",
    "g.axes.set_xlabel('Predicted log per-capita monthly consumption (soles)')\n",
    "g.axes.set_ylabel('Actual log per-capita monthly consumption (soles)')\n",
    "g.axes.axis('equal')\n",
    "g.axes.axis('square')\n",
    "plt.text(5, 4, 'Correct inclusion',\n",
    "        verticalalignment='bottom', horizontalalignment='right',\n",
    "        color='black', fontsize=10)\n",
    "plt.text(5, 8, 'Inclusion Error',\n",
    "        verticalalignment='bottom', horizontalalignment='right',\n",
    "        color='black', fontsize=10)\n",
    "plt.text(8, 8, 'Correct Exclusion',\n",
    "        verticalalignment='bottom', horizontalalignment='right',\n",
    "        color='black', fontsize=10)\n",
    "plt.text(8, 4, 'Exclusion Error',\n",
    "        verticalalignment='bottom', horizontalalignment='right',\n",
    "        color='black', fontsize=10)\n",
    "\n",
    "plt.xlim([lim_start, lim_end])\n",
    "plt.ylim([lim_start, lim_end])\n",
    "\n",
    "plt.savefig('inex_OLS.png')"
   ]
  },
  {
   "cell_type": "markdown",
   "metadata": {},
   "source": [
    "## Lets try some kNN Regression"
   ]
  },
  {
   "cell_type": "code",
   "execution_count": 214,
   "metadata": {},
   "outputs": [],
   "source": [
    "from sklearn.neighbors import KNeighborsRegressor\n",
    "\n",
    "k = 4\n",
    "weights = \"uniform\" # or \"uniform\" or \"distance\"\n",
    "knnmodel = KNeighborsRegressor(n_neighbors = k, weights = weights)\n",
    "fit = knnmodel.fit(X_train,y_train)\n",
    "knn_prediction = knnmodel.predict(X_test)"
   ]
  },
  {
   "cell_type": "code",
   "execution_count": 215,
   "metadata": {},
   "outputs": [
    {
     "name": "stdout",
     "output_type": "stream",
     "text": [
      "0.14500226166785263\n",
      "0.23569485470119544\n"
     ]
    }
   ],
   "source": [
    "# print kNN regression MSEs\n",
    "print(mean_squared_error(y_train, knnmodel.predict(X_train)))\n",
    "print(mean_squared_error(y_test, knnmodel.predict(X_test)))"
   ]
  },
  {
   "cell_type": "code",
   "execution_count": 216,
   "metadata": {},
   "outputs": [
    {
     "data": {
      "text/html": [
       "<div>\n",
       "<style scoped>\n",
       "    .dataframe tbody tr th:only-of-type {\n",
       "        vertical-align: middle;\n",
       "    }\n",
       "\n",
       "    .dataframe tbody tr th {\n",
       "        vertical-align: top;\n",
       "    }\n",
       "\n",
       "    .dataframe thead th {\n",
       "        text-align: right;\n",
       "    }\n",
       "</style>\n",
       "<table border=\"1\" class=\"dataframe\">\n",
       "  <thead>\n",
       "    <tr style=\"text-align: right;\">\n",
       "      <th></th>\n",
       "      <th>MSE train</th>\n",
       "      <th>MSE test</th>\n",
       "      <th>Inclusion Error</th>\n",
       "      <th>Exclusion Error</th>\n",
       "      <th>Comments</th>\n",
       "    </tr>\n",
       "  </thead>\n",
       "  <tbody>\n",
       "    <tr>\n",
       "      <th>OLS</th>\n",
       "      <td>0.192085</td>\n",
       "      <td>0.189763</td>\n",
       "      <td>0.0762955</td>\n",
       "      <td>0.0705623</td>\n",
       "      <td>n.a.</td>\n",
       "    </tr>\n",
       "    <tr>\n",
       "      <th>Lasso</th>\n",
       "      <td>0.192097</td>\n",
       "      <td>0.189846</td>\n",
       "      <td>0.075634</td>\n",
       "      <td>0.0705623</td>\n",
       "      <td>$\\alpha$ = 0.0001</td>\n",
       "    </tr>\n",
       "    <tr>\n",
       "      <th>Ridge</th>\n",
       "      <td>0.192094</td>\n",
       "      <td>0.189865</td>\n",
       "      <td>0.075634</td>\n",
       "      <td>0.0705623</td>\n",
       "      <td>$\\alpha = 10$</td>\n",
       "    </tr>\n",
       "    <tr>\n",
       "      <th>Basis Expansion: Lasso</th>\n",
       "      <td>NaN</td>\n",
       "      <td>NaN</td>\n",
       "      <td>NaN</td>\n",
       "      <td>NaN</td>\n",
       "      <td>NaN</td>\n",
       "    </tr>\n",
       "    <tr>\n",
       "      <th>Basis Expansion: Ridge</th>\n",
       "      <td>NaN</td>\n",
       "      <td>NaN</td>\n",
       "      <td>NaN</td>\n",
       "      <td>NaN</td>\n",
       "      <td>NaN</td>\n",
       "    </tr>\n",
       "    <tr>\n",
       "      <th>Basis Expansion: Ealstic Net</th>\n",
       "      <td>NaN</td>\n",
       "      <td>NaN</td>\n",
       "      <td>NaN</td>\n",
       "      <td>NaN</td>\n",
       "      <td>NaN</td>\n",
       "    </tr>\n",
       "    <tr>\n",
       "      <th>Elastic Net (Lasso + Ridge)</th>\n",
       "      <td>NaN</td>\n",
       "      <td>NaN</td>\n",
       "      <td>NaN</td>\n",
       "      <td>NaN</td>\n",
       "      <td>NaN</td>\n",
       "    </tr>\n",
       "    <tr>\n",
       "      <th>Random Forest Regressor</th>\n",
       "      <td>NaN</td>\n",
       "      <td>NaN</td>\n",
       "      <td>NaN</td>\n",
       "      <td>NaN</td>\n",
       "      <td>NaN</td>\n",
       "    </tr>\n",
       "    <tr>\n",
       "      <th>kNN</th>\n",
       "      <td>0.145002</td>\n",
       "      <td>0.235695</td>\n",
       "      <td>0.0886439</td>\n",
       "      <td>0.0800441</td>\n",
       "      <td>k = 4, weights = uniform</td>\n",
       "    </tr>\n",
       "    <tr>\n",
       "      <th>Neural Network</th>\n",
       "      <td>NaN</td>\n",
       "      <td>NaN</td>\n",
       "      <td>NaN</td>\n",
       "      <td>NaN</td>\n",
       "      <td>NaN</td>\n",
       "    </tr>\n",
       "  </tbody>\n",
       "</table>\n",
       "</div>"
      ],
      "text/plain": [
       "                             MSE train  MSE test Inclusion Error  \\\n",
       "OLS                           0.192085  0.189763       0.0762955   \n",
       "Lasso                         0.192097  0.189846        0.075634   \n",
       "Ridge                         0.192094  0.189865        0.075634   \n",
       "Basis Expansion: Lasso             NaN       NaN             NaN   \n",
       "Basis Expansion: Ridge             NaN       NaN             NaN   \n",
       "Basis Expansion: Ealstic Net       NaN       NaN             NaN   \n",
       "Elastic Net (Lasso + Ridge)        NaN       NaN             NaN   \n",
       "Random Forest Regressor            NaN       NaN             NaN   \n",
       "kNN                           0.145002  0.235695       0.0886439   \n",
       "Neural Network                     NaN       NaN             NaN   \n",
       "\n",
       "                             Exclusion Error                  Comments  \n",
       "OLS                                0.0705623                      n.a.  \n",
       "Lasso                              0.0705623         $\\alpha$ = 0.0001  \n",
       "Ridge                              0.0705623             $\\alpha = 10$  \n",
       "Basis Expansion: Lasso                   NaN                       NaN  \n",
       "Basis Expansion: Ridge                   NaN                       NaN  \n",
       "Basis Expansion: Ealstic Net             NaN                       NaN  \n",
       "Elastic Net (Lasso + Ridge)              NaN                       NaN  \n",
       "Random Forest Regressor                  NaN                       NaN  \n",
       "kNN                                0.0800441  k = 4, weights = uniform  \n",
       "Neural Network                           NaN                       NaN  "
      ]
     },
     "execution_count": 216,
     "metadata": {},
     "output_type": "execute_result"
    }
   ],
   "source": [
    "results.loc[\"kNN\"] = ([mean_squared_error(y_train, knnmodel.predict(X_train)),\n",
    "                       mean_squared_error(y_test, knnmodel.predict(X_test)),\n",
    "                       inex(knnmodel.predict(X_test),y_test,28, incl = True, err = True),\n",
    "                       inex(knnmodel.predict(X_test),y_test,28, incl = False, err = True),\n",
    "                       'k = {}, weights = uniform'.format(k) ])\n",
    "results"
   ]
  },
  {
   "cell_type": "markdown",
   "metadata": {},
   "source": [
    "## Random Forest Regressor"
   ]
  },
  {
   "cell_type": "code",
   "execution_count": 217,
   "metadata": {},
   "outputs": [],
   "source": [
    "from sklearn.ensemble import RandomForestRegressor\n",
    "from sklearn.datasets import make_regression"
   ]
  },
  {
   "cell_type": "code",
   "execution_count": 218,
   "metadata": {},
   "outputs": [
    {
     "name": "stdout",
     "output_type": "stream",
     "text": [
      "0.07376943193435834\n",
      "0.19265546942143097\n"
     ]
    }
   ],
   "source": [
    "regr = RandomForestRegressor(max_depth = 20, random_state = 0, max_features = 'sqrt', n_estimators = 500)\n",
    "model = regr.fit(X_train, y_train)\n",
    "print(mean_squared_error(y_train, model.predict(X_train)))\n",
    "print(mean_squared_error(y_test, model.predict(X_test)))"
   ]
  },
  {
   "cell_type": "code",
   "execution_count": 219,
   "metadata": {},
   "outputs": [
    {
     "data": {
      "text/html": [
       "<div>\n",
       "<style scoped>\n",
       "    .dataframe tbody tr th:only-of-type {\n",
       "        vertical-align: middle;\n",
       "    }\n",
       "\n",
       "    .dataframe tbody tr th {\n",
       "        vertical-align: top;\n",
       "    }\n",
       "\n",
       "    .dataframe thead th {\n",
       "        text-align: right;\n",
       "    }\n",
       "</style>\n",
       "<table border=\"1\" class=\"dataframe\">\n",
       "  <thead>\n",
       "    <tr style=\"text-align: right;\">\n",
       "      <th></th>\n",
       "      <th>MSE train</th>\n",
       "      <th>MSE test</th>\n",
       "      <th>Inclusion Error</th>\n",
       "      <th>Exclusion Error</th>\n",
       "      <th>Comments</th>\n",
       "    </tr>\n",
       "  </thead>\n",
       "  <tbody>\n",
       "    <tr>\n",
       "      <th>OLS</th>\n",
       "      <td>0.192085</td>\n",
       "      <td>0.189763</td>\n",
       "      <td>0.0762955</td>\n",
       "      <td>0.0705623</td>\n",
       "      <td>n.a.</td>\n",
       "    </tr>\n",
       "    <tr>\n",
       "      <th>Lasso</th>\n",
       "      <td>0.192097</td>\n",
       "      <td>0.189846</td>\n",
       "      <td>0.075634</td>\n",
       "      <td>0.0705623</td>\n",
       "      <td>$\\alpha$ = 0.0001</td>\n",
       "    </tr>\n",
       "    <tr>\n",
       "      <th>Ridge</th>\n",
       "      <td>0.192094</td>\n",
       "      <td>0.189865</td>\n",
       "      <td>0.075634</td>\n",
       "      <td>0.0705623</td>\n",
       "      <td>$\\alpha = 10$</td>\n",
       "    </tr>\n",
       "    <tr>\n",
       "      <th>Basis Expansion: Lasso</th>\n",
       "      <td>NaN</td>\n",
       "      <td>NaN</td>\n",
       "      <td>NaN</td>\n",
       "      <td>NaN</td>\n",
       "      <td>NaN</td>\n",
       "    </tr>\n",
       "    <tr>\n",
       "      <th>Basis Expansion: Ridge</th>\n",
       "      <td>NaN</td>\n",
       "      <td>NaN</td>\n",
       "      <td>NaN</td>\n",
       "      <td>NaN</td>\n",
       "      <td>NaN</td>\n",
       "    </tr>\n",
       "    <tr>\n",
       "      <th>Basis Expansion: Ealstic Net</th>\n",
       "      <td>NaN</td>\n",
       "      <td>NaN</td>\n",
       "      <td>NaN</td>\n",
       "      <td>NaN</td>\n",
       "      <td>NaN</td>\n",
       "    </tr>\n",
       "    <tr>\n",
       "      <th>Elastic Net (Lasso + Ridge)</th>\n",
       "      <td>NaN</td>\n",
       "      <td>NaN</td>\n",
       "      <td>NaN</td>\n",
       "      <td>NaN</td>\n",
       "      <td>NaN</td>\n",
       "    </tr>\n",
       "    <tr>\n",
       "      <th>Random Forest Regressor</th>\n",
       "      <td>0.0737694</td>\n",
       "      <td>0.192655</td>\n",
       "      <td>0.0734289</td>\n",
       "      <td>0.0738699</td>\n",
       "      <td>max_depth = 20, n_estimators = 500</td>\n",
       "    </tr>\n",
       "    <tr>\n",
       "      <th>kNN</th>\n",
       "      <td>0.145002</td>\n",
       "      <td>0.235695</td>\n",
       "      <td>0.0886439</td>\n",
       "      <td>0.0800441</td>\n",
       "      <td>k = 4, weights = uniform</td>\n",
       "    </tr>\n",
       "    <tr>\n",
       "      <th>Neural Network</th>\n",
       "      <td>NaN</td>\n",
       "      <td>NaN</td>\n",
       "      <td>NaN</td>\n",
       "      <td>NaN</td>\n",
       "      <td>NaN</td>\n",
       "    </tr>\n",
       "  </tbody>\n",
       "</table>\n",
       "</div>"
      ],
      "text/plain": [
       "                              MSE train  MSE test Inclusion Error  \\\n",
       "OLS                            0.192085  0.189763       0.0762955   \n",
       "Lasso                          0.192097  0.189846        0.075634   \n",
       "Ridge                          0.192094  0.189865        0.075634   \n",
       "Basis Expansion: Lasso              NaN       NaN             NaN   \n",
       "Basis Expansion: Ridge              NaN       NaN             NaN   \n",
       "Basis Expansion: Ealstic Net        NaN       NaN             NaN   \n",
       "Elastic Net (Lasso + Ridge)         NaN       NaN             NaN   \n",
       "Random Forest Regressor       0.0737694  0.192655       0.0734289   \n",
       "kNN                            0.145002  0.235695       0.0886439   \n",
       "Neural Network                      NaN       NaN             NaN   \n",
       "\n",
       "                             Exclusion Error  \\\n",
       "OLS                                0.0705623   \n",
       "Lasso                              0.0705623   \n",
       "Ridge                              0.0705623   \n",
       "Basis Expansion: Lasso                   NaN   \n",
       "Basis Expansion: Ridge                   NaN   \n",
       "Basis Expansion: Ealstic Net             NaN   \n",
       "Elastic Net (Lasso + Ridge)              NaN   \n",
       "Random Forest Regressor            0.0738699   \n",
       "kNN                                0.0800441   \n",
       "Neural Network                           NaN   \n",
       "\n",
       "                                                        Comments  \n",
       "OLS                                                         n.a.  \n",
       "Lasso                                          $\\alpha$ = 0.0001  \n",
       "Ridge                                              $\\alpha = 10$  \n",
       "Basis Expansion: Lasso                                       NaN  \n",
       "Basis Expansion: Ridge                                       NaN  \n",
       "Basis Expansion: Ealstic Net                                 NaN  \n",
       "Elastic Net (Lasso + Ridge)                                  NaN  \n",
       "Random Forest Regressor       max_depth = 20, n_estimators = 500  \n",
       "kNN                                     k = 4, weights = uniform  \n",
       "Neural Network                                               NaN  "
      ]
     },
     "execution_count": 219,
     "metadata": {},
     "output_type": "execute_result"
    }
   ],
   "source": [
    "results.loc[\"Random Forest Regressor\"] = ([mean_squared_error(y_train, model.predict(X_train)),\n",
    "                                           mean_squared_error(y_test, model.predict(X_test)),\n",
    "                                           inex(model.predict(X_test),y_test, 28, incl = True, err = True),\n",
    "                                           inex(model.predict(X_test),y_test, 28, incl = False, err = True), \n",
    "                                           'max_depth = 20, n_estimators = 500'])\n",
    "results"
   ]
  },
  {
   "cell_type": "markdown",
   "metadata": {},
   "source": [
    "## Elastic Net"
   ]
  },
  {
   "cell_type": "code",
   "execution_count": 220,
   "metadata": {},
   "outputs": [],
   "source": [
    "from sklearn.linear_model import ElasticNet, ElasticNetCV"
   ]
  },
  {
   "cell_type": "code",
   "execution_count": 221,
   "metadata": {},
   "outputs": [
    {
     "name": "stdout",
     "output_type": "stream",
     "text": [
      "0.19223435859857385\n",
      "0.190117484747322\n"
     ]
    }
   ],
   "source": [
    "netmodel = ElasticNetCV(random_state = 0)\n",
    "netmodel.fit(X_train,y_train)\n",
    "print(mean_squared_error(y_train, netmodel.predict(X_train)))\n",
    "print(mean_squared_error(y_test, netmodel.predict(X_test)))"
   ]
  },
  {
   "cell_type": "code",
   "execution_count": 240,
   "metadata": {},
   "outputs": [
    {
     "data": {
      "text/plain": [
       "0.5"
      ]
     },
     "execution_count": 240,
     "metadata": {},
     "output_type": "execute_result"
    }
   ],
   "source": [
    "netmodel.l1_ratio_"
   ]
  },
  {
   "cell_type": "code",
   "execution_count": 241,
   "metadata": {},
   "outputs": [
    {
     "data": {
      "text/html": [
       "<div>\n",
       "<style scoped>\n",
       "    .dataframe tbody tr th:only-of-type {\n",
       "        vertical-align: middle;\n",
       "    }\n",
       "\n",
       "    .dataframe tbody tr th {\n",
       "        vertical-align: top;\n",
       "    }\n",
       "\n",
       "    .dataframe thead th {\n",
       "        text-align: right;\n",
       "    }\n",
       "</style>\n",
       "<table border=\"1\" class=\"dataframe\">\n",
       "  <thead>\n",
       "    <tr style=\"text-align: right;\">\n",
       "      <th></th>\n",
       "      <th>MSE train</th>\n",
       "      <th>MSE test</th>\n",
       "      <th>Inclusion Error</th>\n",
       "      <th>Exclusion Error</th>\n",
       "      <th>Comments</th>\n",
       "    </tr>\n",
       "  </thead>\n",
       "  <tbody>\n",
       "    <tr>\n",
       "      <th>OLS</th>\n",
       "      <td>0.192085</td>\n",
       "      <td>0.189763</td>\n",
       "      <td>0.0762955</td>\n",
       "      <td>0.0705623</td>\n",
       "      <td>n.a.</td>\n",
       "    </tr>\n",
       "    <tr>\n",
       "      <th>Lasso</th>\n",
       "      <td>0.192097</td>\n",
       "      <td>0.189846</td>\n",
       "      <td>0.075634</td>\n",
       "      <td>0.0705623</td>\n",
       "      <td>$\\alpha$ = 0.0001</td>\n",
       "    </tr>\n",
       "    <tr>\n",
       "      <th>Ridge</th>\n",
       "      <td>0.192094</td>\n",
       "      <td>0.189865</td>\n",
       "      <td>0.075634</td>\n",
       "      <td>0.0705623</td>\n",
       "      <td>$\\alpha = 10$</td>\n",
       "    </tr>\n",
       "    <tr>\n",
       "      <th>Basis Expansion: Lasso</th>\n",
       "      <td>0.174723</td>\n",
       "      <td>0.182318</td>\n",
       "      <td>0.0725469</td>\n",
       "      <td>0.0674752</td>\n",
       "      <td>$\\alpha$ = 0.0003039195382313198</td>\n",
       "    </tr>\n",
       "    <tr>\n",
       "      <th>Basis Expansion: Ridge</th>\n",
       "      <td>0.160542</td>\n",
       "      <td>0.201494</td>\n",
       "      <td>0.0780595</td>\n",
       "      <td>0.0721058</td>\n",
       "      <td>$\\alpha$ = 0.31622776601683794</td>\n",
       "    </tr>\n",
       "    <tr>\n",
       "      <th>Basis Expansion: Ealstic Net</th>\n",
       "      <td>0.173177</td>\n",
       "      <td>0.182504</td>\n",
       "      <td>0.0732084</td>\n",
       "      <td>0.0681367</td>\n",
       "      <td>$\\alpha$ = 0.0018957356524063754</td>\n",
       "    </tr>\n",
       "    <tr>\n",
       "      <th>Elastic Net (Lasso + Ridge)</th>\n",
       "      <td>0.192234</td>\n",
       "      <td>0.190117</td>\n",
       "      <td>0.0758545</td>\n",
       "      <td>0.0710033</td>\n",
       "      <td>$\\alpha$ = 0.0004306403360326911, l1 ratio = 0.5</td>\n",
       "    </tr>\n",
       "    <tr>\n",
       "      <th>Random Forest Regressor</th>\n",
       "      <td>0.0737694</td>\n",
       "      <td>0.192655</td>\n",
       "      <td>0.0734289</td>\n",
       "      <td>0.0738699</td>\n",
       "      <td>max_depth = 20, n_estimators = 500</td>\n",
       "    </tr>\n",
       "    <tr>\n",
       "      <th>kNN</th>\n",
       "      <td>0.145002</td>\n",
       "      <td>0.235695</td>\n",
       "      <td>0.0886439</td>\n",
       "      <td>0.0800441</td>\n",
       "      <td>k = 4, weights = uniform</td>\n",
       "    </tr>\n",
       "    <tr>\n",
       "      <th>Neural Network</th>\n",
       "      <td>0.136319</td>\n",
       "      <td>0.213246</td>\n",
       "      <td>0.0771775</td>\n",
       "      <td>0.0855568</td>\n",
       "      <td>activation = RELU, 1 Hidden Layer</td>\n",
       "    </tr>\n",
       "  </tbody>\n",
       "</table>\n",
       "</div>"
      ],
      "text/plain": [
       "                              MSE train  MSE test Inclusion Error  \\\n",
       "OLS                            0.192085  0.189763       0.0762955   \n",
       "Lasso                          0.192097  0.189846        0.075634   \n",
       "Ridge                          0.192094  0.189865        0.075634   \n",
       "Basis Expansion: Lasso         0.174723  0.182318       0.0725469   \n",
       "Basis Expansion: Ridge         0.160542  0.201494       0.0780595   \n",
       "Basis Expansion: Ealstic Net   0.173177  0.182504       0.0732084   \n",
       "Elastic Net (Lasso + Ridge)    0.192234  0.190117       0.0758545   \n",
       "Random Forest Regressor       0.0737694  0.192655       0.0734289   \n",
       "kNN                            0.145002  0.235695       0.0886439   \n",
       "Neural Network                 0.136319  0.213246       0.0771775   \n",
       "\n",
       "                             Exclusion Error  \\\n",
       "OLS                                0.0705623   \n",
       "Lasso                              0.0705623   \n",
       "Ridge                              0.0705623   \n",
       "Basis Expansion: Lasso             0.0674752   \n",
       "Basis Expansion: Ridge             0.0721058   \n",
       "Basis Expansion: Ealstic Net       0.0681367   \n",
       "Elastic Net (Lasso + Ridge)        0.0710033   \n",
       "Random Forest Regressor            0.0738699   \n",
       "kNN                                0.0800441   \n",
       "Neural Network                     0.0855568   \n",
       "\n",
       "                                                                      Comments  \n",
       "OLS                                                                       n.a.  \n",
       "Lasso                                                        $\\alpha$ = 0.0001  \n",
       "Ridge                                                            $\\alpha = 10$  \n",
       "Basis Expansion: Lasso                        $\\alpha$ = 0.0003039195382313198  \n",
       "Basis Expansion: Ridge                          $\\alpha$ = 0.31622776601683794  \n",
       "Basis Expansion: Ealstic Net                  $\\alpha$ = 0.0018957356524063754  \n",
       "Elastic Net (Lasso + Ridge)   $\\alpha$ = 0.0004306403360326911, l1 ratio = 0.5  \n",
       "Random Forest Regressor                     max_depth = 20, n_estimators = 500  \n",
       "kNN                                                   k = 4, weights = uniform  \n",
       "Neural Network                               activation = RELU, 1 Hidden Layer  "
      ]
     },
     "execution_count": 241,
     "metadata": {},
     "output_type": "execute_result"
    }
   ],
   "source": [
    "results.loc[\"Elastic Net (Lasso + Ridge)\"] = ([mean_squared_error(y_train, netmodel.predict(X_train)),\n",
    "                                           mean_squared_error(y_test, netmodel.predict(X_test)),\n",
    "                                           inex(netmodel.predict(X_test),y_test, 28, incl = True, err = True),\n",
    "                                           inex(netmodel.predict(X_test),y_test, 28, incl = False, err = True), \n",
    "                                           r'$\\alpha$ = {}, l1 ratio = 0.5'.format(netmodel.alpha_)])\n",
    "results"
   ]
  },
  {
   "cell_type": "markdown",
   "metadata": {},
   "source": [
    "## Neural Networks: MLP"
   ]
  },
  {
   "cell_type": "code",
   "execution_count": 223,
   "metadata": {
    "scrolled": true
   },
   "outputs": [
    {
     "name": "stdout",
     "output_type": "stream",
     "text": [
      "0.13631903790790226\n",
      "0.213245978967395\n"
     ]
    }
   ],
   "source": [
    "from sklearn.neural_network import MLPRegressor\n",
    "\n",
    "mlpmodel = MLPRegressor(random_state = 0, activation = 'relu', hidden_layer_sizes = (100,), learning_rate = 'adaptive')\n",
    "mlpmodel.fit(X_train, y_train)\n",
    "print(mean_squared_error(y_train, mlpmodel.predict(X_train)))\n",
    "print(mean_squared_error(y_test, mlpmodel.predict(X_test)))"
   ]
  },
  {
   "cell_type": "code",
   "execution_count": 224,
   "metadata": {},
   "outputs": [
    {
     "data": {
      "text/html": [
       "<div>\n",
       "<style scoped>\n",
       "    .dataframe tbody tr th:only-of-type {\n",
       "        vertical-align: middle;\n",
       "    }\n",
       "\n",
       "    .dataframe tbody tr th {\n",
       "        vertical-align: top;\n",
       "    }\n",
       "\n",
       "    .dataframe thead th {\n",
       "        text-align: right;\n",
       "    }\n",
       "</style>\n",
       "<table border=\"1\" class=\"dataframe\">\n",
       "  <thead>\n",
       "    <tr style=\"text-align: right;\">\n",
       "      <th></th>\n",
       "      <th>MSE train</th>\n",
       "      <th>MSE test</th>\n",
       "      <th>Inclusion Error</th>\n",
       "      <th>Exclusion Error</th>\n",
       "      <th>Comments</th>\n",
       "    </tr>\n",
       "  </thead>\n",
       "  <tbody>\n",
       "    <tr>\n",
       "      <th>OLS</th>\n",
       "      <td>0.192085</td>\n",
       "      <td>0.189763</td>\n",
       "      <td>0.0762955</td>\n",
       "      <td>0.0705623</td>\n",
       "      <td>n.a.</td>\n",
       "    </tr>\n",
       "    <tr>\n",
       "      <th>Lasso</th>\n",
       "      <td>0.192097</td>\n",
       "      <td>0.189846</td>\n",
       "      <td>0.075634</td>\n",
       "      <td>0.0705623</td>\n",
       "      <td>$\\alpha$ = 0.0001</td>\n",
       "    </tr>\n",
       "    <tr>\n",
       "      <th>Ridge</th>\n",
       "      <td>0.192094</td>\n",
       "      <td>0.189865</td>\n",
       "      <td>0.075634</td>\n",
       "      <td>0.0705623</td>\n",
       "      <td>$\\alpha = 10$</td>\n",
       "    </tr>\n",
       "    <tr>\n",
       "      <th>Basis Expansion: Lasso</th>\n",
       "      <td>NaN</td>\n",
       "      <td>NaN</td>\n",
       "      <td>NaN</td>\n",
       "      <td>NaN</td>\n",
       "      <td>NaN</td>\n",
       "    </tr>\n",
       "    <tr>\n",
       "      <th>Basis Expansion: Ridge</th>\n",
       "      <td>NaN</td>\n",
       "      <td>NaN</td>\n",
       "      <td>NaN</td>\n",
       "      <td>NaN</td>\n",
       "      <td>NaN</td>\n",
       "    </tr>\n",
       "    <tr>\n",
       "      <th>Basis Expansion: Ealstic Net</th>\n",
       "      <td>NaN</td>\n",
       "      <td>NaN</td>\n",
       "      <td>NaN</td>\n",
       "      <td>NaN</td>\n",
       "      <td>NaN</td>\n",
       "    </tr>\n",
       "    <tr>\n",
       "      <th>Elastic Net (Lasso + Ridge)</th>\n",
       "      <td>0.192234</td>\n",
       "      <td>0.190117</td>\n",
       "      <td>0.0758545</td>\n",
       "      <td>0.0710033</td>\n",
       "      <td>n.a.</td>\n",
       "    </tr>\n",
       "    <tr>\n",
       "      <th>Random Forest Regressor</th>\n",
       "      <td>0.0737694</td>\n",
       "      <td>0.192655</td>\n",
       "      <td>0.0734289</td>\n",
       "      <td>0.0738699</td>\n",
       "      <td>max_depth = 20, n_estimators = 500</td>\n",
       "    </tr>\n",
       "    <tr>\n",
       "      <th>kNN</th>\n",
       "      <td>0.145002</td>\n",
       "      <td>0.235695</td>\n",
       "      <td>0.0886439</td>\n",
       "      <td>0.0800441</td>\n",
       "      <td>k = 4, weights = uniform</td>\n",
       "    </tr>\n",
       "    <tr>\n",
       "      <th>Neural Network</th>\n",
       "      <td>0.136319</td>\n",
       "      <td>0.213246</td>\n",
       "      <td>0.0771775</td>\n",
       "      <td>0.0855568</td>\n",
       "      <td>activation = RELU, 1 Hidden Layer</td>\n",
       "    </tr>\n",
       "  </tbody>\n",
       "</table>\n",
       "</div>"
      ],
      "text/plain": [
       "                              MSE train  MSE test Inclusion Error  \\\n",
       "OLS                            0.192085  0.189763       0.0762955   \n",
       "Lasso                          0.192097  0.189846        0.075634   \n",
       "Ridge                          0.192094  0.189865        0.075634   \n",
       "Basis Expansion: Lasso              NaN       NaN             NaN   \n",
       "Basis Expansion: Ridge              NaN       NaN             NaN   \n",
       "Basis Expansion: Ealstic Net        NaN       NaN             NaN   \n",
       "Elastic Net (Lasso + Ridge)    0.192234  0.190117       0.0758545   \n",
       "Random Forest Regressor       0.0737694  0.192655       0.0734289   \n",
       "kNN                            0.145002  0.235695       0.0886439   \n",
       "Neural Network                 0.136319  0.213246       0.0771775   \n",
       "\n",
       "                             Exclusion Error  \\\n",
       "OLS                                0.0705623   \n",
       "Lasso                              0.0705623   \n",
       "Ridge                              0.0705623   \n",
       "Basis Expansion: Lasso                   NaN   \n",
       "Basis Expansion: Ridge                   NaN   \n",
       "Basis Expansion: Ealstic Net             NaN   \n",
       "Elastic Net (Lasso + Ridge)        0.0710033   \n",
       "Random Forest Regressor            0.0738699   \n",
       "kNN                                0.0800441   \n",
       "Neural Network                     0.0855568   \n",
       "\n",
       "                                                        Comments  \n",
       "OLS                                                         n.a.  \n",
       "Lasso                                          $\\alpha$ = 0.0001  \n",
       "Ridge                                              $\\alpha = 10$  \n",
       "Basis Expansion: Lasso                                       NaN  \n",
       "Basis Expansion: Ridge                                       NaN  \n",
       "Basis Expansion: Ealstic Net                                 NaN  \n",
       "Elastic Net (Lasso + Ridge)                                 n.a.  \n",
       "Random Forest Regressor       max_depth = 20, n_estimators = 500  \n",
       "kNN                                     k = 4, weights = uniform  \n",
       "Neural Network                 activation = RELU, 1 Hidden Layer  "
      ]
     },
     "execution_count": 224,
     "metadata": {},
     "output_type": "execute_result"
    }
   ],
   "source": [
    "results.loc[\"Neural Network\"] = ([mean_squared_error(y_train, mlpmodel.predict(X_train)),\n",
    "                                           mean_squared_error(y_test, mlpmodel.predict(X_test)),\n",
    "                                           inex(mlpmodel.predict(X_test),y_test, 28, incl = True, err = True),\n",
    "                                           inex(mlpmodel.predict(X_test),y_test, 28, incl = False, err = True), \n",
    "                                           'activation = RELU, 1 Hidden Layer'])\n",
    "results"
   ]
  },
  {
   "cell_type": "markdown",
   "metadata": {},
   "source": [
    "## Lasso Best"
   ]
  },
  {
   "cell_type": "code",
   "execution_count": null,
   "metadata": {},
   "outputs": [],
   "source": [
    "results.loc[\"Basis Expansion: Lasso\"]"
   ]
  },
  {
   "cell_type": "code",
   "execution_count": 246,
   "metadata": {},
   "outputs": [
    {
     "data": {
      "text/plain": [
       "0.1"
      ]
     },
     "execution_count": 246,
     "metadata": {},
     "output_type": "execute_result"
    }
   ],
   "source": [
    "import pickle\n",
    "\n",
    "with open('./lassobest.pkl', 'rb') as whatever:\n",
    "    lassobest = pickle.load(whatever)\n",
    "\n",
    "with open('./ridgebest.pkl', 'rb') as whatever:\n",
    "    ridgebest = pickle.load(whatever)\n",
    "    \n",
    "with open('./elbest.pkl', 'rb') as whatever:\n",
    "    elbest = pickle.load(whatever)\n",
    "\n",
    "elbest.best_estimator_.l1_ratio"
   ]
  },
  {
   "cell_type": "code",
   "execution_count": 226,
   "metadata": {},
   "outputs": [
    {
     "data": {
      "text/plain": [
       "array([5.1258105 , 6.17737092, 5.21641573, ..., 6.21343063, 5.89877074,\n",
       "       6.02478835])"
      ]
     },
     "execution_count": 226,
     "metadata": {},
     "output_type": "execute_result"
    }
   ],
   "source": [
    "from sklearn.preprocessing import PolynomialFeatures\n",
    "\n",
    "poly = PolynomialFeatures(degree = 2, interaction_only = True)\n",
    "X_train_poly = poly.fit_transform(X_train)\n",
    "X_test_poly = poly.fit_transform(X_test)\n",
    "\n",
    "\n",
    "ridgebest.predict(X_train_poly)\n"
   ]
  },
  {
   "cell_type": "code",
   "execution_count": 287,
   "metadata": {},
   "outputs": [
    {
     "data": {
      "image/png": "[encoded data removed]",
      "text/plain": [
       "<Figure size 360x360 with 1 Axes>"
      ]
     },
     "metadata": {
      "needs_background": "light"
     },
     "output_type": "display_data"
    }
   ],
   "source": [
    "import matplotlib.pyplot as plt\n",
    "\n",
    "lim_start = 3\n",
    "lim_end = 9\n",
    "\n",
    "plt.figure(1,figsize = (5,5))\n",
    "g=plt.scatter(lassobest.predict(X_test_poly), y_test, alpha = 0.3, marker = '+')\n",
    "#g.axes.set_yscale('log')\n",
    "#g.axes.set_xscale('log')\n",
    "plt.plot([lim_start, lim_end], [lim_start, lim_end], 'k--', color = 'r')\n",
    "plt.hlines(np.percentile(prediction,28), lim_start+0.25, lim_end-0.25)\n",
    "plt.vlines(np.percentile(prediction,28), lim_start+0.25, lim_end-0.25)\n",
    "g.axes.set_xlabel('Predicted log per-capita monthly consumption (soles)')\n",
    "g.axes.set_ylabel('Actual log per-capita monthly consumption (soles)')\n",
    "g.axes.axis('equal')\n",
    "g.axes.axis('square')\n",
    "plt.text(5, 4, 'Correct inclusion',\n",
    "        verticalalignment='bottom', horizontalalignment='right',\n",
    "        color='black', fontsize=10)\n",
    "plt.text(5, 8, 'Inclusion Error',\n",
    "        verticalalignment='bottom', horizontalalignment='right',\n",
    "        color='black', fontsize=10)\n",
    "plt.text(8, 8, 'Correct Exclusion',\n",
    "        verticalalignment='bottom', horizontalalignment='right',\n",
    "        color='black', fontsize=10)\n",
    "plt.text(8, 4, 'Exclusion Error',\n",
    "        verticalalignment='bottom', horizontalalignment='right',\n",
    "        color='black', fontsize=10)\n",
    "\n",
    "plt.xlim([lim_start, lim_end])\n",
    "plt.ylim([lim_start, lim_end])\n",
    "\n",
    "plt.savefig('inex_BESTLasso.png')"
   ]
  },
  {
   "cell_type": "code",
   "execution_count": 227,
   "metadata": {},
   "outputs": [
    {
     "data": {
      "text/html": [
       "<div>\n",
       "<style scoped>\n",
       "    .dataframe tbody tr th:only-of-type {\n",
       "        vertical-align: middle;\n",
       "    }\n",
       "\n",
       "    .dataframe tbody tr th {\n",
       "        vertical-align: top;\n",
       "    }\n",
       "\n",
       "    .dataframe thead th {\n",
       "        text-align: right;\n",
       "    }\n",
       "</style>\n",
       "<table border=\"1\" class=\"dataframe\">\n",
       "  <thead>\n",
       "    <tr style=\"text-align: right;\">\n",
       "      <th></th>\n",
       "      <th>MSE train</th>\n",
       "      <th>MSE test</th>\n",
       "      <th>Inclusion Error</th>\n",
       "      <th>Exclusion Error</th>\n",
       "      <th>Comments</th>\n",
       "    </tr>\n",
       "  </thead>\n",
       "  <tbody>\n",
       "    <tr>\n",
       "      <th>OLS</th>\n",
       "      <td>0.192085</td>\n",
       "      <td>0.189763</td>\n",
       "      <td>0.0762955</td>\n",
       "      <td>0.0705623</td>\n",
       "      <td>n.a.</td>\n",
       "    </tr>\n",
       "    <tr>\n",
       "      <th>Lasso</th>\n",
       "      <td>0.192097</td>\n",
       "      <td>0.189846</td>\n",
       "      <td>0.075634</td>\n",
       "      <td>0.0705623</td>\n",
       "      <td>$\\alpha$ = 0.0001</td>\n",
       "    </tr>\n",
       "    <tr>\n",
       "      <th>Ridge</th>\n",
       "      <td>0.192094</td>\n",
       "      <td>0.189865</td>\n",
       "      <td>0.075634</td>\n",
       "      <td>0.0705623</td>\n",
       "      <td>$\\alpha = 10$</td>\n",
       "    </tr>\n",
       "    <tr>\n",
       "      <th>Basis Expansion: Lasso</th>\n",
       "      <td>0.174723</td>\n",
       "      <td>0.182318</td>\n",
       "      <td>0.0725469</td>\n",
       "      <td>0.0674752</td>\n",
       "      <td>$\\alpha$ = 0.0003039195382313198</td>\n",
       "    </tr>\n",
       "    <tr>\n",
       "      <th>Basis Expansion: Ridge</th>\n",
       "      <td>NaN</td>\n",
       "      <td>NaN</td>\n",
       "      <td>NaN</td>\n",
       "      <td>NaN</td>\n",
       "      <td>NaN</td>\n",
       "    </tr>\n",
       "    <tr>\n",
       "      <th>Basis Expansion: Ealstic Net</th>\n",
       "      <td>NaN</td>\n",
       "      <td>NaN</td>\n",
       "      <td>NaN</td>\n",
       "      <td>NaN</td>\n",
       "      <td>NaN</td>\n",
       "    </tr>\n",
       "    <tr>\n",
       "      <th>Elastic Net (Lasso + Ridge)</th>\n",
       "      <td>0.192234</td>\n",
       "      <td>0.190117</td>\n",
       "      <td>0.0758545</td>\n",
       "      <td>0.0710033</td>\n",
       "      <td>n.a.</td>\n",
       "    </tr>\n",
       "    <tr>\n",
       "      <th>Random Forest Regressor</th>\n",
       "      <td>0.0737694</td>\n",
       "      <td>0.192655</td>\n",
       "      <td>0.0734289</td>\n",
       "      <td>0.0738699</td>\n",
       "      <td>max_depth = 20, n_estimators = 500</td>\n",
       "    </tr>\n",
       "    <tr>\n",
       "      <th>kNN</th>\n",
       "      <td>0.145002</td>\n",
       "      <td>0.235695</td>\n",
       "      <td>0.0886439</td>\n",
       "      <td>0.0800441</td>\n",
       "      <td>k = 4, weights = uniform</td>\n",
       "    </tr>\n",
       "    <tr>\n",
       "      <th>Neural Network</th>\n",
       "      <td>0.136319</td>\n",
       "      <td>0.213246</td>\n",
       "      <td>0.0771775</td>\n",
       "      <td>0.0855568</td>\n",
       "      <td>activation = RELU, 1 Hidden Layer</td>\n",
       "    </tr>\n",
       "  </tbody>\n",
       "</table>\n",
       "</div>"
      ],
      "text/plain": [
       "                              MSE train  MSE test Inclusion Error  \\\n",
       "OLS                            0.192085  0.189763       0.0762955   \n",
       "Lasso                          0.192097  0.189846        0.075634   \n",
       "Ridge                          0.192094  0.189865        0.075634   \n",
       "Basis Expansion: Lasso         0.174723  0.182318       0.0725469   \n",
       "Basis Expansion: Ridge              NaN       NaN             NaN   \n",
       "Basis Expansion: Ealstic Net        NaN       NaN             NaN   \n",
       "Elastic Net (Lasso + Ridge)    0.192234  0.190117       0.0758545   \n",
       "Random Forest Regressor       0.0737694  0.192655       0.0734289   \n",
       "kNN                            0.145002  0.235695       0.0886439   \n",
       "Neural Network                 0.136319  0.213246       0.0771775   \n",
       "\n",
       "                             Exclusion Error  \\\n",
       "OLS                                0.0705623   \n",
       "Lasso                              0.0705623   \n",
       "Ridge                              0.0705623   \n",
       "Basis Expansion: Lasso             0.0674752   \n",
       "Basis Expansion: Ridge                   NaN   \n",
       "Basis Expansion: Ealstic Net             NaN   \n",
       "Elastic Net (Lasso + Ridge)        0.0710033   \n",
       "Random Forest Regressor            0.0738699   \n",
       "kNN                                0.0800441   \n",
       "Neural Network                     0.0855568   \n",
       "\n",
       "                                                        Comments  \n",
       "OLS                                                         n.a.  \n",
       "Lasso                                          $\\alpha$ = 0.0001  \n",
       "Ridge                                              $\\alpha = 10$  \n",
       "Basis Expansion: Lasso          $\\alpha$ = 0.0003039195382313198  \n",
       "Basis Expansion: Ridge                                       NaN  \n",
       "Basis Expansion: Ealstic Net                                 NaN  \n",
       "Elastic Net (Lasso + Ridge)                                 n.a.  \n",
       "Random Forest Regressor       max_depth = 20, n_estimators = 500  \n",
       "kNN                                     k = 4, weights = uniform  \n",
       "Neural Network                 activation = RELU, 1 Hidden Layer  "
      ]
     },
     "execution_count": 227,
     "metadata": {},
     "output_type": "execute_result"
    }
   ],
   "source": [
    "results.loc[\"Basis Expansion: Lasso\"] = ([mean_squared_error(y_train, lassobest.predict(X_train_poly)),\n",
    "                                           mean_squared_error(y_test, lassobest.predict(X_test_poly)),\n",
    "                                           inex(lassobest.predict(X_test_poly),y_test, 28, incl = True, err = True),\n",
    "                                           inex(lassobest.predict(X_test_poly),y_test, 28, incl = False, err = True), \n",
    "                                           r'$\\alpha$ = {}'.format(lassobest.alpha)])\n",
    "results"
   ]
  },
  {
   "cell_type": "code",
   "execution_count": 228,
   "metadata": {},
   "outputs": [
    {
     "data": {
      "text/html": [
       "<div>\n",
       "<style scoped>\n",
       "    .dataframe tbody tr th:only-of-type {\n",
       "        vertical-align: middle;\n",
       "    }\n",
       "\n",
       "    .dataframe tbody tr th {\n",
       "        vertical-align: top;\n",
       "    }\n",
       "\n",
       "    .dataframe thead th {\n",
       "        text-align: right;\n",
       "    }\n",
       "</style>\n",
       "<table border=\"1\" class=\"dataframe\">\n",
       "  <thead>\n",
       "    <tr style=\"text-align: right;\">\n",
       "      <th></th>\n",
       "      <th>MSE train</th>\n",
       "      <th>MSE test</th>\n",
       "      <th>Inclusion Error</th>\n",
       "      <th>Exclusion Error</th>\n",
       "      <th>Comments</th>\n",
       "    </tr>\n",
       "  </thead>\n",
       "  <tbody>\n",
       "    <tr>\n",
       "      <th>OLS</th>\n",
       "      <td>0.192085</td>\n",
       "      <td>0.189763</td>\n",
       "      <td>0.0762955</td>\n",
       "      <td>0.0705623</td>\n",
       "      <td>n.a.</td>\n",
       "    </tr>\n",
       "    <tr>\n",
       "      <th>Lasso</th>\n",
       "      <td>0.192097</td>\n",
       "      <td>0.189846</td>\n",
       "      <td>0.075634</td>\n",
       "      <td>0.0705623</td>\n",
       "      <td>$\\alpha$ = 0.0001</td>\n",
       "    </tr>\n",
       "    <tr>\n",
       "      <th>Ridge</th>\n",
       "      <td>0.192094</td>\n",
       "      <td>0.189865</td>\n",
       "      <td>0.075634</td>\n",
       "      <td>0.0705623</td>\n",
       "      <td>$\\alpha = 10$</td>\n",
       "    </tr>\n",
       "    <tr>\n",
       "      <th>Basis Expansion: Lasso</th>\n",
       "      <td>0.174723</td>\n",
       "      <td>0.182318</td>\n",
       "      <td>0.0725469</td>\n",
       "      <td>0.0674752</td>\n",
       "      <td>$\\alpha$ = 0.0003039195382313198</td>\n",
       "    </tr>\n",
       "    <tr>\n",
       "      <th>Basis Expansion: Ridge</th>\n",
       "      <td>0.160542</td>\n",
       "      <td>0.201494</td>\n",
       "      <td>0.0780595</td>\n",
       "      <td>0.0721058</td>\n",
       "      <td>$\\alpha$ = 0.31622776601683794</td>\n",
       "    </tr>\n",
       "    <tr>\n",
       "      <th>Basis Expansion: Ealstic Net</th>\n",
       "      <td>NaN</td>\n",
       "      <td>NaN</td>\n",
       "      <td>NaN</td>\n",
       "      <td>NaN</td>\n",
       "      <td>NaN</td>\n",
       "    </tr>\n",
       "    <tr>\n",
       "      <th>Elastic Net (Lasso + Ridge)</th>\n",
       "      <td>0.192234</td>\n",
       "      <td>0.190117</td>\n",
       "      <td>0.0758545</td>\n",
       "      <td>0.0710033</td>\n",
       "      <td>n.a.</td>\n",
       "    </tr>\n",
       "    <tr>\n",
       "      <th>Random Forest Regressor</th>\n",
       "      <td>0.0737694</td>\n",
       "      <td>0.192655</td>\n",
       "      <td>0.0734289</td>\n",
       "      <td>0.0738699</td>\n",
       "      <td>max_depth = 20, n_estimators = 500</td>\n",
       "    </tr>\n",
       "    <tr>\n",
       "      <th>kNN</th>\n",
       "      <td>0.145002</td>\n",
       "      <td>0.235695</td>\n",
       "      <td>0.0886439</td>\n",
       "      <td>0.0800441</td>\n",
       "      <td>k = 4, weights = uniform</td>\n",
       "    </tr>\n",
       "    <tr>\n",
       "      <th>Neural Network</th>\n",
       "      <td>0.136319</td>\n",
       "      <td>0.213246</td>\n",
       "      <td>0.0771775</td>\n",
       "      <td>0.0855568</td>\n",
       "      <td>activation = RELU, 1 Hidden Layer</td>\n",
       "    </tr>\n",
       "  </tbody>\n",
       "</table>\n",
       "</div>"
      ],
      "text/plain": [
       "                              MSE train  MSE test Inclusion Error  \\\n",
       "OLS                            0.192085  0.189763       0.0762955   \n",
       "Lasso                          0.192097  0.189846        0.075634   \n",
       "Ridge                          0.192094  0.189865        0.075634   \n",
       "Basis Expansion: Lasso         0.174723  0.182318       0.0725469   \n",
       "Basis Expansion: Ridge         0.160542  0.201494       0.0780595   \n",
       "Basis Expansion: Ealstic Net        NaN       NaN             NaN   \n",
       "Elastic Net (Lasso + Ridge)    0.192234  0.190117       0.0758545   \n",
       "Random Forest Regressor       0.0737694  0.192655       0.0734289   \n",
       "kNN                            0.145002  0.235695       0.0886439   \n",
       "Neural Network                 0.136319  0.213246       0.0771775   \n",
       "\n",
       "                             Exclusion Error  \\\n",
       "OLS                                0.0705623   \n",
       "Lasso                              0.0705623   \n",
       "Ridge                              0.0705623   \n",
       "Basis Expansion: Lasso             0.0674752   \n",
       "Basis Expansion: Ridge             0.0721058   \n",
       "Basis Expansion: Ealstic Net             NaN   \n",
       "Elastic Net (Lasso + Ridge)        0.0710033   \n",
       "Random Forest Regressor            0.0738699   \n",
       "kNN                                0.0800441   \n",
       "Neural Network                     0.0855568   \n",
       "\n",
       "                                                        Comments  \n",
       "OLS                                                         n.a.  \n",
       "Lasso                                          $\\alpha$ = 0.0001  \n",
       "Ridge                                              $\\alpha = 10$  \n",
       "Basis Expansion: Lasso          $\\alpha$ = 0.0003039195382313198  \n",
       "Basis Expansion: Ridge            $\\alpha$ = 0.31622776601683794  \n",
       "Basis Expansion: Ealstic Net                                 NaN  \n",
       "Elastic Net (Lasso + Ridge)                                 n.a.  \n",
       "Random Forest Regressor       max_depth = 20, n_estimators = 500  \n",
       "kNN                                     k = 4, weights = uniform  \n",
       "Neural Network                 activation = RELU, 1 Hidden Layer  "
      ]
     },
     "execution_count": 228,
     "metadata": {},
     "output_type": "execute_result"
    }
   ],
   "source": [
    "results.loc[\"Basis Expansion: Ridge\"] = ([mean_squared_error(y_train, ridgebest.predict(X_train_poly)),\n",
    "                                           mean_squared_error(y_test, ridgebest.predict(X_test_poly)),\n",
    "                                           inex(ridgebest.predict(X_test_poly),y_test, 28, incl = True, err = True),\n",
    "                                           inex(ridgebest.predict(X_test_poly),y_test, 28, incl = False, err = True), \n",
    "                                           r'$\\alpha$ = {}'.format(ridgebest.best_estimator_.alpha)])\n",
    "results"
   ]
  },
  {
   "cell_type": "code",
   "execution_count": 247,
   "metadata": {},
   "outputs": [
    {
     "data": {
      "text/html": [
       "<div>\n",
       "<style scoped>\n",
       "    .dataframe tbody tr th:only-of-type {\n",
       "        vertical-align: middle;\n",
       "    }\n",
       "\n",
       "    .dataframe tbody tr th {\n",
       "        vertical-align: top;\n",
       "    }\n",
       "\n",
       "    .dataframe thead th {\n",
       "        text-align: right;\n",
       "    }\n",
       "</style>\n",
       "<table border=\"1\" class=\"dataframe\">\n",
       "  <thead>\n",
       "    <tr style=\"text-align: right;\">\n",
       "      <th></th>\n",
       "      <th>MSE train</th>\n",
       "      <th>MSE test</th>\n",
       "      <th>Inclusion Error</th>\n",
       "      <th>Exclusion Error</th>\n",
       "      <th>Comments</th>\n",
       "    </tr>\n",
       "  </thead>\n",
       "  <tbody>\n",
       "    <tr>\n",
       "      <th>OLS</th>\n",
       "      <td>0.192085</td>\n",
       "      <td>0.189763</td>\n",
       "      <td>0.0762955</td>\n",
       "      <td>0.0705623</td>\n",
       "      <td>n.a.</td>\n",
       "    </tr>\n",
       "    <tr>\n",
       "      <th>Lasso</th>\n",
       "      <td>0.192097</td>\n",
       "      <td>0.189846</td>\n",
       "      <td>0.075634</td>\n",
       "      <td>0.0705623</td>\n",
       "      <td>$\\alpha$ = 0.0001</td>\n",
       "    </tr>\n",
       "    <tr>\n",
       "      <th>Ridge</th>\n",
       "      <td>0.192094</td>\n",
       "      <td>0.189865</td>\n",
       "      <td>0.075634</td>\n",
       "      <td>0.0705623</td>\n",
       "      <td>$\\alpha = 10$</td>\n",
       "    </tr>\n",
       "    <tr>\n",
       "      <th>Basis Expansion: Lasso</th>\n",
       "      <td>0.174723</td>\n",
       "      <td>0.182318</td>\n",
       "      <td>0.0725469</td>\n",
       "      <td>0.0674752</td>\n",
       "      <td>$\\alpha$ = 0.0003039195382313198</td>\n",
       "    </tr>\n",
       "    <tr>\n",
       "      <th>Basis Expansion: Ridge</th>\n",
       "      <td>0.160542</td>\n",
       "      <td>0.201494</td>\n",
       "      <td>0.0780595</td>\n",
       "      <td>0.0721058</td>\n",
       "      <td>$\\alpha$ = 0.31622776601683794</td>\n",
       "    </tr>\n",
       "    <tr>\n",
       "      <th>Basis Expansion: Ealstic Net</th>\n",
       "      <td>0.173177</td>\n",
       "      <td>0.182504</td>\n",
       "      <td>0.0732084</td>\n",
       "      <td>0.0681367</td>\n",
       "      <td>$\\alpha$ = 0.0018957356524063754, l1 ratio = 0.1</td>\n",
       "    </tr>\n",
       "    <tr>\n",
       "      <th>Elastic Net (Lasso + Ridge)</th>\n",
       "      <td>0.192234</td>\n",
       "      <td>0.190117</td>\n",
       "      <td>0.0758545</td>\n",
       "      <td>0.0710033</td>\n",
       "      <td>$\\alpha$ = 0.0004306403360326911, l1 ratio = 0.5</td>\n",
       "    </tr>\n",
       "    <tr>\n",
       "      <th>Random Forest Regressor</th>\n",
       "      <td>0.0737694</td>\n",
       "      <td>0.192655</td>\n",
       "      <td>0.0734289</td>\n",
       "      <td>0.0738699</td>\n",
       "      <td>max_depth = 20, n_estimators = 500</td>\n",
       "    </tr>\n",
       "    <tr>\n",
       "      <th>kNN</th>\n",
       "      <td>0.145002</td>\n",
       "      <td>0.235695</td>\n",
       "      <td>0.0886439</td>\n",
       "      <td>0.0800441</td>\n",
       "      <td>k = 4, weights = uniform</td>\n",
       "    </tr>\n",
       "    <tr>\n",
       "      <th>Neural Network</th>\n",
       "      <td>0.136319</td>\n",
       "      <td>0.213246</td>\n",
       "      <td>0.0771775</td>\n",
       "      <td>0.0855568</td>\n",
       "      <td>activation = RELU, 1 Hidden Layer</td>\n",
       "    </tr>\n",
       "  </tbody>\n",
       "</table>\n",
       "</div>"
      ],
      "text/plain": [
       "                              MSE train  MSE test Inclusion Error  \\\n",
       "OLS                            0.192085  0.189763       0.0762955   \n",
       "Lasso                          0.192097  0.189846        0.075634   \n",
       "Ridge                          0.192094  0.189865        0.075634   \n",
       "Basis Expansion: Lasso         0.174723  0.182318       0.0725469   \n",
       "Basis Expansion: Ridge         0.160542  0.201494       0.0780595   \n",
       "Basis Expansion: Ealstic Net   0.173177  0.182504       0.0732084   \n",
       "Elastic Net (Lasso + Ridge)    0.192234  0.190117       0.0758545   \n",
       "Random Forest Regressor       0.0737694  0.192655       0.0734289   \n",
       "kNN                            0.145002  0.235695       0.0886439   \n",
       "Neural Network                 0.136319  0.213246       0.0771775   \n",
       "\n",
       "                             Exclusion Error  \\\n",
       "OLS                                0.0705623   \n",
       "Lasso                              0.0705623   \n",
       "Ridge                              0.0705623   \n",
       "Basis Expansion: Lasso             0.0674752   \n",
       "Basis Expansion: Ridge             0.0721058   \n",
       "Basis Expansion: Ealstic Net       0.0681367   \n",
       "Elastic Net (Lasso + Ridge)        0.0710033   \n",
       "Random Forest Regressor            0.0738699   \n",
       "kNN                                0.0800441   \n",
       "Neural Network                     0.0855568   \n",
       "\n",
       "                                                                      Comments  \n",
       "OLS                                                                       n.a.  \n",
       "Lasso                                                        $\\alpha$ = 0.0001  \n",
       "Ridge                                                            $\\alpha = 10$  \n",
       "Basis Expansion: Lasso                        $\\alpha$ = 0.0003039195382313198  \n",
       "Basis Expansion: Ridge                          $\\alpha$ = 0.31622776601683794  \n",
       "Basis Expansion: Ealstic Net  $\\alpha$ = 0.0018957356524063754, l1 ratio = 0.1  \n",
       "Elastic Net (Lasso + Ridge)   $\\alpha$ = 0.0004306403360326911, l1 ratio = 0.5  \n",
       "Random Forest Regressor                     max_depth = 20, n_estimators = 500  \n",
       "kNN                                                   k = 4, weights = uniform  \n",
       "Neural Network                               activation = RELU, 1 Hidden Layer  "
      ]
     },
     "execution_count": 247,
     "metadata": {},
     "output_type": "execute_result"
    }
   ],
   "source": [
    "results.loc[\"Basis Expansion: Ealstic Net\"] = ([mean_squared_error(y_train, elbest.predict(X_train_poly)),\n",
    "                                           mean_squared_error(y_test, elbest.predict(X_test_poly)),\n",
    "                                           inex(elbest.predict(X_test_poly),y_test, 28, incl = True, err = True),\n",
    "                                           inex(elbest.predict(X_test_poly),y_test, 28, incl = False, err = True), \n",
    "                                           r'$\\alpha$ = {}, l1 ratio = 0.1'.format(elbest.best_estimator_.alpha)])\n",
    "results"
   ]
  },
  {
   "cell_type": "code",
   "execution_count": 288,
   "metadata": {},
   "outputs": [
    {
     "data": {
      "image/png": "[encoded data removed]",
      "text/plain": [
       "<Figure size 360x360 with 1 Axes>"
      ]
     },
     "metadata": {
      "needs_background": "light"
     },
     "output_type": "display_data"
    }
   ],
   "source": [
    "import matplotlib.pyplot as plt\n",
    "\n",
    "lim_start = 3\n",
    "lim_end = 9\n",
    "\n",
    "plt.figure(1,figsize = (5,5))\n",
    "g=plt.scatter(elbest.predict(X_test_poly), y_test, alpha = 0.3, marker = '+')\n",
    "#g.axes.set_yscale('log')\n",
    "#g.axes.set_xscale('log')\n",
    "plt.plot([lim_start, lim_end], [lim_start, lim_end], 'k--', color = 'r')\n",
    "plt.hlines(np.percentile(prediction,28), lim_start+0.25, lim_end-0.25)\n",
    "plt.vlines(np.percentile(prediction,28), lim_start+0.25, lim_end-0.25)\n",
    "g.axes.set_xlabel('Predicted log per-capita monthly consumption (soles)')\n",
    "g.axes.set_ylabel('Actual log per-capita monthly consumption (soles)')\n",
    "g.axes.axis('equal')\n",
    "g.axes.axis('square')\n",
    "plt.text(5, 4, 'Correct inclusion',\n",
    "        verticalalignment='bottom', horizontalalignment='right',\n",
    "        color='black', fontsize=10)\n",
    "plt.text(5, 8, 'Inclusion Error',\n",
    "        verticalalignment='bottom', horizontalalignment='right',\n",
    "        color='black', fontsize=10)\n",
    "plt.text(8, 8, 'Correct Exclusion',\n",
    "        verticalalignment='bottom', horizontalalignment='right',\n",
    "        color='black', fontsize=10)\n",
    "plt.text(8, 4, 'Exclusion Error',\n",
    "        verticalalignment='bottom', horizontalalignment='right',\n",
    "        color='black', fontsize=10)\n",
    "\n",
    "plt.xlim([lim_start, lim_end])\n",
    "plt.ylim([lim_start, lim_end])\n",
    "\n",
    "plt.savefig('inex_BESTElasticNet.png')"
   ]
  },
  {
   "cell_type": "code",
   "execution_count": null,
   "metadata": {},
   "outputs": [],
   "source": [
    "X_train"
   ]
  },
  {
   "cell_type": "code",
   "execution_count": 251,
   "metadata": {},
   "outputs": [
    {
     "data": {
      "text/plain": [
       "5.3360476109265286e+20"
      ]
     },
     "execution_count": 251,
     "metadata": {},
     "output_type": "execute_result"
    }
   ],
   "source": [
    "from sklearn.linear_model import LinearRegression\n",
    "from sklearn.metrics import r2score\n",
    "\n",
    "OLSbe = LinearRegression().fit(X_train_poly, y_train)\n",
    "\n",
    "mean_squared_error(y_train, OLSbe.predict(X_train_poly))\n",
    "mean_squared_error(y_test, OLSbe.predict(X_test_poly))"
   ]
  },
  {
   "cell_type": "code",
   "execution_count": 254,
   "metadata": {},
   "outputs": [
    {
     "data": {
      "text/plain": [
       "0.7106253138422169"
      ]
     },
     "execution_count": 254,
     "metadata": {},
     "output_type": "execute_result"
    }
   ],
   "source": [
    "OLSbe.score(X_train_poly,y_train)dd"
   ]
  },
  {
   "cell_type": "markdown",
   "metadata": {},
   "source": [
    "### Convert to LaTEX"
   ]
  },
  {
   "cell_type": "code",
   "execution_count": 266,
   "metadata": {},
   "outputs": [],
   "source": [
    "results.to_latex('models.tex', label = 'models')"
   ]
  },
  {
   "cell_type": "code",
   "execution_count": 138,
   "metadata": {},
   "outputs": [],
   "source": [
    "import pickle\n",
    "with open('./models.tex', 'w') as something:\n",
    "    pickle.dump(results.to_latex(), something)\n"
   ]
  }
 ],
 "metadata": {
  "kernelspec": {
   "display_name": "Python 3",
   "language": "python",
   "name": "python3"
  },
  "language_info": {
   "codemirror_mode": {
    "name": "ipython",
    "version": 3
   },
   "file_extension": ".py",
   "mimetype": "text/x-python",
   "name": "python",
   "nbconvert_exporter": "python",
   "pygments_lexer": "ipython3",
   "version": "3.8.3"
  }
 },
 "nbformat": 4,
 "nbformat_minor": 4
}
