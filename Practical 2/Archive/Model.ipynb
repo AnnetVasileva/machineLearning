{
  "nbformat": 4,
  "nbformat_minor": 0,
  "metadata": {
    "colab": {
      "name": "Untitled1.ipynb",
      "provenance": [],
      "authorship_tag": "ABX9TyMMCjF8+oGB+TKxH5nnQLG6",
      "include_colab_link": true
    },
    "kernelspec": {
      "name": "python3",
      "display_name": "Python 3"
    },
    "accelerator": "GPU"
  },
  "cells": [
    {
      "cell_type": "markdown",
      "metadata": {
        "id": "view-in-github",
        "colab_type": "text"
      },
      "source": [
        "<a href=\"https://colab.research.google.com/github/AnnetVasileva/machineLearning/blob/main/Model.ipynb\" target=\"_parent\"><img src=\"https://colab.research.google.com/assets/colab-badge.svg\" alt=\"Open In Colab\"/></a>"
      ]
    },
    {
      "cell_type": "code",
      "metadata": {
        "id": "8W_soO4UUEOR"
      },
      "source": [
        "import numpy as np\r\n",
        "import pandas as pd\r\n",
        "import matplotlib.pyplot as plt\r\n",
        "import pickle\r\n",
        "\r\n",
        "import tensorflow as tf\r\n",
        "from tensorflow import keras"
      ],
      "execution_count": 1,
      "outputs": []
    },
    {
      "cell_type": "code",
      "metadata": {
        "colab": {
          "base_uri": "https://localhost:8080/"
        },
        "id": "hN-g3Tp0UG1o",
        "outputId": "1929af51-0516-46f0-a983-b2ff4ebb593f"
      },
      "source": [
        "from google.colab import drive\r\n",
        "drive.mount('/content/drive')"
      ],
      "execution_count": 2,
      "outputs": [
        {
          "output_type": "stream",
          "text": [
            "Mounted at /content/drive\n"
          ],
          "name": "stdout"
        }
      ]
    },
    {
      "cell_type": "code",
      "metadata": {
        "id": "lxqomU8EUnxe"
      },
      "source": [
        "# read in data\r\n",
        "path = '/content/drive/MyDrive/ML_ECO/'\r\n",
        "pickle_file = 'train_set.pkl'\r\n",
        "\r\n",
        "with open(path + pickle_file, 'rb') as f:\r\n",
        "  train_set =pickle.load(f) \r\n",
        "\r\n",
        "X = train_set['X']\r\n",
        "y = train_set['y']"
      ],
      "execution_count": 74,
      "outputs": []
    },
    {
      "cell_type": "code",
      "metadata": {
        "id": "da4qCslUVv6d"
      },
      "source": [
        "# data processing\r\n",
        "# maybe not needed\r\n",
        "from sklearn.preprocessing import StandardScaler\r\n",
        "\r\n",
        "scaler = StandardScaler()\r\n",
        "scaler.fit(X)\r\n",
        "\r\n",
        "X_train_full = scaler.transform(X)"
      ],
      "execution_count": 129,
      "outputs": []
    },
    {
      "cell_type": "code",
      "metadata": {
        "id": "GRZXBtYbZSWG"
      },
      "source": [
        "# split data\r\n",
        "from sklearn.model_selection import train_test_split\r\n",
        "X_train, X_valid, y_train, y_valid = train_test_split( X_train_full, y, \r\n",
        "                                                    test_size=0.2, \r\n",
        "                                                    random_state=1,\r\n",
        "                                                    stratify = y)\r\n"
      ],
      "execution_count": 130,
      "outputs": []
    },
    {
      "cell_type": "code",
      "metadata": {
        "colab": {
          "base_uri": "https://localhost:8080/"
        },
        "id": "hhAnnLfWrur8",
        "outputId": "ea0cd6a3-7fa1-4c99-c679-d8c3578bd801"
      },
      "source": [
        "y_train.sum()/len(y_train)"
      ],
      "execution_count": 112,
      "outputs": [
        {
          "output_type": "execute_result",
          "data": {
            "text/plain": [
              "0.04862782859894078"
            ]
          },
          "metadata": {
            "tags": []
          },
          "execution_count": 112
        }
      ]
    },
    {
      "cell_type": "code",
      "metadata": {
        "colab": {
          "base_uri": "https://localhost:8080/"
        },
        "id": "a8FXqmJf1iOe",
        "outputId": "2e6ebc77-d9d1-4760-a7c1-0fcd9b1190d2"
      },
      "source": [
        "X_train"
      ],
      "execution_count": 79,
      "outputs": [
        {
          "output_type": "execute_result",
          "data": {
            "text/plain": [
              "array([[  4.,  11., 213., ...,   4.,   4.,   4.],\n",
              "       [  5.,   3., 175., ...,   4.,   4.,   4.],\n",
              "       [  5.,   5., 423., ...,   5.,   5.,   5.],\n",
              "       ...,\n",
              "       [  7.,   3., 233., ...,   5.,   5.,   5.],\n",
              "       [  8.,   8., 451., ...,   4.,   4.,   4.],\n",
              "       [  6.,   8., 269., ...,   3.,   3.,   3.]])"
            ]
          },
          "metadata": {
            "tags": []
          },
          "execution_count": 79
        }
      ]
    },
    {
      "cell_type": "code",
      "metadata": {
        "colab": {
          "base_uri": "https://localhost:8080/"
        },
        "id": "GiwsiH7irx8b",
        "outputId": "75ea1b08-ab01-40cb-9d3e-370a5e972444"
      },
      "source": [
        "y_vaild.sum()/len(y_vaild)"
      ],
      "execution_count": 117,
      "outputs": [
        {
          "output_type": "execute_result",
          "data": {
            "text/plain": [
              "0.048459563543003854"
            ]
          },
          "metadata": {
            "tags": []
          },
          "execution_count": 117
        }
      ]
    },
    {
      "cell_type": "code",
      "metadata": {
        "id": "SgVAEQJDr68X"
      },
      "source": [
        "#build basic model\r\n",
        "model = keras.models.Sequential()\r\n",
        "model.add(keras.layers.Dense(16,input_dim=X.shape[1],  activation=\"relu\",  kernel_initializer=\"he_normal\"))\r\n",
        "model.add(keras.layers.Dropout(rate=0.8))\r\n",
        "model.add(keras.layers.Dense(16, activation=\"relu\",  kernel_initializer=\"he_normal\"))\r\n",
        "model.add(keras.layers.Dropout(rate=0.5))\r\n",
        "model.add(keras.layers.Dense(1, activation=\"relu\"))\r\n"
      ],
      "execution_count": 132,
      "outputs": []
    },
    {
      "cell_type": "code",
      "metadata": {
        "id": "RUoV3zF713PC"
      },
      "source": [
        "# this should make sgd to be able to varry the learning rate\r\n",
        "# taken from keras example\r\n",
        "first_decay_steps = 100\r\n",
        "initial_learning_rate = 0.1\r\n",
        "lr_decayed_fn = (\r\n",
        "  tf.keras.experimental.CosineDecayRestarts(\r\n",
        "      initial_learning_rate,\r\n",
        "      first_decay_steps))\r\n",
        "opt = tf.keras.optimizers.SGD(learning_rate=lr_decayed_fn)"
      ],
      "execution_count": 133,
      "outputs": []
    },
    {
      "cell_type": "code",
      "metadata": {
        "id": "mssw_q9-sXrZ"
      },
      "source": [
        "model.compile(loss=tf.keras.losses.BinaryCrossentropy(),\r\n",
        "              optimizer=opt,\r\n",
        "              #keras.optimizers.Adam(lr=0.01),\r\n",
        "              metrics=[\"accuracy\"])"
      ],
      "execution_count": 134,
      "outputs": []
    },
    {
      "cell_type": "code",
      "metadata": {
        "colab": {
          "base_uri": "https://localhost:8080/"
        },
        "id": "kNANukjXsYvM",
        "outputId": "8b0eed3f-f678-4fd1-a039-e24134e62fd0"
      },
      "source": [
        "history = model.fit(X_train, y_train, batch_size=30, epochs=50, validation_data=(X_valid, y_valid))"
      ],
      "execution_count": 135,
      "outputs": [
        {
          "output_type": "stream",
          "text": [
            "Epoch 1/50\n",
            "416/416 [==============================] - 2s 3ms/step - loss: 1.0217 - accuracy: 0.9293 - val_loss: 0.7475 - val_accuracy: 0.9515\n",
            "Epoch 2/50\n",
            "416/416 [==============================] - 1s 3ms/step - loss: 0.7098 - accuracy: 0.9540 - val_loss: 0.7475 - val_accuracy: 0.9515\n",
            "Epoch 3/50\n",
            "416/416 [==============================] - 1s 3ms/step - loss: 0.7523 - accuracy: 0.9512 - val_loss: 0.7475 - val_accuracy: 0.9515\n",
            "Epoch 4/50\n",
            "416/416 [==============================] - 1s 3ms/step - loss: 0.7819 - accuracy: 0.9493 - val_loss: 0.7475 - val_accuracy: 0.9515\n",
            "Epoch 5/50\n",
            "416/416 [==============================] - 1s 3ms/step - loss: 0.7400 - accuracy: 0.9520 - val_loss: 0.7475 - val_accuracy: 0.9515\n",
            "Epoch 6/50\n",
            "416/416 [==============================] - 1s 3ms/step - loss: 0.7611 - accuracy: 0.9507 - val_loss: 0.7475 - val_accuracy: 0.9515\n",
            "Epoch 7/50\n",
            "416/416 [==============================] - 1s 3ms/step - loss: 0.7243 - accuracy: 0.9530 - val_loss: 0.7475 - val_accuracy: 0.9515\n",
            "Epoch 8/50\n",
            "416/416 [==============================] - 1s 3ms/step - loss: 0.7069 - accuracy: 0.9542 - val_loss: 0.7475 - val_accuracy: 0.9515\n",
            "Epoch 9/50\n",
            "416/416 [==============================] - 1s 3ms/step - loss: 0.7119 - accuracy: 0.9538 - val_loss: 0.7475 - val_accuracy: 0.9515\n",
            "Epoch 10/50\n",
            "416/416 [==============================] - 1s 3ms/step - loss: 0.7969 - accuracy: 0.9483 - val_loss: 0.7475 - val_accuracy: 0.9515\n",
            "Epoch 11/50\n",
            "416/416 [==============================] - 1s 3ms/step - loss: 0.7316 - accuracy: 0.9526 - val_loss: 0.7475 - val_accuracy: 0.9515\n",
            "Epoch 12/50\n",
            "416/416 [==============================] - 1s 3ms/step - loss: 0.7471 - accuracy: 0.9516 - val_loss: 0.7475 - val_accuracy: 0.9515\n",
            "Epoch 13/50\n",
            "416/416 [==============================] - 1s 3ms/step - loss: 0.7372 - accuracy: 0.9522 - val_loss: 0.7475 - val_accuracy: 0.9515\n",
            "Epoch 14/50\n",
            "416/416 [==============================] - 1s 3ms/step - loss: 0.7446 - accuracy: 0.9517 - val_loss: 0.7475 - val_accuracy: 0.9515\n",
            "Epoch 15/50\n",
            "416/416 [==============================] - 1s 3ms/step - loss: 0.7124 - accuracy: 0.9538 - val_loss: 0.7475 - val_accuracy: 0.9515\n",
            "Epoch 16/50\n",
            "416/416 [==============================] - 1s 3ms/step - loss: 0.7498 - accuracy: 0.9514 - val_loss: 0.7475 - val_accuracy: 0.9515\n",
            "Epoch 17/50\n",
            "416/416 [==============================] - 1s 3ms/step - loss: 0.7340 - accuracy: 0.9524 - val_loss: 0.7475 - val_accuracy: 0.9515\n",
            "Epoch 18/50\n",
            "416/416 [==============================] - 1s 3ms/step - loss: 0.7753 - accuracy: 0.9497 - val_loss: 0.7475 - val_accuracy: 0.9515\n",
            "Epoch 19/50\n",
            "416/416 [==============================] - 1s 3ms/step - loss: 0.7650 - accuracy: 0.9504 - val_loss: 0.7475 - val_accuracy: 0.9515\n",
            "Epoch 20/50\n",
            "416/416 [==============================] - 1s 3ms/step - loss: 0.8097 - accuracy: 0.9475 - val_loss: 0.7475 - val_accuracy: 0.9515\n",
            "Epoch 21/50\n",
            "416/416 [==============================] - 1s 3ms/step - loss: 0.7296 - accuracy: 0.9527 - val_loss: 0.7475 - val_accuracy: 0.9515\n",
            "Epoch 22/50\n",
            "416/416 [==============================] - 1s 3ms/step - loss: 0.6980 - accuracy: 0.9547 - val_loss: 0.7475 - val_accuracy: 0.9515\n",
            "Epoch 23/50\n",
            "416/416 [==============================] - 1s 3ms/step - loss: 0.7366 - accuracy: 0.9522 - val_loss: 0.7475 - val_accuracy: 0.9515\n",
            "Epoch 24/50\n",
            "416/416 [==============================] - 1s 3ms/step - loss: 0.6944 - accuracy: 0.9550 - val_loss: 0.7475 - val_accuracy: 0.9515\n",
            "Epoch 25/50\n",
            "416/416 [==============================] - 1s 3ms/step - loss: 0.7047 - accuracy: 0.9543 - val_loss: 0.7475 - val_accuracy: 0.9515\n",
            "Epoch 26/50\n",
            "416/416 [==============================] - 1s 3ms/step - loss: 0.7339 - accuracy: 0.9524 - val_loss: 0.7475 - val_accuracy: 0.9515\n",
            "Epoch 27/50\n",
            "416/416 [==============================] - 1s 3ms/step - loss: 0.7370 - accuracy: 0.9522 - val_loss: 0.7475 - val_accuracy: 0.9515\n",
            "Epoch 28/50\n",
            "416/416 [==============================] - 1s 3ms/step - loss: 0.7814 - accuracy: 0.9493 - val_loss: 0.7475 - val_accuracy: 0.9515\n",
            "Epoch 29/50\n",
            "416/416 [==============================] - 1s 3ms/step - loss: 0.7259 - accuracy: 0.9529 - val_loss: 0.7475 - val_accuracy: 0.9515\n",
            "Epoch 30/50\n",
            "416/416 [==============================] - 1s 3ms/step - loss: 0.7532 - accuracy: 0.9512 - val_loss: 0.7475 - val_accuracy: 0.9515\n",
            "Epoch 31/50\n",
            "416/416 [==============================] - 1s 3ms/step - loss: 0.7187 - accuracy: 0.9534 - val_loss: 0.7475 - val_accuracy: 0.9515\n",
            "Epoch 32/50\n",
            "416/416 [==============================] - 1s 3ms/step - loss: 0.7574 - accuracy: 0.9509 - val_loss: 0.7475 - val_accuracy: 0.9515\n",
            "Epoch 33/50\n",
            "416/416 [==============================] - 1s 3ms/step - loss: 0.7455 - accuracy: 0.9517 - val_loss: 0.7475 - val_accuracy: 0.9515\n",
            "Epoch 34/50\n",
            "416/416 [==============================] - 1s 3ms/step - loss: 0.7031 - accuracy: 0.9544 - val_loss: 0.7475 - val_accuracy: 0.9515\n",
            "Epoch 35/50\n",
            "416/416 [==============================] - 1s 3ms/step - loss: 0.7725 - accuracy: 0.9499 - val_loss: 0.7475 - val_accuracy: 0.9515\n",
            "Epoch 36/50\n",
            "416/416 [==============================] - 1s 3ms/step - loss: 0.7649 - accuracy: 0.9504 - val_loss: 0.7475 - val_accuracy: 0.9515\n",
            "Epoch 37/50\n",
            "416/416 [==============================] - 1s 3ms/step - loss: 0.6916 - accuracy: 0.9552 - val_loss: 0.7475 - val_accuracy: 0.9515\n",
            "Epoch 38/50\n",
            "416/416 [==============================] - 1s 3ms/step - loss: 0.7084 - accuracy: 0.9541 - val_loss: 0.7475 - val_accuracy: 0.9515\n",
            "Epoch 39/50\n",
            "416/416 [==============================] - 1s 3ms/step - loss: 0.7427 - accuracy: 0.9518 - val_loss: 0.7475 - val_accuracy: 0.9515\n",
            "Epoch 40/50\n",
            "416/416 [==============================] - 1s 3ms/step - loss: 0.7861 - accuracy: 0.9490 - val_loss: 0.7475 - val_accuracy: 0.9515\n",
            "Epoch 41/50\n",
            "416/416 [==============================] - 1s 3ms/step - loss: 0.7398 - accuracy: 0.9520 - val_loss: 0.7475 - val_accuracy: 0.9515\n",
            "Epoch 42/50\n",
            "416/416 [==============================] - 1s 3ms/step - loss: 0.7061 - accuracy: 0.9542 - val_loss: 0.7475 - val_accuracy: 0.9515\n",
            "Epoch 43/50\n",
            "416/416 [==============================] - 1s 3ms/step - loss: 0.7623 - accuracy: 0.9506 - val_loss: 0.7475 - val_accuracy: 0.9515\n",
            "Epoch 44/50\n",
            "416/416 [==============================] - 1s 3ms/step - loss: 0.7625 - accuracy: 0.9506 - val_loss: 0.7475 - val_accuracy: 0.9515\n",
            "Epoch 45/50\n",
            "416/416 [==============================] - 1s 3ms/step - loss: 0.7476 - accuracy: 0.9515 - val_loss: 0.7475 - val_accuracy: 0.9515\n",
            "Epoch 46/50\n",
            "416/416 [==============================] - 1s 3ms/step - loss: 0.7546 - accuracy: 0.9511 - val_loss: 0.7475 - val_accuracy: 0.9515\n",
            "Epoch 47/50\n",
            "416/416 [==============================] - 1s 3ms/step - loss: 0.7343 - accuracy: 0.9524 - val_loss: 0.7475 - val_accuracy: 0.9515\n",
            "Epoch 48/50\n",
            "416/416 [==============================] - 1s 3ms/step - loss: 0.7466 - accuracy: 0.9516 - val_loss: 0.7475 - val_accuracy: 0.9515\n",
            "Epoch 49/50\n",
            "416/416 [==============================] - 1s 3ms/step - loss: 0.7436 - accuracy: 0.9518 - val_loss: 0.7475 - val_accuracy: 0.9515\n",
            "Epoch 50/50\n",
            "416/416 [==============================] - 1s 3ms/step - loss: 0.6997 - accuracy: 0.9546 - val_loss: 0.7475 - val_accuracy: 0.9515\n"
          ],
          "name": "stdout"
        }
      ]
    },
    {
      "cell_type": "code",
      "metadata": {
        "colab": {
          "base_uri": "https://localhost:8080/",
          "height": 487
        },
        "id": "ny8wU3s9uGkV",
        "outputId": "31e60b46-7034-440b-a139-5c7d3135c2f0"
      },
      "source": [
        "pd.DataFrame(history.history).plot(figsize=(12, 8))\r\n",
        "plt.gca().set_ylim(0, 1)\r\n",
        "plt.grid(True)\r\n",
        "plt.show()"
      ],
      "execution_count": 66,
      "outputs": [
        {
          "output_type": "display_data",
          "data": {
            "image/png": "[encoded data removed]",
            "text/plain": [
              "<Figure size 864x576 with 1 Axes>"
            ]
          },
          "metadata": {
            "tags": [],
            "needs_background": "light"
          }
        }
      ]
    },
    {
      "cell_type": "code",
      "metadata": {
        "colab": {
          "base_uri": "https://localhost:8080/"
        },
        "id": "33MkiOKtvC7i",
        "outputId": "141f3c04-53e9-40e4-f829-b7b2ae38bec8"
      },
      "source": [
        "model.evaluate(X_valid, y_valid)"
      ],
      "execution_count": 67,
      "outputs": [
        {
          "output_type": "stream",
          "text": [
            "98/98 [==============================] - 0s 3ms/step - loss: 0.2057 - sensitivity_at_specificity_2: 0.2649\n"
          ],
          "name": "stdout"
        },
        {
          "output_type": "execute_result",
          "data": {
            "text/plain": [
              "[0.20574957132339478, 0.26490065455436707]"
            ]
          },
          "metadata": {
            "tags": []
          },
          "execution_count": 67
        }
      ]
    },
    {
      "cell_type": "code",
      "metadata": {
        "id": "dTit2t_CvzOR"
      },
      "source": [
        "results = 1*(model.predict(X_valid)>=0.5)"
      ],
      "execution_count": 68,
      "outputs": []
    },
    {
      "cell_type": "code",
      "metadata": {
        "colab": {
          "base_uri": "https://localhost:8080/"
        },
        "id": "eSRzdKYRyG6o",
        "outputId": "94c3ce41-d651-41f4-f647-de1d3b0f6b11"
      },
      "source": [
        "results"
      ],
      "execution_count": 70,
      "outputs": [
        {
          "output_type": "execute_result",
          "data": {
            "text/plain": [
              "array([[0],\n",
              "       [0],\n",
              "       [0],\n",
              "       ...,\n",
              "       [0],\n",
              "       [0],\n",
              "       [0]])"
            ]
          },
          "metadata": {
            "tags": []
          },
          "execution_count": 70
        }
      ]
    },
    {
      "cell_type": "code",
      "metadata": {
        "colab": {
          "base_uri": "https://localhost:8080/"
        },
        "id": "r2Jds77OwvxV",
        "outputId": "14923a94-7dde-4efd-bb80-3374f2e9fdc9"
      },
      "source": [
        "y_valid"
      ],
      "execution_count": 71,
      "outputs": [
        {
          "output_type": "execute_result",
          "data": {
            "text/plain": [
              "array([0, 0, 0, ..., 0, 1, 0])"
            ]
          },
          "metadata": {
            "tags": []
          },
          "execution_count": 71
        }
      ]
    }
  ]
}
