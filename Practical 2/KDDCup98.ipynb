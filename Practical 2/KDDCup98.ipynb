{
  "nbformat": 4,
  "nbformat_minor": 0,
  "metadata": {
    "colab": {
      "name": "Copy of Untitled0.ipynb",
      "provenance": []
    },
    "kernelspec": {
      "name": "python3",
      "display_name": "Python 3"
    }
  },
  "cells": [
    {
      "cell_type": "code",
      "metadata": {
        "id": "VtfC6uPs0waj"
      },
      "source": [
        "import pandas as pd\r\n",
        "import numpy as np"
      ],
      "execution_count": 1,
      "outputs": []
    },
    {
      "cell_type": "code",
      "metadata": {
        "colab": {
          "base_uri": "https://localhost:8080/"
        },
        "id": "rSVU1XSX1ScS",
        "outputId": "4ac6604a-1a27-4602-d1ed-8cf6a8d2e00d"
      },
      "source": [
        "from google.colab import drive\r\n",
        "drive.mount('/content/drive')"
      ],
      "execution_count": 2,
      "outputs": [
        {
          "output_type": "stream",
          "text": [
            "Mounted at /content/drive\n"
          ],
          "name": "stdout"
        }
      ]
    },
    {
      "cell_type": "code",
      "metadata": {
        "id": "fA7Dp3vh1gvG"
      },
      "source": [
        "train_set = '/content/drive/MyDrive/ML_ECO/cup98lrn.csv' # zip\r\n",
        "valid_set = '/content/drive/MyDrive/ML_ECO/cup98val.txt'"
      ],
      "execution_count": 3,
      "outputs": []
    },
    {
      "cell_type": "code",
      "metadata": {
        "id": "FFhW3ltc1ZDy"
      },
      "source": [
        "df = pd.read_csv(train_set, low_memory = False)  #compression='zip'"
      ],
      "execution_count": 488,
      "outputs": []
    },
    {
      "cell_type": "code",
      "metadata": {
        "id": "enUAV3Q9wduc",
        "colab": {
          "base_uri": "https://localhost:8080/"
        },
        "outputId": "6cce6d70-879a-4ed8-c578-cc27622971fb"
      },
      "source": [
        "df.columns[362:386]"
      ],
      "execution_count": 490,
      "outputs": [
        {
          "output_type": "execute_result",
          "data": {
            "text/plain": [
              "Index(['ADATE_2', 'ADATE_3', 'ADATE_4', 'ADATE_5', 'ADATE_6', 'ADATE_7',\n",
              "       'ADATE_8', 'ADATE_9', 'ADATE_10', 'ADATE_11', 'ADATE_12', 'ADATE_13',\n",
              "       'ADATE_14', 'ADATE_15', 'ADATE_16', 'ADATE_17', 'ADATE_18', 'ADATE_19',\n",
              "       'ADATE_20', 'ADATE_21', 'ADATE_22', 'ADATE_23', 'ADATE_24', 'RFA_2'],\n",
              "      dtype='object')"
            ]
          },
          "metadata": {
            "tags": []
          },
          "execution_count": 490
        }
      ]
    },
    {
      "cell_type": "code",
      "metadata": {
        "id": "9YH8UabE0RgC",
        "colab": {
          "base_uri": "https://localhost:8080/"
        },
        "outputId": "6666a0f7-01b8-4104-f7dd-ccc3bfd249e5"
      },
      "source": [
        "df.GENDER.unique()"
      ],
      "execution_count": 491,
      "outputs": [
        {
          "output_type": "execute_result",
          "data": {
            "text/plain": [
              "array(['F', 'M', ' ', 'C', 'U', 'J', 'A'], dtype=object)"
            ]
          },
          "metadata": {
            "tags": []
          },
          "execution_count": 491
        }
      ]
    },
    {
      "cell_type": "markdown",
      "metadata": {
        "id": "auoS8TtkwCr_"
      },
      "source": [
        "## Preprosessing\n",
        "Our preprosessing will include 4 steps:\n",
        "1. We will delete the columns we will not use (please see documentation to see which columns we drop)\n",
        "2. Re-code /transform complex variables to easier ones\n",
        "3. Encode ordinal variables using ordinal encoder and create one-hot-encoding where ordinal encoding is not suitable\n",
        "4. Delete observations with missing data or additionally drop features that contain more than 50% of missing data\n",
        "\n",
        "After each step we will check whether our target variable (TARGET_B) still has enough positive examples (value = 1)\n",
        "\n",
        "\n"
      ]
    },
    {
      "cell_type": "markdown",
      "metadata": {
        "id": "AMD82WM5fwr3"
      },
      "source": [
        "**STEP 1: Drop Features**\n",
        "\n",
        "In dropping features we follow certain rules, namely:\n",
        "1. We drop every feature that is a date\n",
        "2. We drop features that refer to the sources of information \n",
        "3. We drop features that are already covered implicitly by the other features that we will encode \n",
        "4. We drop features that have a very complex structure and would require a lot of dummy variables (like STATE)\n",
        "5. We drop features that highly depend on features that we previously decided to drop (like WEALTH2)\n",
        "\n"
      ]
    },
    {
      "cell_type": "code",
      "metadata": {
        "id": "H7jT4Bi2wk2z"
      },
      "source": [
        "# some important stuff \n",
        "\n",
        "yesno_variables = df.columns[56:74]\n",
        "rfas = df.columns[386:408]"
      ],
      "execution_count": 492,
      "outputs": []
    },
    {
      "cell_type": "code",
      "metadata": {
        "id": "zHyXWO6VxEpx"
      },
      "source": [
        "drop1 = df.columns[1:15].to_list() # need to drop these\n",
        "drop2 = df.columns[16]#.to_list() # CLUSTER   \n",
        "drop3 = df.columns[18]#.to_list() # AGEFLAG\n",
        "drop4 = df.columns[44:51].to_list() # connection to the war and war veterans , might actually be relevant even though very specific data\n",
        "drop11 = df.columns[51:54].to_list() # SOLICIT variables + MAJOR\n",
        "drop5 = df.columns[54:56].to_list() \n",
        "drop6 = df.columns[362:386].to_list() # ADATES and RFA_XX\n",
        "drop7 = df.columns[413:457].to_list() # Dates of different donations received\n",
        "drop8 = df.columns[473]\n",
        "drop9 = df.columns[480:482].to_list() # CLUSTER and GEOCODE\n",
        "drop10 = df.columns[43] # drop the source from where the data is collected\n",
        "drop12 = df.columns[74] #  LIFE STYLE DATA SOURCE\n",
        "drop13 = df.columns[461] # Date associated with the smallest gift to date\n",
        "drop14 = df.columns[463] # Date associated with the largest gift to date\n",
        "drop15 = df.columns[465:468].to_list() # Dates of different gifts received\n",
        "drop16 = df.columns[409] # MAXADATE\n",
        "drop17 = df.columns[24] # Number of Children, very ambiguous since many empty cells, covered by other variables implicitly\n",
        "drop18 = df.columns[196:199] # these are very weird codes, I do not know how to use them for the prediction\n",
        "drop = drop1+drop5+drop6+drop7+drop9+drop11+drop15+drop4\n",
        "df = df.drop(drop, axis = 1)\n",
        "df = df.drop(drop2,axis = 1)\n",
        "df = df.drop(drop3, axis = 1)\n",
        "df = df.drop(drop8, axis = 1)\n",
        "df = df.drop(drop10, axis = 1)\n",
        "df = df.drop(drop12, axis = 1)\n",
        "df = df.drop(drop13, axis = 1)\n",
        "df = df.drop(drop14, axis = 1)\n",
        "df = df.drop(drop17, axis = 1)"
      ],
      "execution_count": 493,
      "outputs": []
    },
    {
      "cell_type": "markdown",
      "metadata": {
        "id": "vOFjVokF1_SG"
      },
      "source": [
        "**STEP 2 : Encode**\n",
        "\n",
        "Now we start encoding things\n",
        "1. We first rename the first column to Index\n",
        "2. We then extract the first letter from Domain to then encode it to one-hot encoding\n",
        "3. Afterwards we change the CHILDXX variables , which will be also encoded as one-hot \n",
        "4.\n",
        "5."
      ]
    },
    {
      "cell_type": "code",
      "metadata": {
        "id": "96niBL_Axrty"
      },
      "source": [
        "df = df.rename(columns = {'Unnamed: 0' : 'Index'}) # rename first column to the Index"
      ],
      "execution_count": 494,
      "outputs": []
    },
    {
      "cell_type": "code",
      "metadata": {
        "colab": {
          "base_uri": "https://localhost:8080/"
        },
        "id": "iFsSV8NFXgjx",
        "outputId": "0ac68851-475b-49d4-8837-190b84b0e211"
      },
      "source": [
        "df.DOMAIN.unique()"
      ],
      "execution_count": 495,
      "outputs": [
        {
          "output_type": "execute_result",
          "data": {
            "text/plain": [
              "array(['T2', 'S1', 'R2', 'S2', 'T1', 'R3', 'U1', 'C2', 'C1', 'U3', ' ',\n",
              "       'R1', 'U2', 'C3', 'U4', 'S3', 'T3'], dtype=object)"
            ]
          },
          "metadata": {
            "tags": []
          },
          "execution_count": 495
        }
      ]
    },
    {
      "cell_type": "code",
      "metadata": {
        "id": "4qSvlAB7ljre"
      },
      "source": [
        "df.DOMAIN = df.DOMAIN.replace({' ': '99'})\n",
        "\n",
        "df['SES'] = 0 # NEW variable - socioeconomic status - second byte from DOMAIN\n",
        "index = 0\n",
        "for x in df.DOMAIN:\n",
        "    df.SES[index] = int(df.DOMAIN[index][1])\n",
        "    index += 1\n",
        "\n",
        "\n",
        "# extracting the first \n",
        "index = 0\n",
        "for x in df.DOMAIN:\n",
        "    df.DOMAIN[index] = df.DOMAIN[index][0]\n",
        "    index += 1\n"
      ],
      "execution_count": 496,
      "outputs": []
    },
    {
      "cell_type": "code",
      "metadata": {
        "id": "N9qZIfTJsHuc"
      },
      "source": [
        " df[rfas] = df[rfas].replace({' ': '999'})\n",
        " df['RFA_23'] = df['RFA_23'].replace({'1D': '91D','3E': '93E', '2D' : '92D', '1E': '91E', '1C': '91C', '1G': '91G', '2E': '92E',\n",
        "                                     '1F': '91F','4E': '94E', '3F': '93F' , '2F' : '92F'})\n",
        "  \n",
        "for item in rfas:\n",
        "    df[item + 'R'] = [ letter[0] for letter in df[item].to_list() ]\n",
        "    df[item + 'F'] = [ int(letter[1]) for letter in df[item].to_list() ]\n",
        "    df[item + 'A'] = [ letter[2] for letter in df[item].to_list() ]\n",
        "  \n",
        "for item in rfas:\n",
        "    df[item + 'R'] = df[item + 'R'].replace({'9': np.NaN, 'U': np.NaN, 'P': np.NaN})\n",
        "    df[item + 'F'] = df[item + 'R'].replace({'9': np.NaN, 'U': np.NaN, 'P': np.NaN})\n",
        "    df[item + 'A'] = df[item + 'R'].replace({'9': np.NaN, 'U': np.NaN, 'P': np.NaN})\n",
        " "
      ],
      "execution_count": 504,
      "outputs": []
    },
    {
      "cell_type": "code",
      "metadata": {
        "id": "7pdNHCG0a9md",
        "outputId": "356538f2-da1d-41cf-a250-91b9892f0f2b",
        "colab": {
          "base_uri": "https://localhost:8080/"
        }
      },
      "source": [
        "len(df.RFA_19A.unique())"
      ],
      "execution_count": 523,
      "outputs": [
        {
          "output_type": "execute_result",
          "data": {
            "text/plain": [
              "7"
            ]
          },
          "metadata": {
            "tags": []
          },
          "execution_count": 523
        }
      ]
    },
    {
      "cell_type": "code",
      "metadata": {
        "id": "Kuge4Vd1Vv7Z"
      },
      "source": [
        ""
      ],
      "execution_count": 412,
      "outputs": []
    },
    {
      "cell_type": "code",
      "metadata": {
        "id": "fyu-c3Wpq4Cc"
      },
      "source": [
        "df.HOMEOWNR = df.HOMEOWNR.replace({'H': 1, 'U': 0, ' ': np.NaN})\n",
        "df['CHILD03'] = df['CHILD03'].replace({' ': 'N'}) # we will assume that no indication of \n",
        "# children means no children as a category\n",
        "df['CHILD07'] = df['CHILD07'].replace({' ': 'N'})\t\n",
        "df['CHILD12'] = df['CHILD12'].replace({' ': 'N'})\n",
        "df['CHILD18'] = df['CHILD18'].replace({' ': 'N'})\n",
        "#df.MAJOR = df.MAJOR.replace({'X': 1, ' ': 0})\n",
        "df.PEPSTRFL = df.PEPSTRFL.replace({'X': 1, ' ':0})\n",
        "df.DOMAIN = df.DOMAIN.replace({9 : np.NaN, '9': np.NaN})\n",
        "df.SES = df.SES.replace({9 : np.NaN, 4: 3}) # please read documentation, the decision was made to replace every 4 to 3 so that technically 3 will include \n",
        "# all lowest SES\n",
        "df.SES = df.SES.replace({3: 1, 1: 3}) # now we replace all 3 with 1 and all 1 with 3 so that we can decode it ordinally\n",
        "df.GENDER = df.GENDER.replace({'A': 'U', 'C': 'U', ' ': np.NaN, 'J' : 'U'})\n",
        "#df.MDMAUD_A = df.MDMAUD_A.replace({'X': np.NaN})\n",
        "df.MDMAUD_F = df.MDMAUD_F.replace({'X': np.NaN})\n",
        "\n",
        "for item in yesno_variables:\n",
        "    df[item] = df[item].replace({' ': 0, 'N':0, 'Y': 1}) # these data values are a bit ambiguous since some of them do not have real N so we assume\n",
        "    #that empty cells represent negative observations\n",
        "\n",
        "\n",
        "recency = df.columns[376:442].to_list()[0::3]\n",
        "frequency = df.columns[376:442].to_list()[1::3]\n",
        "freq = [[1,2,3,4]]*len(frequency)\n",
        "amount = df.columns[376:442].to_list()[2::3]\n",
        "am = [['A', 'B', 'C', 'D', 'E', 'F', 'G']] * len(amount)\n",
        "\n"
      ],
      "execution_count": 524,
      "outputs": []
    },
    {
      "cell_type": "code",
      "metadata": {
        "id": "hCXbM8eDuchI"
      },
      "source": [
        "too_many_nas = []\n",
        "\n",
        "for item in df:\n",
        "    if df[item].isna().sum() > len(df)*0.5:\n",
        "      too_many_nas.append(str(item))\n",
        "\n",
        "df = df.drop(too_many_nas, axis = 1)"
      ],
      "execution_count": 525,
      "outputs": []
    },
    {
      "cell_type": "code",
      "metadata": {
        "id": "eAHK0IjEfXtb",
        "outputId": "5b4a6a43-2f68-4d73-ba14-2f7a346dd08a",
        "colab": {
          "base_uri": "https://localhost:8080/"
        }
      },
      "source": [
        "[df.DOMAIN.unique()] + [df.MDMAUD_A.unique()]"
      ],
      "execution_count": 460,
      "outputs": [
        {
          "output_type": "execute_result",
          "data": {
            "text/plain": [
              "[array(['T', 'S', 'R', 'U', 'C', '9'], dtype=object),\n",
              " array(['X', 'C', 'M', 'L', 'T'], dtype=object)]"
            ]
          },
          "metadata": {
            "tags": []
          },
          "execution_count": 460
        }
      ]
    },
    {
      "cell_type": "code",
      "metadata": {
        "id": "jhUOD09fzemE"
      },
      "source": [
        "for item in df:\n",
        "    print(df[item].dtype)"
      ],
      "execution_count": null,
      "outputs": []
    },
    {
      "cell_type": "code",
      "metadata": {
        "id": "Mo8ZltXBg9IJ",
        "outputId": "2edc03d0-b4dc-4799-a891-0d7246a64528",
        "colab": {
          "base_uri": "https://localhost:8080/"
        }
      },
      "source": [
        "too_many_nas"
      ],
      "execution_count": 526,
      "outputs": [
        {
          "output_type": "execute_result",
          "data": {
            "text/plain": [
              "['MBCRAFT',\n",
              " 'MBGARDEN',\n",
              " 'MBBOOKS',\n",
              " 'MBCOLECT',\n",
              " 'MAGFAML',\n",
              " 'MAGFEM',\n",
              " 'MAGMALE',\n",
              " 'PUBGARDN',\n",
              " 'PUBCULIN',\n",
              " 'PUBHLTH',\n",
              " 'PUBDOITY',\n",
              " 'PUBNEWFN',\n",
              " 'PUBPHOTO',\n",
              " 'PUBOPP',\n",
              " 'MDMAUD_F',\n",
              " 'RFA_15R',\n",
              " 'RFA_15F',\n",
              " 'RFA_15A',\n",
              " 'RFA_20R',\n",
              " 'RFA_20F',\n",
              " 'RFA_20A',\n",
              " 'RFA_23R',\n",
              " 'RFA_23F',\n",
              " 'RFA_23A']"
            ]
          },
          "metadata": {
            "tags": []
          },
          "execution_count": 526
        }
      ]
    },
    {
      "cell_type": "markdown",
      "metadata": {
        "id": "2gsKo9RgWXa6"
      },
      "source": [
        "**Step 3: One Hot Encoding**"
      ]
    },
    {
      "cell_type": "code",
      "metadata": {
        "id": "0MYZUFWWWbS6"
      },
      "source": [
        "from sklearn.preprocessing import OneHotEncoder, OrdinalEncoder\n",
        "ordinal_encoder = OrdinalEncoder(categories = categories)\n",
        "one_hot_encoder = OneHotEncoder()\n",
        "\n",
        "#dropna\n",
        "df = df.dropna()\n",
        "\n",
        "one_hot_encoding = ['DOMAIN', 'CHILD03','CHILD12','CHILD18', 'GENDER', 'MDMAUD_R'] + recency\n",
        "categorical_encoding = ['MDMAUD_A', 'SES', 'INCOME']# + frequency + amount\n",
        "categories = [[ 'X' ,'L', 'C', 'M', 'T'],\n",
        "              ['1','2','3'],\n",
        "              [1.,2.,3.,4.,5.,6.,7.]] #+ freq + am\n",
        "\n",
        "df_onehot = one_hot_encoder.fit_transform(df[one_hot_encoding])\n",
        "df_ordinal = ordinal_encoder.fit_transform(df[categorical_encoding])"
      ],
      "execution_count": 481,
      "outputs": []
    },
    {
      "cell_type": "code",
      "metadata": {
        "id": "sgbeFV8lgc5J",
        "outputId": "32d3ca40-4582-447c-e74a-f8a59d03c033",
        "colab": {
          "base_uri": "https://localhost:8080/"
        }
      },
      "source": [
        "df.RFA_3A.unique()"
      ],
      "execution_count": 487,
      "outputs": [
        {
          "output_type": "execute_result",
          "data": {
            "text/plain": [
              "array(['G', 'E', 'F', 'D', '9', 'C', 'B'], dtype=object)"
            ]
          },
          "metadata": {
            "tags": []
          },
          "execution_count": 487
        }
      ]
    },
    {
      "cell_type": "code",
      "metadata": {
        "id": "n0e3zWm8h6Pr"
      },
      "source": [
        ""
      ],
      "execution_count": null,
      "outputs": []
    },
    {
      "cell_type": "code",
      "metadata": {
        "id": "0ABpmHlmhg4R"
      },
      "source": [
        ""
      ],
      "execution_count": null,
      "outputs": []
    },
    {
      "cell_type": "code",
      "metadata": {
        "id": "ejAnC9zhYao-",
        "outputId": "70d80787-9c4a-44d7-876f-b0b9791b2e68",
        "colab": {
          "base_uri": "https://localhost:8080/"
        }
      },
      "source": [
        "categorical_encoding"
      ],
      "execution_count": 359,
      "outputs": [
        {
          "output_type": "execute_result",
          "data": {
            "text/plain": [
              "['categorical_encoding',\n",
              " 'MDMAUD_F',\n",
              " 'SES',\n",
              " 'INCOME',\n",
              " 'RFA_3F',\n",
              " 'RFA_4F',\n",
              " 'RFA_5F',\n",
              " 'RFA_6F',\n",
              " 'RFA_7F',\n",
              " 'RFA_8F',\n",
              " 'RFA_9F',\n",
              " 'RFA_10F',\n",
              " 'RFA_11F',\n",
              " 'RFA_12F',\n",
              " 'RFA_13F',\n",
              " 'RFA_14F',\n",
              " 'RFA_15F',\n",
              " 'RFA_16F',\n",
              " 'RFA_17F',\n",
              " 'RFA_18F',\n",
              " 'RFA_19F',\n",
              " 'RFA_20F',\n",
              " 'RFA_21F',\n",
              " 'RFA_22F',\n",
              " 'RFA_23F',\n",
              " 'RFA_24F',\n",
              " 'RFA_3A',\n",
              " 'RFA_4A',\n",
              " 'RFA_5A',\n",
              " 'RFA_6A',\n",
              " 'RFA_7A',\n",
              " 'RFA_8A',\n",
              " 'RFA_9A',\n",
              " 'RFA_10A',\n",
              " 'RFA_11A',\n",
              " 'RFA_12A',\n",
              " 'RFA_13A',\n",
              " 'RFA_14A',\n",
              " 'RFA_15A',\n",
              " 'RFA_16A',\n",
              " 'RFA_17A',\n",
              " 'RFA_18A',\n",
              " 'RFA_19A',\n",
              " 'RFA_20A',\n",
              " 'RFA_21A',\n",
              " 'RFA_22A',\n",
              " 'RFA_23A',\n",
              " 'RFA_24A']"
            ]
          },
          "metadata": {
            "tags": []
          },
          "execution_count": 359
        }
      ]
    },
    {
      "cell_type": "code",
      "metadata": {
        "id": "E2qeS91i5arF"
      },
      "source": [
        ""
      ],
      "execution_count": null,
      "outputs": []
    },
    {
      "cell_type": "code",
      "metadata": {
        "id": "RKFcqfwFSU8D"
      },
      "source": [
        ""
      ],
      "execution_count": null,
      "outputs": []
    }
  ]
}