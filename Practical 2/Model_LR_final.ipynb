{
  "nbformat": 4,
  "nbformat_minor": 0,
  "metadata": {
    "colab": {
      "name": "Untitled3.ipynb",
      "provenance": [],
      "authorship_tag": "ABX9TyOMRJMDx6OoGyqJc+uTB7dA",
      "include_colab_link": true
    },
    "kernelspec": {
      "name": "python3",
      "display_name": "Python 3"
    }
  },
  "cells": [
    {
      "cell_type": "markdown",
      "metadata": {
        "id": "view-in-github",
        "colab_type": "text"
      },
      "source": [
        "<a href=\"https://colab.research.google.com/github/AnnetVasileva/machineLearning/blob/main/Practical%202/Model_LR_final.ipynb\" target=\"_parent\"><img src=\"https://colab.research.google.com/assets/colab-badge.svg\" alt=\"Open In Colab\"/></a>"
      ]
    },
    {
      "cell_type": "code",
      "metadata": {
        "colab": {
          "base_uri": "https://localhost:8080/"
        },
        "id": "8VO0DxMPEfzb",
        "outputId": "149d3688-dc83-4b1d-ea88-886a0bf5ce4c"
      },
      "source": [
        "import numpy as np\r\n",
        "import pandas as pd\r\n",
        "import pickle\r\n",
        "import matplotlib as mpl\r\n",
        "import matplotlib.pyplot as plt\r\n",
        "import sklearn\r\n",
        "from imblearn.under_sampling import RandomUnderSampler\r\n",
        "from imblearn.over_sampling import RandomOverSampler\r\n",
        "from sklearn.preprocessing import StandardScaler\r\n",
        "\r\n",
        "from sklearn.model_selection import train_test_split, RandomizedSearchCV\r\n",
        "from sklearn.metrics import accuracy_score, precision_score, recall_score, matthews_corrcoef, plot_roc_curve, confusion_matrix\r\n",
        "from sklearn.linear_model import LogisticRegression"
      ],
      "execution_count": 3,
      "outputs": [
        {
          "output_type": "stream",
          "text": [
            "/usr/local/lib/python3.6/dist-packages/sklearn/externals/six.py:31: FutureWarning: The module is deprecated in version 0.21 and will be removed in version 0.23 since we've dropped support for Python 2.7. Please rely on the official version of six (https://pypi.org/project/six/).\n",
            "  \"(https://pypi.org/project/six/).\", FutureWarning)\n",
            "/usr/local/lib/python3.6/dist-packages/sklearn/utils/deprecation.py:144: FutureWarning: The sklearn.neighbors.base module is  deprecated in version 0.22 and will be removed in version 0.24. The corresponding classes / functions should instead be imported from sklearn.neighbors. Anything that cannot be imported from sklearn.neighbors is now part of the private API.\n",
            "  warnings.warn(message, FutureWarning)\n"
          ],
          "name": "stderr"
        }
      ]
    },
    {
      "cell_type": "code",
      "metadata": {
        "colab": {
          "base_uri": "https://localhost:8080/"
        },
        "id": "ePuKmoQ1FiZp",
        "outputId": "baa7918e-9e35-4b5c-8515-cf4e0f16b7ac"
      },
      "source": [
        "from google.colab import drive\r\n",
        "drive.mount('/content/drive')"
      ],
      "execution_count": 1,
      "outputs": [
        {
          "output_type": "stream",
          "text": [
            "Drive already mounted at /content/drive; to attempt to forcibly remount, call drive.mount(\"/content/drive\", force_remount=True).\n"
          ],
          "name": "stdout"
        }
      ]
    },
    {
      "cell_type": "code",
      "metadata": {
        "id": "aE4aF415FqiA"
      },
      "source": [
        "def plot_roc(name, labels, predictions, **kwargs):\r\n",
        "  fp, tp, _ = sklearn.metrics.roc_curve(labels, predictions)\r\n",
        "  auc_score = sklearn.metrics.roc_auc_score(labels, predictions)\r\n",
        "  line_name =  name+ ', AUC: ' + str(round(auc_score,4))\r\n",
        "  plt.plot(100*fp, 100*tp, label= line_name,\r\n",
        "           linewidth=2, **kwargs)\r\n",
        "  plt.xlabel('False positives [%]')\r\n",
        "  plt.ylabel('True positives [%]')\r\n",
        "  plt.xlim([-0.5,100])\r\n",
        "  plt.ylim([0,100.5])\r\n",
        "  plt.grid(True)\r\n",
        "  ax = plt.gca()\r\n",
        "  ax.set_aspect('equal')\r\n",
        "  \r\n",
        "mpl.rcParams['figure.figsize'] = (12, 10)\r\n",
        "colors = plt.rcParams['axes.prop_cycle'].by_key()['color']\r\n",
        "\r\n",
        "def print_score(labels, pred):\r\n",
        "  accuracy  = accuracy_score(labels,pred)\r\n",
        "  precision = precision_score(labels, pred)\r\n",
        "  recall = recall_score(labels,pred)\r\n",
        "  print('Accuracy : {}'.format(accuracy),\r\n",
        "        '\\nPrecision {}:'.format(precision),\r\n",
        "        '\\nRecall: {}'.format(recall))"
      ],
      "execution_count": 4,
      "outputs": []
    },
    {
      "cell_type": "code",
      "metadata": {
        "colab": {
          "base_uri": "https://localhost:8080/"
        },
        "id": "eK0ld5S-FrlK",
        "outputId": "f83a4254-a2b7-448f-a50a-03cbd0d3dfba"
      },
      "source": [
        "# read in data\r\n",
        "path = '/content/drive/MyDrive/ML_ECO/'\r\n",
        "pickle_file = 'data_set_big.pkl'\r\n",
        "\r\n",
        "with open(path + pickle_file, 'rb') as f:\r\n",
        "  train_set =pickle.load(f) \r\n",
        "\r\n",
        "X = train_set['X']\r\n",
        "y = train_set['y']\r\n",
        "X.shape"
      ],
      "execution_count": 5,
      "outputs": [
        {
          "output_type": "execute_result",
          "data": {
            "text/plain": [
              "(111680, 174)"
            ]
          },
          "metadata": {
            "tags": []
          },
          "execution_count": 5
        }
      ]
    },
    {
      "cell_type": "code",
      "metadata": {
        "id": "6ok_BgoVFugP"
      },
      "source": [
        "# split data\r\n",
        "X_train, X_test, y_train, y_test = train_test_split( X, y, \r\n",
        "                                                    test_size=0.2, \r\n",
        "                                                    random_state=42,\r\n",
        "                                                    stratify = y)\r\n"
      ],
      "execution_count": 6,
      "outputs": []
    },
    {
      "cell_type": "code",
      "metadata": {
        "id": "fxeNZPNcF2Bx"
      },
      "source": [
        "scaler_train = StandardScaler()\r\n",
        "scaler_test = StandardScaler()\r\n",
        "\r\n",
        "scaler_test.fit(X_test)\r\n",
        "scaler_train.fit(X_train)\r\n",
        "\r\n",
        "X_train = scaler_train.transform(X_train)\r\n",
        "X_test = scaler_test.transform(X_test)"
      ],
      "execution_count": 7,
      "outputs": []
    },
    {
      "cell_type": "code",
      "metadata": {
        "colab": {
          "base_uri": "https://localhost:8080/"
        },
        "id": "sjY2MhudGQ0T",
        "outputId": "b335f752-8ef0-44ba-ab6e-457fbfc563d2"
      },
      "source": [
        "#BASE\r\n",
        "base_lr = LogisticRegression( max_iter= 1e4, warm_start = True, solver = 'saga', penalty = 'elasticnet', l1_ratio = 0.5,n_jobs = -1)\r\n",
        "\r\n",
        "base_lr.fit(X_train, y_train)"
      ],
      "execution_count": 35,
      "outputs": [
        {
          "output_type": "execute_result",
          "data": {
            "text/plain": [
              "LogisticRegression(C=1.0, class_weight=None, dual=False, fit_intercept=True,\n",
              "                   intercept_scaling=1, l1_ratio=0.5, max_iter=10000.0,\n",
              "                   multi_class='auto', n_jobs=-1, penalty='elasticnet',\n",
              "                   random_state=None, solver='saga', tol=0.0001, verbose=0,\n",
              "                   warm_start=True)"
            ]
          },
          "metadata": {
            "tags": []
          },
          "execution_count": 35
        }
      ]
    },
    {
      "cell_type": "code",
      "metadata": {
        "colab": {
          "base_uri": "https://localhost:8080/"
        },
        "id": "K4cs0q1pHeyU",
        "outputId": "9d3d460a-4d7f-4a0d-97dd-391e74006818"
      },
      "source": [
        "y_pred_base = base_lr.predict_proba(X_test)[:,1]\r\n",
        "y_base_labels = 1*(y_pred_base > 0.5)\r\n",
        "print_score(y_test, y_base_labels)"
      ],
      "execution_count": 36,
      "outputs": [
        {
          "output_type": "stream",
          "text": [
            "Accuracy : 0.9470809455587392 \n",
            "Precision 0.0: \n",
            "Recall: 0.0\n"
          ],
          "name": "stdout"
        },
        {
          "output_type": "stream",
          "text": [
            "/usr/local/lib/python3.6/dist-packages/sklearn/metrics/_classification.py:1272: UndefinedMetricWarning: Precision is ill-defined and being set to 0.0 due to no predicted samples. Use `zero_division` parameter to control this behavior.\n",
            "  _warn_prf(average, modifier, msg_start, len(result))\n"
          ],
          "name": "stderr"
        }
      ]
    },
    {
      "cell_type": "code",
      "metadata": {
        "colab": {
          "base_uri": "https://localhost:8080/"
        },
        "id": "lTW-qRtLHtFL",
        "outputId": "77305fde-8bb6-44b4-907f-e36659b94f3f"
      },
      "source": [
        "confusion_matrix(y_test, y_base_labels)"
      ],
      "execution_count": 37,
      "outputs": [
        {
          "output_type": "execute_result",
          "data": {
            "text/plain": [
              "array([[21154,     0],\n",
              "       [ 1182,     0]])"
            ]
          },
          "metadata": {
            "tags": []
          },
          "execution_count": 37
        }
      ]
    },
    {
      "cell_type": "code",
      "metadata": {
        "colab": {
          "base_uri": "https://localhost:8080/"
        },
        "id": "AumaoS94xOR8",
        "outputId": "a5d4d644-13ac-48df-cd8b-d351c4aa33cb"
      },
      "source": [
        "# UNDERSAMPLING MODEL\r\n",
        "undersample = RandomUnderSampler(sampling_strategy='majority')\r\n",
        "# fit and apply the transform\r\n",
        "X_under, y_under = undersample.fit_resample(X_train, y_train)\r\n"
      ],
      "execution_count": 8,
      "outputs": [
        {
          "output_type": "stream",
          "text": [
            "/usr/local/lib/python3.6/dist-packages/sklearn/utils/deprecation.py:87: FutureWarning: Function safe_indexing is deprecated; safe_indexing is deprecated in version 0.22 and will be removed in version 0.24.\n",
            "  warnings.warn(msg, category=FutureWarning)\n"
          ],
          "name": "stderr"
        }
      ]
    },
    {
      "cell_type": "code",
      "metadata": {
        "colab": {
          "base_uri": "https://localhost:8080/"
        },
        "id": "y-G7aBbuxW5w",
        "outputId": "7bebd267-aa8d-4397-ec2a-d0359f60a8d3"
      },
      "source": [
        "under_lr_mod = LogisticRegression( max_iter= 1e4, warm_start = True, solver = 'saga', n_jobs = -1) # penalty = 'elasticnet', l1_ratio = 0.3,\r\n",
        "grid_under={\"C\":np.logspace(-2,2,4), \"penalty\":[\"l1\", \"l2\"],\r\n",
        "      'class_weight' : ['balanced', None]}\r\n",
        "under_lr = RandomizedSearchCV(estimator = under_lr_mod, param_distributions = grid_under, n_iter = 5, cv = 3, verbose=10, random_state=42, n_jobs = -1)\r\n",
        "\r\n",
        "under_lr.fit(X_under, y_under)"
      ],
      "execution_count": 22,
      "outputs": [
        {
          "output_type": "stream",
          "text": [
            "Fitting 3 folds for each of 5 candidates, totalling 15 fits\n"
          ],
          "name": "stdout"
        },
        {
          "output_type": "stream",
          "text": [
            "[Parallel(n_jobs=-1)]: Using backend LokyBackend with 2 concurrent workers.\n",
            "[Parallel(n_jobs=-1)]: Done   1 tasks      | elapsed:    2.3s\n",
            "[Parallel(n_jobs=-1)]: Done   4 tasks      | elapsed:   12.0s\n",
            "[Parallel(n_jobs=-1)]: Done   9 tasks      | elapsed:  1.5min\n",
            "[Parallel(n_jobs=-1)]: Done  15 out of  15 | elapsed:  8.4min finished\n"
          ],
          "name": "stderr"
        },
        {
          "output_type": "execute_result",
          "data": {
            "text/plain": [
              "RandomizedSearchCV(cv=3, error_score=nan,\n",
              "                   estimator=LogisticRegression(C=1.0, class_weight=None,\n",
              "                                                dual=False, fit_intercept=True,\n",
              "                                                intercept_scaling=1,\n",
              "                                                l1_ratio=None, max_iter=10000.0,\n",
              "                                                multi_class='auto', n_jobs=-1,\n",
              "                                                penalty='l2', random_state=None,\n",
              "                                                solver='saga', tol=0.0001,\n",
              "                                                verbose=0, warm_start=True),\n",
              "                   iid='deprecated', n_iter=5, n_jobs=-1,\n",
              "                   param_distributions={'C': array([1.00000000e-02, 2.15443469e-01, 4.64158883e+00, 1.00000000e+02]),\n",
              "                                        'class_weight': ['balanced', None],\n",
              "                                        'penalty': ['l1', 'l2']},\n",
              "                   pre_dispatch='2*n_jobs', random_state=42, refit=True,\n",
              "                   return_train_score=False, scoring=None, verbose=10)"
            ]
          },
          "metadata": {
            "tags": []
          },
          "execution_count": 22
        }
      ]
    },
    {
      "cell_type": "code",
      "metadata": {
        "colab": {
          "base_uri": "https://localhost:8080/"
        },
        "id": "iSR1UoT8GfPR",
        "outputId": "518474b3-2247-4ecb-9150-4e11da3b2fe5"
      },
      "source": [
        "under_lr.best_estimator_"
      ],
      "execution_count": 23,
      "outputs": [
        {
          "output_type": "execute_result",
          "data": {
            "text/plain": [
              "LogisticRegression(C=0.01, class_weight='balanced', dual=False,\n",
              "                   fit_intercept=True, intercept_scaling=1, l1_ratio=None,\n",
              "                   max_iter=10000.0, multi_class='auto', n_jobs=-1,\n",
              "                   penalty='l1', random_state=None, solver='saga', tol=0.0001,\n",
              "                   verbose=0, warm_start=True)"
            ]
          },
          "metadata": {
            "tags": []
          },
          "execution_count": 23
        }
      ]
    },
    {
      "cell_type": "code",
      "metadata": {
        "id": "8o1xY6HS1Coj"
      },
      "source": [
        "y_pred_under = under_lr.best_estimator_.predict_proba(X_test)[:,1]\r\n",
        "y_under_labels = 1*(y_pred_under > 0.5)"
      ],
      "execution_count": 26,
      "outputs": []
    },
    {
      "cell_type": "code",
      "metadata": {
        "colab": {
          "base_uri": "https://localhost:8080/"
        },
        "id": "TVBtsy6E1Ium",
        "outputId": "7cff3fcb-1cdc-48ce-cdb4-7eab0c7b95d7"
      },
      "source": [
        "print_score(y_test, y_under_labels)"
      ],
      "execution_count": 27,
      "outputs": [
        {
          "output_type": "stream",
          "text": [
            "Accuracy : 0.5594555873925502 \n",
            "Precision 0.06951073985680191: \n",
            "Recall: 0.5913705583756346\n"
          ],
          "name": "stdout"
        }
      ]
    },
    {
      "cell_type": "code",
      "metadata": {
        "colab": {
          "base_uri": "https://localhost:8080/"
        },
        "id": "S_jGc9xx1LlV",
        "outputId": "2a493661-2d72-41ff-f7e4-7f996faefea3"
      },
      "source": [
        "confusion_matrix(y_test, y_under_labels)"
      ],
      "execution_count": 28,
      "outputs": [
        {
          "output_type": "execute_result",
          "data": {
            "text/plain": [
              "array([[11797,  9357],\n",
              "       [  483,   699]])"
            ]
          },
          "metadata": {
            "tags": []
          },
          "execution_count": 28
        }
      ]
    },
    {
      "cell_type": "code",
      "metadata": {
        "colab": {
          "base_uri": "https://localhost:8080/",
          "height": 623
        },
        "id": "WMv3Br_i1OH4",
        "outputId": "f2385f6d-9d94-4d06-c999-5d6230cc3c98"
      },
      "source": [
        "plot_roc('Under', y_test, y_pred_under)\r\n",
        "plt.plot([0, 100], [0, 100], linestyle='--', lw=2, color='r',\r\n",
        "      label='Chance', alpha=.8)\r\n",
        "plt.legend()"
      ],
      "execution_count": 29,
      "outputs": [
        {
          "output_type": "execute_result",
          "data": {
            "text/plain": [
              "<matplotlib.legend.Legend at 0x7fe5812a55f8>"
            ]
          },
          "metadata": {
            "tags": []
          },
          "execution_count": 29
        },
        {
          "output_type": "display_data",
          "data": {
            "image/png": "[encoded data removed]",
            "text/plain": [
              "<Figure size 864x720 with 1 Axes>"
            ]
          },
          "metadata": {
            "tags": [],
            "needs_background": "light"
          }
        }
      ]
    },
    {
      "cell_type": "code",
      "metadata": {
        "colab": {
          "base_uri": "https://localhost:8080/"
        },
        "id": "6dFjtQY2EmLu",
        "outputId": "8ca9b404-db4e-40bf-b85b-12f8dbfb1c16"
      },
      "source": [
        "#OVERSAMPLING\r\n",
        "oversample = RandomOverSampler(0.3)\r\n",
        "# fit and apply the transform\r\n",
        "X_over, y_over = undersample.fit_resample(X_train, y_train)\r\n"
      ],
      "execution_count": 30,
      "outputs": [
        {
          "output_type": "stream",
          "text": [
            "/usr/local/lib/python3.6/dist-packages/sklearn/utils/deprecation.py:87: FutureWarning: Function safe_indexing is deprecated; safe_indexing is deprecated in version 0.22 and will be removed in version 0.24.\n",
            "  warnings.warn(msg, category=FutureWarning)\n"
          ],
          "name": "stderr"
        }
      ]
    },
    {
      "cell_type": "code",
      "metadata": {
        "colab": {
          "base_uri": "https://localhost:8080/"
        },
        "id": "OVwX7UeJE6SW",
        "outputId": "4aa4910b-405b-4c51-b635-8822374a177f"
      },
      "source": [
        "over_lr = LogisticRegression( max_iter= 1e4, warm_start = True, solver = 'saga', penalty = 'elasticnet', l1_ratio = 0.5,n_jobs = -1) # penalty = 'elasticnet', l1_ratio = 0.3,\r\n",
        "\r\n",
        "over_lr.fit(X_over, y_over)"
      ],
      "execution_count": 31,
      "outputs": [
        {
          "output_type": "execute_result",
          "data": {
            "text/plain": [
              "LogisticRegression(C=1.0, class_weight=None, dual=False, fit_intercept=True,\n",
              "                   intercept_scaling=1, l1_ratio=0.5, max_iter=10000.0,\n",
              "                   multi_class='auto', n_jobs=-1, penalty='elasticnet',\n",
              "                   random_state=None, solver='saga', tol=0.0001, verbose=0,\n",
              "                   warm_start=True)"
            ]
          },
          "metadata": {
            "tags": []
          },
          "execution_count": 31
        }
      ]
    },
    {
      "cell_type": "code",
      "metadata": {
        "colab": {
          "base_uri": "https://localhost:8080/"
        },
        "id": "pk_oevBIFFOp",
        "outputId": "6a1a5d6f-c37a-4f9f-ef1b-7dcd5b954f92"
      },
      "source": [
        "y_pred_over = over_lr.predict_proba(X_test)[:,1]\r\n",
        "y_over_labels = 1*(y_pred_over > 0.5)\r\n",
        "print_score(y_test, y_over_labels)"
      ],
      "execution_count": 32,
      "outputs": [
        {
          "output_type": "stream",
          "text": [
            "Accuracy : 0.5762893982808023 \n",
            "Precision 0.06864583333333334: \n",
            "Recall: 0.5575296108291032\n"
          ],
          "name": "stdout"
        }
      ]
    },
    {
      "cell_type": "code",
      "metadata": {
        "colab": {
          "base_uri": "https://localhost:8080/"
        },
        "id": "8YKw2YUxFL5n",
        "outputId": "835a5721-8068-4074-f7f4-87a2a54f6420"
      },
      "source": [
        "confusion_matrix(y_test, y_over_labels)"
      ],
      "execution_count": 33,
      "outputs": [
        {
          "output_type": "execute_result",
          "data": {
            "text/plain": [
              "array([[12213,  8941],\n",
              "       [  523,   659]])"
            ]
          },
          "metadata": {
            "tags": []
          },
          "execution_count": 33
        }
      ]
    },
    {
      "cell_type": "code",
      "metadata": {
        "colab": {
          "base_uri": "https://localhost:8080/",
          "height": 623
        },
        "id": "GvaLjIX3FNzf",
        "outputId": "0b1eedbc-894d-4218-cf51-8c1b576d1c16"
      },
      "source": [
        "plot_roc('Base', y_test, y_pred_base, alpha = 0.8)\r\n",
        "plot_roc('Under Sampling', y_test, y_pred_under, alpha = 0.8)\r\n",
        "plot_roc('Over Sampling', y_test, y_pred_over, alpha  = 0.8)\r\n",
        "plt.plot([0, 100], [0, 100], linestyle='--', lw=2, color='r',\r\n",
        "      label='Chance', alpha=.8)\r\n",
        "plt.legend()"
      ],
      "execution_count": 38,
      "outputs": [
        {
          "output_type": "execute_result",
          "data": {
            "text/plain": [
              "<matplotlib.legend.Legend at 0x7fe58015be10>"
            ]
          },
          "metadata": {
            "tags": []
          },
          "execution_count": 38
        },
        {
          "output_type": "display_data",
          "data": {
            "image/png": "[encoded data removed]",
            "text/plain": [
              "<Figure size 864x720 with 1 Axes>"
            ]
          },
          "metadata": {
            "tags": [],
            "needs_background": "light"
          }
        }
      ]
    }
  ]
}