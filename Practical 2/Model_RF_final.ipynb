{
  "nbformat": 4,
  "nbformat_minor": 0,
  "metadata": {
    "colab": {
      "name": "Untitled2.ipynb",
      "provenance": [],
      "authorship_tag": "ABX9TyOQwkgZJYp6unT/Nkp8ef1z",
      "include_colab_link": true
    },
    "kernelspec": {
      "name": "python3",
      "display_name": "Python 3"
    }
  },
  "cells": [
    {
      "cell_type": "markdown",
      "metadata": {
        "id": "view-in-github",
        "colab_type": "text"
      },
      "source": [
        "<a href=\"https://colab.research.google.com/github/AnnetVasileva/machineLearning/blob/main/Practical%202/Model_RF_final.ipynb\" target=\"_parent\"><img src=\"https://colab.research.google.com/assets/colab-badge.svg\" alt=\"Open In Colab\"/></a>"
      ]
    },
    {
      "cell_type": "code",
      "metadata": {
        "id": "xEkhj9LNHIn3"
      },
      "source": [
        "import numpy as np\r\n",
        "import pandas as pd\r\n",
        "import pickle\r\n",
        "import matplotlib as mpl\r\n",
        "import matplotlib.pyplot as plt\r\n",
        "import sklearn\r\n",
        "from imblearn.under_sampling import RandomUnderSampler\r\n",
        "from imblearn.over_sampling import RandomOverSampler\r\n",
        "\r\n",
        "from sklearn.model_selection import train_test_split, cross_val_score, GridSearchCV\r\n",
        "from sklearn.ensemble import RandomForestClassifier\r\n",
        "from sklearn.metrics import accuracy_score, precision_score, recall_score, matthews_corrcoef, plot_roc_curve, confusion_matrix\r\n",
        "from sklearn.svm import SVC"
      ],
      "execution_count": null,
      "outputs": []
    },
    {
      "cell_type": "code",
      "metadata": {
        "colab": {
          "base_uri": "https://localhost:8080/"
        },
        "id": "aXv2KxUuHNfH",
        "outputId": "07dbe19c-8169-43df-8e73-611f7b1516ee"
      },
      "source": [
        "from google.colab import drive\r\n",
        "drive.mount('/content/drive')"
      ],
      "execution_count": null,
      "outputs": [
        {
          "output_type": "stream",
          "text": [
            "Mounted at /content/drive\n"
          ],
          "name": "stdout"
        }
      ]
    },
    {
      "cell_type": "code",
      "metadata": {
        "id": "oFu0oQrtMLD7"
      },
      "source": [
        "def plot_roc(name, labels, predictions, **kwargs):\r\n",
        "  fp, tp, _ = sklearn.metrics.roc_curve(labels, predictions)\r\n",
        "  auc_score = sklearn.metrics.roc_auc_score(labels, predictions)\r\n",
        "  line_name =  name+ ', AUC: ' + str(round(auc_score,4))\r\n",
        "  plt.plot(100*fp, 100*tp, label= line_name,\r\n",
        "           linewidth=2, **kwargs)\r\n",
        "  plt.xlabel('False positives [%]')\r\n",
        "  plt.ylabel('True positives [%]')\r\n",
        "  plt.xlim([-0.5,100])\r\n",
        "  plt.ylim([0,100.5])\r\n",
        "  plt.grid(True)\r\n",
        "  ax = plt.gca()\r\n",
        "  ax.set_aspect('equal')\r\n",
        "  #plt.plot([0, 100], [0, 100], linestyle='--', lw=2, color='r',\r\n",
        "  #      label='Chance', alpha=.8)\r\n",
        "  \r\n",
        "mpl.rcParams['figure.figsize'] = (12, 10)\r\n",
        "colors = plt.rcParams['axes.prop_cycle'].by_key()['color']"
      ],
      "execution_count": null,
      "outputs": []
    },
    {
      "cell_type": "code",
      "metadata": {
        "colab": {
          "base_uri": "https://localhost:8080/"
        },
        "id": "uWPpwDJjHTX2",
        "outputId": "b46ea97a-d674-4053-df28-8f0c7759240c"
      },
      "source": [
        "# read in data\r\n",
        "path = '/content/drive/MyDrive/ML_ECO/'\r\n",
        "pickle_file = 'data_set_big.pkl'\r\n",
        "\r\n",
        "with open(path + pickle_file, 'rb') as f:\r\n",
        "  train_set =pickle.load(f) \r\n",
        "\r\n",
        "X = train_set['X']\r\n",
        "y = train_set['y']\r\n",
        "X.shape"
      ],
      "execution_count": null,
      "outputs": [
        {
          "output_type": "execute_result",
          "data": {
            "text/plain": [
              "(111680, 174)"
            ]
          },
          "metadata": {
            "tags": []
          },
          "execution_count": 43
        }
      ]
    },
    {
      "cell_type": "code",
      "metadata": {
        "id": "QhbBxvBqHZvG"
      },
      "source": [
        "# split data\r\n",
        "X_train, X_test, y_train, y_test = train_test_split( X, y, \r\n",
        "                                                    test_size=0.2, \r\n",
        "                                                    random_state=42,\r\n",
        "                                                    stratify = y)\r\n"
      ],
      "execution_count": null,
      "outputs": []
    },
    {
      "cell_type": "code",
      "metadata": {
        "colab": {
          "base_uri": "https://localhost:8080/"
        },
        "id": "nqMTvEG8Oi23",
        "outputId": "a1d60f4f-e4d7-4c95-db4c-c57d49b88706"
      },
      "source": [
        "from sklearn.model_selection import RandomizedSearchCV\r\n",
        "# Number of trees in random forest\r\n",
        "n_estimators = [int(x) for x in np.linspace(start = 200, stop = 2000, num = 10)]\r\n",
        "# Number of features to consider at every split\r\n",
        "max_features = ['auto', 'sqrt']\r\n",
        "# Maximum number of levels in tree\r\n",
        "max_depth = [int(x) for x in np.linspace(10, 50, num = 5)]\r\n",
        "max_depth.append(None)\r\n",
        "# Minimum number of samples required to split a node\r\n",
        "min_samples_split = [2, 5, 10]\r\n",
        "# Minimum number of samples required at each leaf node\r\n",
        "min_samples_leaf = [1, 2, 4]\r\n",
        "# Method of selecting samples for training each tree\r\n",
        "bootstrap = [True, False]\r\n",
        "oob_score= [True, False]\r\n",
        "# Create the random grid\r\n",
        "random_grid = {'n_estimators': [500],\r\n",
        "               'max_features': max_features,\r\n",
        "               'max_depth': max_depth,\r\n",
        "               'min_samples_split': min_samples_split,\r\n",
        "               'bootstrap': bootstrap,\r\n",
        "               'oob_score': oob_score}\r\n",
        "print(random_grid)\r\n"
      ],
      "execution_count": null,
      "outputs": [
        {
          "output_type": "stream",
          "text": [
            "{'n_estimators': [500], 'max_features': ['auto', 'sqrt'], 'max_depth': [10, 20, 30, 40, 50, None], 'min_samples_split': [2, 5, 10], 'bootstrap': [True, False], 'oob_score': [True, False]}\n"
          ],
          "name": "stdout"
        }
      ]
    },
    {
      "cell_type": "code",
      "metadata": {
        "colab": {
          "base_uri": "https://localhost:8080/"
        },
        "id": "WjzrduqeO4-k",
        "outputId": "55429359-915c-40c5-bc16-df8717939d46"
      },
      "source": [
        "rf_basic=RandomForestClassifier(random_state=42, n_jobs = -1)\r\n",
        "rf_random = RandomizedSearchCV(estimator = rf_basic, param_distributions = random_grid, n_iter = 10, cv = 2, verbose=10, random_state=42, n_jobs = -1)\r\n",
        "\r\n",
        "# Fit the random search model\r\n",
        "rf_random.fit(X_train, y_train)"
      ],
      "execution_count": null,
      "outputs": [
        {
          "output_type": "stream",
          "text": [
            "Fitting 2 folds for each of 10 candidates, totalling 20 fits\n"
          ],
          "name": "stdout"
        },
        {
          "output_type": "stream",
          "text": [
            "[Parallel(n_jobs=-1)]: Using backend LokyBackend with 2 concurrent workers.\n",
            "[Parallel(n_jobs=-1)]: Done   1 tasks      | elapsed:  2.5min\n",
            "[Parallel(n_jobs=-1)]: Done   4 tasks      | elapsed:  8.3min\n",
            "[Parallel(n_jobs=-1)]: Done   9 tasks      | elapsed: 17.8min\n",
            "[Parallel(n_jobs=-1)]: Done  14 tasks      | elapsed: 26.9min\n",
            "[Parallel(n_jobs=-1)]: Done  20 out of  20 | elapsed: 39.3min remaining:    0.0s\n",
            "[Parallel(n_jobs=-1)]: Done  20 out of  20 | elapsed: 39.3min finished\n"
          ],
          "name": "stderr"
        },
        {
          "output_type": "execute_result",
          "data": {
            "text/plain": [
              "RandomizedSearchCV(cv=2, error_score=nan,\n",
              "                   estimator=RandomForestClassifier(bootstrap=True,\n",
              "                                                    ccp_alpha=0.0,\n",
              "                                                    class_weight='balanced',\n",
              "                                                    criterion='gini',\n",
              "                                                    max_depth=None,\n",
              "                                                    max_features='auto',\n",
              "                                                    max_leaf_nodes=None,\n",
              "                                                    max_samples=None,\n",
              "                                                    min_impurity_decrease=0.0,\n",
              "                                                    min_impurity_split=None,\n",
              "                                                    min_samples_leaf=1,\n",
              "                                                    min_samples_split=2,\n",
              "                                                    min_weight_fraction_leaf=0.0,\n",
              "                                                    n_estimators=100,...\n",
              "                                                    oob_score=False,\n",
              "                                                    random_state=42, verbose=0,\n",
              "                                                    warm_start=False),\n",
              "                   iid='deprecated', n_iter=10, n_jobs=-1,\n",
              "                   param_distributions={'bootstrap': [True, False],\n",
              "                                        'max_depth': [10, 20, 30, 40, 50, None],\n",
              "                                        'max_features': ['auto', 'sqrt'],\n",
              "                                        'min_samples_split': [2, 5, 10],\n",
              "                                        'n_estimators': [500]},\n",
              "                   pre_dispatch='2*n_jobs', random_state=42, refit=True,\n",
              "                   return_train_score=False, scoring=None, verbose=10)"
            ]
          },
          "metadata": {
            "tags": []
          },
          "execution_count": 46
        }
      ]
    },
    {
      "cell_type": "code",
      "metadata": {
        "id": "FskllbTYXTXp"
      },
      "source": [
        "y_pred_base = rf_random.best_estimator_.predict_proba(X_test)[:,1]\r\n",
        "y_base_labels = 1*(y_pred_base>0.5)"
      ],
      "execution_count": null,
      "outputs": []
    },
    {
      "cell_type": "code",
      "metadata": {
        "id": "sXAjedWBvKD8"
      },
      "source": [
        "def print_score(labels, pred):\r\n",
        "  accuracy  = accuracy_score(labels,pred)\r\n",
        "  precision = precision_score(labels, pred)\r\n",
        "  recall = recall_score(labels,pred)\r\n",
        "  print('Accuracy : {}'.format(accuracy),\r\n",
        "        '\\nPrecision {}:'.format(precision),\r\n",
        "        '\\nRecall: {}'.format(recall))"
      ],
      "execution_count": null,
      "outputs": []
    },
    {
      "cell_type": "code",
      "metadata": {
        "id": "qJ8blguivOhG",
        "colab": {
          "base_uri": "https://localhost:8080/"
        },
        "outputId": "528b775c-06e7-4b9f-a212-674029cb70e6"
      },
      "source": [
        "print_score(y_test, y_base_labels)"
      ],
      "execution_count": null,
      "outputs": [
        {
          "output_type": "stream",
          "text": [
            "Accuracy : 0.9470809455587392 \n",
            "Precision 0.0: \n",
            "Recall: 0.0\n"
          ],
          "name": "stdout"
        },
        {
          "output_type": "stream",
          "text": [
            "/usr/local/lib/python3.6/dist-packages/sklearn/metrics/_classification.py:1272: UndefinedMetricWarning: Precision is ill-defined and being set to 0.0 due to no predicted samples. Use `zero_division` parameter to control this behavior.\n",
            "  _warn_prf(average, modifier, msg_start, len(result))\n"
          ],
          "name": "stderr"
        }
      ]
    },
    {
      "cell_type": "code",
      "metadata": {
        "id": "uYIpcUrmwgZO",
        "colab": {
          "base_uri": "https://localhost:8080/"
        },
        "outputId": "ee2f7ea4-1355-439f-dd7b-62e7b1abf1c0"
      },
      "source": [
        "confusion_matrix(y_test, y_base_labels)"
      ],
      "execution_count": null,
      "outputs": [
        {
          "output_type": "execute_result",
          "data": {
            "text/plain": [
              "array([[21154,     0],\n",
              "       [ 1182,     0]])"
            ]
          },
          "metadata": {
            "tags": []
          },
          "execution_count": 62
        }
      ]
    },
    {
      "cell_type": "code",
      "metadata": {
        "id": "PMYqoYwEj_yB",
        "colab": {
          "base_uri": "https://localhost:8080/",
          "height": 623
        },
        "outputId": "bd9258bb-fa29-4453-d6f8-c8a03478e770"
      },
      "source": [
        "plot_roc('Base', y_test, y_pred_base)\r\n",
        "plt.plot([0, 100], [0, 100], linestyle='--', lw=2, color='r',\r\n",
        "      label='Chance', alpha=.8)\r\n",
        "plt.legend()"
      ],
      "execution_count": null,
      "outputs": [
        {
          "output_type": "execute_result",
          "data": {
            "text/plain": [
              "<matplotlib.legend.Legend at 0x7f841c5518d0>"
            ]
          },
          "metadata": {
            "tags": []
          },
          "execution_count": 63
        },
        {
          "output_type": "display_data",
          "data": {
            "image/png": "[encoded data removed]",
            "text/plain": [
              "<Figure size 864x720 with 1 Axes>"
            ]
          },
          "metadata": {
            "tags": [],
            "needs_background": "light"
          }
        }
      ]
    },
    {
      "cell_type": "markdown",
      "metadata": {
        "id": "TdCfRoNcicuM"
      },
      "source": [
        "OVERSAMPLING\r\n"
      ]
    },
    {
      "cell_type": "code",
      "metadata": {
        "id": "Jg37Ag33Idug",
        "colab": {
          "base_uri": "https://localhost:8080/"
        },
        "outputId": "6cedf3aa-5cc3-422d-b529-40d8f5daca27"
      },
      "source": [
        "# UNDERSAMPLING MODEL\r\n",
        "undersample = RandomUnderSampler(sampling_strategy='majority')\r\n",
        "# fit and apply the transform\r\n",
        "X_under, y_under = undersample.fit_resample(X_train, y_train)\r\n",
        "\r\n",
        "random_grid_under = {'n_estimators': [200,300,500,750],\r\n",
        "               'max_features': max_features,\r\n",
        "               'max_depth': max_depth,\r\n",
        "               'min_samples_split': min_samples_split,\r\n",
        "               'bootstrap': bootstrap,\r\n",
        "               'oob_score': oob_score}"
      ],
      "execution_count": null,
      "outputs": [
        {
          "output_type": "stream",
          "text": [
            "/usr/local/lib/python3.6/dist-packages/sklearn/utils/deprecation.py:87: FutureWarning: Function safe_indexing is deprecated; safe_indexing is deprecated in version 0.22 and will be removed in version 0.24.\n",
            "  warnings.warn(msg, category=FutureWarning)\n"
          ],
          "name": "stderr"
        }
      ]
    },
    {
      "cell_type": "code",
      "metadata": {
        "id": "z_Ew4zUyMAnJ",
        "colab": {
          "base_uri": "https://localhost:8080/"
        },
        "outputId": "c6abbe8b-0f33-41b5-b36f-4697cb871d44"
      },
      "source": [
        "rf_undersample = RandomForestClassifier(random_state=42, n_jobs = -1)\r\n",
        "rf_under = RandomizedSearchCV(estimator = rf_undersample, param_distributions = random_grid_under, n_iter = 20, cv = 3, verbose=10, random_state=42, n_jobs = -1)\r\n",
        "\r\n",
        "# Fit the random search model\r\n",
        "rf_under.fit(X_under, y_under)"
      ],
      "execution_count": null,
      "outputs": [
        {
          "output_type": "stream",
          "text": [
            "Fitting 3 folds for each of 20 candidates, totalling 60 fits\n"
          ],
          "name": "stdout"
        },
        {
          "output_type": "stream",
          "text": [
            "[Parallel(n_jobs=-1)]: Using backend LokyBackend with 2 concurrent workers.\n",
            "[Parallel(n_jobs=-1)]: Done   1 tasks      | elapsed:   15.2s\n",
            "[Parallel(n_jobs=-1)]: Done   4 tasks      | elapsed:   54.9s\n",
            "[Parallel(n_jobs=-1)]: Done   9 tasks      | elapsed:  1.2min\n",
            "[Parallel(n_jobs=-1)]: Done  14 tasks      | elapsed:  1.2min\n",
            "[Parallel(n_jobs=-1)]: Done  21 tasks      | elapsed:  1.8min\n",
            "[Parallel(n_jobs=-1)]: Done  28 tasks      | elapsed:  2.5min\n",
            "[Parallel(n_jobs=-1)]: Done  37 tasks      | elapsed:  4.0min\n",
            "[Parallel(n_jobs=-1)]: Done  46 tasks      | elapsed:  4.7min\n",
            "[Parallel(n_jobs=-1)]: Done  57 tasks      | elapsed:  6.4min\n",
            "[Parallel(n_jobs=-1)]: Done  60 out of  60 | elapsed:  6.7min finished\n"
          ],
          "name": "stderr"
        },
        {
          "output_type": "execute_result",
          "data": {
            "text/plain": [
              "RandomizedSearchCV(cv=3, error_score=nan,\n",
              "                   estimator=RandomForestClassifier(bootstrap=True,\n",
              "                                                    ccp_alpha=0.0,\n",
              "                                                    class_weight=None,\n",
              "                                                    criterion='gini',\n",
              "                                                    max_depth=None,\n",
              "                                                    max_features='auto',\n",
              "                                                    max_leaf_nodes=None,\n",
              "                                                    max_samples=None,\n",
              "                                                    min_impurity_decrease=0.0,\n",
              "                                                    min_impurity_split=None,\n",
              "                                                    min_samples_leaf=1,\n",
              "                                                    min_samples_split=2,\n",
              "                                                    min_weight_fraction_leaf=0.0,\n",
              "                                                    n_estimators=100, n_jobs...\n",
              "                                                    warm_start=False),\n",
              "                   iid='deprecated', n_iter=20, n_jobs=-1,\n",
              "                   param_distributions={'bootstrap': [True, False],\n",
              "                                        'max_depth': [10, 20, 30, 40, 50, None],\n",
              "                                        'max_features': ['auto', 'sqrt'],\n",
              "                                        'min_samples_split': [2, 5, 10],\n",
              "                                        'n_estimators': [200, 300, 500, 750],\n",
              "                                        'oob_score': [True, False]},\n",
              "                   pre_dispatch='2*n_jobs', random_state=42, refit=True,\n",
              "                   return_train_score=False, scoring=None, verbose=10)"
            ]
          },
          "metadata": {
            "tags": []
          },
          "execution_count": 81
        }
      ]
    },
    {
      "cell_type": "code",
      "metadata": {
        "id": "kcsR3Wzix2Tw",
        "colab": {
          "base_uri": "https://localhost:8080/"
        },
        "outputId": "80b5c536-bb9a-4f39-9608-024ca7c84fc5"
      },
      "source": [
        "rf_under.best_estimator_"
      ],
      "execution_count": null,
      "outputs": [
        {
          "output_type": "execute_result",
          "data": {
            "text/plain": [
              "RandomForestClassifier(bootstrap=True, ccp_alpha=0.0, class_weight=None,\n",
              "                       criterion='gini', max_depth=10, max_features='sqrt',\n",
              "                       max_leaf_nodes=None, max_samples=None,\n",
              "                       min_impurity_decrease=0.0, min_impurity_split=None,\n",
              "                       min_samples_leaf=1, min_samples_split=2,\n",
              "                       min_weight_fraction_leaf=0.0, n_estimators=500,\n",
              "                       n_jobs=-1, oob_score=False, random_state=42, verbose=0,\n",
              "                       warm_start=False)"
            ]
          },
          "metadata": {
            "tags": []
          },
          "execution_count": 82
        }
      ]
    },
    {
      "cell_type": "code",
      "metadata": {
        "id": "gReOqlzYqk8r"
      },
      "source": [
        "y_pred_under = rf_under.best_estimator_.predict_proba(X_test)[:,1]\r\n",
        "y_under_labels = 1*(y_pred_under > 0.5)"
      ],
      "execution_count": null,
      "outputs": []
    },
    {
      "cell_type": "code",
      "metadata": {
        "id": "QsPLAmaqxPlF",
        "colab": {
          "base_uri": "https://localhost:8080/"
        },
        "outputId": "61c9d9cc-3c9d-4841-d9cf-d2550e6991fe"
      },
      "source": [
        "print_score(y_test, y_under_labels)"
      ],
      "execution_count": null,
      "outputs": [
        {
          "output_type": "stream",
          "text": [
            "Accuracy : 0.5641565186246418 \n",
            "Precision 0.07084796788760662: \n",
            "Recall: 0.5972927241962775\n"
          ],
          "name": "stdout"
        }
      ]
    },
    {
      "cell_type": "code",
      "metadata": {
        "id": "jd6rtgvHxIsi",
        "colab": {
          "base_uri": "https://localhost:8080/"
        },
        "outputId": "ebcf61ff-a429-4b1a-caa8-74118d24a86d"
      },
      "source": [
        "confusion_matrix(y_test, y_under_labels)"
      ],
      "execution_count": null,
      "outputs": [
        {
          "output_type": "execute_result",
          "data": {
            "text/plain": [
              "array([[11895,  9259],\n",
              "       [  476,   706]])"
            ]
          },
          "metadata": {
            "tags": []
          },
          "execution_count": 85
        }
      ]
    },
    {
      "cell_type": "code",
      "metadata": {
        "id": "F5v4QZdRquJD",
        "colab": {
          "base_uri": "https://localhost:8080/",
          "height": 623
        },
        "outputId": "557c1c17-b387-4db1-ee96-664b8564ac55"
      },
      "source": [
        "plot_roc('Under', y_test, y_pred_under)\r\n",
        "plt.plot([0, 100], [0, 100], linestyle='--', lw=2, color='r',\r\n",
        "      label='Chance', alpha=.8)\r\n",
        "plt.legend()"
      ],
      "execution_count": null,
      "outputs": [
        {
          "output_type": "execute_result",
          "data": {
            "text/plain": [
              "<matplotlib.legend.Legend at 0x7f841ab01e80>"
            ]
          },
          "metadata": {
            "tags": []
          },
          "execution_count": 86
        },
        {
          "output_type": "display_data",
          "data": {
            "image/png": "[encoded data removed]",
            "text/plain": [
              "<Figure size 864x720 with 1 Axes>"
            ]
          },
          "metadata": {
            "tags": [],
            "needs_background": "light"
          }
        }
      ]
    },
    {
      "cell_type": "code",
      "metadata": {
        "id": "JiJzZRD0x_DS",
        "colab": {
          "base_uri": "https://localhost:8080/"
        },
        "outputId": "e04973c2-c034-4dad-cb34-3d1bab390a50"
      },
      "source": [
        "#OVERSAMPLING\r\n",
        "# UNDERSAMPLING MODEL\r\n",
        "oversample = RandomOverSampler(0.2)\r\n",
        "# fit and apply the transform\r\n",
        "X_over, y_over = oversample.fit_resample(X_train, y_train)"
      ],
      "execution_count": null,
      "outputs": [
        {
          "output_type": "stream",
          "text": [
            "/usr/local/lib/python3.6/dist-packages/sklearn/utils/deprecation.py:87: FutureWarning: Function safe_indexing is deprecated; safe_indexing is deprecated in version 0.22 and will be removed in version 0.24.\n",
            "  warnings.warn(msg, category=FutureWarning)\n"
          ],
          "name": "stderr"
        }
      ]
    },
    {
      "cell_type": "code",
      "metadata": {
        "id": "V3Ilg97A23hv",
        "colab": {
          "base_uri": "https://localhost:8080/"
        },
        "outputId": "9bb420f0-59c6-4ed8-8126-1958083c0efc"
      },
      "source": [
        "Counter(y_train)"
      ],
      "execution_count": null,
      "outputs": [
        {
          "output_type": "execute_result",
          "data": {
            "text/plain": [
              "Counter({0: 84614, 1: 4730})"
            ]
          },
          "metadata": {
            "tags": []
          },
          "execution_count": 103
        }
      ]
    },
    {
      "cell_type": "code",
      "metadata": {
        "id": "GQ1SUKUL26Tb",
        "colab": {
          "base_uri": "https://localhost:8080/"
        },
        "outputId": "9aab0096-09fd-4e5d-ee3d-aacfe7daad9d"
      },
      "source": [
        "from collections import Counter\r\n",
        "Counter(y_over)"
      ],
      "execution_count": null,
      "outputs": [
        {
          "output_type": "execute_result",
          "data": {
            "text/plain": [
              "Counter({0: 84614, 1: 16922})"
            ]
          },
          "metadata": {
            "tags": []
          },
          "execution_count": 105
        }
      ]
    },
    {
      "cell_type": "code",
      "metadata": {
        "id": "2wzwSCJKyo4G",
        "colab": {
          "base_uri": "https://localhost:8080/"
        },
        "outputId": "e1250316-438e-4eaf-b2b9-861b20f1643b"
      },
      "source": [
        "rf_oversample = RandomForestClassifier(random_state=42, n_jobs = -1)\r\n",
        "rf_over = RandomizedSearchCV(estimator = rf_oversample, param_distributions = random_grid_under, n_iter = 10, cv = 2, verbose=10, random_state=42, n_jobs = -1)\r\n",
        "\r\n",
        "# Fit the random search model\r\n",
        "rf_over.fit(X_over, y_over)"
      ],
      "execution_count": null,
      "outputs": [
        {
          "output_type": "stream",
          "text": [
            "Fitting 2 folds for each of 10 candidates, totalling 20 fits\n"
          ],
          "name": "stdout"
        },
        {
          "output_type": "stream",
          "text": [
            "[Parallel(n_jobs=-1)]: Using backend LokyBackend with 2 concurrent workers.\n",
            "[Parallel(n_jobs=-1)]: Done   1 tasks      | elapsed:  2.8min\n",
            "[Parallel(n_jobs=-1)]: Done   4 tasks      | elapsed: 10.3min\n",
            "[Parallel(n_jobs=-1)]: Done   9 tasks      | elapsed: 10.3min\n",
            "[Parallel(n_jobs=-1)]: Done  14 tasks      | elapsed: 13.3min\n",
            "[Parallel(n_jobs=-1)]: Done  20 out of  20 | elapsed: 18.3min remaining:    0.0s\n",
            "[Parallel(n_jobs=-1)]: Done  20 out of  20 | elapsed: 18.3min finished\n"
          ],
          "name": "stderr"
        },
        {
          "output_type": "execute_result",
          "data": {
            "text/plain": [
              "RandomizedSearchCV(cv=2, error_score=nan,\n",
              "                   estimator=RandomForestClassifier(bootstrap=True,\n",
              "                                                    ccp_alpha=0.0,\n",
              "                                                    class_weight=None,\n",
              "                                                    criterion='gini',\n",
              "                                                    max_depth=None,\n",
              "                                                    max_features='auto',\n",
              "                                                    max_leaf_nodes=None,\n",
              "                                                    max_samples=None,\n",
              "                                                    min_impurity_decrease=0.0,\n",
              "                                                    min_impurity_split=None,\n",
              "                                                    min_samples_leaf=1,\n",
              "                                                    min_samples_split=2,\n",
              "                                                    min_weight_fraction_leaf=0.0,\n",
              "                                                    n_estimators=100, n_jobs...\n",
              "                                                    warm_start=False),\n",
              "                   iid='deprecated', n_iter=10, n_jobs=-1,\n",
              "                   param_distributions={'bootstrap': [True, False],\n",
              "                                        'max_depth': [10, 20, 30, 40, 50, None],\n",
              "                                        'max_features': ['auto', 'sqrt'],\n",
              "                                        'min_samples_split': [2, 5, 10],\n",
              "                                        'n_estimators': [200, 300, 500, 750],\n",
              "                                        'oob_score': [True, False]},\n",
              "                   pre_dispatch='2*n_jobs', random_state=42, refit=True,\n",
              "                   return_train_score=False, scoring=None, verbose=10)"
            ]
          },
          "metadata": {
            "tags": []
          },
          "execution_count": 106
        }
      ]
    },
    {
      "cell_type": "code",
      "metadata": {
        "id": "pcE_USaTzIOT",
        "colab": {
          "base_uri": "https://localhost:8080/"
        },
        "outputId": "a042dea7-bdcc-400f-b52a-5cce211dac72"
      },
      "source": [
        "rf_over.best_estimator_"
      ],
      "execution_count": null,
      "outputs": [
        {
          "output_type": "execute_result",
          "data": {
            "text/plain": [
              "RandomForestClassifier(bootstrap=True, ccp_alpha=0.0, class_weight=None,\n",
              "                       criterion='gini', max_depth=None, max_features='auto',\n",
              "                       max_leaf_nodes=None, max_samples=None,\n",
              "                       min_impurity_decrease=0.0, min_impurity_split=None,\n",
              "                       min_samples_leaf=1, min_samples_split=10,\n",
              "                       min_weight_fraction_leaf=0.0, n_estimators=300,\n",
              "                       n_jobs=-1, oob_score=False, random_state=42, verbose=0,\n",
              "                       warm_start=False)"
            ]
          },
          "metadata": {
            "tags": []
          },
          "execution_count": 107
        }
      ]
    },
    {
      "cell_type": "code",
      "metadata": {
        "id": "EJsr0tuVzJw3"
      },
      "source": [
        "y_pred_over = rf_over.best_estimator_.predict_proba(X_test)[:,1]\r\n",
        "y_over_labels = 1*(y_pred_over > 0.5)"
      ],
      "execution_count": null,
      "outputs": []
    },
    {
      "cell_type": "code",
      "metadata": {
        "id": "tfhcBMKhzVwK",
        "colab": {
          "base_uri": "https://localhost:8080/"
        },
        "outputId": "35e9b76f-2c52-4bb4-f2ca-e13a23b9cd07"
      },
      "source": [
        "print_score(y_test, y_over_labels)"
      ],
      "execution_count": null,
      "outputs": [
        {
          "output_type": "stream",
          "text": [
            "Accuracy : 0.9465436962750716 \n",
            "Precision 0.07142857142857142: \n",
            "Recall: 0.0008460236886632825\n"
          ],
          "name": "stdout"
        }
      ]
    },
    {
      "cell_type": "code",
      "metadata": {
        "id": "sGaNHF9czYXI",
        "colab": {
          "base_uri": "https://localhost:8080/"
        },
        "outputId": "8f905bc0-2e38-442b-9c6c-8d3d000a2382"
      },
      "source": [
        "confusion_matrix(y_test, y_over_labels)"
      ],
      "execution_count": null,
      "outputs": [
        {
          "output_type": "execute_result",
          "data": {
            "text/plain": [
              "array([[21141,    13],\n",
              "       [ 1181,     1]])"
            ]
          },
          "metadata": {
            "tags": []
          },
          "execution_count": 111
        }
      ]
    },
    {
      "cell_type": "code",
      "metadata": {
        "id": "4gmZ-28fzQGM",
        "colab": {
          "base_uri": "https://localhost:8080/",
          "height": 623
        },
        "outputId": "1ca49b86-b2be-48a5-90ae-df06f4c84068"
      },
      "source": [
        "plot_roc('Base', y_test, y_pred_base)\r\n",
        "plot_roc('Under Sampling', y_test, y_pred_under)\r\n",
        "plot_roc('Over Sampling', y_test, y_pred_over)\r\n",
        "plt.plot([0, 100], [0, 100], linestyle='--', lw=2, color='r',\r\n",
        "      label='Chance', alpha=.8)\r\n",
        "plt.legend()"
      ],
      "execution_count": null,
      "outputs": [
        {
          "output_type": "execute_result",
          "data": {
            "text/plain": [
              "<matplotlib.legend.Legend at 0x7f841a939ef0>"
            ]
          },
          "metadata": {
            "tags": []
          },
          "execution_count": 114
        },
        {
          "output_type": "display_data",
          "data": {
            "image/png": "[encoded data removed]",
            "text/plain": [
              "<Figure size 864x720 with 1 Axes>"
            ]
          },
          "metadata": {
            "tags": [],
            "needs_background": "light"
          }
        }
      ]
    }
  ]
}