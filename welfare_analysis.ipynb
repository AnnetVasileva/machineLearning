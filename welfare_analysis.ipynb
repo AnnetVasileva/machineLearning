{
 "cells": [
  {
   "cell_type": "code",
   "execution_count": null,
   "metadata": {},
   "outputs": [],
   "source": [
    "import numpy as np\n",
    "import pandas as pd\n",
    "import matplotlib.pyplot as plt\n",
    "import pickle\n",
    "from sklearn.model_selection import train_test_split\n",
    "from sklearn.preprocessing import PolynomialFeatures\n",
    "from sklearn.metrics import confusion_matrix, f1_score, matthews_corrcoef, mean_squared_error\n",
    "from sklearn.linear_model import Lasso, Ridge, ElasticNet"
   ]
  },
  {
   "cell_type": "markdown",
   "metadata": {},
   "source": [
    "## Load Data\n"
   ]
  },
  {
   "cell_type": "code",
   "execution_count": null,
   "metadata": {},
   "outputs": [],
   "source": [
    "# load and prep data\n",
    "with open('./data/training set.pkl', 'rb') as fp:\n",
    "    \n",
    "    train_data = pickle.load(fp)\n",
    " \n",
    "train_data.reset_index(drop = True, inplace = True)\n",
    "train_data.dropna(inplace = True)\n",
    "\n",
    "y =  train_data['lnpercapitaconsumption']\n",
    "X = train_data.drop(columns = ['lnpercapitaconsumption'])\n",
    "# scale \n",
    "\n",
    "\n",
    "# split data\n",
    "X_train, X_test, y_train, y_test = train_test_split( X, y, test_size=0.50, random_state=42)\n",
    "poly = PolynomialFeatures(degree = 2, interaction_only=True)\n",
    "X_train_2 = poly.fit_transform(X_train)\n",
    "X_test_2 = poly.fit_transform(X_test)"
   ]
  },
  {
   "cell_type": "code",
   "execution_count": null,
   "metadata": {},
   "outputs": [],
   "source": [
    "raw = pd.read_csv('./data/peru_for_ml_course.csv')\n",
    "\n",
    "rr = raw.loc[raw['lnpercapitaconsumption'].ge(0),:].reset_index(drop = True).dropna()\n",
    "\n",
    "per_hh_head = rr.loc[y_test.index, 'h_hhsize']"
   ]
  },
  {
   "cell_type": "code",
   "execution_count": null,
   "metadata": {},
   "outputs": [],
   "source": [
    "# train all the models\n",
    "with open('./models/lassobest.pkl', 'rb') as fp:\n",
    "    lasso = pickle.load(fp)\n",
    "    \n",
    "with open('./models/ridgebest.pkl', 'rb') as fp:\n",
    "    ridge = pickle.load(fp)\n",
    "    \n",
    "with open('./models/elbest.pkl', 'rb') as fp:\n",
    "    elastic = pickle.load(fp)"
   ]
  },
  {
   "cell_type": "code",
   "execution_count": null,
   "metadata": {},
   "outputs": [],
   "source": [
    "lasso_pred = lasso.predict(X_test_2)\n",
    "lasso_pred_exp = np.exp(lasso_pred)\n",
    "ridge_pred = ridge.predict(X_test_2)\n",
    "ridge_pred_exp = np.exp(ridge_pred)\n",
    "el_pred = elastic.predict(X_test_2)\n",
    "el_pred_exp =np.exp(el_pred)\n",
    "\n",
    "predictions = [ridge_pred_exp,lasso_pred_exp, el_pred_exp]\n",
    "model_names = ['Ridge', 'Lasso', 'Elastic-Net']"
   ]
  },
  {
   "cell_type": "code",
   "execution_count": null,
   "metadata": {},
   "outputs": [],
   "source": [
    "national_num_households = 6750000\n",
    "program_monthly = (880*1e6)/12\n",
    "\n",
    "\n",
    "def utility(y_pred,level, rho, benefits =program_monthly):\n",
    "\n",
    "    # pick out poor people\n",
    "    is_poor = y_pred < level\n",
    "    num_poor = np.sum(is_poor)\n",
    "    pct_is_poor = num_poor/y_pred.shape[0]\n",
    "    #pct_households_incl = \n",
    "    national_hh_incl = national_num_households * pct_is_poor\n",
    "    per_hh_benefits = benefits/national_hh_incl\n",
    "    # decide how much each poor gets\n",
    "    gets_benefits = is_poor * per_hh_benefits\n",
    "    # give the poor money\n",
    "    add_benefits = y_pred + gets_benefits \n",
    "    #utility calculations\n",
    "    per_capita_benefits = add_benefits/per_hh_head\n",
    "    numerator = np.power(per_capita_benefits, 1 - rho)\n",
    "    \n",
    "    results = np.sum(numerator)/(1 - rho)\n",
    "    \n",
    "    return results#, per_capita_benefits, add_benefits, gets_benefits, pct_is_poor, national_hh_incl\n"
   ]
  },
  {
   "cell_type": "code",
   "execution_count": null,
   "metadata": {},
   "outputs": [],
   "source": [
    "# make the utility graph\n",
    "cutoff = np.arange(1,101,1)\n",
    "\n",
    "crra_dict = {}\n",
    "\n",
    "for model,pred in zip(model_names,predictions):\n",
    "    \n",
    "    temp_utility = np.zeros(len(cutoff))\n",
    "    \n",
    "    for j in cutoff:\n",
    "    \n",
    "        temp_utility[j-1] = utility(pred, np.percentile(pred,j), rho = 3)\n",
    "    \n",
    "    crra_dict[model] = temp_utility\n"
   ]
  },
  {
   "cell_type": "code",
   "execution_count": null,
   "metadata": {},
   "outputs": [],
   "source": [
    "plt.figure(1,figsize=(16,10))\n",
    "style = ['-','-.','--']\n",
    "color = ['b','r', 'k']\n",
    "incl_err = cutoff/100\n",
    "\n",
    "for utility, color,style in zip(crra_dict.values(),color,style):\n",
    "    \n",
    "    plt.plot(incl_err, utility, color = color, linestyle = style)\n",
    "\n",
    "    plt.axvline(incl_err[utility.argmax()], color = color, linestyle = style, label='_nolegend_')\n",
    "    \n",
    "plt.legend(model_names,prop={'size': 20})\n",
    "plt.ylabel('CRRA Utility -Peru', fontsize = 12)\n",
    "plt.xlabel('Inclusion Error, 1= UBI', fontsize = 12)\n",
    "plt.savefig('welfare_analysis_all_models.png')"
   ]
  }
 ],
 "metadata": {
  "kernelspec": {
   "display_name": "Python 3",
   "language": "python",
   "name": "python3"
  },
  "language_info": {
   "codemirror_mode": {
    "name": "ipython",
    "version": 3
   },
   "file_extension": ".py",
   "mimetype": "text/x-python",
   "name": "python",
   "nbconvert_exporter": "python",
   "pygments_lexer": "ipython3",
   "version": "3.7.6"
  }
 },
 "nbformat": 4,
 "nbformat_minor": 4
}
