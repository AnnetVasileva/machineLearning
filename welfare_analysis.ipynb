{
 "cells": [
  {
   "cell_type": "code",
   "execution_count": 1,
   "metadata": {},
   "outputs": [],
   "source": [
    "import numpy as np\n",
    "import pandas as pd\n",
    "import matplotlib.pyplot as plt\n",
    "import pickle\n",
    "from sklearn.model_selection import train_test_split\n",
    "from sklearn.preprocessing import PolynomialFeatures\n",
    "from sklearn.metrics import confusion_matrix, f1_score, matthews_corrcoef, mean_squared_error\n",
    "from sklearn.linear_model import Lasso, Ridge, ElasticNet"
   ]
  },
  {
   "cell_type": "markdown",
   "metadata": {},
   "source": [
    "## Load Data\n"
   ]
  },
  {
   "cell_type": "code",
   "execution_count": 2,
   "metadata": {},
   "outputs": [],
   "source": [
    "# load and prep data\n",
    "with open('./data/training set.pkl', 'rb') as fp:\n",
    "    \n",
    "    train_data = pickle.load(fp)\n",
    " \n",
    "train_data.reset_index(drop = True, inplace = True)\n",
    "train_data.dropna(inplace = True)\n",
    "\n",
    "y =  train_data['lnpercapitaconsumption']\n",
    "X = train_data.drop(columns = ['lnpercapitaconsumption'])\n",
    "# scale \n",
    "\n",
    "\n",
    "# split data\n",
    "X_train, X_test, y_train, y_test = train_test_split( X, y, test_size=0.50, random_state=42)\n",
    "poly = PolynomialFeatures(degree = 2, interaction_only=True)\n",
    "X_train_2 = poly.fit_transform(X_train)\n",
    "X_test_2 = poly.fit_transform(X_test)"
   ]
  },
  {
   "cell_type": "code",
   "execution_count": 3,
   "metadata": {},
   "outputs": [],
   "source": [
    "raw = pd.read_csv('./data/peru_for_ml_course.csv')\n",
    "\n",
    "rr = raw.loc[raw['lnpercapitaconsumption'].ge(0),:].reset_index(drop = True).dropna()\n",
    "\n",
    "per_hh_head = rr.loc[y_test.index, 'h_hhsize']"
   ]
  },
  {
   "cell_type": "code",
   "execution_count": 4,
   "metadata": {},
   "outputs": [],
   "source": [
    "def inex(predicted, actual, level, incl: bool, err: bool):\n",
    "     \n",
    "    #the funciton takes in 5 values and returns one value\n",
    "    #predicted - should be an array of predicted y values according to the model that you used\n",
    "    #actual - actual values of a training or testing data set, as a dataframe with an index\n",
    "    #level - scalar which is used to determining the threshold \n",
    "    \n",
    "    \n",
    "    predicted_threshold = np.zeros(len(y))\n",
    "    \n",
    "    if incl is True:\n",
    "        predicted_threshold = (predicted < np.percentile(predicted,level))\n",
    "    else:\n",
    "        predicted_threshold = (predicted > np.percentile(predicted,level))\n",
    "    \n",
    "    actual_threshold = np.zeros(len(y))\n",
    "    \n",
    "    if err is True and incl is True:\n",
    "        actual_threshold = (actual > np.percentile(predicted,28))\n",
    "    elif err is True and incl is False:\n",
    "        actual_threshold = (actual < np.percentile(predicted,28))\n",
    "    elif err is False and incl is False:\n",
    "        actual_threshold = (actual > np.percentile(predicted,28))\n",
    "    else:\n",
    "        actual_threshold = (actual < np.percentile(predicted,28))\n",
    "    \n",
    "        \n",
    "    data = pd.DataFrame(index = range(0,len(predicted)), columns = [\"actual\",\"predicted\"])\n",
    "    data[\"actual\"] = actual_threshold.values\n",
    "    data[\"predicted\"] = predicted_threshold\n",
    "    \n",
    "    z = np.logical_and(data[\"actual\"], data[\"predicted\"])\n",
    "    value = len(z[z == True]) / len(predicted)\n",
    "    \n",
    "    return value"
   ]
  },
  {
   "cell_type": "code",
   "execution_count": 5,
   "metadata": {},
   "outputs": [
    {
     "name": "stderr",
     "output_type": "stream",
     "text": [
      "C:\\Users\\Villem\\Anaconda3\\lib\\site-packages\\sklearn\\base.py:334: UserWarning: Trying to unpickle estimator Lasso from version 0.22.2.post1 when using version 0.23.2. This might lead to breaking code or invalid results. Use at your own risk.\n",
      "  UserWarning)\n",
      "C:\\Users\\Villem\\Anaconda3\\lib\\site-packages\\sklearn\\base.py:334: UserWarning: Trying to unpickle estimator GridSearchCV from version 0.22.2.post1 when using version 0.23.2. This might lead to breaking code or invalid results. Use at your own risk.\n",
      "  UserWarning)\n",
      "C:\\Users\\Villem\\Anaconda3\\lib\\site-packages\\sklearn\\base.py:334: UserWarning: Trying to unpickle estimator Ridge from version 0.22.2.post1 when using version 0.23.2. This might lead to breaking code or invalid results. Use at your own risk.\n",
      "  UserWarning)\n",
      "C:\\Users\\Villem\\Anaconda3\\lib\\site-packages\\sklearn\\base.py:334: UserWarning: Trying to unpickle estimator ElasticNet from version 0.22.2.post1 when using version 0.23.2. This might lead to breaking code or invalid results. Use at your own risk.\n",
      "  UserWarning)\n"
     ]
    }
   ],
   "source": [
    "# train all the models\n",
    "with open('./models/lassobest.pkl', 'rb') as fp:\n",
    "    lasso = pickle.load(fp)\n",
    "    \n",
    "with open('./models/ridgebest.pkl', 'rb') as fp:\n",
    "    ridge = pickle.load(fp)\n",
    "    \n",
    "with open('./models/elbest.pkl', 'rb') as fp:\n",
    "    elastic = pickle.load(fp)"
   ]
  },
  {
   "cell_type": "code",
   "execution_count": 6,
   "metadata": {},
   "outputs": [],
   "source": [
    "lasso_pred = lasso.predict(X_test_2)\n",
    "lasso_pred_exp = np.exp(lasso_pred)\n",
    "ridge_pred = ridge.predict(X_test_2)\n",
    "ridge_pred_exp = np.exp(ridge_pred)\n",
    "el_pred = elastic.predict(X_test_2)"
   ]
  },
  {
   "cell_type": "code",
   "execution_count": 7,
   "metadata": {},
   "outputs": [],
   "source": [
    "national_num_households = 6750000\n",
    "program_monthly = (880*1e6)/12\n",
    "\n",
    "\n",
    "def utility(y_pred,level, rho, benefits =program_monthly):\n",
    "\n",
    "    # pick out poor people\n",
    "    is_poor = y_pred < level\n",
    "    num_poor = np.sum(is_poor)\n",
    "    pct_is_poor = num_poor/y_pred.shape[0]\n",
    "    #pct_households_incl = \n",
    "    national_hh_incl = national_num_households * pct_is_poor\n",
    "    per_hh_benefits = benefits/national_hh_incl\n",
    "    # decide how much each poor gets\n",
    "    gets_benefits = is_poor * per_hh_benefits\n",
    "    # give the poor money\n",
    "    add_benefits = y_pred + gets_benefits \n",
    "    #utility calculations\n",
    "    per_capita_benefits = add_benefits/per_hh_head\n",
    "    numerator = np.power(per_capita_benefits, 1 - rho)\n",
    "    \n",
    "    results = np.sum(numerator)/(1 - rho)\n",
    "    \n",
    "    return results#, per_capita_benefits, add_benefits, gets_benefits, pct_is_poor, national_hh_incl\n"
   ]
  },
  {
   "cell_type": "code",
   "execution_count": 8,
   "metadata": {},
   "outputs": [
    {
     "data": {
      "image/png": "[encoded data removed]",
      "text/plain": [
       "<Figure size 864x720 with 1 Axes>"
      ]
     },
     "metadata": {
      "needs_background": "light"
     },
     "output_type": "display_data"
    }
   ],
   "source": [
    "# make the utility graph\n",
    "cutoff = np.arange(1,101,1)\n",
    "inclusion = np.zeros(len(cutoff))\n",
    "ut = inclusion.copy()\n",
    "\n",
    "for i in range(0,len(cutoff)):\n",
    "    inclusion[i] = inex(lasso_pred, y_test, cutoff[i], incl = True, err = True) \n",
    "    \n",
    "inclusion\n",
    "\n",
    "for j in cutoff:\n",
    "    \n",
    "    ut[j-1] = utility(lasso_pred_exp, np.percentile(lasso_pred_exp,j), rho = 3)\n",
    "    \n",
    "    \n",
    "plt.figure(1,figsize= (12,10))\n",
    "plt.plot(cutoff/100,ut)\n",
    "plt.ylabel('CRRA Utility -Peru', fontsize = 12)\n",
    "plt.xlabel('Inclusion Error, 1= UBI', fontsize = 12)\n",
    "plt.savefig('crra_utility.png')"
   ]
  }
 ],
 "metadata": {
  "kernelspec": {
   "display_name": "Python 3",
   "language": "python",
   "name": "python3"
  },
  "language_info": {
   "codemirror_mode": {
    "name": "ipython",
    "version": 3
   },
   "file_extension": ".py",
   "mimetype": "text/x-python",
   "name": "python",
   "nbconvert_exporter": "python",
   "pygments_lexer": "ipython3",
   "version": "3.7.6"
  }
 },
 "nbformat": 4,
 "nbformat_minor": 4
}
